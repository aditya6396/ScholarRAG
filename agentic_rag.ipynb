{
 "cells": [
  {
   "cell_type": "code",
   "execution_count": null,
   "id": "ba403e47-fed6-4f3d-8665-357541191dc3",
   "metadata": {},
   "outputs": [
    {
     "name": "stdout",
     "output_type": "stream",
     "text": [
      "Note: you may need to restart the kernel to use updated packages.\n"
     ]
    }
   ],
   "source": [
    "# pip install -qU duckduckgo-search langchain-community"
   ]
  },
  {
   "cell_type": "code",
   "execution_count": 3,
   "id": "62cb9c52-9ffc-4097-821d-cc579a491db3",
   "metadata": {},
   "outputs": [
    {
     "name": "stdout",
     "output_type": "stream",
     "text": [
      "WARNING:tensorflow:From C:\\Users\\Intern\\anaconda3\\Lib\\site-packages\\tf_keras\\src\\losses.py:2976: The name tf.losses.sparse_softmax_cross_entropy is deprecated. Please use tf.compat.v1.losses.sparse_softmax_cross_entropy instead.\n",
      "\n"
     ]
    }
   ],
   "source": [
    "import os\n",
    "import PyPDF2\n",
    "import faiss\n",
    "from PyPDF2 import PdfReader\n",
    "from langchain.text_splitter import RecursiveCharacterTextSplitter\n",
    "from langchain.schema import Document\n",
    "from langchain.vectorstores import FAISS\n",
    "from sentence_transformers import SentenceTransformer\n",
    "from langchain_community.llms import Ollama\n",
    "from langchain_core.tools import tool\n",
    "from crewai import Agent, Task, Crew,LLM\n",
    "from langchain_community.tools import DuckDuckGoSearchRun,DuckDuckGoSearchResults\n",
    "from langchain_core.tools import BaseTool\n",
    "from groq import Groq\n",
    "from crewai.tools import tool\n",
    "from litellm import completion"
   ]
  },
  {
   "cell_type": "markdown",
   "id": "f02d8132-b8a0-45ad-9574-676f1f4ac28f",
   "metadata": {},
   "source": [
    "# using ollama"
   ]
  },
  {
   "cell_type": "code",
   "execution_count": null,
   "id": "307c7aa5-fd96-4cc4-8dbc-16aefcc85858",
   "metadata": {},
   "outputs": [],
   "source": [
    "embedder = SentenceTransformer(\"all-MiniLM-L6-v2\")\n",
    "\n",
    "# client=Groq(api_key=\"XXXXXXXXXXXXXXXXXXXXXXXXXXXXXXXXXXXXXXXXXXXXXXX\")\n",
    "\n",
    "llm1=LLM(\n",
    "    model=\"ollama/llama3.2:1b\",\n",
    "    base_url=\"http://localhost:11434\"  \n",
    ")\n",
    "# llm1 = LLM(\n",
    "#     model=\"groq/llama-3.1-70b-versatile\",\n",
    "#     api_key=\"XXXXXXXXXXXXXXXXXXXXXXXXXXXXXXXXXXXXXXXXXXXXXXX\"\n",
    "#  )\n",
    "\n",
    "\n",
    "\n",
    "# llm1 = LLM(\n",
    "#     model=\"llama3.2:1b\",           \n",
    "#     base_url=\"http://localhost:11434\",\n",
    "#     litellm_provider=\"ollama\"      \n",
    "# )\n",
    "\n",
    "# llm = Ollama(model=\"llama3.2:1b\")\n",
    "\n",
    "def extract_text_from_pdf(file_path):\n",
    "    try:\n",
    "        with open(file_path, 'rb') as file:\n",
    "            pdf_reader = PyPDF2.PdfReader(file)\n",
    "            text = \"\"\n",
    "            for page in pdf_reader.pages:\n",
    "                extracted = page.extract_text()\n",
    "                if extracted:\n",
    "                    text += extracted\n",
    "            return text\n",
    "    except Exception as e:\n",
    "        print(f\"Error processing {file_path}: {str(e)}\")\n",
    "        return \"\"\n",
    "\n",
    "def chunk_text(text):\n",
    "    text_splitter = RecursiveCharacterTextSplitter(\n",
    "        chunk_size=1000,\n",
    "        chunk_overlap=200,\n",
    "        length_function=len\n",
    "    )\n",
    "    return text_splitter.split_text(text)\n",
    "\n",
    "def create_vector_store(text_chunks, embedder):\n",
    "    embeddings = embedder.encode(text_chunks, show_progress_bar=True)\n",
    "    dimension = embeddings.shape[1]\n",
    "    index = faiss.IndexFlatL2(dimension)\n",
    "    index.add(embeddings)\n",
    "    return index, embeddings, text_chunks"
   ]
  },
  {
   "cell_type": "code",
   "execution_count": null,
   "id": "f9817c99-3c0b-49d4-9bf9-fdf215c7d717",
   "metadata": {},
   "outputs": [],
   "source": [
    "\n"
   ]
  },
  {
   "cell_type": "code",
   "execution_count": 15,
   "id": "9a50dbf4-c6fa-4c9c-a476-3876d73a4c33",
   "metadata": {},
   "outputs": [],
   "source": [
    "from crewai.tools import tool\n",
    "@tool(\"retrieving coherent chunks\")\n",
    "def retrieve_from_pdf(query: str) -> str:\n",
    "    \"\"\"Retrieve relevant information from the uploaded PDF.\"\"\"\n",
    "    if vector_store is None:\n",
    "        return \"No PDF loaded.\"\n",
    "    docs = vector_store.similarity_search(query, k=5)\n",
    "    return \"\\n\".join([doc.page_content for doc in docs])\n",
    "\n",
    "search_tool=DuckDuckGoSearchRun()\n",
    "\n",
    "# retrieve_from_pdf_tool = Tool(\n",
    "#     name=\"PDFRetriever\",\n",
    "#     func=retrieve_from_pdf,\n",
    "#     description=\"Retrieve relevant information from the uploaded PDF given a user query.\"\n",
    "# )\n",
    "# search_tool1 = Tool(\n",
    "#     name=\"DuckDuckGoSearch\",\n",
    "#     func=search_tool.run,\n",
    "#     description=\"Search the web using DuckDuckGo to find information related to the user query.\"\n",
    "# )\n",
    "\n",
    "\n",
    "# print(isinstance(retrieve_from_pdf_tool, BaseTool))  \n",
    "# print(isinstance(search_tool_wrapped, BaseTool))     \n",
    "\n"
   ]
  },
  {
   "cell_type": "code",
   "execution_count": 16,
   "id": "8e1aa1d6-ce40-4265-a09e-bcee8447c004",
   "metadata": {
    "scrolled": true
   },
   "outputs": [],
   "source": [
    "# query_agent=Agent(\n",
    "#     role=\"to understand the context of user query:{query}\",\n",
    "#     goal=\"rewrite and elaborate the user query:{query} for efficient rerieval of the context\",\n",
    "#     backstory=\"you are expert in understanding contextual meaning of the user query:{query}\",\n",
    "#     llm =llm1,\n",
    "#     reasoning=True,\n",
    "#     Verbose=True\n",
    "# )\n",
    "retriever_agent=Agent(\n",
    "    role=\"Retrieve relevant information to answer the user query: {query}\",\n",
    "    goal=\"Retrieve the most relevant information from the available sources  for the user query: {query}, always try to use the pdf search tool first If you are not able to retrieve the information from the pdf search tool then try to use the web search tool\", \n",
    "    backstory=\"You help extract useful info from user-uploaded documents.\",\n",
    "    llm =llm1,\n",
    "    tools=[retrieve_from_pdf],\n",
    "    reasoning=True,\n",
    "    Verbose=True\n",
    ")\n",
    "answering_agent = Agent(\n",
    "    role=\"Genrating coherent answers\",\n",
    "    goal=\"Generate clear and helpful answers using the retrieved context\",\n",
    "    backstory=\"You are an expert at synthesizing information and answering complex user queries.\",\n",
    "    verbose=True,\n",
    "    llm=llm1\n",
    ")\n",
    "\n",
    "\n"
   ]
  },
  {
   "cell_type": "code",
   "execution_count": 7,
   "id": "42dbe0db-b6f4-4c48-adfe-9ec3946759cf",
   "metadata": {},
   "outputs": [],
   "source": [
    "# task1=Task(\n",
    "#     description=\"understand the user query:{query} and rewrite it with additioal contextual information\",\n",
    "#     expected_output=\"contextual rich query:{query} to be used information retrieval\",\n",
    "#     agent=query_agent\n",
    "# )\n",
    "task2=Task(\n",
    "    description=\"to fetch information based upon the user query:{query} contextual understanding\",\n",
    "    expected_output=\"precise information related to user query:{query} \",\n",
    "    agent=retriever_agent\n",
    ")\n",
    "\n",
    "task3=Task(\n",
    "    description=\"generate precise response based upon user query:{query},following the constraints defined by the user\",\n",
    "    expected_output=\"generated precise and coherent answer and if not able to generate then respond  sorry not able to find answers \",\n",
    "    agent=answering_agent\n",
    ")"
   ]
  },
  {
   "cell_type": "code",
   "execution_count": null,
   "id": "760778d9-7a18-4faa-9d81-db32d2fbd3f2",
   "metadata": {},
   "outputs": [],
   "source": [
    "#  os.environ[\"OPENAI_API_KEY\"] = \"XXXXXXXXXXXXXXXXXXXXXXXXXXXXXXXXXXXXXXXXXXXXXXX\"\n",
    "\n"
   ]
  },
  {
   "cell_type": "code",
   "execution_count": 17,
   "id": "07143c4d-7c3c-4c2f-b157-713fd5c1e4ef",
   "metadata": {},
   "outputs": [],
   "source": [
    "crew=Crew(\n",
    "    agents=[retriever_agent,answering_agent],\n",
    "    tasks=[task2,task3],\n",
    "    verbose=True,\n",
    "    memory=False\n",
    "    \n",
    ")"
   ]
  },
  {
   "cell_type": "code",
   "execution_count": null,
   "id": "2436c443-7d37-4c84-8567-1138589e7d60",
   "metadata": {},
   "outputs": [
    {
     "name": "stdout",
     "output_type": "stream",
     "text": [
      "Requirement already satisfied: pyPDF2 in c:\\users\\intern\\anaconda3\\lib\\site-packages (3.0.1)\n",
      "Note: you may need to restart the kernel to use updated packages.\n"
     ]
    }
   ],
   "source": [
    "!pip install pyPDF2"
   ]
  },
  {
   "cell_type": "code",
   "execution_count": 18,
   "id": "b3d24404-205a-4b0c-8e39-7377dc61b6f1",
   "metadata": {},
   "outputs": [
    {
     "name": "stdout",
     "output_type": "stream",
     "text": [
      "Enter the paths to your PDF files:  agentic rag.pdf\n"
     ]
    },
    {
     "name": "stdout",
     "output_type": "stream",
     "text": [
      "Processing PDFs...\n"
     ]
    },
    {
     "data": {
      "application/vnd.jupyter.widget-view+json": {
       "model_id": "882add822e4646df866c6f78c3a20c8f",
       "version_major": 2,
       "version_minor": 0
      },
      "text/plain": [
       "Batches:   0%|          | 0/5 [00:00<?, ?it/s]"
      ]
     },
     "metadata": {},
     "output_type": "display_data"
    },
    {
     "name": "stdout",
     "output_type": "stream",
     "text": [
      "Documents processed and vector store created!\n"
     ]
    }
   ],
   "source": [
    "pdf_files = input(\"Enter the paths to your PDF files: \").split(\",\")\n",
    "pdf_files = [f.strip() for f in pdf_files]\n",
    "\n",
    "if pdf_files:\n",
    "    print(\"Processing PDFs...\")\n",
    "    all_chunks = []\n",
    "    for file_path in pdf_files:\n",
    "        if os.path.exists(file_path):\n",
    "            text = extract_text_from_pdf(file_path)\n",
    "            if text:\n",
    "                chunks = chunk_text(text)\n",
    "                all_chunks.extend(chunks)\n",
    "            else:\n",
    "                print(f\"No text extracted from {file_path}\")\n",
    "        else:\n",
    "            print(f\"File not found: {file_path}\")\n",
    "\n",
    "    \n",
    "    if all_chunks:\n",
    "        vector_store, embeddings, documents = create_vector_store(all_chunks, embedder)\n",
    "        print(\"Documents processed and vector store created!\")\n",
    "    else:\n",
    "        print(\"No valid documents processed.\")\n",
    "        exit()\n",
    "else:\n",
    "    print(\"No PDF files provided.\")\n",
    "    exit()"
   ]
  },
  {
   "cell_type": "code",
   "execution_count": 19,
   "id": "605ff050-a10c-4024-aa36-2b96b74e4c59",
   "metadata": {},
   "outputs": [
    {
     "name": "stdout",
     "output_type": "stream",
     "text": [
      "\n",
      " Ask a question about the PDF (or type 'exit'):  explain the document\n"
     ]
    },
    {
     "data": {
      "text/html": [
       "<pre style=\"white-space:pre;overflow-x:auto;line-height:normal;font-family:Menlo,'DejaVu Sans Mono',consolas,'Courier New',monospace\"><span style=\"color: #008080; text-decoration-color: #008080\">╭──────────────────────────────────────────── Crew Execution Started ─────────────────────────────────────────────╮</span>\n",
       "<span style=\"color: #008080; text-decoration-color: #008080\">│</span>                                                                                                                 <span style=\"color: #008080; text-decoration-color: #008080\">│</span>\n",
       "<span style=\"color: #008080; text-decoration-color: #008080\">│</span>  <span style=\"color: #008080; text-decoration-color: #008080; font-weight: bold\">Crew Execution Started</span>                                                                                         <span style=\"color: #008080; text-decoration-color: #008080\">│</span>\n",
       "<span style=\"color: #008080; text-decoration-color: #008080\">│</span>  <span style=\"color: #c0c0c0; text-decoration-color: #c0c0c0\">Name: </span><span style=\"color: #008080; text-decoration-color: #008080\">crew</span>                                                                                                     <span style=\"color: #008080; text-decoration-color: #008080\">│</span>\n",
       "<span style=\"color: #008080; text-decoration-color: #008080\">│</span>  <span style=\"color: #c0c0c0; text-decoration-color: #c0c0c0\">ID: </span><span style=\"color: #008080; text-decoration-color: #008080\">587da218-b079-43e7-a9b6-21a916c9b19a</span>                                                                       <span style=\"color: #008080; text-decoration-color: #008080\">│</span>\n",
       "<span style=\"color: #008080; text-decoration-color: #008080\">│</span>  <span style=\"color: #c0c0c0; text-decoration-color: #c0c0c0\">Tool Args: </span>                                                                                                    <span style=\"color: #008080; text-decoration-color: #008080\">│</span>\n",
       "<span style=\"color: #008080; text-decoration-color: #008080\">│</span>                                                                                                                 <span style=\"color: #008080; text-decoration-color: #008080\">│</span>\n",
       "<span style=\"color: #008080; text-decoration-color: #008080\">│</span>                                                                                                                 <span style=\"color: #008080; text-decoration-color: #008080\">│</span>\n",
       "<span style=\"color: #008080; text-decoration-color: #008080\">╰─────────────────────────────────────────────────────────────────────────────────────────────────────────────────╯</span>\n",
       "</pre>\n"
      ],
      "text/plain": [
       "\u001b[36m╭─\u001b[0m\u001b[36m───────────────────────────────────────────\u001b[0m\u001b[36m Crew Execution Started \u001b[0m\u001b[36m────────────────────────────────────────────\u001b[0m\u001b[36m─╮\u001b[0m\n",
       "\u001b[36m│\u001b[0m                                                                                                                 \u001b[36m│\u001b[0m\n",
       "\u001b[36m│\u001b[0m  \u001b[1;36mCrew Execution Started\u001b[0m                                                                                         \u001b[36m│\u001b[0m\n",
       "\u001b[36m│\u001b[0m  \u001b[37mName: \u001b[0m\u001b[36mcrew\u001b[0m                                                                                                     \u001b[36m│\u001b[0m\n",
       "\u001b[36m│\u001b[0m  \u001b[37mID: \u001b[0m\u001b[36m587da218-b079-43e7-a9b6-21a916c9b19a\u001b[0m                                                                       \u001b[36m│\u001b[0m\n",
       "\u001b[36m│\u001b[0m  \u001b[37mTool Args: \u001b[0m                                                                                                    \u001b[36m│\u001b[0m\n",
       "\u001b[36m│\u001b[0m                                                                                                                 \u001b[36m│\u001b[0m\n",
       "\u001b[36m│\u001b[0m                                                                                                                 \u001b[36m│\u001b[0m\n",
       "\u001b[36m╰─────────────────────────────────────────────────────────────────────────────────────────────────────────────────╯\u001b[0m\n"
      ]
     },
     "metadata": {},
     "output_type": "display_data"
    },
    {
     "data": {
      "text/html": [
       "<pre style=\"white-space:pre;overflow-x:auto;line-height:normal;font-family:Menlo,'DejaVu Sans Mono',consolas,'Courier New',monospace\">\n",
       "</pre>\n"
      ],
      "text/plain": [
       "\n"
      ]
     },
     "metadata": {},
     "output_type": "display_data"
    },
    {
     "data": {
      "application/vnd.jupyter.widget-view+json": {
       "model_id": "c70d5d67519f49fa9b8a304904c796cd",
       "version_major": 2,
       "version_minor": 0
      },
      "text/plain": [
       "Output()"
      ]
     },
     "metadata": {},
     "output_type": "display_data"
    },
    {
     "data": {
      "text/html": [
       "<pre style=\"white-space:pre;overflow-x:auto;line-height:normal;font-family:Menlo,'DejaVu Sans Mono',consolas,'Courier New',monospace\">\n",
       "</pre>\n"
      ],
      "text/plain": [
       "\n"
      ]
     },
     "metadata": {},
     "output_type": "display_data"
    },
    {
     "data": {
      "text/html": [
       "<pre style=\"white-space:pre;overflow-x:auto;line-height:normal;font-family:Menlo,'DejaVu Sans Mono',consolas,'Courier New',monospace\"><span style=\"color: #800000; text-decoration-color: #800000; font-weight: bold\">Give Feedback / Get Help: https://github.com/BerriAI/litellm/issues/new</span>\n",
       "</pre>\n"
      ],
      "text/plain": [
       "\u001b[1;31mGive Feedback / Get Help: https://github.com/BerriAI/litellm/issues/new\u001b[0m\n"
      ]
     },
     "metadata": {},
     "output_type": "display_data"
    },
    {
     "data": {
      "text/html": [
       "<pre style=\"white-space:pre;overflow-x:auto;line-height:normal;font-family:Menlo,'DejaVu Sans Mono',consolas,'Courier New',monospace\">LiteLLM.Info: If you need to debug this error, use `litellm._turn_on_debug()'.\n",
       "</pre>\n"
      ],
      "text/plain": [
       "LiteLLM.Info: If you need to debug this error, use `litellm._turn_on_debug()'.\n"
      ]
     },
     "metadata": {},
     "output_type": "display_data"
    },
    {
     "data": {
      "text/html": [
       "<pre style=\"white-space:pre;overflow-x:auto;line-height:normal;font-family:Menlo,'DejaVu Sans Mono',consolas,'Courier New',monospace\">\n",
       "</pre>\n"
      ],
      "text/plain": [
       "\n"
      ]
     },
     "metadata": {},
     "output_type": "display_data"
    },
    {
     "data": {
      "text/html": [
       "<pre style=\"white-space:pre;overflow-x:auto;line-height:normal;font-family:Menlo,'DejaVu Sans Mono',consolas,'Courier New',monospace\">\n",
       "</pre>\n"
      ],
      "text/plain": [
       "\n"
      ]
     },
     "metadata": {},
     "output_type": "display_data"
    },
    {
     "data": {
      "text/html": [
       "<pre style=\"white-space:pre;overflow-x:auto;line-height:normal;font-family:Menlo,'DejaVu Sans Mono',consolas,'Courier New',monospace\"><span style=\"color: #800000; text-decoration-color: #800000; font-weight: bold\">Provider List: https://docs.litellm.ai/docs/providers</span>\n",
       "</pre>\n"
      ],
      "text/plain": [
       "\u001b[1;31mProvider List: https://docs.litellm.ai/docs/providers\u001b[0m\n"
      ]
     },
     "metadata": {},
     "output_type": "display_data"
    },
    {
     "data": {
      "text/html": [
       "<pre style=\"white-space:pre;overflow-x:auto;line-height:normal;font-family:Menlo,'DejaVu Sans Mono',consolas,'Courier New',monospace\">\n",
       "</pre>\n"
      ],
      "text/plain": [
       "\n"
      ]
     },
     "metadata": {},
     "output_type": "display_data"
    },
    {
     "data": {
      "text/html": [
       "<pre style=\"white-space:pre;overflow-x:auto;line-height:normal;font-family:Menlo,'DejaVu Sans Mono',consolas,'Courier New',monospace\"></pre>\n"
      ],
      "text/plain": []
     },
     "metadata": {},
     "output_type": "display_data"
    },
    {
     "data": {
      "text/html": [
       "<pre style=\"white-space:pre;overflow-x:auto;line-height:normal;font-family:Menlo,'DejaVu Sans Mono',consolas,'Courier New',monospace\"><span style=\"color: #800000; text-decoration-color: #800000\">╭─────────────────────────────────────────────────── LLM Error ───────────────────────────────────────────────────╮</span>\n",
       "<span style=\"color: #800000; text-decoration-color: #800000\">│</span>                                                                                                                 <span style=\"color: #800000; text-decoration-color: #800000\">│</span>\n",
       "<span style=\"color: #800000; text-decoration-color: #800000\">│</span>  <span style=\"color: #800000; text-decoration-color: #800000; font-weight: bold\">❌ LLM Call Failed</span>                                                                                             <span style=\"color: #800000; text-decoration-color: #800000\">│</span>\n",
       "<span style=\"color: #800000; text-decoration-color: #800000\">│</span>  <span style=\"color: #c0c0c0; text-decoration-color: #c0c0c0\">Error: </span><span style=\"color: #800000; text-decoration-color: #800000\">litellm.APIConnectionError: Expecting ',' delimiter: line 896 column 3 (char 47204)</span>                     <span style=\"color: #800000; text-decoration-color: #800000\">│</span>\n",
       "<span style=\"color: #800000; text-decoration-color: #800000\">│</span>  <span style=\"color: #800000; text-decoration-color: #800000\">Traceback (most recent call last):</span>                                                                             <span style=\"color: #800000; text-decoration-color: #800000\">│</span>\n",
       "<span style=\"color: #800000; text-decoration-color: #800000\">│</span>  <span style=\"color: #800000; text-decoration-color: #800000\">  File \"C:\\Users\\Intern\\anaconda3\\Lib\\site-packages\\litellm\\main.py\", line 2928, in completion</span>                 <span style=\"color: #800000; text-decoration-color: #800000\">│</span>\n",
       "<span style=\"color: #800000; text-decoration-color: #800000\">│</span>  <span style=\"color: #800000; text-decoration-color: #800000\">    response = base_llm_http_handler.completion(</span>                                                               <span style=\"color: #800000; text-decoration-color: #800000\">│</span>\n",
       "<span style=\"color: #800000; text-decoration-color: #800000\">│</span>  <span style=\"color: #800000; text-decoration-color: #800000\">               ^^^^^^^^^^^^^^^^^^^^^^^^^^^^^^^^^</span>                                                               <span style=\"color: #800000; text-decoration-color: #800000\">│</span>\n",
       "<span style=\"color: #800000; text-decoration-color: #800000\">│</span>  <span style=\"color: #800000; text-decoration-color: #800000\">  File \"C:\\Users\\Intern\\anaconda3\\Lib\\site-packages\\litellm\\llms\\custom_httpx\\llm_http_handler.py\", line 465,</span>  <span style=\"color: #800000; text-decoration-color: #800000\">│</span>\n",
       "<span style=\"color: #800000; text-decoration-color: #800000\">│</span>  <span style=\"color: #800000; text-decoration-color: #800000\">in completion</span>                                                                                                  <span style=\"color: #800000; text-decoration-color: #800000\">│</span>\n",
       "<span style=\"color: #800000; text-decoration-color: #800000\">│</span>  <span style=\"color: #800000; text-decoration-color: #800000\">    return provider_config.transform_response(</span>                                                                 <span style=\"color: #800000; text-decoration-color: #800000\">│</span>\n",
       "<span style=\"color: #800000; text-decoration-color: #800000\">│</span>  <span style=\"color: #800000; text-decoration-color: #800000\">           ^^^^^^^^^^^^^^^^^^^^^^^^^^^^^^^^^^^</span>                                                                 <span style=\"color: #800000; text-decoration-color: #800000\">│</span>\n",
       "<span style=\"color: #800000; text-decoration-color: #800000\">│</span>  <span style=\"color: #800000; text-decoration-color: #800000\">  File \"C:\\Users\\Intern\\anaconda3\\Lib\\site-packages\\litellm\\llms\\ollama\\completion\\transformation.py\", line </span>   <span style=\"color: #800000; text-decoration-color: #800000\">│</span>\n",
       "<span style=\"color: #800000; text-decoration-color: #800000\">│</span>  <span style=\"color: #800000; text-decoration-color: #800000\">261, in transform_response</span>                                                                                     <span style=\"color: #800000; text-decoration-color: #800000\">│</span>\n",
       "<span style=\"color: #800000; text-decoration-color: #800000\">│</span>  <span style=\"color: #800000; text-decoration-color: #800000\">    response_content = json.loads(response_json[\"response\"])</span>                                                   <span style=\"color: #800000; text-decoration-color: #800000\">│</span>\n",
       "<span style=\"color: #800000; text-decoration-color: #800000\">│</span>  <span style=\"color: #800000; text-decoration-color: #800000\">                       ^^^^^^^^^^^^^^^^^^^^^^^^^^^^^^^^^^^^^</span>                                                   <span style=\"color: #800000; text-decoration-color: #800000\">│</span>\n",
       "<span style=\"color: #800000; text-decoration-color: #800000\">│</span>  <span style=\"color: #800000; text-decoration-color: #800000\">  File \"C:\\Users\\Intern\\anaconda3\\Lib\\json\\__init__.py\", line 346, in loads</span>                                    <span style=\"color: #800000; text-decoration-color: #800000\">│</span>\n",
       "<span style=\"color: #800000; text-decoration-color: #800000\">│</span>  <span style=\"color: #800000; text-decoration-color: #800000\">    return _default_decoder.decode(s)</span>                                                                          <span style=\"color: #800000; text-decoration-color: #800000\">│</span>\n",
       "<span style=\"color: #800000; text-decoration-color: #800000\">│</span>  <span style=\"color: #800000; text-decoration-color: #800000\">           ^^^^^^^^^^^^^^^^^^^^^^^^^^</span>                                                                          <span style=\"color: #800000; text-decoration-color: #800000\">│</span>\n",
       "<span style=\"color: #800000; text-decoration-color: #800000\">│</span>  <span style=\"color: #800000; text-decoration-color: #800000\">  File \"C:\\Users\\Intern\\anaconda3\\Lib\\json\\decoder.py\", line 337, in decode</span>                                    <span style=\"color: #800000; text-decoration-color: #800000\">│</span>\n",
       "<span style=\"color: #800000; text-decoration-color: #800000\">│</span>  <span style=\"color: #800000; text-decoration-color: #800000\">    obj, end = self.raw_decode(s, idx=_w(s, 0).end())</span>                                                          <span style=\"color: #800000; text-decoration-color: #800000\">│</span>\n",
       "<span style=\"color: #800000; text-decoration-color: #800000\">│</span>  <span style=\"color: #800000; text-decoration-color: #800000\">               ^^^^^^^^^^^^^^^^^^^^^^^^^^^^^^^^^^^^^^</span>                                                          <span style=\"color: #800000; text-decoration-color: #800000\">│</span>\n",
       "<span style=\"color: #800000; text-decoration-color: #800000\">│</span>  <span style=\"color: #800000; text-decoration-color: #800000\">  File \"C:\\Users\\Intern\\anaconda3\\Lib\\json\\decoder.py\", line 353, in raw_decode</span>                                <span style=\"color: #800000; text-decoration-color: #800000\">│</span>\n",
       "<span style=\"color: #800000; text-decoration-color: #800000\">│</span>  <span style=\"color: #800000; text-decoration-color: #800000\">    obj, end = self.scan_once(s, idx)</span>                                                                          <span style=\"color: #800000; text-decoration-color: #800000\">│</span>\n",
       "<span style=\"color: #800000; text-decoration-color: #800000\">│</span>  <span style=\"color: #800000; text-decoration-color: #800000\">               ^^^^^^^^^^^^^^^^^^^^^^</span>                                                                          <span style=\"color: #800000; text-decoration-color: #800000\">│</span>\n",
       "<span style=\"color: #800000; text-decoration-color: #800000\">│</span>  <span style=\"color: #800000; text-decoration-color: #800000\">json.decoder.JSONDecodeError: Expecting ',' delimiter: line 896 column 3 (char 47204)</span>                          <span style=\"color: #800000; text-decoration-color: #800000\">│</span>\n",
       "<span style=\"color: #800000; text-decoration-color: #800000\">│</span>                                                                                                                 <span style=\"color: #800000; text-decoration-color: #800000\">│</span>\n",
       "<span style=\"color: #800000; text-decoration-color: #800000\">│</span>                                                                                                                 <span style=\"color: #800000; text-decoration-color: #800000\">│</span>\n",
       "<span style=\"color: #800000; text-decoration-color: #800000\">╰─────────────────────────────────────────────────────────────────────────────────────────────────────────────────╯</span>\n",
       "</pre>\n"
      ],
      "text/plain": [
       "\u001b[31m╭─\u001b[0m\u001b[31m──────────────────────────────────────────────────\u001b[0m\u001b[31m LLM Error \u001b[0m\u001b[31m──────────────────────────────────────────────────\u001b[0m\u001b[31m─╮\u001b[0m\n",
       "\u001b[31m│\u001b[0m                                                                                                                 \u001b[31m│\u001b[0m\n",
       "\u001b[31m│\u001b[0m  \u001b[1;31m❌ LLM Call Failed\u001b[0m                                                                                             \u001b[31m│\u001b[0m\n",
       "\u001b[31m│\u001b[0m  \u001b[37mError: \u001b[0m\u001b[31mlitellm.APIConnectionError: Expecting ',' delimiter: line 896 column 3 (char 47204)\u001b[0m                     \u001b[31m│\u001b[0m\n",
       "\u001b[31m│\u001b[0m  \u001b[31mTraceback (most recent call last):\u001b[0m                                                                             \u001b[31m│\u001b[0m\n",
       "\u001b[31m│\u001b[0m  \u001b[31m  File \"C:\\Users\\Intern\\anaconda3\\Lib\\site-packages\\litellm\\main.py\", line 2928, in completion\u001b[0m                 \u001b[31m│\u001b[0m\n",
       "\u001b[31m│\u001b[0m  \u001b[31m    response = base_llm_http_handler.completion(\u001b[0m                                                               \u001b[31m│\u001b[0m\n",
       "\u001b[31m│\u001b[0m  \u001b[31m               ^^^^^^^^^^^^^^^^^^^^^^^^^^^^^^^^^\u001b[0m                                                               \u001b[31m│\u001b[0m\n",
       "\u001b[31m│\u001b[0m  \u001b[31m  File \"C:\\Users\\Intern\\anaconda3\\Lib\\site-packages\\litellm\\llms\\custom_httpx\\llm_http_handler.py\", line 465,\u001b[0m  \u001b[31m│\u001b[0m\n",
       "\u001b[31m│\u001b[0m  \u001b[31min completion\u001b[0m                                                                                                  \u001b[31m│\u001b[0m\n",
       "\u001b[31m│\u001b[0m  \u001b[31m    return provider_config.transform_response(\u001b[0m                                                                 \u001b[31m│\u001b[0m\n",
       "\u001b[31m│\u001b[0m  \u001b[31m           ^^^^^^^^^^^^^^^^^^^^^^^^^^^^^^^^^^^\u001b[0m                                                                 \u001b[31m│\u001b[0m\n",
       "\u001b[31m│\u001b[0m  \u001b[31m  File \"C:\\Users\\Intern\\anaconda3\\Lib\\site-packages\\litellm\\llms\\ollama\\completion\\transformation.py\", line \u001b[0m   \u001b[31m│\u001b[0m\n",
       "\u001b[31m│\u001b[0m  \u001b[31m261, in transform_response\u001b[0m                                                                                     \u001b[31m│\u001b[0m\n",
       "\u001b[31m│\u001b[0m  \u001b[31m    response_content = json.loads(response_json[\"response\"])\u001b[0m                                                   \u001b[31m│\u001b[0m\n",
       "\u001b[31m│\u001b[0m  \u001b[31m                       ^^^^^^^^^^^^^^^^^^^^^^^^^^^^^^^^^^^^^\u001b[0m                                                   \u001b[31m│\u001b[0m\n",
       "\u001b[31m│\u001b[0m  \u001b[31m  File \"C:\\Users\\Intern\\anaconda3\\Lib\\json\\__init__.py\", line 346, in loads\u001b[0m                                    \u001b[31m│\u001b[0m\n",
       "\u001b[31m│\u001b[0m  \u001b[31m    return _default_decoder.decode(s)\u001b[0m                                                                          \u001b[31m│\u001b[0m\n",
       "\u001b[31m│\u001b[0m  \u001b[31m           ^^^^^^^^^^^^^^^^^^^^^^^^^^\u001b[0m                                                                          \u001b[31m│\u001b[0m\n",
       "\u001b[31m│\u001b[0m  \u001b[31m  File \"C:\\Users\\Intern\\anaconda3\\Lib\\json\\decoder.py\", line 337, in decode\u001b[0m                                    \u001b[31m│\u001b[0m\n",
       "\u001b[31m│\u001b[0m  \u001b[31m    obj, end = self.raw_decode(s, idx=_w(s, 0).end())\u001b[0m                                                          \u001b[31m│\u001b[0m\n",
       "\u001b[31m│\u001b[0m  \u001b[31m               ^^^^^^^^^^^^^^^^^^^^^^^^^^^^^^^^^^^^^^\u001b[0m                                                          \u001b[31m│\u001b[0m\n",
       "\u001b[31m│\u001b[0m  \u001b[31m  File \"C:\\Users\\Intern\\anaconda3\\Lib\\json\\decoder.py\", line 353, in raw_decode\u001b[0m                                \u001b[31m│\u001b[0m\n",
       "\u001b[31m│\u001b[0m  \u001b[31m    obj, end = self.scan_once(s, idx)\u001b[0m                                                                          \u001b[31m│\u001b[0m\n",
       "\u001b[31m│\u001b[0m  \u001b[31m               ^^^^^^^^^^^^^^^^^^^^^^\u001b[0m                                                                          \u001b[31m│\u001b[0m\n",
       "\u001b[31m│\u001b[0m  \u001b[31mjson.decoder.JSONDecodeError: Expecting ',' delimiter: line 896 column 3 (char 47204)\u001b[0m                          \u001b[31m│\u001b[0m\n",
       "\u001b[31m│\u001b[0m                                                                                                                 \u001b[31m│\u001b[0m\n",
       "\u001b[31m│\u001b[0m                                                                                                                 \u001b[31m│\u001b[0m\n",
       "\u001b[31m╰─────────────────────────────────────────────────────────────────────────────────────────────────────────────────╯\u001b[0m\n"
      ]
     },
     "metadata": {},
     "output_type": "display_data"
    },
    {
     "data": {
      "text/html": [
       "<pre style=\"white-space:pre;overflow-x:auto;line-height:normal;font-family:Menlo,'DejaVu Sans Mono',consolas,'Courier New',monospace\">\n",
       "</pre>\n"
      ],
      "text/plain": [
       "\n"
      ]
     },
     "metadata": {},
     "output_type": "display_data"
    },
    {
     "data": {
      "application/vnd.jupyter.widget-view+json": {
       "model_id": "ff481b65b65b41ca8cc0ea4feba8a6cc",
       "version_major": 2,
       "version_minor": 0
      },
      "text/plain": [
       "Output()"
      ]
     },
     "metadata": {},
     "output_type": "display_data"
    },
    {
     "data": {
      "text/html": [
       "<pre style=\"white-space:pre;overflow-x:auto;line-height:normal;font-family:Menlo,'DejaVu Sans Mono',consolas,'Courier New',monospace\"></pre>\n"
      ],
      "text/plain": []
     },
     "metadata": {},
     "output_type": "display_data"
    },
    {
     "data": {
      "text/html": [
       "<pre style=\"white-space:pre;overflow-x:auto;line-height:normal;font-family:Menlo,'DejaVu Sans Mono',consolas,'Courier New',monospace\"><span style=\"color: #008000; text-decoration-color: #008000\">╭────────────────────────────────────────────────── Tool Usage ───────────────────────────────────────────────────╮</span>\n",
       "<span style=\"color: #008000; text-decoration-color: #008000\">│</span>                                                                                                                 <span style=\"color: #008000; text-decoration-color: #008000\">│</span>\n",
       "<span style=\"color: #008000; text-decoration-color: #008000\">│</span>  <span style=\"color: #000080; text-decoration-color: #000080; font-weight: bold\">Tool Usage Started</span>                                                                                             <span style=\"color: #008000; text-decoration-color: #008000\">│</span>\n",
       "<span style=\"color: #008000; text-decoration-color: #008000\">│</span>  <span style=\"color: #c0c0c0; text-decoration-color: #c0c0c0\">Name: </span><span style=\"color: #000080; text-decoration-color: #000080\">create_reasoning_plan</span>                                                                                    <span style=\"color: #008000; text-decoration-color: #008000\">│</span>\n",
       "<span style=\"color: #008000; text-decoration-color: #008000\">│</span>  <span style=\"color: #c0c0c0; text-decoration-color: #c0c0c0\">Status: </span><span style=\"color: #000080; text-decoration-color: #000080\">In Progress</span>                                                                                            <span style=\"color: #008000; text-decoration-color: #008000\">│</span>\n",
       "<span style=\"color: #008000; text-decoration-color: #008000\">│</span>  <span style=\"color: #c0c0c0; text-decoration-color: #c0c0c0\">Tool Args: </span><span style=\"color: #000080; text-decoration-color: #000080\">{'query': 'explain contract management', 'language': 'en-US'}</span>                                       <span style=\"color: #008000; text-decoration-color: #008000\">│</span>\n",
       "<span style=\"color: #008000; text-decoration-color: #008000\">│</span>                                                                                                                 <span style=\"color: #008000; text-decoration-color: #008000\">│</span>\n",
       "<span style=\"color: #008000; text-decoration-color: #008000\">│</span>                                                                                                                 <span style=\"color: #008000; text-decoration-color: #008000\">│</span>\n",
       "<span style=\"color: #008000; text-decoration-color: #008000\">╰─────────────────────────────────────────────────────────────────────────────────────────────────────────────────╯</span>\n",
       "</pre>\n"
      ],
      "text/plain": [
       "\u001b[32m╭─\u001b[0m\u001b[32m─────────────────────────────────────────────────\u001b[0m\u001b[32m Tool Usage \u001b[0m\u001b[32m──────────────────────────────────────────────────\u001b[0m\u001b[32m─╮\u001b[0m\n",
       "\u001b[32m│\u001b[0m                                                                                                                 \u001b[32m│\u001b[0m\n",
       "\u001b[32m│\u001b[0m  \u001b[1;34mTool Usage Started\u001b[0m                                                                                             \u001b[32m│\u001b[0m\n",
       "\u001b[32m│\u001b[0m  \u001b[37mName: \u001b[0m\u001b[34mcreate_reasoning_plan\u001b[0m                                                                                    \u001b[32m│\u001b[0m\n",
       "\u001b[32m│\u001b[0m  \u001b[37mStatus: \u001b[0m\u001b[34mIn Progress\u001b[0m                                                                                            \u001b[32m│\u001b[0m\n",
       "\u001b[32m│\u001b[0m  \u001b[37mTool Args: \u001b[0m\u001b[34m{'query': 'explain contract management', 'language': 'en-US'}\u001b[0m                                       \u001b[32m│\u001b[0m\n",
       "\u001b[32m│\u001b[0m                                                                                                                 \u001b[32m│\u001b[0m\n",
       "\u001b[32m│\u001b[0m                                                                                                                 \u001b[32m│\u001b[0m\n",
       "\u001b[32m╰─────────────────────────────────────────────────────────────────────────────────────────────────────────────────╯\u001b[0m\n"
      ]
     },
     "metadata": {},
     "output_type": "display_data"
    },
    {
     "data": {
      "text/html": [
       "<pre style=\"white-space:pre;overflow-x:auto;line-height:normal;font-family:Menlo,'DejaVu Sans Mono',consolas,'Courier New',monospace\">\n",
       "</pre>\n"
      ],
      "text/plain": [
       "\n"
      ]
     },
     "metadata": {},
     "output_type": "display_data"
    },
    {
     "data": {
      "text/html": [
       "<pre style=\"white-space:pre;overflow-x:auto;line-height:normal;font-family:Menlo,'DejaVu Sans Mono',consolas,'Courier New',monospace\">\n",
       "</pre>\n"
      ],
      "text/plain": [
       "\n"
      ]
     },
     "metadata": {},
     "output_type": "display_data"
    },
    {
     "name": "stderr",
     "output_type": "stream",
     "text": [
      "ERROR:root:Error executing function 'create_reasoning_plan': AgentReasoning.__call_with_function.<locals>._create_reasoning_plan() got an unexpected keyword argument 'query'\n"
     ]
    },
    {
     "data": {
      "text/html": [
       "<pre style=\"white-space:pre;overflow-x:auto;line-height:normal;font-family:Menlo,'DejaVu Sans Mono',consolas,'Courier New',monospace\"></pre>\n"
      ],
      "text/plain": []
     },
     "metadata": {},
     "output_type": "display_data"
    },
    {
     "data": {
      "text/html": [
       "<pre style=\"white-space:pre;overflow-x:auto;line-height:normal;font-family:Menlo,'DejaVu Sans Mono',consolas,'Courier New',monospace\"><span style=\"color: #800000; text-decoration-color: #800000\">╭─────────────────────────────────────────────────── LLM Error ───────────────────────────────────────────────────╮</span>\n",
       "<span style=\"color: #800000; text-decoration-color: #800000\">│</span>                                                                                                                 <span style=\"color: #800000; text-decoration-color: #800000\">│</span>\n",
       "<span style=\"color: #800000; text-decoration-color: #800000\">│</span>  <span style=\"color: #800000; text-decoration-color: #800000; font-weight: bold\">❌ LLM Call Failed</span>                                                                                             <span style=\"color: #800000; text-decoration-color: #800000\">│</span>\n",
       "<span style=\"color: #800000; text-decoration-color: #800000\">│</span>  <span style=\"color: #c0c0c0; text-decoration-color: #c0c0c0\">Error: </span><span style=\"color: #800000; text-decoration-color: #800000\">Tool execution error: AgentReasoning.__call_with_function.&lt;locals&gt;._create_reasoning_plan() got an </span>     <span style=\"color: #800000; text-decoration-color: #800000\">│</span>\n",
       "<span style=\"color: #800000; text-decoration-color: #800000\">│</span>  <span style=\"color: #800000; text-decoration-color: #800000\">unexpected keyword argument 'query'</span>                                                                            <span style=\"color: #800000; text-decoration-color: #800000\">│</span>\n",
       "<span style=\"color: #800000; text-decoration-color: #800000\">│</span>                                                                                                                 <span style=\"color: #800000; text-decoration-color: #800000\">│</span>\n",
       "<span style=\"color: #800000; text-decoration-color: #800000\">╰─────────────────────────────────────────────────────────────────────────────────────────────────────────────────╯</span>\n",
       "</pre>\n"
      ],
      "text/plain": [
       "\u001b[31m╭─\u001b[0m\u001b[31m──────────────────────────────────────────────────\u001b[0m\u001b[31m LLM Error \u001b[0m\u001b[31m──────────────────────────────────────────────────\u001b[0m\u001b[31m─╮\u001b[0m\n",
       "\u001b[31m│\u001b[0m                                                                                                                 \u001b[31m│\u001b[0m\n",
       "\u001b[31m│\u001b[0m  \u001b[1;31m❌ LLM Call Failed\u001b[0m                                                                                             \u001b[31m│\u001b[0m\n",
       "\u001b[31m│\u001b[0m  \u001b[37mError: \u001b[0m\u001b[31mTool execution error: AgentReasoning.__call_with_function.<locals>._create_reasoning_plan() got an \u001b[0m     \u001b[31m│\u001b[0m\n",
       "\u001b[31m│\u001b[0m  \u001b[31munexpected keyword argument 'query'\u001b[0m                                                                            \u001b[31m│\u001b[0m\n",
       "\u001b[31m│\u001b[0m                                                                                                                 \u001b[31m│\u001b[0m\n",
       "\u001b[31m╰─────────────────────────────────────────────────────────────────────────────────────────────────────────────────╯\u001b[0m\n"
      ]
     },
     "metadata": {},
     "output_type": "display_data"
    },
    {
     "data": {
      "text/html": [
       "<pre style=\"white-space:pre;overflow-x:auto;line-height:normal;font-family:Menlo,'DejaVu Sans Mono',consolas,'Courier New',monospace\">\n",
       "</pre>\n"
      ],
      "text/plain": [
       "\n"
      ]
     },
     "metadata": {},
     "output_type": "display_data"
    },
    {
     "data": {
      "text/html": [
       "<pre style=\"white-space:pre;overflow-x:auto;line-height:normal;font-family:Menlo,'DejaVu Sans Mono',consolas,'Courier New',monospace\"></pre>\n"
      ],
      "text/plain": []
     },
     "metadata": {},
     "output_type": "display_data"
    },
    {
     "data": {
      "text/html": [
       "<pre style=\"white-space:pre;overflow-x:auto;line-height:normal;font-family:Menlo,'DejaVu Sans Mono',consolas,'Courier New',monospace\"><span style=\"color: #800000; text-decoration-color: #800000\">╭────────────────────────────────────────────────── Tool Error ───────────────────────────────────────────────────╮</span>\n",
       "<span style=\"color: #800000; text-decoration-color: #800000\">│</span>                                                                                                                 <span style=\"color: #800000; text-decoration-color: #800000\">│</span>\n",
       "<span style=\"color: #800000; text-decoration-color: #800000\">│</span>  <span style=\"color: #800000; text-decoration-color: #800000; font-weight: bold\">Tool Usage Failed</span>                                                                                              <span style=\"color: #800000; text-decoration-color: #800000\">│</span>\n",
       "<span style=\"color: #800000; text-decoration-color: #800000\">│</span>  <span style=\"color: #c0c0c0; text-decoration-color: #c0c0c0\">Name: </span><span style=\"color: #800000; text-decoration-color: #800000\">create_reasoning_plan</span>                                                                                    <span style=\"color: #800000; text-decoration-color: #800000\">│</span>\n",
       "<span style=\"color: #800000; text-decoration-color: #800000\">│</span>  <span style=\"color: #c0c0c0; text-decoration-color: #c0c0c0\">Error: </span><span style=\"color: #800000; text-decoration-color: #800000\">Tool execution error: AgentReasoning.__call_with_function.&lt;locals&gt;._create_reasoning_plan() got an </span>     <span style=\"color: #800000; text-decoration-color: #800000\">│</span>\n",
       "<span style=\"color: #800000; text-decoration-color: #800000\">│</span>  <span style=\"color: #800000; text-decoration-color: #800000\">unexpected keyword argument 'query'</span>                                                                            <span style=\"color: #800000; text-decoration-color: #800000\">│</span>\n",
       "<span style=\"color: #800000; text-decoration-color: #800000\">│</span>  <span style=\"color: #c0c0c0; text-decoration-color: #c0c0c0\">Tool Args: </span>                                                                                                    <span style=\"color: #800000; text-decoration-color: #800000\">│</span>\n",
       "<span style=\"color: #800000; text-decoration-color: #800000\">│</span>                                                                                                                 <span style=\"color: #800000; text-decoration-color: #800000\">│</span>\n",
       "<span style=\"color: #800000; text-decoration-color: #800000\">│</span>                                                                                                                 <span style=\"color: #800000; text-decoration-color: #800000\">│</span>\n",
       "<span style=\"color: #800000; text-decoration-color: #800000\">╰─────────────────────────────────────────────────────────────────────────────────────────────────────────────────╯</span>\n",
       "</pre>\n"
      ],
      "text/plain": [
       "\u001b[31m╭─\u001b[0m\u001b[31m─────────────────────────────────────────────────\u001b[0m\u001b[31m Tool Error \u001b[0m\u001b[31m──────────────────────────────────────────────────\u001b[0m\u001b[31m─╮\u001b[0m\n",
       "\u001b[31m│\u001b[0m                                                                                                                 \u001b[31m│\u001b[0m\n",
       "\u001b[31m│\u001b[0m  \u001b[1;31mTool Usage Failed\u001b[0m                                                                                              \u001b[31m│\u001b[0m\n",
       "\u001b[31m│\u001b[0m  \u001b[37mName: \u001b[0m\u001b[31mcreate_reasoning_plan\u001b[0m                                                                                    \u001b[31m│\u001b[0m\n",
       "\u001b[31m│\u001b[0m  \u001b[37mError: \u001b[0m\u001b[31mTool execution error: AgentReasoning.__call_with_function.<locals>._create_reasoning_plan() got an \u001b[0m     \u001b[31m│\u001b[0m\n",
       "\u001b[31m│\u001b[0m  \u001b[31munexpected keyword argument 'query'\u001b[0m                                                                            \u001b[31m│\u001b[0m\n",
       "\u001b[31m│\u001b[0m  \u001b[37mTool Args: \u001b[0m                                                                                                    \u001b[31m│\u001b[0m\n",
       "\u001b[31m│\u001b[0m                                                                                                                 \u001b[31m│\u001b[0m\n",
       "\u001b[31m│\u001b[0m                                                                                                                 \u001b[31m│\u001b[0m\n",
       "\u001b[31m╰─────────────────────────────────────────────────────────────────────────────────────────────────────────────────╯\u001b[0m\n"
      ]
     },
     "metadata": {},
     "output_type": "display_data"
    },
    {
     "data": {
      "text/html": [
       "<pre style=\"white-space:pre;overflow-x:auto;line-height:normal;font-family:Menlo,'DejaVu Sans Mono',consolas,'Courier New',monospace\">\n",
       "</pre>\n"
      ],
      "text/plain": [
       "\n"
      ]
     },
     "metadata": {},
     "output_type": "display_data"
    },
    {
     "data": {
      "application/vnd.jupyter.widget-view+json": {
       "model_id": "54f861f7befd43b5aca36ebc878cb038",
       "version_major": 2,
       "version_minor": 0
      },
      "text/plain": [
       "Output()"
      ]
     },
     "metadata": {},
     "output_type": "display_data"
    },
    {
     "data": {
      "text/html": [
       "<pre style=\"white-space:pre;overflow-x:auto;line-height:normal;font-family:Menlo,'DejaVu Sans Mono',consolas,'Courier New',monospace\"></pre>\n"
      ],
      "text/plain": []
     },
     "metadata": {},
     "output_type": "display_data"
    },
    {
     "data": {
      "text/html": [
       "<pre style=\"white-space:pre;overflow-x:auto;line-height:normal;font-family:Menlo,'DejaVu Sans Mono',consolas,'Courier New',monospace\"><span style=\"color: #008000; text-decoration-color: #008000\">╭─────────────────────────────────────────────── 🧠 Reasoning Plan ───────────────────────────────────────────────╮</span>\n",
       "<span style=\"color: #008000; text-decoration-color: #008000\">│</span>                                                                                                                 <span style=\"color: #008000; text-decoration-color: #008000\">│</span>\n",
       "<span style=\"color: #008000; text-decoration-color: #008000\">│</span>  <span style=\"color: #c0c0c0; text-decoration-color: #c0c0c0\">{\"name\": \"refine_contract_management_reasoning_plan\", \"parameters\": {\"plan\": \"explain contract management </span>     <span style=\"color: #008000; text-decoration-color: #008000\">│</span>\n",
       "<span style=\"color: #008000; text-decoration-color: #008000\">│</span>  <span style=\"color: #c0c0c0; text-decoration-color: #c0c0c0\">with a professional background and expertise in extracting relevant information from user-uploaded </span>            <span style=\"color: #008000; text-decoration-color: #008000\">│</span>\n",
       "<span style=\"color: #008000; text-decoration-color: #008000\">│</span>  <span style=\"color: #c0c0c0; text-decoration-color: #c0c0c0\">documents.\", \"ready\": \"NOT READY\"}, \"required_tools\": [{\"type\": \"pdf_search_tool\", \"description\": \"We will </span>    <span style=\"color: #008000; text-decoration-color: #008000\">│</span>\n",
       "<span style=\"color: #008000; text-decoration-color: #008000\">│</span>  <span style=\"color: #c0c0c0; text-decoration-color: #c0c0c0\">use the PDF Search Tool to quickly search for relevant information in user-uploaded documents. We will </span>        <span style=\"color: #008000; text-decoration-color: #008000\">│</span>\n",
       "<span style=\"color: #008000; text-decoration-color: #008000\">│</span>  <span style=\"color: #c0c0c0; text-decoration-color: #c0c0c0\">specify the search query based on our understanding of contract management and the context of the </span>             <span style=\"color: #008000; text-decoration-color: #008000\">│</span>\n",
       "<span style=\"color: #008000; text-decoration-color: #008000\">│</span>  <span style=\"color: #c0c0c0; text-decoration-color: #c0c0c0\">document.\"}, {\"type\": \"web_search_tool\", \"description\": \"If the PDF Search Tool is not successful, we will </span>    <span style=\"color: #008000; text-decoration-color: #008000\">│</span>\n",
       "<span style=\"color: #008000; text-decoration-color: #008000\">│</span>  <span style=\"color: #c0c0c0; text-decoration-color: #c0c0c0\">use the Web Search Tool to conduct a more thorough search. We will make sure to specify accurate keywords and</span>  <span style=\"color: #008000; text-decoration-color: #008000\">│</span>\n",
       "<span style=\"color: #008000; text-decoration-color: #008000\">│</span>  <span style=\"color: #c0c0c0; text-decoration-color: #c0c0c0\">phrases to increase the chances of retrieving relevant information.\"}], \"tool_usage_strategy\": </span>                <span style=\"color: #008000; text-decoration-color: #008000\">│</span>\n",
       "<span style=\"color: #008000; text-decoration-color: #008000\">│</span>  <span style=\"color: #c0c0c0; text-decoration-color: #c0c0c0\">{\"pdf_search_tool\": \"We will use the PDF Search Tool to quickly search for relevant information in </span>            <span style=\"color: #008000; text-decoration-color: #008000\">│</span>\n",
       "<span style=\"color: #008000; text-decoration-color: #008000\">│</span>  <span style=\"color: #c0c0c0; text-decoration-color: #c0c0c0\">user-uploaded documents. We will specify the search query based on our understanding of contract management </span>   <span style=\"color: #008000; text-decoration-color: #008000\">│</span>\n",
       "<span style=\"color: #008000; text-decoration-color: #008000\">│</span>  <span style=\"color: #c0c0c0; text-decoration-color: #c0c0c0\">and the context of the document.\", \"web_search_tool\": \"If the PDF Search Tool is not successful, we will use </span>  <span style=\"color: #008000; text-decoration-color: #008000\">│</span>\n",
       "<span style=\"color: #008000; text-decoration-color: #008000\">│</span>  <span style=\"color: #c0c0c0; text-decoration-color: #c0c0c0\">the Web Search Tool to conduct a more thorough search. We will make sure to specify accurate keywords and </span>     <span style=\"color: #008000; text-decoration-color: #008000\">│</span>\n",
       "<span style=\"color: #008000; text-decoration-color: #008000\">│</span>  <span style=\"color: #c0c0c0; text-decoration-color: #c0c0c0\">phrases to increase the chances of retrieving relevant information.\"}, \"uncertainties_and_gaps\": [{\"type\": </span>    <span style=\"color: #008000; text-decoration-color: #008000\">│</span>\n",
       "<span style=\"color: #008000; text-decoration-color: #008000\">│</span>  <span style=\"color: #c0c0c0; text-decoration-color: #c0c0c0\">\"uncertainty\", \"description\": \"There might be limitations in extracting information from user-uploaded </span>        <span style=\"color: #008000; text-decoration-color: #008000\">│</span>\n",
       "<span style=\"color: #008000; text-decoration-color: #008000\">│</span>  <span style=\"color: #c0c0c0; text-decoration-color: #c0c0c0\">documents due to formatting or content constraints.\"}, {\"type\": \"gap\", \"description\": \"We need more specific </span>  <span style=\"color: #008000; text-decoration-color: #008000\">│</span>\n",
       "<span style=\"color: #008000; text-decoration-color: #008000\">│</span>  <span style=\"color: #c0c0c0; text-decoration-color: #c0c0c0\">information about the contract management context and requirements before we can refine our reasoning plan </span>    <span style=\"color: #008000; text-decoration-color: #008000\">│</span>\n",
       "<span style=\"color: #008000; text-decoration-color: #008000\">│</span>  <span style=\"color: #c0c0c0; text-decoration-color: #c0c0c0\">effectively.\"}], \"output\": {\"format\": \"JSON\", \"json_string\": \"{\\\"name\\\": </span>                                      <span style=\"color: #008000; text-decoration-color: #008000\">│</span>\n",
       "<span style=\"color: #008000; text-decoration-color: #008000\">│</span>  <span style=\"color: #c0c0c0; text-decoration-color: #c0c0c0\">\\\"refine_contract_management_reasoning_plan\\\", \\\"parameters\\\":{\\\"plan\\\": \\\"explain contract management with a</span>  <span style=\"color: #008000; text-decoration-color: #008000\">│</span>\n",
       "<span style=\"color: #008000; text-decoration-color: #008000\">│</span>  <span style=\"color: #c0c0c0; text-decoration-color: #c0c0c0\">professional background and expertise in extracting relevant information from user-uploaded documents.\\\", </span>     <span style=\"color: #008000; text-decoration-color: #008000\">│</span>\n",
       "<span style=\"color: #008000; text-decoration-color: #008000\">│</span>  <span style=\"color: #c0c0c0; text-decoration-color: #c0c0c0\">\\\"ready\\\": \\\"NOT READY\\\"}, \\\"required_tools\\\":[{\\\"type\\\": \\\"pdf_search_tool\\\",\\\"description\\\":\\\"We will use </span>   <span style=\"color: #008000; text-decoration-color: #008000\">│</span>\n",
       "<span style=\"color: #008000; text-decoration-color: #008000\">│</span>  <span style=\"color: #c0c0c0; text-decoration-color: #c0c0c0\">the PDF Search Tool to quickly search for relevant information in user-uploaded </span>                               <span style=\"color: #008000; text-decoration-color: #008000\">│</span>\n",
       "<span style=\"color: #008000; text-decoration-color: #008000\">│</span>  <span style=\"color: #c0c0c0; text-decoration-color: #c0c0c0\">documents.\\\",\\\"required\\\":true},{\\\"type\\\": \\\"web_search_tool\\\",\\\"description\\\":\\\"If the PDF Search Tool is </span>    <span style=\"color: #008000; text-decoration-color: #008000\">│</span>\n",
       "<span style=\"color: #008000; text-decoration-color: #008000\">│</span>  <span style=\"color: #c0c0c0; text-decoration-color: #c0c0c0\">not successful, we will use the Web Search Tool to conduct a more thorough search.\\\",\\\"required\\\":false}], </span>    <span style=\"color: #008000; text-decoration-color: #008000\">│</span>\n",
       "<span style=\"color: #008000; text-decoration-color: #008000\">│</span>  <span style=\"color: #c0c0c0; text-decoration-color: #c0c0c0\">\\\"tool_usage_strategy\\\":[{\\\"type\\\": \\\"pdf_search_tool\\\",\\\"description\\\":\\\"We will use the PDF Search Tool to </span>  <span style=\"color: #008000; text-decoration-color: #008000\">│</span>\n",
       "<span style=\"color: #008000; text-decoration-color: #008000\">│</span>  <span style=\"color: #c0c0c0; text-decoration-color: #c0c0c0\">quickly search for relevant information in user-uploaded documents.\\\\\", \"required\": true}, \"{ \\\"type\\\": </span>       <span style=\"color: #008000; text-decoration-color: #008000\">│</span>\n",
       "<span style=\"color: #008000; text-decoration-color: #008000\">│</span>  <span style=\"color: #c0c0c0; text-decoration-color: #c0c0c0\">\\\"web_search_tool\\\",\\\"description\\\":\\\"If the PDF Search Tool is not successful, we will use the Web Search </span>    <span style=\"color: #008000; text-decoration-color: #008000\">│</span>\n",
       "<span style=\"color: #008000; text-decoration-color: #008000\">│</span>  <span style=\"color: #c0c0c0; text-decoration-color: #c0c0c0\">Tool to conduct a more thorough search.\\\",\\\"required\\\":false}], \\\"uncertainties_and_gaps\\\":[{\\\"type\\\": </span>        <span style=\"color: #008000; text-decoration-color: #008000\">│</span>\n",
       "<span style=\"color: #008000; text-decoration-color: #008000\">│</span>  <span style=\"color: #c0c0c0; text-decoration-color: #c0c0c0\">\\\"uncertainty\\\",\\\"description\\\":\\\"There might be limitations in extracting information from user-uploaded </span>     <span style=\"color: #008000; text-decoration-color: #008000\">│</span>\n",
       "<span style=\"color: #008000; text-decoration-color: #008000\">│</span>  <span style=\"color: #c0c0c0; text-decoration-color: #c0c0c0\">documents due to formatting or content constraints.\\\",\\\"required\\\":true},{\\\"type\\\": </span>                           <span style=\"color: #008000; text-decoration-color: #008000\">│</span>\n",
       "<span style=\"color: #008000; text-decoration-color: #008000\">│</span>  <span style=\"color: #c0c0c0; text-decoration-color: #c0c0c0\">\\\"gap\\\",\\\"description\\\":\\\"We need more specific information about the contract management context and </span>         <span style=\"color: #008000; text-decoration-color: #008000\">│</span>\n",
       "<span style=\"color: #008000; text-decoration-color: #008000\">│</span>  <span style=\"color: #c0c0c0; text-decoration-color: #c0c0c0\">requirements before we can refine our reasoning plan effectively.\\\",\\\"required\\\":false}]}\": \"READY: I am </span>      <span style=\"color: #008000; text-decoration-color: #008000\">│</span>\n",
       "<span style=\"color: #008000; text-decoration-color: #008000\">│</span>  <span style=\"color: #c0c0c0; text-decoration-color: #c0c0c0\">ready to execute the task.\"}</span>                                                                                   <span style=\"color: #008000; text-decoration-color: #008000\">│</span>\n",
       "<span style=\"color: #008000; text-decoration-color: #008000\">│</span>                                                                                                                 <span style=\"color: #008000; text-decoration-color: #008000\">│</span>\n",
       "<span style=\"color: #008000; text-decoration-color: #008000\">╰─────────────────────────────────────────────────────────────────────────────────────────────────────────────────╯</span>\n",
       "</pre>\n"
      ],
      "text/plain": [
       "\u001b[32m╭─\u001b[0m\u001b[32m──────────────────────────────────────────────\u001b[0m\u001b[32m 🧠 Reasoning Plan \u001b[0m\u001b[32m──────────────────────────────────────────────\u001b[0m\u001b[32m─╮\u001b[0m\n",
       "\u001b[32m│\u001b[0m                                                                                                                 \u001b[32m│\u001b[0m\n",
       "\u001b[32m│\u001b[0m  \u001b[37m{\"name\": \"refine_contract_management_reasoning_plan\", \"parameters\": {\"plan\": \"explain contract management \u001b[0m     \u001b[32m│\u001b[0m\n",
       "\u001b[32m│\u001b[0m  \u001b[37mwith a professional background and expertise in extracting relevant information from user-uploaded \u001b[0m            \u001b[32m│\u001b[0m\n",
       "\u001b[32m│\u001b[0m  \u001b[37mdocuments.\", \"ready\": \"NOT READY\"}, \"required_tools\": [{\"type\": \"pdf_search_tool\", \"description\": \"We will \u001b[0m    \u001b[32m│\u001b[0m\n",
       "\u001b[32m│\u001b[0m  \u001b[37muse the PDF Search Tool to quickly search for relevant information in user-uploaded documents. We will \u001b[0m        \u001b[32m│\u001b[0m\n",
       "\u001b[32m│\u001b[0m  \u001b[37mspecify the search query based on our understanding of contract management and the context of the \u001b[0m             \u001b[32m│\u001b[0m\n",
       "\u001b[32m│\u001b[0m  \u001b[37mdocument.\"}, {\"type\": \"web_search_tool\", \"description\": \"If the PDF Search Tool is not successful, we will \u001b[0m    \u001b[32m│\u001b[0m\n",
       "\u001b[32m│\u001b[0m  \u001b[37muse the Web Search Tool to conduct a more thorough search. We will make sure to specify accurate keywords and\u001b[0m  \u001b[32m│\u001b[0m\n",
       "\u001b[32m│\u001b[0m  \u001b[37mphrases to increase the chances of retrieving relevant information.\"}], \"tool_usage_strategy\": \u001b[0m                \u001b[32m│\u001b[0m\n",
       "\u001b[32m│\u001b[0m  \u001b[37m{\"pdf_search_tool\": \"We will use the PDF Search Tool to quickly search for relevant information in \u001b[0m            \u001b[32m│\u001b[0m\n",
       "\u001b[32m│\u001b[0m  \u001b[37muser-uploaded documents. We will specify the search query based on our understanding of contract management \u001b[0m   \u001b[32m│\u001b[0m\n",
       "\u001b[32m│\u001b[0m  \u001b[37mand the context of the document.\", \"web_search_tool\": \"If the PDF Search Tool is not successful, we will use \u001b[0m  \u001b[32m│\u001b[0m\n",
       "\u001b[32m│\u001b[0m  \u001b[37mthe Web Search Tool to conduct a more thorough search. We will make sure to specify accurate keywords and \u001b[0m     \u001b[32m│\u001b[0m\n",
       "\u001b[32m│\u001b[0m  \u001b[37mphrases to increase the chances of retrieving relevant information.\"}, \"uncertainties_and_gaps\": [{\"type\": \u001b[0m    \u001b[32m│\u001b[0m\n",
       "\u001b[32m│\u001b[0m  \u001b[37m\"uncertainty\", \"description\": \"There might be limitations in extracting information from user-uploaded \u001b[0m        \u001b[32m│\u001b[0m\n",
       "\u001b[32m│\u001b[0m  \u001b[37mdocuments due to formatting or content constraints.\"}, {\"type\": \"gap\", \"description\": \"We need more specific \u001b[0m  \u001b[32m│\u001b[0m\n",
       "\u001b[32m│\u001b[0m  \u001b[37minformation about the contract management context and requirements before we can refine our reasoning plan \u001b[0m    \u001b[32m│\u001b[0m\n",
       "\u001b[32m│\u001b[0m  \u001b[37meffectively.\"}], \"output\": {\"format\": \"JSON\", \"json_string\": \"{\\\"name\\\": \u001b[0m                                      \u001b[32m│\u001b[0m\n",
       "\u001b[32m│\u001b[0m  \u001b[37m\\\"refine_contract_management_reasoning_plan\\\", \\\"parameters\\\":{\\\"plan\\\": \\\"explain contract management with a\u001b[0m  \u001b[32m│\u001b[0m\n",
       "\u001b[32m│\u001b[0m  \u001b[37mprofessional background and expertise in extracting relevant information from user-uploaded documents.\\\", \u001b[0m     \u001b[32m│\u001b[0m\n",
       "\u001b[32m│\u001b[0m  \u001b[37m\\\"ready\\\": \\\"NOT READY\\\"}, \\\"required_tools\\\":[{\\\"type\\\": \\\"pdf_search_tool\\\",\\\"description\\\":\\\"We will use \u001b[0m   \u001b[32m│\u001b[0m\n",
       "\u001b[32m│\u001b[0m  \u001b[37mthe PDF Search Tool to quickly search for relevant information in user-uploaded \u001b[0m                               \u001b[32m│\u001b[0m\n",
       "\u001b[32m│\u001b[0m  \u001b[37mdocuments.\\\",\\\"required\\\":true},{\\\"type\\\": \\\"web_search_tool\\\",\\\"description\\\":\\\"If the PDF Search Tool is \u001b[0m    \u001b[32m│\u001b[0m\n",
       "\u001b[32m│\u001b[0m  \u001b[37mnot successful, we will use the Web Search Tool to conduct a more thorough search.\\\",\\\"required\\\":false}], \u001b[0m    \u001b[32m│\u001b[0m\n",
       "\u001b[32m│\u001b[0m  \u001b[37m\\\"tool_usage_strategy\\\":[{\\\"type\\\": \\\"pdf_search_tool\\\",\\\"description\\\":\\\"We will use the PDF Search Tool to \u001b[0m  \u001b[32m│\u001b[0m\n",
       "\u001b[32m│\u001b[0m  \u001b[37mquickly search for relevant information in user-uploaded documents.\\\\\", \"required\": true}, \"{ \\\"type\\\": \u001b[0m       \u001b[32m│\u001b[0m\n",
       "\u001b[32m│\u001b[0m  \u001b[37m\\\"web_search_tool\\\",\\\"description\\\":\\\"If the PDF Search Tool is not successful, we will use the Web Search \u001b[0m    \u001b[32m│\u001b[0m\n",
       "\u001b[32m│\u001b[0m  \u001b[37mTool to conduct a more thorough search.\\\",\\\"required\\\":false}], \\\"uncertainties_and_gaps\\\":[{\\\"type\\\": \u001b[0m        \u001b[32m│\u001b[0m\n",
       "\u001b[32m│\u001b[0m  \u001b[37m\\\"uncertainty\\\",\\\"description\\\":\\\"There might be limitations in extracting information from user-uploaded \u001b[0m     \u001b[32m│\u001b[0m\n",
       "\u001b[32m│\u001b[0m  \u001b[37mdocuments due to formatting or content constraints.\\\",\\\"required\\\":true},{\\\"type\\\": \u001b[0m                           \u001b[32m│\u001b[0m\n",
       "\u001b[32m│\u001b[0m  \u001b[37m\\\"gap\\\",\\\"description\\\":\\\"We need more specific information about the contract management context and \u001b[0m         \u001b[32m│\u001b[0m\n",
       "\u001b[32m│\u001b[0m  \u001b[37mrequirements before we can refine our reasoning plan effectively.\\\",\\\"required\\\":false}]}\": \"READY: I am \u001b[0m      \u001b[32m│\u001b[0m\n",
       "\u001b[32m│\u001b[0m  \u001b[37mready to execute the task.\"}\u001b[0m                                                                                   \u001b[32m│\u001b[0m\n",
       "\u001b[32m│\u001b[0m                                                                                                                 \u001b[32m│\u001b[0m\n",
       "\u001b[32m╰─────────────────────────────────────────────────────────────────────────────────────────────────────────────────╯\u001b[0m\n"
      ]
     },
     "metadata": {},
     "output_type": "display_data"
    },
    {
     "data": {
      "text/html": [
       "<pre style=\"white-space:pre;overflow-x:auto;line-height:normal;font-family:Menlo,'DejaVu Sans Mono',consolas,'Courier New',monospace\">\n",
       "</pre>\n"
      ],
      "text/plain": [
       "\n"
      ]
     },
     "metadata": {},
     "output_type": "display_data"
    },
    {
     "data": {
      "text/html": [
       "<pre style=\"white-space:pre;overflow-x:auto;line-height:normal;font-family:Menlo,'DejaVu Sans Mono',consolas,'Courier New',monospace\"><span style=\"color: #800080; text-decoration-color: #800080\">╭─────────────────────────────────────────────── 🤖 Agent Started ────────────────────────────────────────────────╮</span>\n",
       "<span style=\"color: #800080; text-decoration-color: #800080\">│</span>                                                                                                                 <span style=\"color: #800080; text-decoration-color: #800080\">│</span>\n",
       "<span style=\"color: #800080; text-decoration-color: #800080\">│</span>  <span style=\"color: #c0c0c0; text-decoration-color: #c0c0c0\">Agent: </span><span style=\"color: #00ff00; text-decoration-color: #00ff00; font-weight: bold\">Retrieve relevant information to answer the user query: explain contract management</span>                     <span style=\"color: #800080; text-decoration-color: #800080\">│</span>\n",
       "<span style=\"color: #800080; text-decoration-color: #800080\">│</span>                                                                                                                 <span style=\"color: #800080; text-decoration-color: #800080\">│</span>\n",
       "<span style=\"color: #800080; text-decoration-color: #800080\">│</span>  <span style=\"color: #c0c0c0; text-decoration-color: #c0c0c0\">Task: </span><span style=\"color: #00ff00; text-decoration-color: #00ff00\">to fetch information based upon the user query:explain the document contextual understanding</span>             <span style=\"color: #800080; text-decoration-color: #800080\">│</span>\n",
       "<span style=\"color: #800080; text-decoration-color: #800080\">│</span>                                                                                                                 <span style=\"color: #800080; text-decoration-color: #800080\">│</span>\n",
       "<span style=\"color: #800080; text-decoration-color: #800080\">│</span>  <span style=\"color: #00ff00; text-decoration-color: #00ff00\">Reasoning Plan:</span>                                                                                                <span style=\"color: #800080; text-decoration-color: #800080\">│</span>\n",
       "<span style=\"color: #800080; text-decoration-color: #800080\">│</span>  <span style=\"color: #00ff00; text-decoration-color: #00ff00\">{\"name\": \"refine_contract_management_reasoning_plan\", \"parameters\": {\"plan\": \"explain contract management </span>     <span style=\"color: #800080; text-decoration-color: #800080\">│</span>\n",
       "<span style=\"color: #800080; text-decoration-color: #800080\">│</span>  <span style=\"color: #00ff00; text-decoration-color: #00ff00\">with a professional background and expertise in extracting relevant information from user-uploaded </span>            <span style=\"color: #800080; text-decoration-color: #800080\">│</span>\n",
       "<span style=\"color: #800080; text-decoration-color: #800080\">│</span>  <span style=\"color: #00ff00; text-decoration-color: #00ff00\">documents.\", \"ready\": \"NOT READY\"}, \"required_tools\": [{\"type\": \"pdf_search_tool\", \"description\": \"We will </span>    <span style=\"color: #800080; text-decoration-color: #800080\">│</span>\n",
       "<span style=\"color: #800080; text-decoration-color: #800080\">│</span>  <span style=\"color: #00ff00; text-decoration-color: #00ff00\">use the PDF Search Tool to quickly search for relevant information in user-uploaded documents. We will </span>        <span style=\"color: #800080; text-decoration-color: #800080\">│</span>\n",
       "<span style=\"color: #800080; text-decoration-color: #800080\">│</span>  <span style=\"color: #00ff00; text-decoration-color: #00ff00\">specify the search query based on our understanding of contract management and the context of the </span>             <span style=\"color: #800080; text-decoration-color: #800080\">│</span>\n",
       "<span style=\"color: #800080; text-decoration-color: #800080\">│</span>  <span style=\"color: #00ff00; text-decoration-color: #00ff00\">document.\"}, {\"type\": \"web_search_tool\", \"description\": \"If the PDF Search Tool is not successful, we will </span>    <span style=\"color: #800080; text-decoration-color: #800080\">│</span>\n",
       "<span style=\"color: #800080; text-decoration-color: #800080\">│</span>  <span style=\"color: #00ff00; text-decoration-color: #00ff00\">use the Web Search Tool to conduct a more thorough search. We will make sure to specify accurate keywords and</span>  <span style=\"color: #800080; text-decoration-color: #800080\">│</span>\n",
       "<span style=\"color: #800080; text-decoration-color: #800080\">│</span>  <span style=\"color: #00ff00; text-decoration-color: #00ff00\">phrases to increase the chances of retrieving relevant information.\"}], \"tool_usage_strategy\": </span>                <span style=\"color: #800080; text-decoration-color: #800080\">│</span>\n",
       "<span style=\"color: #800080; text-decoration-color: #800080\">│</span>  <span style=\"color: #00ff00; text-decoration-color: #00ff00\">{\"pdf_search_tool\": \"We will use the PDF Search Tool to quickly search for relevant information in </span>            <span style=\"color: #800080; text-decoration-color: #800080\">│</span>\n",
       "<span style=\"color: #800080; text-decoration-color: #800080\">│</span>  <span style=\"color: #00ff00; text-decoration-color: #00ff00\">user-uploaded documents. We will specify the search query based on our understanding of contract management </span>   <span style=\"color: #800080; text-decoration-color: #800080\">│</span>\n",
       "<span style=\"color: #800080; text-decoration-color: #800080\">│</span>  <span style=\"color: #00ff00; text-decoration-color: #00ff00\">and the context of the document.\", \"web_search_tool\": \"If the PDF Search Tool is not successful, we will use </span>  <span style=\"color: #800080; text-decoration-color: #800080\">│</span>\n",
       "<span style=\"color: #800080; text-decoration-color: #800080\">│</span>  <span style=\"color: #00ff00; text-decoration-color: #00ff00\">the Web Search Tool to conduct a more thorough search. We will make sure to specify accurate keywords and </span>     <span style=\"color: #800080; text-decoration-color: #800080\">│</span>\n",
       "<span style=\"color: #800080; text-decoration-color: #800080\">│</span>  <span style=\"color: #00ff00; text-decoration-color: #00ff00\">phrases to increase the chances of retrieving relevant information.\"}, \"uncertainties_and_gaps\": [{\"type\": </span>    <span style=\"color: #800080; text-decoration-color: #800080\">│</span>\n",
       "<span style=\"color: #800080; text-decoration-color: #800080\">│</span>  <span style=\"color: #00ff00; text-decoration-color: #00ff00\">\"uncertainty\", \"description\": \"There might be limitations in extracting information from user-uploaded </span>        <span style=\"color: #800080; text-decoration-color: #800080\">│</span>\n",
       "<span style=\"color: #800080; text-decoration-color: #800080\">│</span>  <span style=\"color: #00ff00; text-decoration-color: #00ff00\">documents due to formatting or content constraints.\"}, {\"type\": \"gap\", \"description\": \"We need more specific </span>  <span style=\"color: #800080; text-decoration-color: #800080\">│</span>\n",
       "<span style=\"color: #800080; text-decoration-color: #800080\">│</span>  <span style=\"color: #00ff00; text-decoration-color: #00ff00\">information about the contract management context and requirements before we can refine our reasoning plan </span>    <span style=\"color: #800080; text-decoration-color: #800080\">│</span>\n",
       "<span style=\"color: #800080; text-decoration-color: #800080\">│</span>  <span style=\"color: #00ff00; text-decoration-color: #00ff00\">effectively.\"}], \"output\": {\"format\": \"JSON\", \"json_string\": \"{\\\"name\\\": </span>                                      <span style=\"color: #800080; text-decoration-color: #800080\">│</span>\n",
       "<span style=\"color: #800080; text-decoration-color: #800080\">│</span>  <span style=\"color: #00ff00; text-decoration-color: #00ff00\">\\\"refine_contract_management_reasoning_plan\\\", \\\"parameters\\\":{\\\"plan\\\": \\\"explain contract management with a</span>  <span style=\"color: #800080; text-decoration-color: #800080\">│</span>\n",
       "<span style=\"color: #800080; text-decoration-color: #800080\">│</span>  <span style=\"color: #00ff00; text-decoration-color: #00ff00\">professional background and expertise in extracting relevant information from user-uploaded documents.\\\", </span>     <span style=\"color: #800080; text-decoration-color: #800080\">│</span>\n",
       "<span style=\"color: #800080; text-decoration-color: #800080\">│</span>  <span style=\"color: #00ff00; text-decoration-color: #00ff00\">\\\"ready\\\": \\\"NOT READY\\\"}, \\\"required_tools\\\":[{\\\"type\\\": \\\"pdf_search_tool\\\",\\\"description\\\":\\\"We will use </span>   <span style=\"color: #800080; text-decoration-color: #800080\">│</span>\n",
       "<span style=\"color: #800080; text-decoration-color: #800080\">│</span>  <span style=\"color: #00ff00; text-decoration-color: #00ff00\">the PDF Search Tool to quickly search for relevant information in user-uploaded </span>                               <span style=\"color: #800080; text-decoration-color: #800080\">│</span>\n",
       "<span style=\"color: #800080; text-decoration-color: #800080\">│</span>  <span style=\"color: #00ff00; text-decoration-color: #00ff00\">documents.\\\",\\\"required\\\":true},{\\\"type\\\": \\\"web_search_tool\\\",\\\"description\\\":\\\"If the PDF Search Tool is </span>    <span style=\"color: #800080; text-decoration-color: #800080\">│</span>\n",
       "<span style=\"color: #800080; text-decoration-color: #800080\">│</span>  <span style=\"color: #00ff00; text-decoration-color: #00ff00\">not successful, we will use the Web Search Tool to conduct a more thorough search.\\\",\\\"required\\\":false}], </span>    <span style=\"color: #800080; text-decoration-color: #800080\">│</span>\n",
       "<span style=\"color: #800080; text-decoration-color: #800080\">│</span>  <span style=\"color: #00ff00; text-decoration-color: #00ff00\">\\\"tool_usage_strategy\\\":[{\\\"type\\\": \\\"pdf_search_tool\\\",\\\"description\\\":\\\"We will use the PDF Search Tool to </span>  <span style=\"color: #800080; text-decoration-color: #800080\">│</span>\n",
       "<span style=\"color: #800080; text-decoration-color: #800080\">│</span>  <span style=\"color: #00ff00; text-decoration-color: #00ff00\">quickly search for relevant information in user-uploaded documents.\\\\\", \"required\": true}, \"{ \\\"type\\\": </span>       <span style=\"color: #800080; text-decoration-color: #800080\">│</span>\n",
       "<span style=\"color: #800080; text-decoration-color: #800080\">│</span>  <span style=\"color: #00ff00; text-decoration-color: #00ff00\">\\\"web_search_tool\\\",\\\"description\\\":\\\"If the PDF Search Tool is not successful, we will use the Web Search </span>    <span style=\"color: #800080; text-decoration-color: #800080\">│</span>\n",
       "<span style=\"color: #800080; text-decoration-color: #800080\">│</span>  <span style=\"color: #00ff00; text-decoration-color: #00ff00\">Tool to conduct a more thorough search.\\\",\\\"required\\\":false}], \\\"uncertainties_and_gaps\\\":[{\\\"type\\\": </span>        <span style=\"color: #800080; text-decoration-color: #800080\">│</span>\n",
       "<span style=\"color: #800080; text-decoration-color: #800080\">│</span>  <span style=\"color: #00ff00; text-decoration-color: #00ff00\">\\\"uncertainty\\\",\\\"description\\\":\\\"There might be limitations in extracting information from user-uploaded </span>     <span style=\"color: #800080; text-decoration-color: #800080\">│</span>\n",
       "<span style=\"color: #800080; text-decoration-color: #800080\">│</span>  <span style=\"color: #00ff00; text-decoration-color: #00ff00\">documents due to formatting or content constraints.\\\",\\\"required\\\":true},{\\\"type\\\": </span>                           <span style=\"color: #800080; text-decoration-color: #800080\">│</span>\n",
       "<span style=\"color: #800080; text-decoration-color: #800080\">│</span>  <span style=\"color: #00ff00; text-decoration-color: #00ff00\">\\\"gap\\\",\\\"description\\\":\\\"We need more specific information about the contract management context and </span>         <span style=\"color: #800080; text-decoration-color: #800080\">│</span>\n",
       "<span style=\"color: #800080; text-decoration-color: #800080\">│</span>  <span style=\"color: #00ff00; text-decoration-color: #00ff00\">requirements before we can refine our reasoning plan effectively.\\\",\\\"required\\\":false}]}\": \"READY: I am </span>      <span style=\"color: #800080; text-decoration-color: #800080\">│</span>\n",
       "<span style=\"color: #800080; text-decoration-color: #800080\">│</span>  <span style=\"color: #00ff00; text-decoration-color: #00ff00\">ready to execute the task.\"}</span>                                                                                   <span style=\"color: #800080; text-decoration-color: #800080\">│</span>\n",
       "<span style=\"color: #800080; text-decoration-color: #800080\">│</span>                                                                                                                 <span style=\"color: #800080; text-decoration-color: #800080\">│</span>\n",
       "<span style=\"color: #800080; text-decoration-color: #800080\">╰─────────────────────────────────────────────────────────────────────────────────────────────────────────────────╯</span>\n",
       "</pre>\n"
      ],
      "text/plain": [
       "\u001b[35m╭─\u001b[0m\u001b[35m──────────────────────────────────────────────\u001b[0m\u001b[35m 🤖 Agent Started \u001b[0m\u001b[35m───────────────────────────────────────────────\u001b[0m\u001b[35m─╮\u001b[0m\n",
       "\u001b[35m│\u001b[0m                                                                                                                 \u001b[35m│\u001b[0m\n",
       "\u001b[35m│\u001b[0m  \u001b[37mAgent: \u001b[0m\u001b[1;92mRetrieve relevant information to answer the user query: explain contract management\u001b[0m                     \u001b[35m│\u001b[0m\n",
       "\u001b[35m│\u001b[0m                                                                                                                 \u001b[35m│\u001b[0m\n",
       "\u001b[35m│\u001b[0m  \u001b[37mTask: \u001b[0m\u001b[92mto fetch information based upon the user query:explain the document contextual understanding\u001b[0m             \u001b[35m│\u001b[0m\n",
       "\u001b[35m│\u001b[0m                                                                                                                 \u001b[35m│\u001b[0m\n",
       "\u001b[35m│\u001b[0m  \u001b[92mReasoning Plan:\u001b[0m                                                                                                \u001b[35m│\u001b[0m\n",
       "\u001b[35m│\u001b[0m  \u001b[92m{\"name\": \"refine_contract_management_reasoning_plan\", \"parameters\": {\"plan\": \"explain contract management \u001b[0m     \u001b[35m│\u001b[0m\n",
       "\u001b[35m│\u001b[0m  \u001b[92mwith a professional background and expertise in extracting relevant information from user-uploaded \u001b[0m            \u001b[35m│\u001b[0m\n",
       "\u001b[35m│\u001b[0m  \u001b[92mdocuments.\", \"ready\": \"NOT READY\"}, \"required_tools\": [{\"type\": \"pdf_search_tool\", \"description\": \"We will \u001b[0m    \u001b[35m│\u001b[0m\n",
       "\u001b[35m│\u001b[0m  \u001b[92muse the PDF Search Tool to quickly search for relevant information in user-uploaded documents. We will \u001b[0m        \u001b[35m│\u001b[0m\n",
       "\u001b[35m│\u001b[0m  \u001b[92mspecify the search query based on our understanding of contract management and the context of the \u001b[0m             \u001b[35m│\u001b[0m\n",
       "\u001b[35m│\u001b[0m  \u001b[92mdocument.\"}, {\"type\": \"web_search_tool\", \"description\": \"If the PDF Search Tool is not successful, we will \u001b[0m    \u001b[35m│\u001b[0m\n",
       "\u001b[35m│\u001b[0m  \u001b[92muse the Web Search Tool to conduct a more thorough search. We will make sure to specify accurate keywords and\u001b[0m  \u001b[35m│\u001b[0m\n",
       "\u001b[35m│\u001b[0m  \u001b[92mphrases to increase the chances of retrieving relevant information.\"}], \"tool_usage_strategy\": \u001b[0m                \u001b[35m│\u001b[0m\n",
       "\u001b[35m│\u001b[0m  \u001b[92m{\"pdf_search_tool\": \"We will use the PDF Search Tool to quickly search for relevant information in \u001b[0m            \u001b[35m│\u001b[0m\n",
       "\u001b[35m│\u001b[0m  \u001b[92muser-uploaded documents. We will specify the search query based on our understanding of contract management \u001b[0m   \u001b[35m│\u001b[0m\n",
       "\u001b[35m│\u001b[0m  \u001b[92mand the context of the document.\", \"web_search_tool\": \"If the PDF Search Tool is not successful, we will use \u001b[0m  \u001b[35m│\u001b[0m\n",
       "\u001b[35m│\u001b[0m  \u001b[92mthe Web Search Tool to conduct a more thorough search. We will make sure to specify accurate keywords and \u001b[0m     \u001b[35m│\u001b[0m\n",
       "\u001b[35m│\u001b[0m  \u001b[92mphrases to increase the chances of retrieving relevant information.\"}, \"uncertainties_and_gaps\": [{\"type\": \u001b[0m    \u001b[35m│\u001b[0m\n",
       "\u001b[35m│\u001b[0m  \u001b[92m\"uncertainty\", \"description\": \"There might be limitations in extracting information from user-uploaded \u001b[0m        \u001b[35m│\u001b[0m\n",
       "\u001b[35m│\u001b[0m  \u001b[92mdocuments due to formatting or content constraints.\"}, {\"type\": \"gap\", \"description\": \"We need more specific \u001b[0m  \u001b[35m│\u001b[0m\n",
       "\u001b[35m│\u001b[0m  \u001b[92minformation about the contract management context and requirements before we can refine our reasoning plan \u001b[0m    \u001b[35m│\u001b[0m\n",
       "\u001b[35m│\u001b[0m  \u001b[92meffectively.\"}], \"output\": {\"format\": \"JSON\", \"json_string\": \"{\\\"name\\\": \u001b[0m                                      \u001b[35m│\u001b[0m\n",
       "\u001b[35m│\u001b[0m  \u001b[92m\\\"refine_contract_management_reasoning_plan\\\", \\\"parameters\\\":{\\\"plan\\\": \\\"explain contract management with a\u001b[0m  \u001b[35m│\u001b[0m\n",
       "\u001b[35m│\u001b[0m  \u001b[92mprofessional background and expertise in extracting relevant information from user-uploaded documents.\\\", \u001b[0m     \u001b[35m│\u001b[0m\n",
       "\u001b[35m│\u001b[0m  \u001b[92m\\\"ready\\\": \\\"NOT READY\\\"}, \\\"required_tools\\\":[{\\\"type\\\": \\\"pdf_search_tool\\\",\\\"description\\\":\\\"We will use \u001b[0m   \u001b[35m│\u001b[0m\n",
       "\u001b[35m│\u001b[0m  \u001b[92mthe PDF Search Tool to quickly search for relevant information in user-uploaded \u001b[0m                               \u001b[35m│\u001b[0m\n",
       "\u001b[35m│\u001b[0m  \u001b[92mdocuments.\\\",\\\"required\\\":true},{\\\"type\\\": \\\"web_search_tool\\\",\\\"description\\\":\\\"If the PDF Search Tool is \u001b[0m    \u001b[35m│\u001b[0m\n",
       "\u001b[35m│\u001b[0m  \u001b[92mnot successful, we will use the Web Search Tool to conduct a more thorough search.\\\",\\\"required\\\":false}], \u001b[0m    \u001b[35m│\u001b[0m\n",
       "\u001b[35m│\u001b[0m  \u001b[92m\\\"tool_usage_strategy\\\":[{\\\"type\\\": \\\"pdf_search_tool\\\",\\\"description\\\":\\\"We will use the PDF Search Tool to \u001b[0m  \u001b[35m│\u001b[0m\n",
       "\u001b[35m│\u001b[0m  \u001b[92mquickly search for relevant information in user-uploaded documents.\\\\\", \"required\": true}, \"{ \\\"type\\\": \u001b[0m       \u001b[35m│\u001b[0m\n",
       "\u001b[35m│\u001b[0m  \u001b[92m\\\"web_search_tool\\\",\\\"description\\\":\\\"If the PDF Search Tool is not successful, we will use the Web Search \u001b[0m    \u001b[35m│\u001b[0m\n",
       "\u001b[35m│\u001b[0m  \u001b[92mTool to conduct a more thorough search.\\\",\\\"required\\\":false}], \\\"uncertainties_and_gaps\\\":[{\\\"type\\\": \u001b[0m        \u001b[35m│\u001b[0m\n",
       "\u001b[35m│\u001b[0m  \u001b[92m\\\"uncertainty\\\",\\\"description\\\":\\\"There might be limitations in extracting information from user-uploaded \u001b[0m     \u001b[35m│\u001b[0m\n",
       "\u001b[35m│\u001b[0m  \u001b[92mdocuments due to formatting or content constraints.\\\",\\\"required\\\":true},{\\\"type\\\": \u001b[0m                           \u001b[35m│\u001b[0m\n",
       "\u001b[35m│\u001b[0m  \u001b[92m\\\"gap\\\",\\\"description\\\":\\\"We need more specific information about the contract management context and \u001b[0m         \u001b[35m│\u001b[0m\n",
       "\u001b[35m│\u001b[0m  \u001b[92mrequirements before we can refine our reasoning plan effectively.\\\",\\\"required\\\":false}]}\": \"READY: I am \u001b[0m      \u001b[35m│\u001b[0m\n",
       "\u001b[35m│\u001b[0m  \u001b[92mready to execute the task.\"}\u001b[0m                                                                                   \u001b[35m│\u001b[0m\n",
       "\u001b[35m│\u001b[0m                                                                                                                 \u001b[35m│\u001b[0m\n",
       "\u001b[35m╰─────────────────────────────────────────────────────────────────────────────────────────────────────────────────╯\u001b[0m\n"
      ]
     },
     "metadata": {},
     "output_type": "display_data"
    },
    {
     "data": {
      "text/html": [
       "<pre style=\"white-space:pre;overflow-x:auto;line-height:normal;font-family:Menlo,'DejaVu Sans Mono',consolas,'Courier New',monospace\">\n",
       "</pre>\n"
      ],
      "text/plain": [
       "\n"
      ]
     },
     "metadata": {},
     "output_type": "display_data"
    },
    {
     "data": {
      "application/vnd.jupyter.widget-view+json": {
       "model_id": "0975bcf7f3b14d45a5bae13e4e0d4ec8",
       "version_major": 2,
       "version_minor": 0
      },
      "text/plain": [
       "Output()"
      ]
     },
     "metadata": {},
     "output_type": "display_data"
    },
    {
     "data": {
      "text/html": [
       "<pre style=\"white-space:pre;overflow-x:auto;line-height:normal;font-family:Menlo,'DejaVu Sans Mono',consolas,'Courier New',monospace\"></pre>\n"
      ],
      "text/plain": []
     },
     "metadata": {},
     "output_type": "display_data"
    },
    {
     "data": {
      "text/html": [
       "<pre style=\"white-space:pre;overflow-x:auto;line-height:normal;font-family:Menlo,'DejaVu Sans Mono',consolas,'Courier New',monospace\"><span style=\"color: #008000; text-decoration-color: #008000\">╭───────────────────────────────────────────── ✅ Agent Final Answer ─────────────────────────────────────────────╮</span>\n",
       "<span style=\"color: #008000; text-decoration-color: #008000\">│</span>                                                                                                                 <span style=\"color: #008000; text-decoration-color: #008000\">│</span>\n",
       "<span style=\"color: #008000; text-decoration-color: #008000\">│</span>  <span style=\"color: #c0c0c0; text-decoration-color: #c0c0c0\">Agent: </span><span style=\"color: #00ff00; text-decoration-color: #00ff00; font-weight: bold\">Retrieve relevant information to answer the user query: explain contract management</span>                     <span style=\"color: #008000; text-decoration-color: #008000\">│</span>\n",
       "<span style=\"color: #008000; text-decoration-color: #008000\">│</span>                                                                                                                 <span style=\"color: #008000; text-decoration-color: #008000\">│</span>\n",
       "<span style=\"color: #008000; text-decoration-color: #008000\">│</span>  <span style=\"color: #c0c0c0; text-decoration-color: #c0c0c0\">Final Answer:</span>                                                                                                  <span style=\"color: #008000; text-decoration-color: #008000\">│</span>\n",
       "<span style=\"color: #008000; text-decoration-color: #008000\">│</span>  <span style=\"color: #00ff00; text-decoration-color: #00ff00\">```</span>                                                                                                            <span style=\"color: #008000; text-decoration-color: #008000\">│</span>\n",
       "<span style=\"color: #008000; text-decoration-color: #008000\">│</span>  <span style=\"color: #00ff00; text-decoration-color: #00ff00\">Thought: I should carefully examine the user query \"explain the document contextual understanding\" to </span>         <span style=\"color: #008000; text-decoration-color: #008000\">│</span>\n",
       "<span style=\"color: #008000; text-decoration-color: #008000\">│</span>  <span style=\"color: #00ff00; text-decoration-color: #00ff00\">determine the most relevant information.</span>                                                                       <span style=\"color: #008000; text-decoration-color: #008000\">│</span>\n",
       "<span style=\"color: #008000; text-decoration-color: #008000\">│</span>  <span style=\"color: #00ff00; text-decoration-color: #00ff00\">Action: The action to take is to refine my system's reasoning plan. Since the task requires explaining </span>        <span style=\"color: #008000; text-decoration-color: #008000\">│</span>\n",
       "<span style=\"color: #008000; text-decoration-color: #008000\">│</span>  <span style=\"color: #00ff00; text-decoration-color: #00ff00\">contract management with a professional background and expertise in extracting relevant information from </span>      <span style=\"color: #008000; text-decoration-color: #008000\">│</span>\n",
       "<span style=\"color: #008000; text-decoration-color: #008000\">│</span>  <span style=\"color: #00ff00; text-decoration-color: #00ff00\">user-uploaded documents, I will specify the search queries for both tools as per the given criteria.</span>           <span style=\"color: #008000; text-decoration-color: #008000\">│</span>\n",
       "<span style=\"color: #008000; text-decoration-color: #008000\">│</span>                                                                                                                 <span style=\"color: #008000; text-decoration-color: #008000\">│</span>\n",
       "<span style=\"color: #008000; text-decoration-color: #008000\">│</span>  <span style=\"color: #00ff00; text-decoration-color: #00ff00\">Tool Arguments:</span>                                                                                                <span style=\"color: #008000; text-decoration-color: #008000\">│</span>\n",
       "<span style=\"color: #008000; text-decoration-color: #008000\">│</span>  <span style=\"color: #00ff00; text-decoration-color: #00ff00\">```</span>                                                                                                            <span style=\"color: #008000; text-decoration-color: #008000\">│</span>\n",
       "<span style=\"color: #008000; text-decoration-color: #008000\">│</span>                                                                                                                 <span style=\"color: #008000; text-decoration-color: #008000\">│</span>\n",
       "<span style=\"color: #008000; text-decoration-color: #008000\">│</span>                                                                                                                 <span style=\"color: #008000; text-decoration-color: #008000\">│</span>\n",
       "<span style=\"color: #008000; text-decoration-color: #008000\">╰─────────────────────────────────────────────────────────────────────────────────────────────────────────────────╯</span>\n",
       "</pre>\n"
      ],
      "text/plain": [
       "\u001b[32m╭─\u001b[0m\u001b[32m────────────────────────────────────────────\u001b[0m\u001b[32m ✅ Agent Final Answer \u001b[0m\u001b[32m────────────────────────────────────────────\u001b[0m\u001b[32m─╮\u001b[0m\n",
       "\u001b[32m│\u001b[0m                                                                                                                 \u001b[32m│\u001b[0m\n",
       "\u001b[32m│\u001b[0m  \u001b[37mAgent: \u001b[0m\u001b[1;92mRetrieve relevant information to answer the user query: explain contract management\u001b[0m                     \u001b[32m│\u001b[0m\n",
       "\u001b[32m│\u001b[0m                                                                                                                 \u001b[32m│\u001b[0m\n",
       "\u001b[32m│\u001b[0m  \u001b[37mFinal Answer:\u001b[0m                                                                                                  \u001b[32m│\u001b[0m\n",
       "\u001b[32m│\u001b[0m  \u001b[92m```\u001b[0m                                                                                                            \u001b[32m│\u001b[0m\n",
       "\u001b[32m│\u001b[0m  \u001b[92mThought: I should carefully examine the user query \"explain the document contextual understanding\" to \u001b[0m         \u001b[32m│\u001b[0m\n",
       "\u001b[32m│\u001b[0m  \u001b[92mdetermine the most relevant information.\u001b[0m                                                                       \u001b[32m│\u001b[0m\n",
       "\u001b[32m│\u001b[0m  \u001b[92mAction: The action to take is to refine my system's reasoning plan. Since the task requires explaining \u001b[0m        \u001b[32m│\u001b[0m\n",
       "\u001b[32m│\u001b[0m  \u001b[92mcontract management with a professional background and expertise in extracting relevant information from \u001b[0m      \u001b[32m│\u001b[0m\n",
       "\u001b[32m│\u001b[0m  \u001b[92muser-uploaded documents, I will specify the search queries for both tools as per the given criteria.\u001b[0m           \u001b[32m│\u001b[0m\n",
       "\u001b[32m│\u001b[0m                                                                                                                 \u001b[32m│\u001b[0m\n",
       "\u001b[32m│\u001b[0m  \u001b[92mTool Arguments:\u001b[0m                                                                                                \u001b[32m│\u001b[0m\n",
       "\u001b[32m│\u001b[0m  \u001b[92m```\u001b[0m                                                                                                            \u001b[32m│\u001b[0m\n",
       "\u001b[32m│\u001b[0m                                                                                                                 \u001b[32m│\u001b[0m\n",
       "\u001b[32m│\u001b[0m                                                                                                                 \u001b[32m│\u001b[0m\n",
       "\u001b[32m╰─────────────────────────────────────────────────────────────────────────────────────────────────────────────────╯\u001b[0m\n"
      ]
     },
     "metadata": {},
     "output_type": "display_data"
    },
    {
     "data": {
      "text/html": [
       "<pre style=\"white-space:pre;overflow-x:auto;line-height:normal;font-family:Menlo,'DejaVu Sans Mono',consolas,'Courier New',monospace\">\n",
       "</pre>\n"
      ],
      "text/plain": [
       "\n"
      ]
     },
     "metadata": {},
     "output_type": "display_data"
    },
    {
     "data": {
      "text/html": [
       "<pre style=\"white-space:pre;overflow-x:auto;line-height:normal;font-family:Menlo,'DejaVu Sans Mono',consolas,'Courier New',monospace\"></pre>\n"
      ],
      "text/plain": []
     },
     "metadata": {},
     "output_type": "display_data"
    },
    {
     "data": {
      "text/html": [
       "<pre style=\"white-space:pre;overflow-x:auto;line-height:normal;font-family:Menlo,'DejaVu Sans Mono',consolas,'Courier New',monospace\"><span style=\"color: #008000; text-decoration-color: #008000\">╭──────────────────────────────────────────────── Task Completion ────────────────────────────────────────────────╮</span>\n",
       "<span style=\"color: #008000; text-decoration-color: #008000\">│</span>                                                                                                                 <span style=\"color: #008000; text-decoration-color: #008000\">│</span>\n",
       "<span style=\"color: #008000; text-decoration-color: #008000\">│</span>  <span style=\"color: #008000; text-decoration-color: #008000; font-weight: bold\">Task Completed</span>                                                                                                 <span style=\"color: #008000; text-decoration-color: #008000\">│</span>\n",
       "<span style=\"color: #008000; text-decoration-color: #008000\">│</span>  <span style=\"color: #c0c0c0; text-decoration-color: #c0c0c0\">Name: </span><span style=\"color: #008000; text-decoration-color: #008000\">2b0eb2a5-f372-4b35-b860-8e18d50d8b3d</span>                                                                     <span style=\"color: #008000; text-decoration-color: #008000\">│</span>\n",
       "<span style=\"color: #008000; text-decoration-color: #008000\">│</span>  <span style=\"color: #c0c0c0; text-decoration-color: #c0c0c0\">Agent: </span><span style=\"color: #008000; text-decoration-color: #008000\">Retrieve relevant information to answer the user query: explain contract management</span>                     <span style=\"color: #008000; text-decoration-color: #008000\">│</span>\n",
       "<span style=\"color: #008000; text-decoration-color: #008000\">│</span>  <span style=\"color: #c0c0c0; text-decoration-color: #c0c0c0\">Tool Args: </span>                                                                                                    <span style=\"color: #008000; text-decoration-color: #008000\">│</span>\n",
       "<span style=\"color: #008000; text-decoration-color: #008000\">│</span>                                                                                                                 <span style=\"color: #008000; text-decoration-color: #008000\">│</span>\n",
       "<span style=\"color: #008000; text-decoration-color: #008000\">│</span>                                                                                                                 <span style=\"color: #008000; text-decoration-color: #008000\">│</span>\n",
       "<span style=\"color: #008000; text-decoration-color: #008000\">╰─────────────────────────────────────────────────────────────────────────────────────────────────────────────────╯</span>\n",
       "</pre>\n"
      ],
      "text/plain": [
       "\u001b[32m╭─\u001b[0m\u001b[32m───────────────────────────────────────────────\u001b[0m\u001b[32m Task Completion \u001b[0m\u001b[32m───────────────────────────────────────────────\u001b[0m\u001b[32m─╮\u001b[0m\n",
       "\u001b[32m│\u001b[0m                                                                                                                 \u001b[32m│\u001b[0m\n",
       "\u001b[32m│\u001b[0m  \u001b[1;32mTask Completed\u001b[0m                                                                                                 \u001b[32m│\u001b[0m\n",
       "\u001b[32m│\u001b[0m  \u001b[37mName: \u001b[0m\u001b[32m2b0eb2a5-f372-4b35-b860-8e18d50d8b3d\u001b[0m                                                                     \u001b[32m│\u001b[0m\n",
       "\u001b[32m│\u001b[0m  \u001b[37mAgent: \u001b[0m\u001b[32mRetrieve relevant information to answer the user query: explain contract management\u001b[0m                     \u001b[32m│\u001b[0m\n",
       "\u001b[32m│\u001b[0m  \u001b[37mTool Args: \u001b[0m                                                                                                    \u001b[32m│\u001b[0m\n",
       "\u001b[32m│\u001b[0m                                                                                                                 \u001b[32m│\u001b[0m\n",
       "\u001b[32m│\u001b[0m                                                                                                                 \u001b[32m│\u001b[0m\n",
       "\u001b[32m╰─────────────────────────────────────────────────────────────────────────────────────────────────────────────────╯\u001b[0m\n"
      ]
     },
     "metadata": {},
     "output_type": "display_data"
    },
    {
     "data": {
      "text/html": [
       "<pre style=\"white-space:pre;overflow-x:auto;line-height:normal;font-family:Menlo,'DejaVu Sans Mono',consolas,'Courier New',monospace\">\n",
       "</pre>\n"
      ],
      "text/plain": [
       "\n"
      ]
     },
     "metadata": {},
     "output_type": "display_data"
    },
    {
     "data": {
      "text/html": [
       "<pre style=\"white-space:pre;overflow-x:auto;line-height:normal;font-family:Menlo,'DejaVu Sans Mono',consolas,'Courier New',monospace\"></pre>\n"
      ],
      "text/plain": []
     },
     "metadata": {},
     "output_type": "display_data"
    },
    {
     "data": {
      "text/html": [
       "<pre style=\"white-space:pre;overflow-x:auto;line-height:normal;font-family:Menlo,'DejaVu Sans Mono',consolas,'Courier New',monospace\"><span style=\"color: #800080; text-decoration-color: #800080\">╭─────────────────────────────────────────────── 🤖 Agent Started ────────────────────────────────────────────────╮</span>\n",
       "<span style=\"color: #800080; text-decoration-color: #800080\">│</span>                                                                                                                 <span style=\"color: #800080; text-decoration-color: #800080\">│</span>\n",
       "<span style=\"color: #800080; text-decoration-color: #800080\">│</span>  <span style=\"color: #c0c0c0; text-decoration-color: #c0c0c0\">Agent: </span><span style=\"color: #00ff00; text-decoration-color: #00ff00; font-weight: bold\">Genrating coherent answers</span>                                                                              <span style=\"color: #800080; text-decoration-color: #800080\">│</span>\n",
       "<span style=\"color: #800080; text-decoration-color: #800080\">│</span>                                                                                                                 <span style=\"color: #800080; text-decoration-color: #800080\">│</span>\n",
       "<span style=\"color: #800080; text-decoration-color: #800080\">│</span>  <span style=\"color: #c0c0c0; text-decoration-color: #c0c0c0\">Task: </span><span style=\"color: #00ff00; text-decoration-color: #00ff00\">generate precise response based upon user query:explain the document,following the constraints defined </span>  <span style=\"color: #800080; text-decoration-color: #800080\">│</span>\n",
       "<span style=\"color: #800080; text-decoration-color: #800080\">│</span>  <span style=\"color: #00ff00; text-decoration-color: #00ff00\">by the user</span>                                                                                                    <span style=\"color: #800080; text-decoration-color: #800080\">│</span>\n",
       "<span style=\"color: #800080; text-decoration-color: #800080\">│</span>                                                                                                                 <span style=\"color: #800080; text-decoration-color: #800080\">│</span>\n",
       "<span style=\"color: #800080; text-decoration-color: #800080\">╰─────────────────────────────────────────────────────────────────────────────────────────────────────────────────╯</span>\n",
       "</pre>\n"
      ],
      "text/plain": [
       "\u001b[35m╭─\u001b[0m\u001b[35m──────────────────────────────────────────────\u001b[0m\u001b[35m 🤖 Agent Started \u001b[0m\u001b[35m───────────────────────────────────────────────\u001b[0m\u001b[35m─╮\u001b[0m\n",
       "\u001b[35m│\u001b[0m                                                                                                                 \u001b[35m│\u001b[0m\n",
       "\u001b[35m│\u001b[0m  \u001b[37mAgent: \u001b[0m\u001b[1;92mGenrating coherent answers\u001b[0m                                                                              \u001b[35m│\u001b[0m\n",
       "\u001b[35m│\u001b[0m                                                                                                                 \u001b[35m│\u001b[0m\n",
       "\u001b[35m│\u001b[0m  \u001b[37mTask: \u001b[0m\u001b[92mgenerate precise response based upon user query:explain the document,following the constraints defined \u001b[0m  \u001b[35m│\u001b[0m\n",
       "\u001b[35m│\u001b[0m  \u001b[92mby the user\u001b[0m                                                                                                    \u001b[35m│\u001b[0m\n",
       "\u001b[35m│\u001b[0m                                                                                                                 \u001b[35m│\u001b[0m\n",
       "\u001b[35m╰─────────────────────────────────────────────────────────────────────────────────────────────────────────────────╯\u001b[0m\n"
      ]
     },
     "metadata": {},
     "output_type": "display_data"
    },
    {
     "data": {
      "text/html": [
       "<pre style=\"white-space:pre;overflow-x:auto;line-height:normal;font-family:Menlo,'DejaVu Sans Mono',consolas,'Courier New',monospace\">\n",
       "</pre>\n"
      ],
      "text/plain": [
       "\n"
      ]
     },
     "metadata": {},
     "output_type": "display_data"
    },
    {
     "data": {
      "application/vnd.jupyter.widget-view+json": {
       "model_id": "6a5f6aa4114d4516b740ac5640ce2434",
       "version_major": 2,
       "version_minor": 0
      },
      "text/plain": [
       "Output()"
      ]
     },
     "metadata": {},
     "output_type": "display_data"
    },
    {
     "data": {
      "text/html": [
       "<pre style=\"white-space:pre;overflow-x:auto;line-height:normal;font-family:Menlo,'DejaVu Sans Mono',consolas,'Courier New',monospace\"></pre>\n"
      ],
      "text/plain": []
     },
     "metadata": {},
     "output_type": "display_data"
    },
    {
     "data": {
      "text/html": [
       "<pre style=\"white-space:pre;overflow-x:auto;line-height:normal;font-family:Menlo,'DejaVu Sans Mono',consolas,'Courier New',monospace\"><span style=\"color: #008000; text-decoration-color: #008000\">╭───────────────────────────────────────────── ✅ Agent Final Answer ─────────────────────────────────────────────╮</span>\n",
       "<span style=\"color: #008000; text-decoration-color: #008000\">│</span>                                                                                                                 <span style=\"color: #008000; text-decoration-color: #008000\">│</span>\n",
       "<span style=\"color: #008000; text-decoration-color: #008000\">│</span>  <span style=\"color: #c0c0c0; text-decoration-color: #c0c0c0\">Agent: </span><span style=\"color: #00ff00; text-decoration-color: #00ff00; font-weight: bold\">Genrating coherent answers</span>                                                                              <span style=\"color: #008000; text-decoration-color: #008000\">│</span>\n",
       "<span style=\"color: #008000; text-decoration-color: #008000\">│</span>                                                                                                                 <span style=\"color: #008000; text-decoration-color: #008000\">│</span>\n",
       "<span style=\"color: #008000; text-decoration-color: #008000\">│</span>  <span style=\"color: #c0c0c0; text-decoration-color: #c0c0c0\">Final Answer:</span>                                                                                                  <span style=\"color: #008000; text-decoration-color: #008000\">│</span>\n",
       "<span style=\"color: #008000; text-decoration-color: #008000\">│</span>  <span style=\"color: #00ff00; text-decoration-color: #00ff00\">The document in question appears to be a comprehensive guide to contract management, focusing on its </span>          <span style=\"color: #008000; text-decoration-color: #008000\">│</span>\n",
       "<span style=\"color: #008000; text-decoration-color: #008000\">│</span>  <span style=\"color: #00ff00; text-decoration-color: #00ff00\">application in various industries such as business, finance, and law. The text outlines the essential </span>         <span style=\"color: #008000; text-decoration-color: #008000\">│</span>\n",
       "<span style=\"color: #008000; text-decoration-color: #008000\">│</span>  <span style=\"color: #00ff00; text-decoration-color: #00ff00\">elements of contracts, including their definitions, purposes, types (e.g., bilateral, unilateral, </span>             <span style=\"color: #008000; text-decoration-color: #008000\">│</span>\n",
       "<span style=\"color: #008000; text-decoration-color: #008000\">│</span>  <span style=\"color: #00ff00; text-decoration-color: #00ff00\">partnership), and common terms used (e.g., clause, provision, stipulation). It also delves into the </span>           <span style=\"color: #008000; text-decoration-color: #008000\">│</span>\n",
       "<span style=\"color: #008000; text-decoration-color: #008000\">│</span>  <span style=\"color: #00ff00; text-decoration-color: #00ff00\">importance of contract management in ensuring compliance with regulatory requirements and minimizing legal </span>    <span style=\"color: #008000; text-decoration-color: #008000\">│</span>\n",
       "<span style=\"color: #008000; text-decoration-color: #008000\">│</span>  <span style=\"color: #00ff00; text-decoration-color: #00ff00\">risks associated with contract disputes.</span>                                                                       <span style=\"color: #008000; text-decoration-color: #008000\">│</span>\n",
       "<span style=\"color: #008000; text-decoration-color: #008000\">│</span>                                                                                                                 <span style=\"color: #008000; text-decoration-color: #008000\">│</span>\n",
       "<span style=\"color: #008000; text-decoration-color: #008000\">│</span>  <span style=\"color: #00ff00; text-decoration-color: #00ff00\">Furthermore, the document highlights best practices for contract management, such as negotiating contracts </span>    <span style=\"color: #008000; text-decoration-color: #008000\">│</span>\n",
       "<span style=\"color: #008000; text-decoration-color: #008000\">│</span>  <span style=\"color: #00ff00; text-decoration-color: #00ff00\">effectively, understanding contractual obligations, and maintaining accurate records. Additionally, it </span>        <span style=\"color: #008000; text-decoration-color: #008000\">│</span>\n",
       "<span style=\"color: #008000; text-decoration-color: #008000\">│</span>  <span style=\"color: #00ff00; text-decoration-color: #00ff00\">provides insights into the challenges faced by organizations in managing complex contracts and offers </span>         <span style=\"color: #008000; text-decoration-color: #008000\">│</span>\n",
       "<span style=\"color: #008000; text-decoration-color: #008000\">│</span>  <span style=\"color: #00ff00; text-decoration-color: #00ff00\">suggestions for improving contract management processes.</span>                                                       <span style=\"color: #008000; text-decoration-color: #008000\">│</span>\n",
       "<span style=\"color: #008000; text-decoration-color: #008000\">│</span>                                                                                                                 <span style=\"color: #008000; text-decoration-color: #008000\">│</span>\n",
       "<span style=\"color: #008000; text-decoration-color: #008000\">│</span>  <span style=\"color: #00ff00; text-decoration-color: #00ff00\">Based on this analysis, I can confidently state that the document serves as a valuable resource for those </span>     <span style=\"color: #008000; text-decoration-color: #008000\">│</span>\n",
       "<span style=\"color: #008000; text-decoration-color: #008000\">│</span>  <span style=\"color: #00ff00; text-decoration-color: #00ff00\">seeking to understand the intricacies of contract management and its applications across various industries. </span>  <span style=\"color: #008000; text-decoration-color: #008000\">│</span>\n",
       "<span style=\"color: #008000; text-decoration-color: #008000\">│</span>  <span style=\"color: #00ff00; text-decoration-color: #00ff00\">The comprehensive coverage of key concepts and practical advice makes it an essential tool for professionals </span>  <span style=\"color: #008000; text-decoration-color: #008000\">│</span>\n",
       "<span style=\"color: #008000; text-decoration-color: #008000\">│</span>  <span style=\"color: #00ff00; text-decoration-color: #00ff00\">involved in contract-related work.</span>                                                                             <span style=\"color: #008000; text-decoration-color: #008000\">│</span>\n",
       "<span style=\"color: #008000; text-decoration-color: #008000\">│</span>                                                                                                                 <span style=\"color: #008000; text-decoration-color: #008000\">│</span>\n",
       "<span style=\"color: #008000; text-decoration-color: #008000\">│</span>  <span style=\"color: #00ff00; text-decoration-color: #00ff00\">Your final answer must be the great and the most complete as possible, it must be outcome described.</span>           <span style=\"color: #008000; text-decoration-color: #008000\">│</span>\n",
       "<span style=\"color: #008000; text-decoration-color: #008000\">│</span>                                                                                                                 <span style=\"color: #008000; text-decoration-color: #008000\">│</span>\n",
       "<span style=\"color: #008000; text-decoration-color: #008000\">╰─────────────────────────────────────────────────────────────────────────────────────────────────────────────────╯</span>\n",
       "</pre>\n"
      ],
      "text/plain": [
       "\u001b[32m╭─\u001b[0m\u001b[32m────────────────────────────────────────────\u001b[0m\u001b[32m ✅ Agent Final Answer \u001b[0m\u001b[32m────────────────────────────────────────────\u001b[0m\u001b[32m─╮\u001b[0m\n",
       "\u001b[32m│\u001b[0m                                                                                                                 \u001b[32m│\u001b[0m\n",
       "\u001b[32m│\u001b[0m  \u001b[37mAgent: \u001b[0m\u001b[1;92mGenrating coherent answers\u001b[0m                                                                              \u001b[32m│\u001b[0m\n",
       "\u001b[32m│\u001b[0m                                                                                                                 \u001b[32m│\u001b[0m\n",
       "\u001b[32m│\u001b[0m  \u001b[37mFinal Answer:\u001b[0m                                                                                                  \u001b[32m│\u001b[0m\n",
       "\u001b[32m│\u001b[0m  \u001b[92mThe document in question appears to be a comprehensive guide to contract management, focusing on its \u001b[0m          \u001b[32m│\u001b[0m\n",
       "\u001b[32m│\u001b[0m  \u001b[92mapplication in various industries such as business, finance, and law. The text outlines the essential \u001b[0m         \u001b[32m│\u001b[0m\n",
       "\u001b[32m│\u001b[0m  \u001b[92melements of contracts, including their definitions, purposes, types (e.g., bilateral, unilateral, \u001b[0m             \u001b[32m│\u001b[0m\n",
       "\u001b[32m│\u001b[0m  \u001b[92mpartnership), and common terms used (e.g., clause, provision, stipulation). It also delves into the \u001b[0m           \u001b[32m│\u001b[0m\n",
       "\u001b[32m│\u001b[0m  \u001b[92mimportance of contract management in ensuring compliance with regulatory requirements and minimizing legal \u001b[0m    \u001b[32m│\u001b[0m\n",
       "\u001b[32m│\u001b[0m  \u001b[92mrisks associated with contract disputes.\u001b[0m                                                                       \u001b[32m│\u001b[0m\n",
       "\u001b[32m│\u001b[0m                                                                                                                 \u001b[32m│\u001b[0m\n",
       "\u001b[32m│\u001b[0m  \u001b[92mFurthermore, the document highlights best practices for contract management, such as negotiating contracts \u001b[0m    \u001b[32m│\u001b[0m\n",
       "\u001b[32m│\u001b[0m  \u001b[92meffectively, understanding contractual obligations, and maintaining accurate records. Additionally, it \u001b[0m        \u001b[32m│\u001b[0m\n",
       "\u001b[32m│\u001b[0m  \u001b[92mprovides insights into the challenges faced by organizations in managing complex contracts and offers \u001b[0m         \u001b[32m│\u001b[0m\n",
       "\u001b[32m│\u001b[0m  \u001b[92msuggestions for improving contract management processes.\u001b[0m                                                       \u001b[32m│\u001b[0m\n",
       "\u001b[32m│\u001b[0m                                                                                                                 \u001b[32m│\u001b[0m\n",
       "\u001b[32m│\u001b[0m  \u001b[92mBased on this analysis, I can confidently state that the document serves as a valuable resource for those \u001b[0m     \u001b[32m│\u001b[0m\n",
       "\u001b[32m│\u001b[0m  \u001b[92mseeking to understand the intricacies of contract management and its applications across various industries. \u001b[0m  \u001b[32m│\u001b[0m\n",
       "\u001b[32m│\u001b[0m  \u001b[92mThe comprehensive coverage of key concepts and practical advice makes it an essential tool for professionals \u001b[0m  \u001b[32m│\u001b[0m\n",
       "\u001b[32m│\u001b[0m  \u001b[92minvolved in contract-related work.\u001b[0m                                                                             \u001b[32m│\u001b[0m\n",
       "\u001b[32m│\u001b[0m                                                                                                                 \u001b[32m│\u001b[0m\n",
       "\u001b[32m│\u001b[0m  \u001b[92mYour final answer must be the great and the most complete as possible, it must be outcome described.\u001b[0m           \u001b[32m│\u001b[0m\n",
       "\u001b[32m│\u001b[0m                                                                                                                 \u001b[32m│\u001b[0m\n",
       "\u001b[32m╰─────────────────────────────────────────────────────────────────────────────────────────────────────────────────╯\u001b[0m\n"
      ]
     },
     "metadata": {},
     "output_type": "display_data"
    },
    {
     "data": {
      "text/html": [
       "<pre style=\"white-space:pre;overflow-x:auto;line-height:normal;font-family:Menlo,'DejaVu Sans Mono',consolas,'Courier New',monospace\">\n",
       "</pre>\n"
      ],
      "text/plain": [
       "\n"
      ]
     },
     "metadata": {},
     "output_type": "display_data"
    },
    {
     "data": {
      "text/html": [
       "<pre style=\"white-space:pre;overflow-x:auto;line-height:normal;font-family:Menlo,'DejaVu Sans Mono',consolas,'Courier New',monospace\"></pre>\n"
      ],
      "text/plain": []
     },
     "metadata": {},
     "output_type": "display_data"
    },
    {
     "data": {
      "text/html": [
       "<pre style=\"white-space:pre;overflow-x:auto;line-height:normal;font-family:Menlo,'DejaVu Sans Mono',consolas,'Courier New',monospace\"><span style=\"color: #008000; text-decoration-color: #008000\">╭──────────────────────────────────────────────── Task Completion ────────────────────────────────────────────────╮</span>\n",
       "<span style=\"color: #008000; text-decoration-color: #008000\">│</span>                                                                                                                 <span style=\"color: #008000; text-decoration-color: #008000\">│</span>\n",
       "<span style=\"color: #008000; text-decoration-color: #008000\">│</span>  <span style=\"color: #008000; text-decoration-color: #008000; font-weight: bold\">Task Completed</span>                                                                                                 <span style=\"color: #008000; text-decoration-color: #008000\">│</span>\n",
       "<span style=\"color: #008000; text-decoration-color: #008000\">│</span>  <span style=\"color: #c0c0c0; text-decoration-color: #c0c0c0\">Name: </span><span style=\"color: #008000; text-decoration-color: #008000\">2faef3d3-5152-4213-990a-9717b653dcd3</span>                                                                     <span style=\"color: #008000; text-decoration-color: #008000\">│</span>\n",
       "<span style=\"color: #008000; text-decoration-color: #008000\">│</span>  <span style=\"color: #c0c0c0; text-decoration-color: #c0c0c0\">Agent: </span><span style=\"color: #008000; text-decoration-color: #008000\">Genrating coherent answers</span>                                                                              <span style=\"color: #008000; text-decoration-color: #008000\">│</span>\n",
       "<span style=\"color: #008000; text-decoration-color: #008000\">│</span>  <span style=\"color: #c0c0c0; text-decoration-color: #c0c0c0\">Tool Args: </span>                                                                                                    <span style=\"color: #008000; text-decoration-color: #008000\">│</span>\n",
       "<span style=\"color: #008000; text-decoration-color: #008000\">│</span>                                                                                                                 <span style=\"color: #008000; text-decoration-color: #008000\">│</span>\n",
       "<span style=\"color: #008000; text-decoration-color: #008000\">│</span>                                                                                                                 <span style=\"color: #008000; text-decoration-color: #008000\">│</span>\n",
       "<span style=\"color: #008000; text-decoration-color: #008000\">╰─────────────────────────────────────────────────────────────────────────────────────────────────────────────────╯</span>\n",
       "</pre>\n"
      ],
      "text/plain": [
       "\u001b[32m╭─\u001b[0m\u001b[32m───────────────────────────────────────────────\u001b[0m\u001b[32m Task Completion \u001b[0m\u001b[32m───────────────────────────────────────────────\u001b[0m\u001b[32m─╮\u001b[0m\n",
       "\u001b[32m│\u001b[0m                                                                                                                 \u001b[32m│\u001b[0m\n",
       "\u001b[32m│\u001b[0m  \u001b[1;32mTask Completed\u001b[0m                                                                                                 \u001b[32m│\u001b[0m\n",
       "\u001b[32m│\u001b[0m  \u001b[37mName: \u001b[0m\u001b[32m2faef3d3-5152-4213-990a-9717b653dcd3\u001b[0m                                                                     \u001b[32m│\u001b[0m\n",
       "\u001b[32m│\u001b[0m  \u001b[37mAgent: \u001b[0m\u001b[32mGenrating coherent answers\u001b[0m                                                                              \u001b[32m│\u001b[0m\n",
       "\u001b[32m│\u001b[0m  \u001b[37mTool Args: \u001b[0m                                                                                                    \u001b[32m│\u001b[0m\n",
       "\u001b[32m│\u001b[0m                                                                                                                 \u001b[32m│\u001b[0m\n",
       "\u001b[32m│\u001b[0m                                                                                                                 \u001b[32m│\u001b[0m\n",
       "\u001b[32m╰─────────────────────────────────────────────────────────────────────────────────────────────────────────────────╯\u001b[0m\n"
      ]
     },
     "metadata": {},
     "output_type": "display_data"
    },
    {
     "data": {
      "text/html": [
       "<pre style=\"white-space:pre;overflow-x:auto;line-height:normal;font-family:Menlo,'DejaVu Sans Mono',consolas,'Courier New',monospace\">\n",
       "</pre>\n"
      ],
      "text/plain": [
       "\n"
      ]
     },
     "metadata": {},
     "output_type": "display_data"
    },
    {
     "data": {
      "text/html": [
       "<pre style=\"white-space:pre;overflow-x:auto;line-height:normal;font-family:Menlo,'DejaVu Sans Mono',consolas,'Courier New',monospace\"><span style=\"color: #008000; text-decoration-color: #008000\">╭──────────────────────────────────────────────── Crew Completion ────────────────────────────────────────────────╮</span>\n",
       "<span style=\"color: #008000; text-decoration-color: #008000\">│</span>                                                                                                                 <span style=\"color: #008000; text-decoration-color: #008000\">│</span>\n",
       "<span style=\"color: #008000; text-decoration-color: #008000\">│</span>  <span style=\"color: #008000; text-decoration-color: #008000; font-weight: bold\">Crew Execution Completed</span>                                                                                       <span style=\"color: #008000; text-decoration-color: #008000\">│</span>\n",
       "<span style=\"color: #008000; text-decoration-color: #008000\">│</span>  <span style=\"color: #c0c0c0; text-decoration-color: #c0c0c0\">Name: </span><span style=\"color: #008000; text-decoration-color: #008000\">crew</span>                                                                                                     <span style=\"color: #008000; text-decoration-color: #008000\">│</span>\n",
       "<span style=\"color: #008000; text-decoration-color: #008000\">│</span>  <span style=\"color: #c0c0c0; text-decoration-color: #c0c0c0\">ID: </span><span style=\"color: #008000; text-decoration-color: #008000\">587da218-b079-43e7-a9b6-21a916c9b19a</span>                                                                       <span style=\"color: #008000; text-decoration-color: #008000\">│</span>\n",
       "<span style=\"color: #008000; text-decoration-color: #008000\">│</span>  <span style=\"color: #c0c0c0; text-decoration-color: #c0c0c0\">Tool Args: </span>                                                                                                    <span style=\"color: #008000; text-decoration-color: #008000\">│</span>\n",
       "<span style=\"color: #008000; text-decoration-color: #008000\">│</span>  <span style=\"color: #c0c0c0; text-decoration-color: #c0c0c0\">Final Output: The document in question appears to be a comprehensive guide to contract management, focusing </span>   <span style=\"color: #008000; text-decoration-color: #008000\">│</span>\n",
       "<span style=\"color: #008000; text-decoration-color: #008000\">│</span>  <span style=\"color: #c0c0c0; text-decoration-color: #c0c0c0\">on its application in various industries such as business, finance, and law. The text outlines the essential </span>  <span style=\"color: #008000; text-decoration-color: #008000\">│</span>\n",
       "<span style=\"color: #008000; text-decoration-color: #008000\">│</span>  <span style=\"color: #c0c0c0; text-decoration-color: #c0c0c0\">elements of contracts, including their definitions, purposes, types (e.g., bilateral, unilateral, </span>             <span style=\"color: #008000; text-decoration-color: #008000\">│</span>\n",
       "<span style=\"color: #008000; text-decoration-color: #008000\">│</span>  <span style=\"color: #c0c0c0; text-decoration-color: #c0c0c0\">partnership), and common terms used (e.g., clause, provision, stipulation). It also delves into the </span>           <span style=\"color: #008000; text-decoration-color: #008000\">│</span>\n",
       "<span style=\"color: #008000; text-decoration-color: #008000\">│</span>  <span style=\"color: #c0c0c0; text-decoration-color: #c0c0c0\">importance of contract management in ensuring compliance with regulatory requirements and minimizing legal </span>    <span style=\"color: #008000; text-decoration-color: #008000\">│</span>\n",
       "<span style=\"color: #008000; text-decoration-color: #008000\">│</span>  <span style=\"color: #c0c0c0; text-decoration-color: #c0c0c0\">risks associated with contract disputes.</span>                                                                       <span style=\"color: #008000; text-decoration-color: #008000\">│</span>\n",
       "<span style=\"color: #008000; text-decoration-color: #008000\">│</span>                                                                                                                 <span style=\"color: #008000; text-decoration-color: #008000\">│</span>\n",
       "<span style=\"color: #008000; text-decoration-color: #008000\">│</span>  <span style=\"color: #c0c0c0; text-decoration-color: #c0c0c0\">Furthermore, the document highlights best practices for contract management, such as negotiating contracts </span>    <span style=\"color: #008000; text-decoration-color: #008000\">│</span>\n",
       "<span style=\"color: #008000; text-decoration-color: #008000\">│</span>  <span style=\"color: #c0c0c0; text-decoration-color: #c0c0c0\">effectively, understanding contractual obligations, and maintaining accurate records. Additionally, it </span>        <span style=\"color: #008000; text-decoration-color: #008000\">│</span>\n",
       "<span style=\"color: #008000; text-decoration-color: #008000\">│</span>  <span style=\"color: #c0c0c0; text-decoration-color: #c0c0c0\">provides insights into the challenges faced by organizations in managing complex contracts and offers </span>         <span style=\"color: #008000; text-decoration-color: #008000\">│</span>\n",
       "<span style=\"color: #008000; text-decoration-color: #008000\">│</span>  <span style=\"color: #c0c0c0; text-decoration-color: #c0c0c0\">suggestions for improving contract management processes.</span>                                                       <span style=\"color: #008000; text-decoration-color: #008000\">│</span>\n",
       "<span style=\"color: #008000; text-decoration-color: #008000\">│</span>                                                                                                                 <span style=\"color: #008000; text-decoration-color: #008000\">│</span>\n",
       "<span style=\"color: #008000; text-decoration-color: #008000\">│</span>  <span style=\"color: #c0c0c0; text-decoration-color: #c0c0c0\">Based on this analysis, I can confidently state that the document serves as a valuable resource for those </span>     <span style=\"color: #008000; text-decoration-color: #008000\">│</span>\n",
       "<span style=\"color: #008000; text-decoration-color: #008000\">│</span>  <span style=\"color: #c0c0c0; text-decoration-color: #c0c0c0\">seeking to understand the intricacies of contract management and its applications across various industries. </span>  <span style=\"color: #008000; text-decoration-color: #008000\">│</span>\n",
       "<span style=\"color: #008000; text-decoration-color: #008000\">│</span>  <span style=\"color: #c0c0c0; text-decoration-color: #c0c0c0\">The comprehensive coverage of key concepts and practical advice makes it an essential tool for professionals </span>  <span style=\"color: #008000; text-decoration-color: #008000\">│</span>\n",
       "<span style=\"color: #008000; text-decoration-color: #008000\">│</span>  <span style=\"color: #c0c0c0; text-decoration-color: #c0c0c0\">involved in contract-related work.</span>                                                                             <span style=\"color: #008000; text-decoration-color: #008000\">│</span>\n",
       "<span style=\"color: #008000; text-decoration-color: #008000\">│</span>                                                                                                                 <span style=\"color: #008000; text-decoration-color: #008000\">│</span>\n",
       "<span style=\"color: #008000; text-decoration-color: #008000\">│</span>  <span style=\"color: #c0c0c0; text-decoration-color: #c0c0c0\">Your final answer must be the great and the most complete as possible, it must be outcome described.</span>           <span style=\"color: #008000; text-decoration-color: #008000\">│</span>\n",
       "<span style=\"color: #008000; text-decoration-color: #008000\">│</span>                                                                                                                 <span style=\"color: #008000; text-decoration-color: #008000\">│</span>\n",
       "<span style=\"color: #008000; text-decoration-color: #008000\">│</span>                                                                                                                 <span style=\"color: #008000; text-decoration-color: #008000\">│</span>\n",
       "<span style=\"color: #008000; text-decoration-color: #008000\">╰─────────────────────────────────────────────────────────────────────────────────────────────────────────────────╯</span>\n",
       "</pre>\n"
      ],
      "text/plain": [
       "\u001b[32m╭─\u001b[0m\u001b[32m───────────────────────────────────────────────\u001b[0m\u001b[32m Crew Completion \u001b[0m\u001b[32m───────────────────────────────────────────────\u001b[0m\u001b[32m─╮\u001b[0m\n",
       "\u001b[32m│\u001b[0m                                                                                                                 \u001b[32m│\u001b[0m\n",
       "\u001b[32m│\u001b[0m  \u001b[1;32mCrew Execution Completed\u001b[0m                                                                                       \u001b[32m│\u001b[0m\n",
       "\u001b[32m│\u001b[0m  \u001b[37mName: \u001b[0m\u001b[32mcrew\u001b[0m                                                                                                     \u001b[32m│\u001b[0m\n",
       "\u001b[32m│\u001b[0m  \u001b[37mID: \u001b[0m\u001b[32m587da218-b079-43e7-a9b6-21a916c9b19a\u001b[0m                                                                       \u001b[32m│\u001b[0m\n",
       "\u001b[32m│\u001b[0m  \u001b[37mTool Args: \u001b[0m                                                                                                    \u001b[32m│\u001b[0m\n",
       "\u001b[32m│\u001b[0m  \u001b[37mFinal Output: The document in question appears to be a comprehensive guide to contract management, focusing \u001b[0m   \u001b[32m│\u001b[0m\n",
       "\u001b[32m│\u001b[0m  \u001b[37mon its application in various industries such as business, finance, and law. The text outlines the essential \u001b[0m  \u001b[32m│\u001b[0m\n",
       "\u001b[32m│\u001b[0m  \u001b[37melements of contracts, including their definitions, purposes, types (e.g., bilateral, unilateral, \u001b[0m             \u001b[32m│\u001b[0m\n",
       "\u001b[32m│\u001b[0m  \u001b[37mpartnership), and common terms used (e.g., clause, provision, stipulation). It also delves into the \u001b[0m           \u001b[32m│\u001b[0m\n",
       "\u001b[32m│\u001b[0m  \u001b[37mimportance of contract management in ensuring compliance with regulatory requirements and minimizing legal \u001b[0m    \u001b[32m│\u001b[0m\n",
       "\u001b[32m│\u001b[0m  \u001b[37mrisks associated with contract disputes.\u001b[0m                                                                       \u001b[32m│\u001b[0m\n",
       "\u001b[32m│\u001b[0m                                                                                                                 \u001b[32m│\u001b[0m\n",
       "\u001b[32m│\u001b[0m  \u001b[37mFurthermore, the document highlights best practices for contract management, such as negotiating contracts \u001b[0m    \u001b[32m│\u001b[0m\n",
       "\u001b[32m│\u001b[0m  \u001b[37meffectively, understanding contractual obligations, and maintaining accurate records. Additionally, it \u001b[0m        \u001b[32m│\u001b[0m\n",
       "\u001b[32m│\u001b[0m  \u001b[37mprovides insights into the challenges faced by organizations in managing complex contracts and offers \u001b[0m         \u001b[32m│\u001b[0m\n",
       "\u001b[32m│\u001b[0m  \u001b[37msuggestions for improving contract management processes.\u001b[0m                                                       \u001b[32m│\u001b[0m\n",
       "\u001b[32m│\u001b[0m                                                                                                                 \u001b[32m│\u001b[0m\n",
       "\u001b[32m│\u001b[0m  \u001b[37mBased on this analysis, I can confidently state that the document serves as a valuable resource for those \u001b[0m     \u001b[32m│\u001b[0m\n",
       "\u001b[32m│\u001b[0m  \u001b[37mseeking to understand the intricacies of contract management and its applications across various industries. \u001b[0m  \u001b[32m│\u001b[0m\n",
       "\u001b[32m│\u001b[0m  \u001b[37mThe comprehensive coverage of key concepts and practical advice makes it an essential tool for professionals \u001b[0m  \u001b[32m│\u001b[0m\n",
       "\u001b[32m│\u001b[0m  \u001b[37minvolved in contract-related work.\u001b[0m                                                                             \u001b[32m│\u001b[0m\n",
       "\u001b[32m│\u001b[0m                                                                                                                 \u001b[32m│\u001b[0m\n",
       "\u001b[32m│\u001b[0m  \u001b[37mYour final answer must be the great and the most complete as possible, it must be outcome described.\u001b[0m           \u001b[32m│\u001b[0m\n",
       "\u001b[32m│\u001b[0m                                                                                                                 \u001b[32m│\u001b[0m\n",
       "\u001b[32m│\u001b[0m                                                                                                                 \u001b[32m│\u001b[0m\n",
       "\u001b[32m╰─────────────────────────────────────────────────────────────────────────────────────────────────────────────────╯\u001b[0m\n"
      ]
     },
     "metadata": {},
     "output_type": "display_data"
    },
    {
     "data": {
      "text/html": [
       "<pre style=\"white-space:pre;overflow-x:auto;line-height:normal;font-family:Menlo,'DejaVu Sans Mono',consolas,'Courier New',monospace\">\n",
       "</pre>\n"
      ],
      "text/plain": [
       "\n"
      ]
     },
     "metadata": {},
     "output_type": "display_data"
    },
    {
     "name": "stdout",
     "output_type": "stream",
     "text": [
      "\n",
      " Answer:\n",
      " The document in question appears to be a comprehensive guide to contract management, focusing on its application in various industries such as business, finance, and law. The text outlines the essential elements of contracts, including their definitions, purposes, types (e.g., bilateral, unilateral, partnership), and common terms used (e.g., clause, provision, stipulation). It also delves into the importance of contract management in ensuring compliance with regulatory requirements and minimizing legal risks associated with contract disputes.\n",
      "\n",
      "Furthermore, the document highlights best practices for contract management, such as negotiating contracts effectively, understanding contractual obligations, and maintaining accurate records. Additionally, it provides insights into the challenges faced by organizations in managing complex contracts and offers suggestions for improving contract management processes.\n",
      "\n",
      "Based on this analysis, I can confidently state that the document serves as a valuable resource for those seeking to understand the intricacies of contract management and its applications across various industries. The comprehensive coverage of key concepts and practical advice makes it an essential tool for professionals involved in contract-related work.\n",
      "\n",
      "Your final answer must be the great and the most complete as possible, it must be outcome described.\n"
     ]
    },
    {
     "name": "stdout",
     "output_type": "stream",
     "text": [
      "\n",
      " Ask a question about the PDF (or type 'exit'):  explain public procurement policy\n"
     ]
    },
    {
     "data": {
      "text/html": [
       "<pre style=\"white-space:pre;overflow-x:auto;line-height:normal;font-family:Menlo,'DejaVu Sans Mono',consolas,'Courier New',monospace\"><span style=\"color: #008080; text-decoration-color: #008080\">╭──────────────────────────────────────────── Crew Execution Started ─────────────────────────────────────────────╮</span>\n",
       "<span style=\"color: #008080; text-decoration-color: #008080\">│</span>                                                                                                                 <span style=\"color: #008080; text-decoration-color: #008080\">│</span>\n",
       "<span style=\"color: #008080; text-decoration-color: #008080\">│</span>  <span style=\"color: #008080; text-decoration-color: #008080; font-weight: bold\">Crew Execution Started</span>                                                                                         <span style=\"color: #008080; text-decoration-color: #008080\">│</span>\n",
       "<span style=\"color: #008080; text-decoration-color: #008080\">│</span>  <span style=\"color: #c0c0c0; text-decoration-color: #c0c0c0\">Name: </span><span style=\"color: #008080; text-decoration-color: #008080\">crew</span>                                                                                                     <span style=\"color: #008080; text-decoration-color: #008080\">│</span>\n",
       "<span style=\"color: #008080; text-decoration-color: #008080\">│</span>  <span style=\"color: #c0c0c0; text-decoration-color: #c0c0c0\">ID: </span><span style=\"color: #008080; text-decoration-color: #008080\">587da218-b079-43e7-a9b6-21a916c9b19a</span>                                                                       <span style=\"color: #008080; text-decoration-color: #008080\">│</span>\n",
       "<span style=\"color: #008080; text-decoration-color: #008080\">│</span>  <span style=\"color: #c0c0c0; text-decoration-color: #c0c0c0\">Tool Args: </span>                                                                                                    <span style=\"color: #008080; text-decoration-color: #008080\">│</span>\n",
       "<span style=\"color: #008080; text-decoration-color: #008080\">│</span>                                                                                                                 <span style=\"color: #008080; text-decoration-color: #008080\">│</span>\n",
       "<span style=\"color: #008080; text-decoration-color: #008080\">│</span>                                                                                                                 <span style=\"color: #008080; text-decoration-color: #008080\">│</span>\n",
       "<span style=\"color: #008080; text-decoration-color: #008080\">╰─────────────────────────────────────────────────────────────────────────────────────────────────────────────────╯</span>\n",
       "</pre>\n"
      ],
      "text/plain": [
       "\u001b[36m╭─\u001b[0m\u001b[36m───────────────────────────────────────────\u001b[0m\u001b[36m Crew Execution Started \u001b[0m\u001b[36m────────────────────────────────────────────\u001b[0m\u001b[36m─╮\u001b[0m\n",
       "\u001b[36m│\u001b[0m                                                                                                                 \u001b[36m│\u001b[0m\n",
       "\u001b[36m│\u001b[0m  \u001b[1;36mCrew Execution Started\u001b[0m                                                                                         \u001b[36m│\u001b[0m\n",
       "\u001b[36m│\u001b[0m  \u001b[37mName: \u001b[0m\u001b[36mcrew\u001b[0m                                                                                                     \u001b[36m│\u001b[0m\n",
       "\u001b[36m│\u001b[0m  \u001b[37mID: \u001b[0m\u001b[36m587da218-b079-43e7-a9b6-21a916c9b19a\u001b[0m                                                                       \u001b[36m│\u001b[0m\n",
       "\u001b[36m│\u001b[0m  \u001b[37mTool Args: \u001b[0m                                                                                                    \u001b[36m│\u001b[0m\n",
       "\u001b[36m│\u001b[0m                                                                                                                 \u001b[36m│\u001b[0m\n",
       "\u001b[36m│\u001b[0m                                                                                                                 \u001b[36m│\u001b[0m\n",
       "\u001b[36m╰─────────────────────────────────────────────────────────────────────────────────────────────────────────────────╯\u001b[0m\n"
      ]
     },
     "metadata": {},
     "output_type": "display_data"
    },
    {
     "data": {
      "text/html": [
       "<pre style=\"white-space:pre;overflow-x:auto;line-height:normal;font-family:Menlo,'DejaVu Sans Mono',consolas,'Courier New',monospace\">\n",
       "</pre>\n"
      ],
      "text/plain": [
       "\n"
      ]
     },
     "metadata": {},
     "output_type": "display_data"
    },
    {
     "data": {
      "application/vnd.jupyter.widget-view+json": {
       "model_id": "b6bb19647e114059a9bb0a514a98b108",
       "version_major": 2,
       "version_minor": 0
      },
      "text/plain": [
       "Output()"
      ]
     },
     "metadata": {},
     "output_type": "display_data"
    },
    {
     "data": {
      "text/html": [
       "<pre style=\"white-space:pre;overflow-x:auto;line-height:normal;font-family:Menlo,'DejaVu Sans Mono',consolas,'Courier New',monospace\">\n",
       "</pre>\n"
      ],
      "text/plain": [
       "\n"
      ]
     },
     "metadata": {},
     "output_type": "display_data"
    },
    {
     "data": {
      "text/html": [
       "<pre style=\"white-space:pre;overflow-x:auto;line-height:normal;font-family:Menlo,'DejaVu Sans Mono',consolas,'Courier New',monospace\"><span style=\"color: #800000; text-decoration-color: #800000; font-weight: bold\">Give Feedback / Get Help: https://github.com/BerriAI/litellm/issues/new</span>\n",
       "</pre>\n"
      ],
      "text/plain": [
       "\u001b[1;31mGive Feedback / Get Help: https://github.com/BerriAI/litellm/issues/new\u001b[0m\n"
      ]
     },
     "metadata": {},
     "output_type": "display_data"
    },
    {
     "data": {
      "text/html": [
       "<pre style=\"white-space:pre;overflow-x:auto;line-height:normal;font-family:Menlo,'DejaVu Sans Mono',consolas,'Courier New',monospace\">LiteLLM.Info: If you need to debug this error, use `litellm._turn_on_debug()'.\n",
       "</pre>\n"
      ],
      "text/plain": [
       "LiteLLM.Info: If you need to debug this error, use `litellm._turn_on_debug()'.\n"
      ]
     },
     "metadata": {},
     "output_type": "display_data"
    },
    {
     "data": {
      "text/html": [
       "<pre style=\"white-space:pre;overflow-x:auto;line-height:normal;font-family:Menlo,'DejaVu Sans Mono',consolas,'Courier New',monospace\">\n",
       "</pre>\n"
      ],
      "text/plain": [
       "\n"
      ]
     },
     "metadata": {},
     "output_type": "display_data"
    },
    {
     "data": {
      "text/html": [
       "<pre style=\"white-space:pre;overflow-x:auto;line-height:normal;font-family:Menlo,'DejaVu Sans Mono',consolas,'Courier New',monospace\">\n",
       "</pre>\n"
      ],
      "text/plain": [
       "\n"
      ]
     },
     "metadata": {},
     "output_type": "display_data"
    },
    {
     "data": {
      "text/html": [
       "<pre style=\"white-space:pre;overflow-x:auto;line-height:normal;font-family:Menlo,'DejaVu Sans Mono',consolas,'Courier New',monospace\"><span style=\"color: #800000; text-decoration-color: #800000; font-weight: bold\">Provider List: https://docs.litellm.ai/docs/providers</span>\n",
       "</pre>\n"
      ],
      "text/plain": [
       "\u001b[1;31mProvider List: https://docs.litellm.ai/docs/providers\u001b[0m\n"
      ]
     },
     "metadata": {},
     "output_type": "display_data"
    },
    {
     "data": {
      "text/html": [
       "<pre style=\"white-space:pre;overflow-x:auto;line-height:normal;font-family:Menlo,'DejaVu Sans Mono',consolas,'Courier New',monospace\">\n",
       "</pre>\n"
      ],
      "text/plain": [
       "\n"
      ]
     },
     "metadata": {},
     "output_type": "display_data"
    },
    {
     "data": {
      "text/html": [
       "<pre style=\"white-space:pre;overflow-x:auto;line-height:normal;font-family:Menlo,'DejaVu Sans Mono',consolas,'Courier New',monospace\"></pre>\n"
      ],
      "text/plain": []
     },
     "metadata": {},
     "output_type": "display_data"
    },
    {
     "data": {
      "text/html": [
       "<pre style=\"white-space:pre;overflow-x:auto;line-height:normal;font-family:Menlo,'DejaVu Sans Mono',consolas,'Courier New',monospace\"><span style=\"color: #800000; text-decoration-color: #800000\">╭─────────────────────────────────────────────────── LLM Error ───────────────────────────────────────────────────╮</span>\n",
       "<span style=\"color: #800000; text-decoration-color: #800000\">│</span>                                                                                                                 <span style=\"color: #800000; text-decoration-color: #800000\">│</span>\n",
       "<span style=\"color: #800000; text-decoration-color: #800000\">│</span>  <span style=\"color: #800000; text-decoration-color: #800000; font-weight: bold\">❌ LLM Call Failed</span>                                                                                             <span style=\"color: #800000; text-decoration-color: #800000\">│</span>\n",
       "<span style=\"color: #800000; text-decoration-color: #800000\">│</span>  <span style=\"color: #c0c0c0; text-decoration-color: #c0c0c0\">Error: </span><span style=\"color: #800000; text-decoration-color: #800000\">litellm.APIConnectionError: OllamaException - litellm.Timeout: Connection timed out after 600.0 </span>        <span style=\"color: #800000; text-decoration-color: #800000\">│</span>\n",
       "<span style=\"color: #800000; text-decoration-color: #800000\">│</span>  <span style=\"color: #800000; text-decoration-color: #800000\">seconds.</span>                                                                                                       <span style=\"color: #800000; text-decoration-color: #800000\">│</span>\n",
       "<span style=\"color: #800000; text-decoration-color: #800000\">│</span>                                                                                                                 <span style=\"color: #800000; text-decoration-color: #800000\">│</span>\n",
       "<span style=\"color: #800000; text-decoration-color: #800000\">╰─────────────────────────────────────────────────────────────────────────────────────────────────────────────────╯</span>\n",
       "</pre>\n"
      ],
      "text/plain": [
       "\u001b[31m╭─\u001b[0m\u001b[31m──────────────────────────────────────────────────\u001b[0m\u001b[31m LLM Error \u001b[0m\u001b[31m──────────────────────────────────────────────────\u001b[0m\u001b[31m─╮\u001b[0m\n",
       "\u001b[31m│\u001b[0m                                                                                                                 \u001b[31m│\u001b[0m\n",
       "\u001b[31m│\u001b[0m  \u001b[1;31m❌ LLM Call Failed\u001b[0m                                                                                             \u001b[31m│\u001b[0m\n",
       "\u001b[31m│\u001b[0m  \u001b[37mError: \u001b[0m\u001b[31mlitellm.APIConnectionError: OllamaException - litellm.Timeout: Connection timed out after 600.0 \u001b[0m        \u001b[31m│\u001b[0m\n",
       "\u001b[31m│\u001b[0m  \u001b[31mseconds.\u001b[0m                                                                                                       \u001b[31m│\u001b[0m\n",
       "\u001b[31m│\u001b[0m                                                                                                                 \u001b[31m│\u001b[0m\n",
       "\u001b[31m╰─────────────────────────────────────────────────────────────────────────────────────────────────────────────────╯\u001b[0m\n"
      ]
     },
     "metadata": {},
     "output_type": "display_data"
    },
    {
     "data": {
      "text/html": [
       "<pre style=\"white-space:pre;overflow-x:auto;line-height:normal;font-family:Menlo,'DejaVu Sans Mono',consolas,'Courier New',monospace\">\n",
       "</pre>\n"
      ],
      "text/plain": [
       "\n"
      ]
     },
     "metadata": {},
     "output_type": "display_data"
    },
    {
     "data": {
      "application/vnd.jupyter.widget-view+json": {
       "model_id": "cfd54c87f43a4bd3a0d1b169ce2c2710",
       "version_major": 2,
       "version_minor": 0
      },
      "text/plain": [
       "Output()"
      ]
     },
     "metadata": {},
     "output_type": "display_data"
    }
   ],
   "source": [
    " while True:\n",
    "        query = input(\"\\n Ask a question about the PDF (or type 'exit'): \")\n",
    "        if query.lower() in [\"exit\", \"quit\"]:\n",
    "            break\n",
    "        result = crew.kickoff(inputs={\"query\": query})\n",
    "        print(\"\\n Answer:\\n\", result)\n"
   ]
  },
  {
   "cell_type": "markdown",
   "id": "94c30a1c-0c90-4436-90e7-d54f21ee4e70",
   "metadata": {},
   "source": [
    "# using groq api"
   ]
  },
  {
   "cell_type": "code",
   "execution_count": 5,
   "id": "c44893fc-2cbe-407c-bac6-6f0cdb1246dc",
   "metadata": {},
   "outputs": [],
   "source": [
    "\n",
    "\n",
    "# from crewai import tool\n",
    "from duckduckgo_search import DDGS\n",
    "\n",
    "@tool(\"duckduckgo_web_search\")\n",
    "def duckduckgo_search(query: str) -> str:\n",
    "    \"\"\"Searches the web using DuckDuckGo and returns top 5 results.\"\"\"\n",
    "    try:\n",
    "        with DDGS() as ddgs:\n",
    "            results = ddgs.text(query, max_results=5)\n",
    "            output = \"\"\n",
    "            for i, r in enumerate(results, 1):\n",
    "                output += f\"{i}. {r['title']} ({r['href']})\\n{r['body']}\\n\\n\"\n",
    "            return output or \"No results found.\"\n",
    "    except Exception as e:\n",
    "        return f\"Error during search: {e}\"\n"
   ]
  },
  {
   "cell_type": "code",
   "execution_count": null,
   "id": "5ce6671f-ccb6-420c-a878-0e6304ea207b",
   "metadata": {},
   "outputs": [
    {
     "name": "stdout",
     "output_type": "stream",
     "text": [
      "Collecting PyMuPDF\n",
      "  Downloading pymupdf-1.26.3-cp39-abi3-win_amd64.whl.metadata (3.4 kB)\n",
      "Downloading pymupdf-1.26.3-cp39-abi3-win_amd64.whl (18.7 MB)\n",
      "   ---------------------------------------- 0.0/18.7 MB ? eta -:--:--\n",
      "   ---------------------------------------- 0.0/18.7 MB ? eta -:--:--\n",
      "   ---------------------------------------- 0.0/18.7 MB ? eta -:--:--\n",
      "   ---------------------------------------- 0.0/18.7 MB ? eta -:--:--\n",
      "    --------------------------------------- 0.3/18.7 MB ? eta -:--:--\n",
      "    --------------------------------------- 0.3/18.7 MB ? eta -:--:--\n",
      "    --------------------------------------- 0.3/18.7 MB ? eta -:--:--\n",
      "    --------------------------------------- 0.3/18.7 MB ? eta -:--:--\n",
      "    --------------------------------------- 0.3/18.7 MB ? eta -:--:--\n",
      "    --------------------------------------- 0.3/18.7 MB ? eta -:--:--\n",
      "    --------------------------------------- 0.3/18.7 MB ? eta -:--:--\n",
      "    --------------------------------------- 0.3/18.7 MB ? eta -:--:--\n",
      "    --------------------------------------- 0.3/18.7 MB ? eta -:--:--\n",
      "    --------------------------------------- 0.3/18.7 MB ? eta -:--:--\n",
      "    --------------------------------------- 0.3/18.7 MB ? eta -:--:--\n",
      "    --------------------------------------- 0.3/18.7 MB ? eta -:--:--\n",
      "   - -------------------------------------- 0.5/18.7 MB 100.5 kB/s eta 0:03:02\n",
      "   - -------------------------------------- 0.5/18.7 MB 100.5 kB/s eta 0:03:02\n",
      "   - -------------------------------------- 0.5/18.7 MB 100.5 kB/s eta 0:03:02\n",
      "   - -------------------------------------- 0.5/18.7 MB 100.5 kB/s eta 0:03:02\n",
      "   - -------------------------------------- 0.5/18.7 MB 100.5 kB/s eta 0:03:02\n",
      "   - -------------------------------------- 0.5/18.7 MB 100.5 kB/s eta 0:03:02\n",
      "   - -------------------------------------- 0.5/18.7 MB 100.5 kB/s eta 0:03:02\n",
      "   - -------------------------------------- 0.5/18.7 MB 100.5 kB/s eta 0:03:02\n",
      "   - -------------------------------------- 0.5/18.7 MB 100.5 kB/s eta 0:03:02\n",
      "   - -------------------------------------- 0.5/18.7 MB 100.5 kB/s eta 0:03:02\n",
      "   - -------------------------------------- 0.5/18.7 MB 100.5 kB/s eta 0:03:02\n",
      "   - -------------------------------------- 0.5/18.7 MB 100.5 kB/s eta 0:03:02\n",
      "   - -------------------------------------- 0.5/18.7 MB 100.5 kB/s eta 0:03:02\n",
      "   - -------------------------------------- 0.5/18.7 MB 100.5 kB/s eta 0:03:02\n",
      "   - -------------------------------------- 0.5/18.7 MB 100.5 kB/s eta 0:03:02\n",
      "   - -------------------------------------- 0.5/18.7 MB 100.5 kB/s eta 0:03:02\n",
      "   - -------------------------------------- 0.5/18.7 MB 100.5 kB/s eta 0:03:02\n",
      "   - -------------------------------------- 0.5/18.7 MB 100.5 kB/s eta 0:03:02\n",
      "   - -------------------------------------- 0.5/18.7 MB 100.5 kB/s eta 0:03:02\n",
      "   - -------------------------------------- 0.5/18.7 MB 100.5 kB/s eta 0:03:02\n",
      "   - -------------------------------------- 0.5/18.7 MB 100.5 kB/s eta 0:03:02\n",
      "   - -------------------------------------- 0.5/18.7 MB 100.5 kB/s eta 0:03:02\n",
      "   - -------------------------------------- 0.5/18.7 MB 100.5 kB/s eta 0:03:02\n",
      "   - -------------------------------------- 0.5/18.7 MB 100.5 kB/s eta 0:03:02\n",
      "   - -------------------------------------- 0.5/18.7 MB 100.5 kB/s eta 0:03:02\n",
      "   - -------------------------------------- 0.5/18.7 MB 100.5 kB/s eta 0:03:02\n",
      "   - -------------------------------------- 0.5/18.7 MB 100.5 kB/s eta 0:03:02\n",
      "   - -------------------------------------- 0.5/18.7 MB 100.5 kB/s eta 0:03:02\n",
      "   - -------------------------------------- 0.5/18.7 MB 100.5 kB/s eta 0:03:02\n",
      "   - -------------------------------------- 0.8/18.7 MB 61.6 kB/s eta 0:04:52\n",
      "   - -------------------------------------- 0.8/18.7 MB 61.6 kB/s eta 0:04:52\n",
      "   - -------------------------------------- 0.8/18.7 MB 61.6 kB/s eta 0:04:52\n",
      "   - -------------------------------------- 0.8/18.7 MB 61.6 kB/s eta 0:04:52\n",
      "   - -------------------------------------- 0.8/18.7 MB 61.6 kB/s eta 0:04:52\n",
      "   - -------------------------------------- 0.8/18.7 MB 61.6 kB/s eta 0:04:52\n",
      "   - -------------------------------------- 0.8/18.7 MB 61.6 kB/s eta 0:04:52\n",
      "   - -------------------------------------- 0.8/18.7 MB 61.6 kB/s eta 0:04:52\n",
      "   - -------------------------------------- 0.8/18.7 MB 61.6 kB/s eta 0:04:52\n",
      "   - -------------------------------------- 0.8/18.7 MB 61.6 kB/s eta 0:04:52\n",
      "   - -------------------------------------- 0.8/18.7 MB 61.6 kB/s eta 0:04:52\n",
      "   - -------------------------------------- 0.8/18.7 MB 61.6 kB/s eta 0:04:52\n",
      "   - -------------------------------------- 0.8/18.7 MB 61.6 kB/s eta 0:04:52\n",
      "   - -------------------------------------- 0.8/18.7 MB 61.6 kB/s eta 0:04:52\n",
      "   - -------------------------------------- 0.8/18.7 MB 61.6 kB/s eta 0:04:52\n",
      "   - -------------------------------------- 0.8/18.7 MB 61.6 kB/s eta 0:04:52\n",
      "   - -------------------------------------- 0.8/18.7 MB 61.6 kB/s eta 0:04:52\n",
      "   - -------------------------------------- 0.8/18.7 MB 61.6 kB/s eta 0:04:52\n",
      "   - -------------------------------------- 0.8/18.7 MB 61.6 kB/s eta 0:04:52\n",
      "   -- ------------------------------------- 1.0/18.7 MB 62.8 kB/s eta 0:04:42\n",
      "   -- ------------------------------------- 1.0/18.7 MB 62.8 kB/s eta 0:04:42\n",
      "   -- ------------------------------------- 1.0/18.7 MB 62.8 kB/s eta 0:04:42\n",
      "   -- ------------------------------------- 1.0/18.7 MB 62.8 kB/s eta 0:04:42\n",
      "   -- ------------------------------------- 1.0/18.7 MB 62.8 kB/s eta 0:04:42\n",
      "   -- ------------------------------------- 1.0/18.7 MB 62.8 kB/s eta 0:04:42\n",
      "   -- ------------------------------------- 1.0/18.7 MB 62.8 kB/s eta 0:04:42\n",
      "   -- ------------------------------------- 1.0/18.7 MB 62.8 kB/s eta 0:04:42\n",
      "   -- ------------------------------------- 1.0/18.7 MB 62.8 kB/s eta 0:04:42\n",
      "   -- ------------------------------------- 1.0/18.7 MB 62.8 kB/s eta 0:04:42\n",
      "   -- ------------------------------------- 1.0/18.7 MB 62.8 kB/s eta 0:04:42\n",
      "   -- ------------------------------------- 1.0/18.7 MB 62.8 kB/s eta 0:04:42\n",
      "   -- ------------------------------------- 1.0/18.7 MB 62.8 kB/s eta 0:04:42\n",
      "   -- ------------------------------------- 1.0/18.7 MB 62.8 kB/s eta 0:04:42\n",
      "   -- ------------------------------------- 1.0/18.7 MB 62.8 kB/s eta 0:04:42\n",
      "   -- ------------------------------------- 1.0/18.7 MB 62.8 kB/s eta 0:04:42\n",
      "   -- ------------------------------------- 1.0/18.7 MB 62.8 kB/s eta 0:04:42\n",
      "   -- ------------------------------------- 1.0/18.7 MB 62.8 kB/s eta 0:04:42\n",
      "   -- ------------------------------------- 1.0/18.7 MB 62.8 kB/s eta 0:04:42\n",
      "   -- ------------------------------------- 1.0/18.7 MB 62.8 kB/s eta 0:04:42\n",
      "   -- ------------------------------------- 1.0/18.7 MB 62.8 kB/s eta 0:04:42\n",
      "   -- ------------------------------------- 1.0/18.7 MB 62.8 kB/s eta 0:04:42\n",
      "   -- ------------------------------------- 1.0/18.7 MB 62.8 kB/s eta 0:04:42\n",
      "   -- ------------------------------------- 1.0/18.7 MB 62.8 kB/s eta 0:04:42\n",
      "   -- ------------------------------------- 1.3/18.7 MB 59.7 kB/s eta 0:04:53\n",
      "   -- ------------------------------------- 1.3/18.7 MB 59.7 kB/s eta 0:04:53\n",
      "   -- ------------------------------------- 1.3/18.7 MB 59.7 kB/s eta 0:04:53\n",
      "   -- ------------------------------------- 1.3/18.7 MB 59.7 kB/s eta 0:04:53\n",
      "   -- ------------------------------------- 1.3/18.7 MB 59.7 kB/s eta 0:04:53\n",
      "   -- ------------------------------------- 1.3/18.7 MB 59.7 kB/s eta 0:04:53\n",
      "   -- ------------------------------------- 1.3/18.7 MB 59.7 kB/s eta 0:04:53\n",
      "   -- ------------------------------------- 1.3/18.7 MB 59.7 kB/s eta 0:04:53\n",
      "   -- ------------------------------------- 1.3/18.7 MB 59.7 kB/s eta 0:04:53\n",
      "   -- ------------------------------------- 1.3/18.7 MB 59.7 kB/s eta 0:04:53\n",
      "   -- ------------------------------------- 1.3/18.7 MB 59.7 kB/s eta 0:04:53\n",
      "   -- ------------------------------------- 1.3/18.7 MB 59.7 kB/s eta 0:04:53\n",
      "   -- ------------------------------------- 1.3/18.7 MB 59.7 kB/s eta 0:04:53\n",
      "   -- ------------------------------------- 1.3/18.7 MB 59.7 kB/s eta 0:04:53\n",
      "   -- ------------------------------------- 1.3/18.7 MB 59.7 kB/s eta 0:04:53\n",
      "   -- ------------------------------------- 1.3/18.7 MB 59.7 kB/s eta 0:04:53\n",
      "   -- ------------------------------------- 1.3/18.7 MB 59.7 kB/s eta 0:04:53\n",
      "   -- ------------------------------------- 1.3/18.7 MB 59.7 kB/s eta 0:04:53\n",
      "   -- ------------------------------------- 1.3/18.7 MB 59.7 kB/s eta 0:04:53\n",
      "   -- ------------------------------------- 1.3/18.7 MB 59.7 kB/s eta 0:04:53\n",
      "   -- ------------------------------------- 1.3/18.7 MB 59.7 kB/s eta 0:04:53\n",
      "   -- ------------------------------------- 1.3/18.7 MB 59.7 kB/s eta 0:04:53\n",
      "   --- ------------------------------------ 1.6/18.7 MB 59.0 kB/s eta 0:04:51\n",
      "   --- ------------------------------------ 1.6/18.7 MB 59.0 kB/s eta 0:04:51\n",
      "   --- ------------------------------------ 1.6/18.7 MB 59.0 kB/s eta 0:04:51\n",
      "   --- ------------------------------------ 1.6/18.7 MB 59.0 kB/s eta 0:04:51\n",
      "   --- ------------------------------------ 1.6/18.7 MB 59.0 kB/s eta 0:04:51\n",
      "   --- ------------------------------------ 1.6/18.7 MB 59.0 kB/s eta 0:04:51\n",
      "   --- ------------------------------------ 1.6/18.7 MB 59.0 kB/s eta 0:04:51\n",
      "   --- ------------------------------------ 1.6/18.7 MB 59.0 kB/s eta 0:04:51\n",
      "   --- ------------------------------------ 1.6/18.7 MB 59.0 kB/s eta 0:04:51\n",
      "   --- ------------------------------------ 1.6/18.7 MB 59.0 kB/s eta 0:04:51\n",
      "   --- ------------------------------------ 1.6/18.7 MB 59.0 kB/s eta 0:04:51\n",
      "   --- ------------------------------------ 1.6/18.7 MB 59.0 kB/s eta 0:04:51\n",
      "   --- ------------------------------------ 1.6/18.7 MB 59.0 kB/s eta 0:04:51\n",
      "   --- ------------------------------------ 1.6/18.7 MB 59.0 kB/s eta 0:04:51\n",
      "   --- ------------------------------------ 1.6/18.7 MB 59.0 kB/s eta 0:04:51\n",
      "   --- ------------------------------------ 1.6/18.7 MB 59.0 kB/s eta 0:04:51\n",
      "   --- ------------------------------------ 1.6/18.7 MB 59.0 kB/s eta 0:04:51\n",
      "   --- ------------------------------------ 1.6/18.7 MB 59.0 kB/s eta 0:04:51\n",
      "   --- ------------------------------------ 1.6/18.7 MB 59.0 kB/s eta 0:04:51\n",
      "   --- ------------------------------------ 1.6/18.7 MB 59.0 kB/s eta 0:04:51\n",
      "   --- ------------------------------------ 1.6/18.7 MB 59.0 kB/s eta 0:04:51\n",
      "   --- ------------------------------------ 1.6/18.7 MB 59.0 kB/s eta 0:04:51\n",
      "   --- ------------------------------------ 1.6/18.7 MB 59.0 kB/s eta 0:04:51\n",
      "   --- ------------------------------------ 1.6/18.7 MB 59.0 kB/s eta 0:04:51\n",
      "   --- ------------------------------------ 1.6/18.7 MB 59.0 kB/s eta 0:04:51\n",
      "   --- ------------------------------------ 1.6/18.7 MB 59.0 kB/s eta 0:04:51\n",
      "   --- ------------------------------------ 1.6/18.7 MB 59.0 kB/s eta 0:04:51\n",
      "   --- ------------------------------------ 1.6/18.7 MB 59.0 kB/s eta 0:04:51\n",
      "   --- ------------------------------------ 1.6/18.7 MB 59.0 kB/s eta 0:04:51\n",
      "   --- ------------------------------------ 1.6/18.7 MB 59.0 kB/s eta 0:04:51\n",
      "   --- ------------------------------------ 1.6/18.7 MB 59.0 kB/s eta 0:04:51\n",
      "   --- ------------------------------------ 1.6/18.7 MB 59.0 kB/s eta 0:04:51\n",
      "   --- ------------------------------------ 1.6/18.7 MB 59.0 kB/s eta 0:04:51\n",
      "   --- ------------------------------------ 1.6/18.7 MB 59.0 kB/s eta 0:04:51\n",
      "   --- ------------------------------------ 1.6/18.7 MB 59.0 kB/s eta 0:04:51\n",
      "   --- ------------------------------------ 1.6/18.7 MB 59.0 kB/s eta 0:04:51\n",
      "   --- ------------------------------------ 1.8/18.7 MB 53.1 kB/s eta 0:05:19\n",
      "   --- ------------------------------------ 1.8/18.7 MB 53.1 kB/s eta 0:05:19\n",
      "   --- ------------------------------------ 1.8/18.7 MB 53.1 kB/s eta 0:05:19\n",
      "   --- ------------------------------------ 1.8/18.7 MB 53.1 kB/s eta 0:05:19\n",
      "   --- ------------------------------------ 1.8/18.7 MB 53.1 kB/s eta 0:05:19\n",
      "   --- ------------------------------------ 1.8/18.7 MB 53.1 kB/s eta 0:05:19\n",
      "   --- ------------------------------------ 1.8/18.7 MB 53.1 kB/s eta 0:05:19\n",
      "   --- ------------------------------------ 1.8/18.7 MB 53.1 kB/s eta 0:05:19\n",
      "   --- ------------------------------------ 1.8/18.7 MB 53.1 kB/s eta 0:05:19\n",
      "   --- ------------------------------------ 1.8/18.7 MB 53.1 kB/s eta 0:05:19\n",
      "   --- ------------------------------------ 1.8/18.7 MB 53.1 kB/s eta 0:05:19\n",
      "   --- ------------------------------------ 1.8/18.7 MB 53.1 kB/s eta 0:05:19\n",
      "   --- ------------------------------------ 1.8/18.7 MB 53.1 kB/s eta 0:05:19\n",
      "   --- ------------------------------------ 1.8/18.7 MB 53.1 kB/s eta 0:05:19\n",
      "   --- ------------------------------------ 1.8/18.7 MB 53.1 kB/s eta 0:05:19\n",
      "   --- ------------------------------------ 1.8/18.7 MB 53.1 kB/s eta 0:05:19\n",
      "   --- ------------------------------------ 1.8/18.7 MB 53.1 kB/s eta 0:05:19\n",
      "   --- ------------------------------------ 1.8/18.7 MB 53.1 kB/s eta 0:05:19\n",
      "   --- ------------------------------------ 1.8/18.7 MB 53.1 kB/s eta 0:05:19\n",
      "   --- ------------------------------------ 1.8/18.7 MB 53.1 kB/s eta 0:05:19\n",
      "   --- ------------------------------------ 1.8/18.7 MB 53.1 kB/s eta 0:05:19\n",
      "   --- ------------------------------------ 1.8/18.7 MB 53.1 kB/s eta 0:05:19\n",
      "   --- ------------------------------------ 1.8/18.7 MB 53.1 kB/s eta 0:05:19\n",
      "   --- ------------------------------------ 1.8/18.7 MB 53.1 kB/s eta 0:05:19\n",
      "   --- ------------------------------------ 1.8/18.7 MB 53.1 kB/s eta 0:05:19\n",
      "   ---- ----------------------------------- 2.1/18.7 MB 49.8 kB/s eta 0:05:34\n",
      "   ---- ----------------------------------- 2.1/18.7 MB 49.8 kB/s eta 0:05:34\n",
      "   ---- ----------------------------------- 2.1/18.7 MB 49.8 kB/s eta 0:05:34\n",
      "   ---- ----------------------------------- 2.1/18.7 MB 49.8 kB/s eta 0:05:34\n",
      "   ---- ----------------------------------- 2.1/18.7 MB 49.8 kB/s eta 0:05:34\n",
      "   ---- ----------------------------------- 2.1/18.7 MB 49.8 kB/s eta 0:05:34\n",
      "   ---- ----------------------------------- 2.1/18.7 MB 49.8 kB/s eta 0:05:34\n",
      "   ---- ----------------------------------- 2.1/18.7 MB 49.8 kB/s eta 0:05:34\n",
      "   ---- ----------------------------------- 2.1/18.7 MB 49.8 kB/s eta 0:05:34\n",
      "   ---- ----------------------------------- 2.1/18.7 MB 49.8 kB/s eta 0:05:34\n",
      "   ---- ----------------------------------- 2.1/18.7 MB 49.8 kB/s eta 0:05:34\n",
      "   ---- ----------------------------------- 2.1/18.7 MB 49.8 kB/s eta 0:05:34\n",
      "   ---- ----------------------------------- 2.1/18.7 MB 49.8 kB/s eta 0:05:34\n",
      "   ---- ----------------------------------- 2.1/18.7 MB 49.8 kB/s eta 0:05:34\n",
      "   ---- ----------------------------------- 2.1/18.7 MB 49.8 kB/s eta 0:05:34\n",
      "   ---- ----------------------------------- 2.1/18.7 MB 49.8 kB/s eta 0:05:34\n",
      "   ---- ----------------------------------- 2.1/18.7 MB 49.8 kB/s eta 0:05:34\n",
      "   ---- ----------------------------------- 2.1/18.7 MB 49.8 kB/s eta 0:05:34\n",
      "   ---- ----------------------------------- 2.1/18.7 MB 49.8 kB/s eta 0:05:34\n",
      "   ---- ----------------------------------- 2.1/18.7 MB 49.8 kB/s eta 0:05:34\n",
      "   ---- ----------------------------------- 2.1/18.7 MB 49.8 kB/s eta 0:05:34\n",
      "   ---- ----------------------------------- 2.1/18.7 MB 49.8 kB/s eta 0:05:34\n",
      "   ---- ----------------------------------- 2.1/18.7 MB 49.8 kB/s eta 0:05:34\n",
      "   ---- ----------------------------------- 2.1/18.7 MB 49.8 kB/s eta 0:05:34\n",
      "   ---- ----------------------------------- 2.1/18.7 MB 49.8 kB/s eta 0:05:34\n",
      "   ---- ----------------------------------- 2.1/18.7 MB 49.8 kB/s eta 0:05:34\n",
      "   ----- ---------------------------------- 2.4/18.7 MB 47.3 kB/s eta 0:05:47\n",
      "   ----- ---------------------------------- 2.4/18.7 MB 47.3 kB/s eta 0:05:47\n",
      "   ----- ---------------------------------- 2.4/18.7 MB 47.3 kB/s eta 0:05:47\n",
      "   ----- ---------------------------------- 2.4/18.7 MB 47.3 kB/s eta 0:05:47\n",
      "   ----- ---------------------------------- 2.4/18.7 MB 47.3 kB/s eta 0:05:47\n",
      "   ----- ---------------------------------- 2.4/18.7 MB 47.3 kB/s eta 0:05:47\n",
      "   ----- ---------------------------------- 2.4/18.7 MB 47.3 kB/s eta 0:05:47\n",
      "   ----- ---------------------------------- 2.4/18.7 MB 47.3 kB/s eta 0:05:47\n",
      "   ----- ---------------------------------- 2.4/18.7 MB 47.3 kB/s eta 0:05:47\n",
      "   ----- ---------------------------------- 2.4/18.7 MB 47.3 kB/s eta 0:05:47\n",
      "   ----- ---------------------------------- 2.4/18.7 MB 47.3 kB/s eta 0:05:47\n",
      "   ----- ---------------------------------- 2.4/18.7 MB 47.3 kB/s eta 0:05:47\n",
      "   ----- ---------------------------------- 2.4/18.7 MB 47.3 kB/s eta 0:05:47\n",
      "   ----- ---------------------------------- 2.4/18.7 MB 47.3 kB/s eta 0:05:47\n",
      "   ----- ---------------------------------- 2.4/18.7 MB 47.3 kB/s eta 0:05:47\n",
      "   ----- ---------------------------------- 2.4/18.7 MB 47.3 kB/s eta 0:05:47\n",
      "   ----- ---------------------------------- 2.4/18.7 MB 47.3 kB/s eta 0:05:47\n",
      "   ----- ---------------------------------- 2.4/18.7 MB 47.3 kB/s eta 0:05:47\n",
      "   ----- ---------------------------------- 2.4/18.7 MB 47.3 kB/s eta 0:05:47\n",
      "   ----- ---------------------------------- 2.4/18.7 MB 47.3 kB/s eta 0:05:47\n",
      "   ----- ---------------------------------- 2.4/18.7 MB 47.3 kB/s eta 0:05:47\n",
      "   ----- ---------------------------------- 2.6/18.7 MB 48.2 kB/s eta 0:05:35\n",
      "   ----- ---------------------------------- 2.6/18.7 MB 48.2 kB/s eta 0:05:35\n",
      "   ----- ---------------------------------- 2.6/18.7 MB 48.2 kB/s eta 0:05:35\n",
      "   ----- ---------------------------------- 2.6/18.7 MB 48.2 kB/s eta 0:05:35\n",
      "   ----- ---------------------------------- 2.6/18.7 MB 48.2 kB/s eta 0:05:35\n",
      "   ----- ---------------------------------- 2.6/18.7 MB 48.2 kB/s eta 0:05:35\n",
      "   ----- ---------------------------------- 2.6/18.7 MB 48.2 kB/s eta 0:05:35\n",
      "   ----- ---------------------------------- 2.6/18.7 MB 48.2 kB/s eta 0:05:35\n",
      "   ----- ---------------------------------- 2.6/18.7 MB 48.2 kB/s eta 0:05:35\n",
      "   ----- ---------------------------------- 2.6/18.7 MB 48.2 kB/s eta 0:05:35\n",
      "   ----- ---------------------------------- 2.6/18.7 MB 48.2 kB/s eta 0:05:35\n",
      "   ----- ---------------------------------- 2.6/18.7 MB 48.2 kB/s eta 0:05:35\n",
      "   ----- ---------------------------------- 2.6/18.7 MB 48.2 kB/s eta 0:05:35\n",
      "   ----- ---------------------------------- 2.6/18.7 MB 48.2 kB/s eta 0:05:35\n",
      "   ----- ---------------------------------- 2.6/18.7 MB 48.2 kB/s eta 0:05:35\n",
      "   ----- ---------------------------------- 2.6/18.7 MB 48.2 kB/s eta 0:05:35\n",
      "   ----- ---------------------------------- 2.6/18.7 MB 48.2 kB/s eta 0:05:35\n",
      "   ----- ---------------------------------- 2.6/18.7 MB 48.2 kB/s eta 0:05:35\n",
      "   ----- ---------------------------------- 2.6/18.7 MB 48.2 kB/s eta 0:05:35\n",
      "   ----- ---------------------------------- 2.6/18.7 MB 48.2 kB/s eta 0:05:35\n",
      "   ----- ---------------------------------- 2.6/18.7 MB 48.2 kB/s eta 0:05:35\n",
      "   ----- ---------------------------------- 2.6/18.7 MB 48.2 kB/s eta 0:05:35\n",
      "   ----- ---------------------------------- 2.6/18.7 MB 48.2 kB/s eta 0:05:35\n",
      "   ----- ---------------------------------- 2.6/18.7 MB 48.2 kB/s eta 0:05:35\n",
      "   ----- ---------------------------------- 2.6/18.7 MB 48.2 kB/s eta 0:05:35\n",
      "   ----- ---------------------------------- 2.6/18.7 MB 48.2 kB/s eta 0:05:35\n",
      "   ----- ---------------------------------- 2.6/18.7 MB 48.2 kB/s eta 0:05:35\n",
      "   ------ --------------------------------- 2.9/18.7 MB 46.7 kB/s eta 0:05:40\n",
      "   ------ --------------------------------- 2.9/18.7 MB 46.7 kB/s eta 0:05:40\n",
      "   ------ --------------------------------- 2.9/18.7 MB 46.7 kB/s eta 0:05:40\n",
      "   ------ --------------------------------- 2.9/18.7 MB 46.7 kB/s eta 0:05:40\n",
      "   ------ --------------------------------- 2.9/18.7 MB 46.7 kB/s eta 0:05:40\n",
      "   ------ --------------------------------- 2.9/18.7 MB 46.7 kB/s eta 0:05:40\n",
      "   ------ --------------------------------- 2.9/18.7 MB 46.7 kB/s eta 0:05:40\n",
      "   ------ --------------------------------- 2.9/18.7 MB 46.7 kB/s eta 0:05:40\n",
      "   ------ --------------------------------- 2.9/18.7 MB 46.7 kB/s eta 0:05:40\n",
      "   ------ --------------------------------- 2.9/18.7 MB 46.7 kB/s eta 0:05:40\n",
      "   ------ --------------------------------- 2.9/18.7 MB 46.7 kB/s eta 0:05:40\n",
      "   ------ --------------------------------- 2.9/18.7 MB 46.7 kB/s eta 0:05:40\n",
      "   ------ --------------------------------- 2.9/18.7 MB 46.7 kB/s eta 0:05:40\n",
      "   ------ --------------------------------- 2.9/18.7 MB 46.7 kB/s eta 0:05:40\n",
      "   ------ --------------------------------- 2.9/18.7 MB 46.7 kB/s eta 0:05:40\n",
      "   ------ --------------------------------- 2.9/18.7 MB 46.7 kB/s eta 0:05:40\n",
      "   ------ --------------------------------- 2.9/18.7 MB 46.7 kB/s eta 0:05:40\n",
      "   ------ --------------------------------- 2.9/18.7 MB 46.7 kB/s eta 0:05:40\n",
      "   ------ --------------------------------- 3.1/18.7 MB 53.8 kB/s eta 0:04:50\n",
      "   ------ --------------------------------- 3.1/18.7 MB 53.8 kB/s eta 0:04:50\n",
      "   ------ --------------------------------- 3.1/18.7 MB 53.8 kB/s eta 0:04:50\n",
      "   ------ --------------------------------- 3.1/18.7 MB 53.8 kB/s eta 0:04:50\n",
      "   ------ --------------------------------- 3.1/18.7 MB 53.8 kB/s eta 0:04:50\n",
      "   ------ --------------------------------- 3.1/18.7 MB 53.8 kB/s eta 0:04:50\n",
      "   ------ --------------------------------- 3.1/18.7 MB 53.8 kB/s eta 0:04:50\n",
      "   ------ --------------------------------- 3.1/18.7 MB 53.8 kB/s eta 0:04:50\n",
      "   ------ --------------------------------- 3.1/18.7 MB 53.8 kB/s eta 0:04:50\n",
      "   ------ --------------------------------- 3.1/18.7 MB 53.8 kB/s eta 0:04:50\n",
      "   ------ --------------------------------- 3.1/18.7 MB 53.8 kB/s eta 0:04:50\n",
      "   ------ --------------------------------- 3.1/18.7 MB 53.8 kB/s eta 0:04:50\n",
      "   ------ --------------------------------- 3.1/18.7 MB 53.8 kB/s eta 0:04:50\n",
      "   ------ --------------------------------- 3.1/18.7 MB 53.8 kB/s eta 0:04:50\n",
      "   ------ --------------------------------- 3.1/18.7 MB 53.8 kB/s eta 0:04:50\n",
      "   ------- -------------------------------- 3.4/18.7 MB 57.3 kB/s eta 0:04:28\n",
      "   ------- -------------------------------- 3.4/18.7 MB 57.3 kB/s eta 0:04:28\n",
      "   ------- -------------------------------- 3.4/18.7 MB 57.3 kB/s eta 0:04:28\n",
      "   ------- -------------------------------- 3.4/18.7 MB 57.3 kB/s eta 0:04:28\n",
      "   ------- -------------------------------- 3.4/18.7 MB 57.3 kB/s eta 0:04:28\n",
      "   ------- -------------------------------- 3.4/18.7 MB 57.3 kB/s eta 0:04:28\n",
      "   ------- -------------------------------- 3.4/18.7 MB 57.3 kB/s eta 0:04:28\n",
      "   ------- -------------------------------- 3.4/18.7 MB 57.3 kB/s eta 0:04:28\n",
      "   ------- -------------------------------- 3.4/18.7 MB 57.3 kB/s eta 0:04:28\n",
      "   ------- -------------------------------- 3.4/18.7 MB 57.3 kB/s eta 0:04:28\n",
      "   ------- -------------------------------- 3.4/18.7 MB 57.3 kB/s eta 0:04:28\n",
      "   ------- -------------------------------- 3.4/18.7 MB 57.3 kB/s eta 0:04:28\n",
      "   ------- -------------------------------- 3.4/18.7 MB 57.3 kB/s eta 0:04:28\n",
      "   ------- -------------------------------- 3.4/18.7 MB 57.3 kB/s eta 0:04:28\n",
      "   ------- -------------------------------- 3.7/18.7 MB 62.1 kB/s eta 0:04:03\n",
      "   ------- -------------------------------- 3.7/18.7 MB 62.1 kB/s eta 0:04:03\n",
      "   ------- -------------------------------- 3.7/18.7 MB 62.1 kB/s eta 0:04:03\n",
      "   ------- -------------------------------- 3.7/18.7 MB 62.1 kB/s eta 0:04:03\n",
      "   ------- -------------------------------- 3.7/18.7 MB 62.1 kB/s eta 0:04:03\n",
      "   ------- -------------------------------- 3.7/18.7 MB 62.1 kB/s eta 0:04:03\n",
      "   ------- -------------------------------- 3.7/18.7 MB 62.1 kB/s eta 0:04:03\n",
      "   ------- -------------------------------- 3.7/18.7 MB 62.1 kB/s eta 0:04:03\n",
      "   ------- -------------------------------- 3.7/18.7 MB 62.1 kB/s eta 0:04:03\n",
      "   ------- -------------------------------- 3.7/18.7 MB 62.1 kB/s eta 0:04:03\n",
      "   ------- -------------------------------- 3.7/18.7 MB 62.1 kB/s eta 0:04:03\n",
      "   ------- -------------------------------- 3.7/18.7 MB 62.1 kB/s eta 0:04:03\n",
      "   ------- -------------------------------- 3.7/18.7 MB 62.1 kB/s eta 0:04:03\n",
      "   -------- ------------------------------- 3.9/18.7 MB 65.3 kB/s eta 0:03:47\n",
      "   -------- ------------------------------- 3.9/18.7 MB 65.3 kB/s eta 0:03:47\n",
      "   -------- ------------------------------- 3.9/18.7 MB 65.3 kB/s eta 0:03:47\n",
      "   -------- ------------------------------- 3.9/18.7 MB 65.3 kB/s eta 0:03:47\n",
      "   -------- ------------------------------- 3.9/18.7 MB 65.3 kB/s eta 0:03:47\n",
      "   -------- ------------------------------- 3.9/18.7 MB 65.3 kB/s eta 0:03:47\n",
      "   -------- ------------------------------- 3.9/18.7 MB 65.3 kB/s eta 0:03:47\n",
      "   -------- ------------------------------- 3.9/18.7 MB 65.3 kB/s eta 0:03:47\n",
      "   -------- ------------------------------- 3.9/18.7 MB 65.3 kB/s eta 0:03:47\n",
      "   -------- ------------------------------- 3.9/18.7 MB 65.3 kB/s eta 0:03:47\n",
      "   -------- ------------------------------- 3.9/18.7 MB 65.3 kB/s eta 0:03:47\n",
      "   -------- ------------------------------- 3.9/18.7 MB 65.3 kB/s eta 0:03:47\n",
      "   -------- ------------------------------- 3.9/18.7 MB 65.3 kB/s eta 0:03:47\n",
      "   -------- ------------------------------- 3.9/18.7 MB 65.3 kB/s eta 0:03:47\n",
      "   -------- ------------------------------- 3.9/18.7 MB 65.3 kB/s eta 0:03:47\n",
      "   -------- ------------------------------- 3.9/18.7 MB 65.3 kB/s eta 0:03:47\n",
      "   -------- ------------------------------- 4.2/18.7 MB 70.5 kB/s eta 0:03:27\n",
      "   -------- ------------------------------- 4.2/18.7 MB 70.5 kB/s eta 0:03:27\n",
      "   -------- ------------------------------- 4.2/18.7 MB 70.5 kB/s eta 0:03:27\n",
      "   -------- ------------------------------- 4.2/18.7 MB 70.5 kB/s eta 0:03:27\n",
      "   -------- ------------------------------- 4.2/18.7 MB 70.5 kB/s eta 0:03:27\n",
      "   -------- ------------------------------- 4.2/18.7 MB 70.5 kB/s eta 0:03:27\n",
      "   -------- ------------------------------- 4.2/18.7 MB 70.5 kB/s eta 0:03:27\n",
      "   -------- ------------------------------- 4.2/18.7 MB 70.5 kB/s eta 0:03:27\n",
      "   -------- ------------------------------- 4.2/18.7 MB 70.5 kB/s eta 0:03:27\n",
      "   -------- ------------------------------- 4.2/18.7 MB 70.5 kB/s eta 0:03:27\n",
      "   -------- ------------------------------- 4.2/18.7 MB 70.5 kB/s eta 0:03:27\n",
      "   -------- ------------------------------- 4.2/18.7 MB 70.5 kB/s eta 0:03:27\n",
      "   -------- ------------------------------- 4.2/18.7 MB 70.5 kB/s eta 0:03:27\n",
      "   -------- ------------------------------- 4.2/18.7 MB 70.5 kB/s eta 0:03:27\n",
      "   -------- ------------------------------- 4.2/18.7 MB 70.5 kB/s eta 0:03:27\n",
      "   -------- ------------------------------- 4.2/18.7 MB 70.5 kB/s eta 0:03:27\n",
      "   -------- ------------------------------- 4.2/18.7 MB 70.5 kB/s eta 0:03:27\n",
      "   -------- ------------------------------- 4.2/18.7 MB 70.5 kB/s eta 0:03:27\n",
      "   --------- ------------------------------ 4.5/18.7 MB 70.6 kB/s eta 0:03:23\n",
      "   --------- ------------------------------ 4.5/18.7 MB 70.6 kB/s eta 0:03:23\n",
      "   --------- ------------------------------ 4.5/18.7 MB 70.6 kB/s eta 0:03:23\n",
      "   --------- ------------------------------ 4.5/18.7 MB 70.6 kB/s eta 0:03:23\n",
      "   --------- ------------------------------ 4.5/18.7 MB 70.6 kB/s eta 0:03:23\n",
      "   --------- ------------------------------ 4.5/18.7 MB 70.6 kB/s eta 0:03:23\n",
      "   --------- ------------------------------ 4.5/18.7 MB 70.6 kB/s eta 0:03:23\n",
      "   --------- ------------------------------ 4.5/18.7 MB 70.6 kB/s eta 0:03:23\n",
      "   --------- ------------------------------ 4.5/18.7 MB 70.6 kB/s eta 0:03:23\n",
      "   ---------- ----------------------------- 4.7/18.7 MB 77.6 kB/s eta 0:03:01\n",
      "   ---------- ----------------------------- 4.7/18.7 MB 77.6 kB/s eta 0:03:01\n",
      "   ---------- ----------------------------- 4.7/18.7 MB 77.6 kB/s eta 0:03:01\n",
      "   ---------- ----------------------------- 4.7/18.7 MB 77.6 kB/s eta 0:03:01\n",
      "   ---------- ----------------------------- 4.7/18.7 MB 77.6 kB/s eta 0:03:01\n",
      "   ---------- ----------------------------- 4.7/18.7 MB 77.6 kB/s eta 0:03:01\n",
      "   ---------- ----------------------------- 4.7/18.7 MB 77.6 kB/s eta 0:03:01\n",
      "   ---------- ----------------------------- 4.7/18.7 MB 77.6 kB/s eta 0:03:01\n",
      "   ---------- ----------------------------- 4.7/18.7 MB 77.6 kB/s eta 0:03:01\n",
      "   ---------- ----------------------------- 4.7/18.7 MB 77.6 kB/s eta 0:03:01\n",
      "   ---------- ----------------------------- 4.7/18.7 MB 77.6 kB/s eta 0:03:01\n",
      "   ---------- ----------------------------- 4.7/18.7 MB 77.6 kB/s eta 0:03:01\n",
      "   ---------- ----------------------------- 4.7/18.7 MB 77.6 kB/s eta 0:03:01\n",
      "   ---------- ----------------------------- 4.7/18.7 MB 77.6 kB/s eta 0:03:01\n",
      "   ---------- ----------------------------- 4.7/18.7 MB 77.6 kB/s eta 0:03:01\n",
      "   ---------- ----------------------------- 4.7/18.7 MB 77.6 kB/s eta 0:03:01\n",
      "   ---------- ----------------------------- 4.7/18.7 MB 77.6 kB/s eta 0:03:01\n",
      "   ---------- ----------------------------- 4.7/18.7 MB 77.6 kB/s eta 0:03:01\n",
      "   ---------- ----------------------------- 5.0/18.7 MB 83.0 kB/s eta 0:02:46\n",
      "   ---------- ----------------------------- 5.0/18.7 MB 83.0 kB/s eta 0:02:46\n",
      "   ---------- ----------------------------- 5.0/18.7 MB 83.0 kB/s eta 0:02:46\n",
      "   ---------- ----------------------------- 5.0/18.7 MB 83.0 kB/s eta 0:02:46\n",
      "   ---------- ----------------------------- 5.0/18.7 MB 83.0 kB/s eta 0:02:46\n",
      "   ---------- ----------------------------- 5.0/18.7 MB 83.0 kB/s eta 0:02:46\n",
      "   ---------- ----------------------------- 5.0/18.7 MB 83.0 kB/s eta 0:02:46\n",
      "   ---------- ----------------------------- 5.0/18.7 MB 83.0 kB/s eta 0:02:46\n",
      "   ---------- ----------------------------- 5.0/18.7 MB 83.0 kB/s eta 0:02:46\n",
      "   ---------- ----------------------------- 5.0/18.7 MB 83.0 kB/s eta 0:02:46\n",
      "   ---------- ----------------------------- 5.0/18.7 MB 83.0 kB/s eta 0:02:46\n",
      "   ---------- ----------------------------- 5.0/18.7 MB 83.0 kB/s eta 0:02:46\n",
      "   ---------- ----------------------------- 5.0/18.7 MB 83.0 kB/s eta 0:02:46\n",
      "   ---------- ----------------------------- 5.0/18.7 MB 83.0 kB/s eta 0:02:46\n",
      "   ---------- ----------------------------- 5.0/18.7 MB 83.0 kB/s eta 0:02:46\n",
      "   ---------- ----------------------------- 5.0/18.7 MB 83.0 kB/s eta 0:02:46\n",
      "   ---------- ----------------------------- 5.0/18.7 MB 83.0 kB/s eta 0:02:46\n",
      "   ---------- ----------------------------- 5.0/18.7 MB 83.0 kB/s eta 0:02:46\n",
      "   ---------- ----------------------------- 5.0/18.7 MB 83.0 kB/s eta 0:02:46\n",
      "   ---------- ----------------------------- 5.0/18.7 MB 83.0 kB/s eta 0:02:46\n",
      "   ---------- ----------------------------- 5.0/18.7 MB 83.0 kB/s eta 0:02:46\n",
      "   ----------- ---------------------------- 5.2/18.7 MB 79.4 kB/s eta 0:02:50\n",
      "   ----------- ---------------------------- 5.2/18.7 MB 79.4 kB/s eta 0:02:50\n",
      "   ----------- ---------------------------- 5.2/18.7 MB 79.4 kB/s eta 0:02:50\n",
      "   ----------- ---------------------------- 5.2/18.7 MB 79.4 kB/s eta 0:02:50\n",
      "   ----------- ---------------------------- 5.2/18.7 MB 79.4 kB/s eta 0:02:50\n",
      "   ----------- ---------------------------- 5.2/18.7 MB 79.4 kB/s eta 0:02:50\n",
      "   ----------- ---------------------------- 5.2/18.7 MB 79.4 kB/s eta 0:02:50\n",
      "   ----------- ---------------------------- 5.2/18.7 MB 79.4 kB/s eta 0:02:50\n",
      "   ----------- ---------------------------- 5.2/18.7 MB 79.4 kB/s eta 0:02:50\n",
      "   ----------- ---------------------------- 5.2/18.7 MB 79.4 kB/s eta 0:02:50\n",
      "   ----------- ---------------------------- 5.2/18.7 MB 79.4 kB/s eta 0:02:50\n",
      "   ----------- ---------------------------- 5.2/18.7 MB 79.4 kB/s eta 0:02:50\n",
      "   ----------- ---------------------------- 5.2/18.7 MB 79.4 kB/s eta 0:02:50\n",
      "   ----------- ---------------------------- 5.2/18.7 MB 79.4 kB/s eta 0:02:50\n",
      "   ----------- ---------------------------- 5.2/18.7 MB 79.4 kB/s eta 0:02:50\n",
      "   ----------- ---------------------------- 5.2/18.7 MB 79.4 kB/s eta 0:02:50\n",
      "   ----------- ---------------------------- 5.2/18.7 MB 79.4 kB/s eta 0:02:50\n",
      "   ----------- ---------------------------- 5.2/18.7 MB 79.4 kB/s eta 0:02:50\n",
      "   ----------- ---------------------------- 5.2/18.7 MB 79.4 kB/s eta 0:02:50\n",
      "   ----------- ---------------------------- 5.2/18.7 MB 79.4 kB/s eta 0:02:50\n",
      "   ----------- ---------------------------- 5.2/18.7 MB 79.4 kB/s eta 0:02:50\n",
      "   ----------- ---------------------------- 5.2/18.7 MB 79.4 kB/s eta 0:02:50\n",
      "   ----------- ---------------------------- 5.5/18.7 MB 76.5 kB/s eta 0:02:53\n",
      "   ----------- ---------------------------- 5.5/18.7 MB 76.5 kB/s eta 0:02:53\n",
      "   ----------- ---------------------------- 5.5/18.7 MB 76.5 kB/s eta 0:02:53\n",
      "   ----------- ---------------------------- 5.5/18.7 MB 76.5 kB/s eta 0:02:53\n",
      "   ----------- ---------------------------- 5.5/18.7 MB 76.5 kB/s eta 0:02:53\n",
      "   ----------- ---------------------------- 5.5/18.7 MB 76.5 kB/s eta 0:02:53\n",
      "   ----------- ---------------------------- 5.5/18.7 MB 76.5 kB/s eta 0:02:53\n",
      "   ----------- ---------------------------- 5.5/18.7 MB 76.5 kB/s eta 0:02:53\n",
      "   ----------- ---------------------------- 5.5/18.7 MB 76.5 kB/s eta 0:02:53\n",
      "   ----------- ---------------------------- 5.5/18.7 MB 76.5 kB/s eta 0:02:53\n",
      "   ----------- ---------------------------- 5.5/18.7 MB 76.5 kB/s eta 0:02:53\n",
      "   ----------- ---------------------------- 5.5/18.7 MB 76.5 kB/s eta 0:02:53\n",
      "   ----------- ---------------------------- 5.5/18.7 MB 76.5 kB/s eta 0:02:53\n",
      "   ----------- ---------------------------- 5.5/18.7 MB 76.5 kB/s eta 0:02:53\n",
      "   ----------- ---------------------------- 5.5/18.7 MB 76.5 kB/s eta 0:02:53\n",
      "   ----------- ---------------------------- 5.5/18.7 MB 76.5 kB/s eta 0:02:53\n",
      "   ----------- ---------------------------- 5.5/18.7 MB 76.5 kB/s eta 0:02:53\n",
      "   ----------- ---------------------------- 5.5/18.7 MB 76.5 kB/s eta 0:02:53\n",
      "   ------------ --------------------------- 5.8/18.7 MB 74.3 kB/s eta 0:02:55\n",
      "   ------------ --------------------------- 5.8/18.7 MB 74.3 kB/s eta 0:02:55\n",
      "   ------------ --------------------------- 5.8/18.7 MB 74.3 kB/s eta 0:02:55\n",
      "   ------------ --------------------------- 5.8/18.7 MB 74.3 kB/s eta 0:02:55\n",
      "   ------------ --------------------------- 5.8/18.7 MB 74.3 kB/s eta 0:02:55\n",
      "   ------------ --------------------------- 5.8/18.7 MB 74.3 kB/s eta 0:02:55\n",
      "   ------------ --------------------------- 5.8/18.7 MB 74.3 kB/s eta 0:02:55\n",
      "   ------------ --------------------------- 5.8/18.7 MB 74.3 kB/s eta 0:02:55\n",
      "   ------------ --------------------------- 5.8/18.7 MB 74.3 kB/s eta 0:02:55\n",
      "   ------------ --------------------------- 5.8/18.7 MB 74.3 kB/s eta 0:02:55\n",
      "   ------------ --------------------------- 5.8/18.7 MB 74.3 kB/s eta 0:02:55\n",
      "   ------------ --------------------------- 5.8/18.7 MB 74.3 kB/s eta 0:02:55\n",
      "   ------------ --------------------------- 5.8/18.7 MB 74.3 kB/s eta 0:02:55\n",
      "   ------------ --------------------------- 5.8/18.7 MB 74.3 kB/s eta 0:02:55\n",
      "   ------------ --------------------------- 5.8/18.7 MB 74.3 kB/s eta 0:02:55\n",
      "   ------------ --------------------------- 5.8/18.7 MB 74.3 kB/s eta 0:02:55\n",
      "   ------------ --------------------------- 5.8/18.7 MB 74.3 kB/s eta 0:02:55\n",
      "   ------------ --------------------------- 5.8/18.7 MB 74.3 kB/s eta 0:02:55\n",
      "   ------------ --------------------------- 5.8/18.7 MB 74.3 kB/s eta 0:02:55\n",
      "   ------------ --------------------------- 5.8/18.7 MB 74.3 kB/s eta 0:02:55\n",
      "   ------------ --------------------------- 5.8/18.7 MB 74.3 kB/s eta 0:02:55\n",
      "   ------------ --------------------------- 5.8/18.7 MB 74.3 kB/s eta 0:02:55\n",
      "   ------------ --------------------------- 5.8/18.7 MB 74.3 kB/s eta 0:02:55\n",
      "   ------------ --------------------------- 5.8/18.7 MB 74.3 kB/s eta 0:02:55\n",
      "   ------------ --------------------------- 5.8/18.7 MB 74.3 kB/s eta 0:02:55\n",
      "   ------------ --------------------------- 5.8/18.7 MB 74.3 kB/s eta 0:02:55\n",
      "   ------------ --------------------------- 5.8/18.7 MB 74.3 kB/s eta 0:02:55\n",
      "   ------------ --------------------------- 5.8/18.7 MB 74.3 kB/s eta 0:02:55\n",
      "   ------------ --------------------------- 5.8/18.7 MB 74.3 kB/s eta 0:02:55\n",
      "   ------------ --------------------------- 6.0/18.7 MB 65.2 kB/s eta 0:03:15\n",
      "   ------------ --------------------------- 6.0/18.7 MB 65.2 kB/s eta 0:03:15\n",
      "   ------------ --------------------------- 6.0/18.7 MB 65.2 kB/s eta 0:03:15\n",
      "   ------------ --------------------------- 6.0/18.7 MB 65.2 kB/s eta 0:03:15\n",
      "   ------------ --------------------------- 6.0/18.7 MB 65.2 kB/s eta 0:03:15\n",
      "   ------------ --------------------------- 6.0/18.7 MB 65.2 kB/s eta 0:03:15\n",
      "   ------------ --------------------------- 6.0/18.7 MB 65.2 kB/s eta 0:03:15\n",
      "   ------------ --------------------------- 6.0/18.7 MB 65.2 kB/s eta 0:03:15\n",
      "   ------------ --------------------------- 6.0/18.7 MB 65.2 kB/s eta 0:03:15\n",
      "   ------------ --------------------------- 6.0/18.7 MB 65.2 kB/s eta 0:03:15\n",
      "   ------------ --------------------------- 6.0/18.7 MB 65.2 kB/s eta 0:03:15\n",
      "   ------------ --------------------------- 6.0/18.7 MB 65.2 kB/s eta 0:03:15\n",
      "   ------------ --------------------------- 6.0/18.7 MB 65.2 kB/s eta 0:03:15\n",
      "   ------------ --------------------------- 6.0/18.7 MB 65.2 kB/s eta 0:03:15\n",
      "   ------------ --------------------------- 6.0/18.7 MB 65.2 kB/s eta 0:03:15\n",
      "   ------------- -------------------------- 6.3/18.7 MB 66.7 kB/s eta 0:03:07\n",
      "   ------------- -------------------------- 6.3/18.7 MB 66.7 kB/s eta 0:03:07\n",
      "   ------------- -------------------------- 6.3/18.7 MB 66.7 kB/s eta 0:03:07\n",
      "   ------------- -------------------------- 6.3/18.7 MB 66.7 kB/s eta 0:03:07\n",
      "   ------------- -------------------------- 6.3/18.7 MB 66.7 kB/s eta 0:03:07\n",
      "   ------------- -------------------------- 6.3/18.7 MB 66.7 kB/s eta 0:03:07\n",
      "   ------------- -------------------------- 6.3/18.7 MB 66.7 kB/s eta 0:03:07\n",
      "   ------------- -------------------------- 6.3/18.7 MB 66.7 kB/s eta 0:03:07\n",
      "   ------------- -------------------------- 6.3/18.7 MB 66.7 kB/s eta 0:03:07\n",
      "   ------------- -------------------------- 6.3/18.7 MB 66.7 kB/s eta 0:03:07\n",
      "   ------------- -------------------------- 6.3/18.7 MB 66.7 kB/s eta 0:03:07\n",
      "   ------------- -------------------------- 6.3/18.7 MB 66.7 kB/s eta 0:03:07\n",
      "   ------------- -------------------------- 6.3/18.7 MB 66.7 kB/s eta 0:03:07\n",
      "   ------------- -------------------------- 6.3/18.7 MB 66.7 kB/s eta 0:03:07\n",
      "   ------------- -------------------------- 6.3/18.7 MB 66.7 kB/s eta 0:03:07\n",
      "   ------------- -------------------------- 6.3/18.7 MB 66.7 kB/s eta 0:03:07\n",
      "   ------------- -------------------------- 6.3/18.7 MB 66.7 kB/s eta 0:03:07\n",
      "   ------------- -------------------------- 6.3/18.7 MB 66.7 kB/s eta 0:03:07\n",
      "   ------------- -------------------------- 6.3/18.7 MB 66.7 kB/s eta 0:03:07\n",
      "   ------------- -------------------------- 6.3/18.7 MB 66.7 kB/s eta 0:03:07\n",
      "   ------------- -------------------------- 6.3/18.7 MB 66.7 kB/s eta 0:03:07\n",
      "   ------------- -------------------------- 6.3/18.7 MB 66.7 kB/s eta 0:03:07\n",
      "   ------------- -------------------------- 6.6/18.7 MB 59.2 kB/s eta 0:03:26\n",
      "   ------------- -------------------------- 6.6/18.7 MB 59.2 kB/s eta 0:03:26\n",
      "   ------------- -------------------------- 6.6/18.7 MB 59.2 kB/s eta 0:03:26\n",
      "   ------------- -------------------------- 6.6/18.7 MB 59.2 kB/s eta 0:03:26\n",
      "   ------------- -------------------------- 6.6/18.7 MB 59.2 kB/s eta 0:03:26\n",
      "   ------------- -------------------------- 6.6/18.7 MB 59.2 kB/s eta 0:03:26\n",
      "   ------------- -------------------------- 6.6/18.7 MB 59.2 kB/s eta 0:03:26\n",
      "   ------------- -------------------------- 6.6/18.7 MB 59.2 kB/s eta 0:03:26\n",
      "   ------------- -------------------------- 6.6/18.7 MB 59.2 kB/s eta 0:03:26\n",
      "   ------------- -------------------------- 6.6/18.7 MB 59.2 kB/s eta 0:03:26\n",
      "   ------------- -------------------------- 6.6/18.7 MB 59.2 kB/s eta 0:03:26\n",
      "   ------------- -------------------------- 6.6/18.7 MB 59.2 kB/s eta 0:03:26\n",
      "   ------------- -------------------------- 6.6/18.7 MB 59.2 kB/s eta 0:03:26\n",
      "   ------------- -------------------------- 6.6/18.7 MB 59.2 kB/s eta 0:03:26\n",
      "   ------------- -------------------------- 6.6/18.7 MB 59.2 kB/s eta 0:03:26\n",
      "   -------------- ------------------------- 6.8/18.7 MB 61.8 kB/s eta 0:03:13\n",
      "   -------------- ------------------------- 6.8/18.7 MB 61.8 kB/s eta 0:03:13\n",
      "   -------------- ------------------------- 6.8/18.7 MB 61.8 kB/s eta 0:03:13\n",
      "   -------------- ------------------------- 6.8/18.7 MB 61.8 kB/s eta 0:03:13\n",
      "   -------------- ------------------------- 6.8/18.7 MB 61.8 kB/s eta 0:03:13\n",
      "   -------------- ------------------------- 6.8/18.7 MB 61.8 kB/s eta 0:03:13\n",
      "   -------------- ------------------------- 6.8/18.7 MB 61.8 kB/s eta 0:03:13\n",
      "   -------------- ------------------------- 6.8/18.7 MB 61.8 kB/s eta 0:03:13\n",
      "   -------------- ------------------------- 6.8/18.7 MB 61.8 kB/s eta 0:03:13\n",
      "   -------------- ------------------------- 6.8/18.7 MB 61.8 kB/s eta 0:03:13\n",
      "   --------------- ------------------------ 7.1/18.7 MB 67.3 kB/s eta 0:02:54\n",
      "   --------------- ------------------------ 7.1/18.7 MB 67.3 kB/s eta 0:02:54\n",
      "   --------------- ------------------------ 7.1/18.7 MB 67.3 kB/s eta 0:02:54\n",
      "   --------------- ------------------------ 7.1/18.7 MB 67.3 kB/s eta 0:02:54\n",
      "   --------------- ------------------------ 7.1/18.7 MB 67.3 kB/s eta 0:02:54\n",
      "   --------------- ------------------------ 7.1/18.7 MB 67.3 kB/s eta 0:02:54\n",
      "   --------------- ------------------------ 7.1/18.7 MB 67.3 kB/s eta 0:02:54\n",
      "   --------------- ------------------------ 7.1/18.7 MB 67.3 kB/s eta 0:02:54\n",
      "   --------------- ------------------------ 7.1/18.7 MB 67.3 kB/s eta 0:02:54\n",
      "   --------------- ------------------------ 7.1/18.7 MB 67.3 kB/s eta 0:02:54\n",
      "   --------------- ------------------------ 7.1/18.7 MB 67.3 kB/s eta 0:02:54\n",
      "   --------------- ------------------------ 7.1/18.7 MB 67.3 kB/s eta 0:02:54\n",
      "   --------------- ------------------------ 7.1/18.7 MB 67.3 kB/s eta 0:02:54\n",
      "   --------------- ------------------------ 7.1/18.7 MB 67.3 kB/s eta 0:02:54\n",
      "   --------------- ------------------------ 7.1/18.7 MB 67.3 kB/s eta 0:02:54\n",
      "   --------------- ------------------------ 7.1/18.7 MB 67.3 kB/s eta 0:02:54\n",
      "   --------------- ------------------------ 7.3/18.7 MB 70.5 kB/s eta 0:02:42\n",
      "   --------------- ------------------------ 7.3/18.7 MB 70.5 kB/s eta 0:02:42\n",
      "   --------------- ------------------------ 7.3/18.7 MB 70.5 kB/s eta 0:02:42\n",
      "   --------------- ------------------------ 7.3/18.7 MB 70.5 kB/s eta 0:02:42\n",
      "   --------------- ------------------------ 7.3/18.7 MB 70.5 kB/s eta 0:02:42\n",
      "   --------------- ------------------------ 7.3/18.7 MB 70.5 kB/s eta 0:02:42\n",
      "   --------------- ------------------------ 7.3/18.7 MB 70.5 kB/s eta 0:02:42\n",
      "   --------------- ------------------------ 7.3/18.7 MB 70.5 kB/s eta 0:02:42\n",
      "   --------------- ------------------------ 7.3/18.7 MB 70.5 kB/s eta 0:02:42\n",
      "   --------------- ------------------------ 7.3/18.7 MB 70.5 kB/s eta 0:02:42\n",
      "   --------------- ------------------------ 7.3/18.7 MB 70.5 kB/s eta 0:02:42\n",
      "   --------------- ------------------------ 7.3/18.7 MB 70.5 kB/s eta 0:02:42\n",
      "   --------------- ------------------------ 7.3/18.7 MB 70.5 kB/s eta 0:02:42\n",
      "   --------------- ------------------------ 7.3/18.7 MB 70.5 kB/s eta 0:02:42\n",
      "   --------------- ------------------------ 7.3/18.7 MB 70.5 kB/s eta 0:02:42\n",
      "   --------------- ------------------------ 7.3/18.7 MB 70.5 kB/s eta 0:02:42\n",
      "   --------------- ------------------------ 7.3/18.7 MB 70.5 kB/s eta 0:02:42\n",
      "   --------------- ------------------------ 7.3/18.7 MB 70.5 kB/s eta 0:02:42\n",
      "   --------------- ------------------------ 7.3/18.7 MB 70.5 kB/s eta 0:02:42\n",
      "   ---------------- ----------------------- 7.6/18.7 MB 69.8 kB/s eta 0:02:40\n",
      "   ---------------- ----------------------- 7.6/18.7 MB 69.8 kB/s eta 0:02:40\n",
      "   ---------------- ----------------------- 7.6/18.7 MB 69.8 kB/s eta 0:02:40\n",
      "   ---------------- ----------------------- 7.6/18.7 MB 69.8 kB/s eta 0:02:40\n",
      "   ---------------- ----------------------- 7.6/18.7 MB 69.8 kB/s eta 0:02:40\n",
      "   ---------------- ----------------------- 7.6/18.7 MB 69.8 kB/s eta 0:02:40\n",
      "   ---------------- ----------------------- 7.6/18.7 MB 69.8 kB/s eta 0:02:40\n",
      "   ---------------- ----------------------- 7.6/18.7 MB 69.8 kB/s eta 0:02:40\n",
      "   ---------------- ----------------------- 7.6/18.7 MB 69.8 kB/s eta 0:02:40\n",
      "   ---------------- ----------------------- 7.6/18.7 MB 69.8 kB/s eta 0:02:40\n",
      "   ---------------- ----------------------- 7.6/18.7 MB 69.8 kB/s eta 0:02:40\n",
      "   ---------------- ----------------------- 7.6/18.7 MB 69.8 kB/s eta 0:02:40\n",
      "   ---------------- ----------------------- 7.6/18.7 MB 69.8 kB/s eta 0:02:40\n",
      "   ---------------- ----------------------- 7.6/18.7 MB 69.8 kB/s eta 0:02:40\n",
      "   ---------------- ----------------------- 7.6/18.7 MB 69.8 kB/s eta 0:02:40\n",
      "   ---------------- ----------------------- 7.6/18.7 MB 69.8 kB/s eta 0:02:40\n",
      "   ---------------- ----------------------- 7.6/18.7 MB 69.8 kB/s eta 0:02:40\n",
      "   ---------------- ----------------------- 7.6/18.7 MB 69.8 kB/s eta 0:02:40\n",
      "   ---------------- ----------------------- 7.6/18.7 MB 69.8 kB/s eta 0:02:40\n",
      "   ---------------- ----------------------- 7.6/18.7 MB 69.8 kB/s eta 0:02:40\n",
      "   ---------------- ----------------------- 7.6/18.7 MB 69.8 kB/s eta 0:02:40\n",
      "   ---------------- ----------------------- 7.6/18.7 MB 69.8 kB/s eta 0:02:40\n",
      "   ---------------- ----------------------- 7.6/18.7 MB 69.8 kB/s eta 0:02:40\n",
      "   ---------------- ----------------------- 7.6/18.7 MB 69.8 kB/s eta 0:02:40\n",
      "   ---------------- ----------------------- 7.6/18.7 MB 69.8 kB/s eta 0:02:40\n",
      "   ---------------- ----------------------- 7.6/18.7 MB 69.8 kB/s eta 0:02:40\n",
      "   ---------------- ----------------------- 7.6/18.7 MB 69.8 kB/s eta 0:02:40\n",
      "   ---------------- ----------------------- 7.6/18.7 MB 69.8 kB/s eta 0:02:40\n",
      "   ---------------- ----------------------- 7.6/18.7 MB 69.8 kB/s eta 0:02:40\n",
      "   ---------------- ----------------------- 7.9/18.7 MB 69.9 kB/s eta 0:02:36\n",
      "   ---------------- ----------------------- 7.9/18.7 MB 69.9 kB/s eta 0:02:36\n",
      "   ---------------- ----------------------- 7.9/18.7 MB 69.9 kB/s eta 0:02:36\n",
      "   ---------------- ----------------------- 7.9/18.7 MB 69.9 kB/s eta 0:02:36\n",
      "   ---------------- ----------------------- 7.9/18.7 MB 69.9 kB/s eta 0:02:36\n",
      "   ---------------- ----------------------- 7.9/18.7 MB 69.9 kB/s eta 0:02:36\n",
      "   ---------------- ----------------------- 7.9/18.7 MB 69.9 kB/s eta 0:02:36\n",
      "   ---------------- ----------------------- 7.9/18.7 MB 69.9 kB/s eta 0:02:36\n",
      "   ---------------- ----------------------- 7.9/18.7 MB 69.9 kB/s eta 0:02:36\n",
      "   ---------------- ----------------------- 7.9/18.7 MB 69.9 kB/s eta 0:02:36\n",
      "   ---------------- ----------------------- 7.9/18.7 MB 69.9 kB/s eta 0:02:36\n",
      "   ---------------- ----------------------- 7.9/18.7 MB 69.9 kB/s eta 0:02:36\n",
      "   ---------------- ----------------------- 7.9/18.7 MB 69.9 kB/s eta 0:02:36\n",
      "   ---------------- ----------------------- 7.9/18.7 MB 69.9 kB/s eta 0:02:36\n",
      "   ---------------- ----------------------- 7.9/18.7 MB 69.9 kB/s eta 0:02:36\n",
      "   ---------------- ----------------------- 7.9/18.7 MB 69.9 kB/s eta 0:02:36\n",
      "   ---------------- ----------------------- 7.9/18.7 MB 69.9 kB/s eta 0:02:36\n",
      "   ---------------- ----------------------- 7.9/18.7 MB 69.9 kB/s eta 0:02:36\n",
      "   ---------------- ----------------------- 7.9/18.7 MB 69.9 kB/s eta 0:02:36\n",
      "   ---------------- ----------------------- 7.9/18.7 MB 69.9 kB/s eta 0:02:36\n",
      "   ----------------- ---------------------- 8.1/18.7 MB 66.8 kB/s eta 0:02:39\n",
      "   ----------------- ---------------------- 8.1/18.7 MB 66.8 kB/s eta 0:02:39\n",
      "   ----------------- ---------------------- 8.1/18.7 MB 66.8 kB/s eta 0:02:39\n",
      "   ----------------- ---------------------- 8.1/18.7 MB 66.8 kB/s eta 0:02:39\n",
      "   ----------------- ---------------------- 8.1/18.7 MB 66.8 kB/s eta 0:02:39\n",
      "   ----------------- ---------------------- 8.1/18.7 MB 66.8 kB/s eta 0:02:39\n",
      "   ----------------- ---------------------- 8.1/18.7 MB 66.8 kB/s eta 0:02:39\n",
      "   ----------------- ---------------------- 8.1/18.7 MB 66.8 kB/s eta 0:02:39\n",
      "   ----------------- ---------------------- 8.1/18.7 MB 66.8 kB/s eta 0:02:39\n",
      "   ----------------- ---------------------- 8.1/18.7 MB 66.8 kB/s eta 0:02:39\n",
      "   ----------------- ---------------------- 8.1/18.7 MB 66.8 kB/s eta 0:02:39\n",
      "   ----------------- ---------------------- 8.1/18.7 MB 66.8 kB/s eta 0:02:39\n",
      "   ----------------- ---------------------- 8.1/18.7 MB 66.8 kB/s eta 0:02:39\n",
      "   ----------------- ---------------------- 8.1/18.7 MB 66.8 kB/s eta 0:02:39\n",
      "   ----------------- ---------------------- 8.1/18.7 MB 66.8 kB/s eta 0:02:39\n",
      "   ----------------- ---------------------- 8.1/18.7 MB 66.8 kB/s eta 0:02:39\n",
      "   ----------------- ---------------------- 8.1/18.7 MB 66.8 kB/s eta 0:02:39\n",
      "   ----------------- ---------------------- 8.1/18.7 MB 66.8 kB/s eta 0:02:39\n",
      "   ----------------- ---------------------- 8.1/18.7 MB 66.8 kB/s eta 0:02:39\n",
      "   ----------------- ---------------------- 8.1/18.7 MB 66.8 kB/s eta 0:02:39\n",
      "   ----------------- ---------------------- 8.1/18.7 MB 66.8 kB/s eta 0:02:39\n",
      "   ----------------- ---------------------- 8.1/18.7 MB 66.8 kB/s eta 0:02:39\n",
      "   ----------------- ---------------------- 8.4/18.7 MB 67.1 kB/s eta 0:02:35\n",
      "   ----------------- ---------------------- 8.4/18.7 MB 67.1 kB/s eta 0:02:35\n",
      "   ----------------- ---------------------- 8.4/18.7 MB 67.1 kB/s eta 0:02:35\n",
      "   ----------------- ---------------------- 8.4/18.7 MB 67.1 kB/s eta 0:02:35\n",
      "   ----------------- ---------------------- 8.4/18.7 MB 67.1 kB/s eta 0:02:35\n",
      "   ----------------- ---------------------- 8.4/18.7 MB 67.1 kB/s eta 0:02:35\n",
      "   ----------------- ---------------------- 8.4/18.7 MB 67.1 kB/s eta 0:02:35\n",
      "   ----------------- ---------------------- 8.4/18.7 MB 67.1 kB/s eta 0:02:35\n",
      "   ----------------- ---------------------- 8.4/18.7 MB 67.1 kB/s eta 0:02:35\n",
      "   ----------------- ---------------------- 8.4/18.7 MB 67.1 kB/s eta 0:02:35\n",
      "   ----------------- ---------------------- 8.4/18.7 MB 67.1 kB/s eta 0:02:35\n",
      "   ----------------- ---------------------- 8.4/18.7 MB 67.1 kB/s eta 0:02:35\n",
      "   ----------------- ---------------------- 8.4/18.7 MB 67.1 kB/s eta 0:02:35\n",
      "   ----------------- ---------------------- 8.4/18.7 MB 67.1 kB/s eta 0:02:35\n",
      "   ----------------- ---------------------- 8.4/18.7 MB 67.1 kB/s eta 0:02:35\n",
      "   ----------------- ---------------------- 8.4/18.7 MB 67.1 kB/s eta 0:02:35\n",
      "   ----------------- ---------------------- 8.4/18.7 MB 67.1 kB/s eta 0:02:35\n",
      "   ------------------ --------------------- 8.7/18.7 MB 66.0 kB/s eta 0:02:33\n",
      "   ------------------ --------------------- 8.7/18.7 MB 66.0 kB/s eta 0:02:33\n",
      "   ------------------ --------------------- 8.7/18.7 MB 66.0 kB/s eta 0:02:33\n",
      "   ------------------ --------------------- 8.7/18.7 MB 66.0 kB/s eta 0:02:33\n",
      "   ------------------ --------------------- 8.7/18.7 MB 66.0 kB/s eta 0:02:33\n",
      "   ------------------ --------------------- 8.7/18.7 MB 66.0 kB/s eta 0:02:33\n",
      "   ------------------ --------------------- 8.7/18.7 MB 66.0 kB/s eta 0:02:33\n",
      "   ------------------ --------------------- 8.7/18.7 MB 66.0 kB/s eta 0:02:33\n",
      "   ------------------ --------------------- 8.7/18.7 MB 66.0 kB/s eta 0:02:33\n",
      "   ------------------ --------------------- 8.7/18.7 MB 66.0 kB/s eta 0:02:33\n",
      "   ------------------ --------------------- 8.7/18.7 MB 66.0 kB/s eta 0:02:33\n",
      "   ------------------ --------------------- 8.7/18.7 MB 66.0 kB/s eta 0:02:33\n",
      "   ------------------ --------------------- 8.7/18.7 MB 66.0 kB/s eta 0:02:33\n",
      "   ------------------ --------------------- 8.7/18.7 MB 66.0 kB/s eta 0:02:33\n",
      "   ------------------ --------------------- 8.7/18.7 MB 66.0 kB/s eta 0:02:33\n",
      "   ------------------ --------------------- 8.7/18.7 MB 66.0 kB/s eta 0:02:33\n",
      "   ------------------ --------------------- 8.7/18.7 MB 66.0 kB/s eta 0:02:33\n",
      "   ------------------ --------------------- 8.7/18.7 MB 66.0 kB/s eta 0:02:33\n",
      "   ------------------ --------------------- 8.7/18.7 MB 66.0 kB/s eta 0:02:33\n",
      "   ------------------ --------------------- 8.7/18.7 MB 66.0 kB/s eta 0:02:33\n",
      "   ------------------ --------------------- 8.7/18.7 MB 66.0 kB/s eta 0:02:33\n",
      "   ------------------ --------------------- 8.7/18.7 MB 66.0 kB/s eta 0:02:33\n",
      "   ------------------ --------------------- 8.7/18.7 MB 66.0 kB/s eta 0:02:33\n",
      "   ------------------ --------------------- 8.7/18.7 MB 66.0 kB/s eta 0:02:33\n",
      "   ------------------- -------------------- 8.9/18.7 MB 57.3 kB/s eta 0:02:52\n",
      "   ------------------- -------------------- 8.9/18.7 MB 57.3 kB/s eta 0:02:52\n",
      "   ------------------- -------------------- 8.9/18.7 MB 57.3 kB/s eta 0:02:52\n",
      "   ------------------- -------------------- 8.9/18.7 MB 57.3 kB/s eta 0:02:52\n",
      "   ------------------- -------------------- 8.9/18.7 MB 57.3 kB/s eta 0:02:52\n",
      "   ------------------- -------------------- 8.9/18.7 MB 57.3 kB/s eta 0:02:52\n",
      "   ------------------- -------------------- 8.9/18.7 MB 57.3 kB/s eta 0:02:52\n",
      "   ------------------- -------------------- 8.9/18.7 MB 57.3 kB/s eta 0:02:52\n",
      "   ------------------- -------------------- 8.9/18.7 MB 57.3 kB/s eta 0:02:52\n",
      "   ------------------- -------------------- 8.9/18.7 MB 57.3 kB/s eta 0:02:52\n",
      "   ------------------- -------------------- 8.9/18.7 MB 57.3 kB/s eta 0:02:52\n",
      "   ------------------- -------------------- 8.9/18.7 MB 57.3 kB/s eta 0:02:52\n",
      "   ------------------- -------------------- 8.9/18.7 MB 57.3 kB/s eta 0:02:52\n",
      "   ------------------- -------------------- 8.9/18.7 MB 57.3 kB/s eta 0:02:52\n",
      "   ------------------- -------------------- 8.9/18.7 MB 57.3 kB/s eta 0:02:52\n",
      "   ------------------- -------------------- 8.9/18.7 MB 57.3 kB/s eta 0:02:52\n",
      "   ------------------- -------------------- 8.9/18.7 MB 57.3 kB/s eta 0:02:52\n",
      "   ------------------- -------------------- 8.9/18.7 MB 57.3 kB/s eta 0:02:52\n",
      "   ------------------- -------------------- 8.9/18.7 MB 57.3 kB/s eta 0:02:52\n",
      "   ------------------- -------------------- 8.9/18.7 MB 57.3 kB/s eta 0:02:52\n",
      "   ------------------- -------------------- 9.2/18.7 MB 57.1 kB/s eta 0:02:48\n",
      "   ------------------- -------------------- 9.2/18.7 MB 57.1 kB/s eta 0:02:48\n",
      "   ------------------- -------------------- 9.2/18.7 MB 57.1 kB/s eta 0:02:48\n",
      "   ------------------- -------------------- 9.2/18.7 MB 57.1 kB/s eta 0:02:48\n",
      "   ------------------- -------------------- 9.2/18.7 MB 57.1 kB/s eta 0:02:48\n",
      "   ------------------- -------------------- 9.2/18.7 MB 57.1 kB/s eta 0:02:48\n",
      "   ------------------- -------------------- 9.2/18.7 MB 57.1 kB/s eta 0:02:48\n",
      "   ------------------- -------------------- 9.2/18.7 MB 57.1 kB/s eta 0:02:48\n",
      "   ------------------- -------------------- 9.2/18.7 MB 57.1 kB/s eta 0:02:48\n",
      "   ------------------- -------------------- 9.2/18.7 MB 57.1 kB/s eta 0:02:48\n",
      "   ------------------- -------------------- 9.2/18.7 MB 57.1 kB/s eta 0:02:48\n",
      "   ------------------- -------------------- 9.2/18.7 MB 57.1 kB/s eta 0:02:48\n",
      "   ------------------- -------------------- 9.2/18.7 MB 57.1 kB/s eta 0:02:48\n",
      "   ------------------- -------------------- 9.2/18.7 MB 57.1 kB/s eta 0:02:48\n",
      "   ------------------- -------------------- 9.2/18.7 MB 57.1 kB/s eta 0:02:48\n",
      "   ------------------- -------------------- 9.2/18.7 MB 57.1 kB/s eta 0:02:48\n",
      "   ------------------- -------------------- 9.2/18.7 MB 57.1 kB/s eta 0:02:48\n",
      "   ------------------- -------------------- 9.2/18.7 MB 57.1 kB/s eta 0:02:48\n",
      "   ------------------- -------------------- 9.2/18.7 MB 57.1 kB/s eta 0:02:48\n",
      "   ------------------- -------------------- 9.2/18.7 MB 57.1 kB/s eta 0:02:48\n",
      "   ------------------- -------------------- 9.2/18.7 MB 57.1 kB/s eta 0:02:48\n",
      "   ------------------- -------------------- 9.2/18.7 MB 57.1 kB/s eta 0:02:48\n",
      "   ------------------- -------------------- 9.2/18.7 MB 57.1 kB/s eta 0:02:48\n",
      "   ------------------- -------------------- 9.2/18.7 MB 57.1 kB/s eta 0:02:48\n",
      "   ------------------- -------------------- 9.2/18.7 MB 57.1 kB/s eta 0:02:48\n",
      "   ------------------- -------------------- 9.2/18.7 MB 57.1 kB/s eta 0:02:48\n",
      "   ------------------- -------------------- 9.2/18.7 MB 57.1 kB/s eta 0:02:48\n",
      "   ------------------- -------------------- 9.2/18.7 MB 57.1 kB/s eta 0:02:48\n",
      "   ------------------- -------------------- 9.2/18.7 MB 57.1 kB/s eta 0:02:48\n",
      "   ------------------- -------------------- 9.2/18.7 MB 57.1 kB/s eta 0:02:48\n",
      "   ------------------- -------------------- 9.2/18.7 MB 57.1 kB/s eta 0:02:48\n",
      "   ------------------- -------------------- 9.2/18.7 MB 57.1 kB/s eta 0:02:48\n",
      "   ------------------- -------------------- 9.2/18.7 MB 57.1 kB/s eta 0:02:48\n",
      "   ------------------- -------------------- 9.2/18.7 MB 57.1 kB/s eta 0:02:48\n",
      "   ------------------- -------------------- 9.2/18.7 MB 57.1 kB/s eta 0:02:48\n",
      "   -------------------- ------------------- 9.4/18.7 MB 54.2 kB/s eta 0:02:52\n",
      "   -------------------- ------------------- 9.4/18.7 MB 54.2 kB/s eta 0:02:52\n",
      "   -------------------- ------------------- 9.4/18.7 MB 54.2 kB/s eta 0:02:52\n",
      "   -------------------- ------------------- 9.4/18.7 MB 54.2 kB/s eta 0:02:52\n",
      "   -------------------- ------------------- 9.4/18.7 MB 54.2 kB/s eta 0:02:52\n",
      "   -------------------- ------------------- 9.4/18.7 MB 54.2 kB/s eta 0:02:52\n",
      "   -------------------- ------------------- 9.4/18.7 MB 54.2 kB/s eta 0:02:52\n",
      "   -------------------- ------------------- 9.4/18.7 MB 54.2 kB/s eta 0:02:52\n",
      "   -------------------- ------------------- 9.4/18.7 MB 54.2 kB/s eta 0:02:52\n",
      "   -------------------- ------------------- 9.4/18.7 MB 54.2 kB/s eta 0:02:52\n",
      "   -------------------- ------------------- 9.4/18.7 MB 54.2 kB/s eta 0:02:52\n",
      "   -------------------- ------------------- 9.4/18.7 MB 54.2 kB/s eta 0:02:52\n",
      "   -------------------- ------------------- 9.4/18.7 MB 54.2 kB/s eta 0:02:52\n",
      "   -------------------- ------------------- 9.4/18.7 MB 54.2 kB/s eta 0:02:52\n",
      "   -------------------- ------------------- 9.4/18.7 MB 54.2 kB/s eta 0:02:52\n",
      "   -------------------- ------------------- 9.4/18.7 MB 54.2 kB/s eta 0:02:52\n",
      "   -------------------- ------------------- 9.7/18.7 MB 56.3 kB/s eta 0:02:41\n",
      "   -------------------- ------------------- 9.7/18.7 MB 56.3 kB/s eta 0:02:41\n",
      "   -------------------- ------------------- 9.7/18.7 MB 56.3 kB/s eta 0:02:41\n",
      "   -------------------- ------------------- 9.7/18.7 MB 56.3 kB/s eta 0:02:41\n",
      "   -------------------- ------------------- 9.7/18.7 MB 56.3 kB/s eta 0:02:41\n",
      "   -------------------- ------------------- 9.7/18.7 MB 56.3 kB/s eta 0:02:41\n",
      "   -------------------- ------------------- 9.7/18.7 MB 56.3 kB/s eta 0:02:41\n",
      "   -------------------- ------------------- 9.7/18.7 MB 56.3 kB/s eta 0:02:41\n",
      "   -------------------- ------------------- 9.7/18.7 MB 56.3 kB/s eta 0:02:41\n",
      "   -------------------- ------------------- 9.7/18.7 MB 56.3 kB/s eta 0:02:41\n",
      "   -------------------- ------------------- 9.7/18.7 MB 56.3 kB/s eta 0:02:41\n",
      "   -------------------- ------------------- 9.7/18.7 MB 56.3 kB/s eta 0:02:41\n",
      "   -------------------- ------------------- 9.7/18.7 MB 56.3 kB/s eta 0:02:41\n",
      "   -------------------- ------------------- 9.7/18.7 MB 56.3 kB/s eta 0:02:41\n",
      "   -------------------- ------------------- 9.7/18.7 MB 56.3 kB/s eta 0:02:41\n",
      "   -------------------- ------------------- 9.7/18.7 MB 56.3 kB/s eta 0:02:41\n",
      "   -------------------- ------------------- 9.7/18.7 MB 56.3 kB/s eta 0:02:41\n",
      "   -------------------- ------------------- 9.7/18.7 MB 56.3 kB/s eta 0:02:41\n",
      "   -------------------- ------------------- 9.7/18.7 MB 56.3 kB/s eta 0:02:41\n",
      "   -------------------- ------------------- 9.7/18.7 MB 56.3 kB/s eta 0:02:41\n",
      "   --------------------- ------------------ 10.0/18.7 MB 57.1 kB/s eta 0:02:34\n",
      "   --------------------- ------------------ 10.0/18.7 MB 57.1 kB/s eta 0:02:34\n",
      "   --------------------- ------------------ 10.0/18.7 MB 57.1 kB/s eta 0:02:34\n",
      "   --------------------- ------------------ 10.0/18.7 MB 57.1 kB/s eta 0:02:34\n",
      "   --------------------- ------------------ 10.0/18.7 MB 57.1 kB/s eta 0:02:34\n",
      "   --------------------- ------------------ 10.0/18.7 MB 57.1 kB/s eta 0:02:34\n",
      "   --------------------- ------------------ 10.0/18.7 MB 57.1 kB/s eta 0:02:34\n",
      "   --------------------- ------------------ 10.0/18.7 MB 57.1 kB/s eta 0:02:34\n",
      "   --------------------- ------------------ 10.0/18.7 MB 57.1 kB/s eta 0:02:34\n",
      "   --------------------- ------------------ 10.0/18.7 MB 57.1 kB/s eta 0:02:34\n",
      "   --------------------- ------------------ 10.0/18.7 MB 57.1 kB/s eta 0:02:34\n",
      "   --------------------- ------------------ 10.0/18.7 MB 57.1 kB/s eta 0:02:34\n",
      "   --------------------- ------------------ 10.0/18.7 MB 57.1 kB/s eta 0:02:34\n",
      "   --------------------- ------------------ 10.0/18.7 MB 57.1 kB/s eta 0:02:34\n",
      "   --------------------- ------------------ 10.0/18.7 MB 57.1 kB/s eta 0:02:34\n",
      "   --------------------- ------------------ 10.0/18.7 MB 57.1 kB/s eta 0:02:34\n",
      "   --------------------- ------------------ 10.0/18.7 MB 57.1 kB/s eta 0:02:34\n",
      "   --------------------- ------------------ 10.0/18.7 MB 57.1 kB/s eta 0:02:34\n",
      "   --------------------- ------------------ 10.0/18.7 MB 57.1 kB/s eta 0:02:34\n",
      "   --------------------- ------------------ 10.0/18.7 MB 57.1 kB/s eta 0:02:34\n",
      "   --------------------- ------------------ 10.0/18.7 MB 57.1 kB/s eta 0:02:34\n",
      "   --------------------- ------------------ 10.0/18.7 MB 57.1 kB/s eta 0:02:34\n",
      "   --------------------- ------------------ 10.0/18.7 MB 57.1 kB/s eta 0:02:34\n",
      "   --------------------- ------------------ 10.0/18.7 MB 57.1 kB/s eta 0:02:34\n",
      "   --------------------- ------------------ 10.0/18.7 MB 57.1 kB/s eta 0:02:34\n",
      "   --------------------- ------------------ 10.0/18.7 MB 57.1 kB/s eta 0:02:34\n",
      "   --------------------- ------------------ 10.0/18.7 MB 57.1 kB/s eta 0:02:34\n",
      "   --------------------- ------------------ 10.0/18.7 MB 57.1 kB/s eta 0:02:34\n",
      "   --------------------- ------------------ 10.0/18.7 MB 57.1 kB/s eta 0:02:34\n",
      "   --------------------- ------------------ 10.2/18.7 MB 52.1 kB/s eta 0:02:44\n",
      "   --------------------- ------------------ 10.2/18.7 MB 52.1 kB/s eta 0:02:44\n",
      "   --------------------- ------------------ 10.2/18.7 MB 52.1 kB/s eta 0:02:44\n",
      "   --------------------- ------------------ 10.2/18.7 MB 52.1 kB/s eta 0:02:44\n",
      "   --------------------- ------------------ 10.2/18.7 MB 52.1 kB/s eta 0:02:44\n",
      "   --------------------- ------------------ 10.2/18.7 MB 52.1 kB/s eta 0:02:44\n",
      "   --------------------- ------------------ 10.2/18.7 MB 52.1 kB/s eta 0:02:44\n",
      "   --------------------- ------------------ 10.2/18.7 MB 52.1 kB/s eta 0:02:44\n",
      "   --------------------- ------------------ 10.2/18.7 MB 52.1 kB/s eta 0:02:44\n",
      "   --------------------- ------------------ 10.2/18.7 MB 52.1 kB/s eta 0:02:44\n",
      "   --------------------- ------------------ 10.2/18.7 MB 52.1 kB/s eta 0:02:44\n",
      "   --------------------- ------------------ 10.2/18.7 MB 52.1 kB/s eta 0:02:44\n",
      "   --------------------- ------------------ 10.2/18.7 MB 52.1 kB/s eta 0:02:44\n",
      "   --------------------- ------------------ 10.2/18.7 MB 52.1 kB/s eta 0:02:44\n",
      "   --------------------- ------------------ 10.2/18.7 MB 52.1 kB/s eta 0:02:44\n",
      "   --------------------- ------------------ 10.2/18.7 MB 52.1 kB/s eta 0:02:44\n",
      "   --------------------- ------------------ 10.2/18.7 MB 52.1 kB/s eta 0:02:44\n",
      "   --------------------- ------------------ 10.2/18.7 MB 52.1 kB/s eta 0:02:44\n",
      "   --------------------- ------------------ 10.2/18.7 MB 52.1 kB/s eta 0:02:44\n",
      "   --------------------- ------------------ 10.2/18.7 MB 52.1 kB/s eta 0:02:44\n",
      "   --------------------- ------------------ 10.2/18.7 MB 52.1 kB/s eta 0:02:44\n",
      "   --------------------- ------------------ 10.2/18.7 MB 52.1 kB/s eta 0:02:44\n",
      "   --------------------- ------------------ 10.2/18.7 MB 52.1 kB/s eta 0:02:44\n",
      "   --------------------- ------------------ 10.2/18.7 MB 52.1 kB/s eta 0:02:44\n",
      "   --------------------- ------------------ 10.2/18.7 MB 52.1 kB/s eta 0:02:44\n",
      "   --------------------- ------------------ 10.2/18.7 MB 52.1 kB/s eta 0:02:44\n",
      "   --------------------- ------------------ 10.2/18.7 MB 52.1 kB/s eta 0:02:44\n",
      "   --------------------- ------------------ 10.2/18.7 MB 52.1 kB/s eta 0:02:44\n",
      "   ---------------------- ----------------- 10.5/18.7 MB 49.3 kB/s eta 0:02:48\n",
      "   ---------------------- ----------------- 10.5/18.7 MB 49.3 kB/s eta 0:02:48\n",
      "   ---------------------- ----------------- 10.5/18.7 MB 49.3 kB/s eta 0:02:48\n",
      "   ---------------------- ----------------- 10.5/18.7 MB 49.3 kB/s eta 0:02:48\n",
      "   ---------------------- ----------------- 10.5/18.7 MB 49.3 kB/s eta 0:02:48\n",
      "   ---------------------- ----------------- 10.5/18.7 MB 49.3 kB/s eta 0:02:48\n",
      "   ---------------------- ----------------- 10.5/18.7 MB 49.3 kB/s eta 0:02:48\n",
      "   ---------------------- ----------------- 10.5/18.7 MB 49.3 kB/s eta 0:02:48\n",
      "   ---------------------- ----------------- 10.5/18.7 MB 49.3 kB/s eta 0:02:48\n",
      "   ---------------------- ----------------- 10.5/18.7 MB 49.3 kB/s eta 0:02:48\n",
      "   ---------------------- ----------------- 10.5/18.7 MB 49.3 kB/s eta 0:02:48\n",
      "   ---------------------- ----------------- 10.5/18.7 MB 49.3 kB/s eta 0:02:48\n",
      "   ---------------------- ----------------- 10.5/18.7 MB 49.3 kB/s eta 0:02:48\n",
      "   ---------------------- ----------------- 10.5/18.7 MB 49.3 kB/s eta 0:02:48\n",
      "   ---------------------- ----------------- 10.5/18.7 MB 49.3 kB/s eta 0:02:48\n",
      "   ---------------------- ----------------- 10.7/18.7 MB 52.6 kB/s eta 0:02:32\n",
      "   ---------------------- ----------------- 10.7/18.7 MB 52.6 kB/s eta 0:02:32\n",
      "   ---------------------- ----------------- 10.7/18.7 MB 52.6 kB/s eta 0:02:32\n",
      "   ---------------------- ----------------- 10.7/18.7 MB 52.6 kB/s eta 0:02:32\n",
      "   ---------------------- ----------------- 10.7/18.7 MB 52.6 kB/s eta 0:02:32\n",
      "   ---------------------- ----------------- 10.7/18.7 MB 52.6 kB/s eta 0:02:32\n",
      "   ---------------------- ----------------- 10.7/18.7 MB 52.6 kB/s eta 0:02:32\n",
      "   ---------------------- ----------------- 10.7/18.7 MB 52.6 kB/s eta 0:02:32\n",
      "   ---------------------- ----------------- 10.7/18.7 MB 52.6 kB/s eta 0:02:32\n",
      "   ---------------------- ----------------- 10.7/18.7 MB 52.6 kB/s eta 0:02:32\n",
      "   ---------------------- ----------------- 10.7/18.7 MB 52.6 kB/s eta 0:02:32\n",
      "   ---------------------- ----------------- 10.7/18.7 MB 52.6 kB/s eta 0:02:32\n",
      "   ---------------------- ----------------- 10.7/18.7 MB 52.6 kB/s eta 0:02:32\n",
      "   ---------------------- ----------------- 10.7/18.7 MB 52.6 kB/s eta 0:02:32\n",
      "   ---------------------- ----------------- 10.7/18.7 MB 52.6 kB/s eta 0:02:32\n",
      "   ----------------------- ---------------- 11.0/18.7 MB 61.6 kB/s eta 0:02:06\n",
      "   ----------------------- ---------------- 11.0/18.7 MB 61.6 kB/s eta 0:02:06\n",
      "   ----------------------- ---------------- 11.0/18.7 MB 61.6 kB/s eta 0:02:06\n",
      "   ----------------------- ---------------- 11.0/18.7 MB 61.6 kB/s eta 0:02:06\n",
      "   ----------------------- ---------------- 11.0/18.7 MB 61.6 kB/s eta 0:02:06\n",
      "   ----------------------- ---------------- 11.0/18.7 MB 61.6 kB/s eta 0:02:06\n",
      "   ----------------------- ---------------- 11.0/18.7 MB 61.6 kB/s eta 0:02:06\n",
      "   ----------------------- ---------------- 11.0/18.7 MB 61.6 kB/s eta 0:02:06\n",
      "   ----------------------- ---------------- 11.0/18.7 MB 61.6 kB/s eta 0:02:06\n",
      "   ----------------------- ---------------- 11.0/18.7 MB 61.6 kB/s eta 0:02:06\n",
      "   ----------------------- ---------------- 11.0/18.7 MB 61.6 kB/s eta 0:02:06\n",
      "   ----------------------- ---------------- 11.0/18.7 MB 61.6 kB/s eta 0:02:06\n",
      "   ----------------------- ---------------- 11.0/18.7 MB 61.6 kB/s eta 0:02:06\n",
      "   ----------------------- ---------------- 11.0/18.7 MB 61.6 kB/s eta 0:02:06\n",
      "   ----------------------- ---------------- 11.0/18.7 MB 61.6 kB/s eta 0:02:06\n",
      "   ----------------------- ---------------- 11.0/18.7 MB 61.6 kB/s eta 0:02:06\n",
      "   ----------------------- ---------------- 11.0/18.7 MB 61.6 kB/s eta 0:02:06\n",
      "   ----------------------- ---------------- 11.0/18.7 MB 61.6 kB/s eta 0:02:06\n",
      "   ----------------------- ---------------- 11.0/18.7 MB 61.6 kB/s eta 0:02:06\n",
      "   ----------------------- ---------------- 11.0/18.7 MB 61.6 kB/s eta 0:02:06\n",
      "   ------------------------ --------------- 11.3/18.7 MB 61.9 kB/s eta 0:02:01\n",
      "   ------------------------ --------------- 11.3/18.7 MB 61.9 kB/s eta 0:02:01\n",
      "   ------------------------ --------------- 11.3/18.7 MB 61.9 kB/s eta 0:02:01\n",
      "   ------------------------ --------------- 11.3/18.7 MB 61.9 kB/s eta 0:02:01\n",
      "   ------------------------ --------------- 11.3/18.7 MB 61.9 kB/s eta 0:02:01\n",
      "   ------------------------ --------------- 11.3/18.7 MB 61.9 kB/s eta 0:02:01\n",
      "   ------------------------ --------------- 11.3/18.7 MB 61.9 kB/s eta 0:02:01\n",
      "   ------------------------ --------------- 11.3/18.7 MB 61.9 kB/s eta 0:02:01\n",
      "   ------------------------ --------------- 11.3/18.7 MB 61.9 kB/s eta 0:02:01\n",
      "   ------------------------ --------------- 11.3/18.7 MB 61.9 kB/s eta 0:02:01\n",
      "   ------------------------ --------------- 11.3/18.7 MB 61.9 kB/s eta 0:02:01\n",
      "   ------------------------ --------------- 11.3/18.7 MB 61.9 kB/s eta 0:02:01\n",
      "   ------------------------ --------------- 11.3/18.7 MB 61.9 kB/s eta 0:02:01\n",
      "   ------------------------ --------------- 11.3/18.7 MB 61.9 kB/s eta 0:02:01\n",
      "   ------------------------ --------------- 11.3/18.7 MB 61.9 kB/s eta 0:02:01\n",
      "   ------------------------ --------------- 11.3/18.7 MB 61.9 kB/s eta 0:02:01\n",
      "   ------------------------ --------------- 11.3/18.7 MB 61.9 kB/s eta 0:02:01\n",
      "   ------------------------ --------------- 11.3/18.7 MB 61.9 kB/s eta 0:02:01\n",
      "   ------------------------ --------------- 11.3/18.7 MB 61.9 kB/s eta 0:02:01\n",
      "   ------------------------ --------------- 11.3/18.7 MB 61.9 kB/s eta 0:02:01\n",
      "   ------------------------ --------------- 11.3/18.7 MB 61.9 kB/s eta 0:02:01\n",
      "   ------------------------ --------------- 11.5/18.7 MB 59.0 kB/s eta 0:02:03\n",
      "   ------------------------ --------------- 11.5/18.7 MB 59.0 kB/s eta 0:02:03\n",
      "   ------------------------ --------------- 11.5/18.7 MB 59.0 kB/s eta 0:02:03\n",
      "   ------------------------ --------------- 11.5/18.7 MB 59.0 kB/s eta 0:02:03\n",
      "   ------------------------ --------------- 11.5/18.7 MB 59.0 kB/s eta 0:02:03\n",
      "   ------------------------ --------------- 11.5/18.7 MB 59.0 kB/s eta 0:02:03\n",
      "   ------------------------ --------------- 11.5/18.7 MB 59.0 kB/s eta 0:02:03\n",
      "   ------------------------ --------------- 11.5/18.7 MB 59.0 kB/s eta 0:02:03\n",
      "   ------------------------ --------------- 11.5/18.7 MB 59.0 kB/s eta 0:02:03\n",
      "   ------------------------ --------------- 11.5/18.7 MB 59.0 kB/s eta 0:02:03\n",
      "   ------------------------ --------------- 11.5/18.7 MB 59.0 kB/s eta 0:02:03\n",
      "   ------------------------ --------------- 11.5/18.7 MB 59.0 kB/s eta 0:02:03\n",
      "   ------------------------ --------------- 11.5/18.7 MB 59.0 kB/s eta 0:02:03\n",
      "   ------------------------ --------------- 11.5/18.7 MB 59.0 kB/s eta 0:02:03\n",
      "   ------------------------ --------------- 11.5/18.7 MB 59.0 kB/s eta 0:02:03\n",
      "   ------------------------ --------------- 11.5/18.7 MB 59.0 kB/s eta 0:02:03\n",
      "   ------------------------ --------------- 11.5/18.7 MB 59.0 kB/s eta 0:02:03\n",
      "   ------------------------ --------------- 11.5/18.7 MB 59.0 kB/s eta 0:02:03\n",
      "   ------------------------ --------------- 11.5/18.7 MB 59.0 kB/s eta 0:02:03\n",
      "   ------------------------ --------------- 11.5/18.7 MB 59.0 kB/s eta 0:02:03\n",
      "   ------------------------ --------------- 11.5/18.7 MB 59.0 kB/s eta 0:02:03\n",
      "   ------------------------ --------------- 11.5/18.7 MB 59.0 kB/s eta 0:02:03\n",
      "   ------------------------ --------------- 11.5/18.7 MB 59.0 kB/s eta 0:02:03\n",
      "   ------------------------ --------------- 11.5/18.7 MB 59.0 kB/s eta 0:02:03\n",
      "   ------------------------ --------------- 11.5/18.7 MB 59.0 kB/s eta 0:02:03\n",
      "   ------------------------- -------------- 11.8/18.7 MB 60.9 kB/s eta 0:01:54\n",
      "   ------------------------- -------------- 11.8/18.7 MB 60.9 kB/s eta 0:01:54\n",
      "   ------------------------- -------------- 11.8/18.7 MB 60.9 kB/s eta 0:01:54\n",
      "   ------------------------- -------------- 11.8/18.7 MB 60.9 kB/s eta 0:01:54\n",
      "   ------------------------- -------------- 11.8/18.7 MB 60.9 kB/s eta 0:01:54\n",
      "   ------------------------- -------------- 11.8/18.7 MB 60.9 kB/s eta 0:01:54\n",
      "   ------------------------- -------------- 11.8/18.7 MB 60.9 kB/s eta 0:01:54\n",
      "   ------------------------- -------------- 11.8/18.7 MB 60.9 kB/s eta 0:01:54\n",
      "   ------------------------- -------------- 11.8/18.7 MB 60.9 kB/s eta 0:01:54\n",
      "   ------------------------- -------------- 11.8/18.7 MB 60.9 kB/s eta 0:01:54\n",
      "   ------------------------- -------------- 11.8/18.7 MB 60.9 kB/s eta 0:01:54\n",
      "   ------------------------- -------------- 11.8/18.7 MB 60.9 kB/s eta 0:01:54\n",
      "   ------------------------- -------------- 11.8/18.7 MB 60.9 kB/s eta 0:01:54\n",
      "   ------------------------- -------------- 11.8/18.7 MB 60.9 kB/s eta 0:01:54\n",
      "   ------------------------- -------------- 11.8/18.7 MB 60.9 kB/s eta 0:01:54\n",
      "   ------------------------- -------------- 11.8/18.7 MB 60.9 kB/s eta 0:01:54\n",
      "   ------------------------- -------------- 11.8/18.7 MB 60.9 kB/s eta 0:01:54\n",
      "   ------------------------- -------------- 11.8/18.7 MB 60.9 kB/s eta 0:01:54\n",
      "   ------------------------- -------------- 11.8/18.7 MB 60.9 kB/s eta 0:01:54\n",
      "   ------------------------- -------------- 11.8/18.7 MB 60.9 kB/s eta 0:01:54\n",
      "   ------------------------- -------------- 11.8/18.7 MB 60.9 kB/s eta 0:01:54\n",
      "   ------------------------- -------------- 11.8/18.7 MB 60.9 kB/s eta 0:01:54\n",
      "   ------------------------- -------------- 12.1/18.7 MB 63.7 kB/s eta 0:01:45\n",
      "   ------------------------- -------------- 12.1/18.7 MB 63.7 kB/s eta 0:01:45\n",
      "   ------------------------- -------------- 12.1/18.7 MB 63.7 kB/s eta 0:01:45\n",
      "   ------------------------- -------------- 12.1/18.7 MB 63.7 kB/s eta 0:01:45\n",
      "   ------------------------- -------------- 12.1/18.7 MB 63.7 kB/s eta 0:01:45\n",
      "   ------------------------- -------------- 12.1/18.7 MB 63.7 kB/s eta 0:01:45\n",
      "   ------------------------- -------------- 12.1/18.7 MB 63.7 kB/s eta 0:01:45\n",
      "   ------------------------- -------------- 12.1/18.7 MB 63.7 kB/s eta 0:01:45\n",
      "   ------------------------- -------------- 12.1/18.7 MB 63.7 kB/s eta 0:01:45\n",
      "   ------------------------- -------------- 12.1/18.7 MB 63.7 kB/s eta 0:01:45\n",
      "   ------------------------- -------------- 12.1/18.7 MB 63.7 kB/s eta 0:01:45\n",
      "   ------------------------- -------------- 12.1/18.7 MB 63.7 kB/s eta 0:01:45\n",
      "   ------------------------- -------------- 12.1/18.7 MB 63.7 kB/s eta 0:01:45\n",
      "   ------------------------- -------------- 12.1/18.7 MB 63.7 kB/s eta 0:01:45\n",
      "   ------------------------- -------------- 12.1/18.7 MB 63.7 kB/s eta 0:01:45\n",
      "   ------------------------- -------------- 12.1/18.7 MB 63.7 kB/s eta 0:01:45\n",
      "   ------------------------- -------------- 12.1/18.7 MB 63.7 kB/s eta 0:01:45\n",
      "   ------------------------- -------------- 12.1/18.7 MB 63.7 kB/s eta 0:01:45\n",
      "   ------------------------- -------------- 12.1/18.7 MB 63.7 kB/s eta 0:01:45\n",
      "   ------------------------- -------------- 12.1/18.7 MB 63.7 kB/s eta 0:01:45\n",
      "   -------------------------- ------------- 12.3/18.7 MB 63.4 kB/s eta 0:01:42\n",
      "   -------------------------- ------------- 12.3/18.7 MB 63.4 kB/s eta 0:01:42\n",
      "   -------------------------- ------------- 12.3/18.7 MB 63.4 kB/s eta 0:01:42\n",
      "   -------------------------- ------------- 12.3/18.7 MB 63.4 kB/s eta 0:01:42\n",
      "   -------------------------- ------------- 12.3/18.7 MB 63.4 kB/s eta 0:01:42\n",
      "   -------------------------- ------------- 12.3/18.7 MB 63.4 kB/s eta 0:01:42\n",
      "   -------------------------- ------------- 12.3/18.7 MB 63.4 kB/s eta 0:01:42\n",
      "   -------------------------- ------------- 12.3/18.7 MB 63.4 kB/s eta 0:01:42\n",
      "   -------------------------- ------------- 12.3/18.7 MB 63.4 kB/s eta 0:01:42\n",
      "   -------------------------- ------------- 12.3/18.7 MB 63.4 kB/s eta 0:01:42\n",
      "   -------------------------- ------------- 12.3/18.7 MB 63.4 kB/s eta 0:01:42\n",
      "   -------------------------- ------------- 12.3/18.7 MB 63.4 kB/s eta 0:01:42\n",
      "   -------------------------- ------------- 12.3/18.7 MB 63.4 kB/s eta 0:01:42\n",
      "   -------------------------- ------------- 12.3/18.7 MB 63.4 kB/s eta 0:01:42\n",
      "   -------------------------- ------------- 12.3/18.7 MB 63.4 kB/s eta 0:01:42\n",
      "   -------------------------- ------------- 12.3/18.7 MB 63.4 kB/s eta 0:01:42\n",
      "   -------------------------- ------------- 12.3/18.7 MB 63.4 kB/s eta 0:01:42\n",
      "   -------------------------- ------------- 12.3/18.7 MB 63.4 kB/s eta 0:01:42\n",
      "   -------------------------- ------------- 12.3/18.7 MB 63.4 kB/s eta 0:01:42\n",
      "   -------------------------- ------------- 12.3/18.7 MB 63.4 kB/s eta 0:01:42\n",
      "   -------------------------- ------------- 12.3/18.7 MB 63.4 kB/s eta 0:01:42\n",
      "   -------------------------- ------------- 12.3/18.7 MB 63.4 kB/s eta 0:01:42\n",
      "   -------------------------- ------------- 12.3/18.7 MB 63.4 kB/s eta 0:01:42\n",
      "   -------------------------- ------------- 12.3/18.7 MB 63.4 kB/s eta 0:01:42\n",
      "   -------------------------- ------------- 12.3/18.7 MB 63.4 kB/s eta 0:01:42\n",
      "   -------------------------- ------------- 12.6/18.7 MB 56.6 kB/s eta 0:01:49\n",
      "   -------------------------- ------------- 12.6/18.7 MB 56.6 kB/s eta 0:01:49\n",
      "   -------------------------- ------------- 12.6/18.7 MB 56.6 kB/s eta 0:01:49\n",
      "   -------------------------- ------------- 12.6/18.7 MB 56.6 kB/s eta 0:01:49\n",
      "   -------------------------- ------------- 12.6/18.7 MB 56.6 kB/s eta 0:01:49\n",
      "   -------------------------- ------------- 12.6/18.7 MB 56.6 kB/s eta 0:01:49\n",
      "   -------------------------- ------------- 12.6/18.7 MB 56.6 kB/s eta 0:01:49\n",
      "   -------------------------- ------------- 12.6/18.7 MB 56.6 kB/s eta 0:01:49\n",
      "   -------------------------- ------------- 12.6/18.7 MB 56.6 kB/s eta 0:01:49\n",
      "   -------------------------- ------------- 12.6/18.7 MB 56.6 kB/s eta 0:01:49\n",
      "   -------------------------- ------------- 12.6/18.7 MB 56.6 kB/s eta 0:01:49\n",
      "   -------------------------- ------------- 12.6/18.7 MB 56.6 kB/s eta 0:01:49\n",
      "   -------------------------- ------------- 12.6/18.7 MB 56.6 kB/s eta 0:01:49\n",
      "   -------------------------- ------------- 12.6/18.7 MB 56.6 kB/s eta 0:01:49\n",
      "   -------------------------- ------------- 12.6/18.7 MB 56.6 kB/s eta 0:01:49\n",
      "   -------------------------- ------------- 12.6/18.7 MB 56.6 kB/s eta 0:01:49\n",
      "   -------------------------- ------------- 12.6/18.7 MB 56.6 kB/s eta 0:01:49\n",
      "   -------------------------- ------------- 12.6/18.7 MB 56.6 kB/s eta 0:01:49\n",
      "   -------------------------- ------------- 12.6/18.7 MB 56.6 kB/s eta 0:01:49\n",
      "   -------------------------- ------------- 12.6/18.7 MB 56.6 kB/s eta 0:01:49\n",
      "   -------------------------- ------------- 12.6/18.7 MB 56.6 kB/s eta 0:01:49\n",
      "   -------------------------- ------------- 12.6/18.7 MB 56.6 kB/s eta 0:01:49\n",
      "   -------------------------- ------------- 12.6/18.7 MB 56.6 kB/s eta 0:01:49\n",
      "   -------------------------- ------------- 12.6/18.7 MB 56.6 kB/s eta 0:01:49\n",
      "   -------------------------- ------------- 12.6/18.7 MB 56.6 kB/s eta 0:01:49\n",
      "   -------------------------- ------------- 12.6/18.7 MB 56.6 kB/s eta 0:01:49\n",
      "   --------------------------- ------------ 12.8/18.7 MB 54.0 kB/s eta 0:01:50\n",
      "   --------------------------- ------------ 12.8/18.7 MB 54.0 kB/s eta 0:01:50\n",
      "   --------------------------- ------------ 12.8/18.7 MB 54.0 kB/s eta 0:01:50\n",
      "   --------------------------- ------------ 12.8/18.7 MB 54.0 kB/s eta 0:01:50\n",
      "   --------------------------- ------------ 12.8/18.7 MB 54.0 kB/s eta 0:01:50\n",
      "   --------------------------- ------------ 12.8/18.7 MB 54.0 kB/s eta 0:01:50\n",
      "   --------------------------- ------------ 12.8/18.7 MB 54.0 kB/s eta 0:01:50\n",
      "   --------------------------- ------------ 12.8/18.7 MB 54.0 kB/s eta 0:01:50\n",
      "   --------------------------- ------------ 12.8/18.7 MB 54.0 kB/s eta 0:01:50\n",
      "   --------------------------- ------------ 12.8/18.7 MB 54.0 kB/s eta 0:01:50\n",
      "   --------------------------- ------------ 12.8/18.7 MB 54.0 kB/s eta 0:01:50\n",
      "   --------------------------- ------------ 12.8/18.7 MB 54.0 kB/s eta 0:01:50\n",
      "   --------------------------- ------------ 12.8/18.7 MB 54.0 kB/s eta 0:01:50\n",
      "   --------------------------- ------------ 13.1/18.7 MB 57.3 kB/s eta 0:01:39\n",
      "   --------------------------- ------------ 13.1/18.7 MB 57.3 kB/s eta 0:01:39\n",
      "   --------------------------- ------------ 13.1/18.7 MB 57.3 kB/s eta 0:01:39\n",
      "   --------------------------- ------------ 13.1/18.7 MB 57.3 kB/s eta 0:01:39\n",
      "   --------------------------- ------------ 13.1/18.7 MB 57.3 kB/s eta 0:01:39\n",
      "   --------------------------- ------------ 13.1/18.7 MB 57.3 kB/s eta 0:01:39\n",
      "   --------------------------- ------------ 13.1/18.7 MB 57.3 kB/s eta 0:01:39\n",
      "   --------------------------- ------------ 13.1/18.7 MB 57.3 kB/s eta 0:01:39\n",
      "   --------------------------- ------------ 13.1/18.7 MB 57.3 kB/s eta 0:01:39\n",
      "   --------------------------- ------------ 13.1/18.7 MB 57.3 kB/s eta 0:01:39\n",
      "   --------------------------- ------------ 13.1/18.7 MB 57.3 kB/s eta 0:01:39\n",
      "   --------------------------- ------------ 13.1/18.7 MB 57.3 kB/s eta 0:01:39\n",
      "   --------------------------- ------------ 13.1/18.7 MB 57.3 kB/s eta 0:01:39\n",
      "   --------------------------- ------------ 13.1/18.7 MB 57.3 kB/s eta 0:01:39\n",
      "   --------------------------- ------------ 13.1/18.7 MB 57.3 kB/s eta 0:01:39\n",
      "   --------------------------- ------------ 13.1/18.7 MB 57.3 kB/s eta 0:01:39\n",
      "   --------------------------- ------------ 13.1/18.7 MB 57.3 kB/s eta 0:01:39\n",
      "   --------------------------- ------------ 13.1/18.7 MB 57.3 kB/s eta 0:01:39\n",
      "   --------------------------- ------------ 13.1/18.7 MB 57.3 kB/s eta 0:01:39\n",
      "   --------------------------- ------------ 13.1/18.7 MB 57.3 kB/s eta 0:01:39\n",
      "   --------------------------- ------------ 13.1/18.7 MB 57.3 kB/s eta 0:01:39\n",
      "   --------------------------- ------------ 13.1/18.7 MB 57.3 kB/s eta 0:01:39\n",
      "   --------------------------- ------------ 13.1/18.7 MB 57.3 kB/s eta 0:01:39\n",
      "   ---------------------------- ----------- 13.4/18.7 MB 58.7 kB/s eta 0:01:32\n",
      "   ---------------------------- ----------- 13.4/18.7 MB 58.7 kB/s eta 0:01:32\n",
      "   ---------------------------- ----------- 13.4/18.7 MB 58.7 kB/s eta 0:01:32\n",
      "   ---------------------------- ----------- 13.4/18.7 MB 58.7 kB/s eta 0:01:32\n",
      "   ---------------------------- ----------- 13.4/18.7 MB 58.7 kB/s eta 0:01:32\n",
      "   ---------------------------- ----------- 13.4/18.7 MB 58.7 kB/s eta 0:01:32\n",
      "   ---------------------------- ----------- 13.4/18.7 MB 58.7 kB/s eta 0:01:32\n",
      "   ---------------------------- ----------- 13.4/18.7 MB 58.7 kB/s eta 0:01:32\n",
      "   ---------------------------- ----------- 13.4/18.7 MB 58.7 kB/s eta 0:01:32\n",
      "   ---------------------------- ----------- 13.4/18.7 MB 58.7 kB/s eta 0:01:32\n",
      "   ---------------------------- ----------- 13.4/18.7 MB 58.7 kB/s eta 0:01:32\n",
      "   ---------------------------- ----------- 13.4/18.7 MB 58.7 kB/s eta 0:01:32\n",
      "   ---------------------------- ----------- 13.4/18.7 MB 58.7 kB/s eta 0:01:32\n",
      "   ---------------------------- ----------- 13.4/18.7 MB 58.7 kB/s eta 0:01:32\n",
      "   ---------------------------- ----------- 13.4/18.7 MB 58.7 kB/s eta 0:01:32\n",
      "   ---------------------------- ----------- 13.4/18.7 MB 58.7 kB/s eta 0:01:32\n",
      "   ----------------------------- ---------- 13.6/18.7 MB 61.1 kB/s eta 0:01:24\n",
      "   ----------------------------- ---------- 13.6/18.7 MB 61.1 kB/s eta 0:01:24\n",
      "   ----------------------------- ---------- 13.6/18.7 MB 61.1 kB/s eta 0:01:24\n",
      "   ----------------------------- ---------- 13.6/18.7 MB 61.1 kB/s eta 0:01:24\n",
      "   ----------------------------- ---------- 13.6/18.7 MB 61.1 kB/s eta 0:01:24\n",
      "   ----------------------------- ---------- 13.6/18.7 MB 61.1 kB/s eta 0:01:24\n",
      "   ----------------------------- ---------- 13.6/18.7 MB 61.1 kB/s eta 0:01:24\n",
      "   ----------------------------- ---------- 13.6/18.7 MB 61.1 kB/s eta 0:01:24\n",
      "   ----------------------------- ---------- 13.6/18.7 MB 61.1 kB/s eta 0:01:24\n",
      "   ----------------------------- ---------- 13.6/18.7 MB 61.1 kB/s eta 0:01:24\n",
      "   ----------------------------- ---------- 13.6/18.7 MB 61.1 kB/s eta 0:01:24\n",
      "   ----------------------------- ---------- 13.6/18.7 MB 61.1 kB/s eta 0:01:24\n",
      "   ----------------------------- ---------- 13.6/18.7 MB 61.1 kB/s eta 0:01:24\n",
      "   ----------------------------- ---------- 13.6/18.7 MB 61.1 kB/s eta 0:01:24\n",
      "   ----------------------------- ---------- 13.6/18.7 MB 61.1 kB/s eta 0:01:24\n",
      "   ----------------------------- ---------- 13.6/18.7 MB 61.1 kB/s eta 0:01:24\n",
      "   ----------------------------- ---------- 13.6/18.7 MB 61.1 kB/s eta 0:01:24\n",
      "   ----------------------------- ---------- 13.6/18.7 MB 61.1 kB/s eta 0:01:24\n",
      "   ----------------------------- ---------- 13.6/18.7 MB 61.1 kB/s eta 0:01:24\n",
      "   ----------------------------- ---------- 13.6/18.7 MB 61.1 kB/s eta 0:01:24\n",
      "   ----------------------------- ---------- 13.9/18.7 MB 61.5 kB/s eta 0:01:19\n",
      "   ----------------------------- ---------- 13.9/18.7 MB 61.5 kB/s eta 0:01:19\n",
      "   ----------------------------- ---------- 13.9/18.7 MB 61.5 kB/s eta 0:01:19\n",
      "   ----------------------------- ---------- 13.9/18.7 MB 61.5 kB/s eta 0:01:19\n",
      "   ----------------------------- ---------- 13.9/18.7 MB 61.5 kB/s eta 0:01:19\n",
      "   ----------------------------- ---------- 13.9/18.7 MB 61.5 kB/s eta 0:01:19\n",
      "   ----------------------------- ---------- 13.9/18.7 MB 61.5 kB/s eta 0:01:19\n",
      "   ----------------------------- ---------- 13.9/18.7 MB 61.5 kB/s eta 0:01:19\n",
      "   ----------------------------- ---------- 13.9/18.7 MB 61.5 kB/s eta 0:01:19\n",
      "   ----------------------------- ---------- 13.9/18.7 MB 61.5 kB/s eta 0:01:19\n",
      "   ----------------------------- ---------- 13.9/18.7 MB 61.5 kB/s eta 0:01:19\n",
      "   ------------------------------ --------- 14.2/18.7 MB 65.7 kB/s eta 0:01:10\n",
      "   ------------------------------ --------- 14.2/18.7 MB 65.7 kB/s eta 0:01:10\n",
      "   ------------------------------ --------- 14.2/18.7 MB 65.7 kB/s eta 0:01:10\n",
      "   ------------------------------ --------- 14.2/18.7 MB 65.7 kB/s eta 0:01:10\n",
      "   ------------------------------ --------- 14.2/18.7 MB 65.7 kB/s eta 0:01:10\n",
      "   ------------------------------ --------- 14.2/18.7 MB 65.7 kB/s eta 0:01:10\n",
      "   ------------------------------ --------- 14.2/18.7 MB 65.7 kB/s eta 0:01:10\n",
      "   ------------------------------ --------- 14.2/18.7 MB 65.7 kB/s eta 0:01:10\n",
      "   ------------------------------ --------- 14.2/18.7 MB 65.7 kB/s eta 0:01:10\n",
      "   ------------------------------ --------- 14.2/18.7 MB 65.7 kB/s eta 0:01:10\n",
      "   ------------------------------ --------- 14.2/18.7 MB 65.7 kB/s eta 0:01:10\n",
      "   ------------------------------ --------- 14.2/18.7 MB 65.7 kB/s eta 0:01:10\n",
      "   ------------------------------ --------- 14.2/18.7 MB 65.7 kB/s eta 0:01:10\n",
      "   ------------------------------ --------- 14.2/18.7 MB 65.7 kB/s eta 0:01:10\n",
      "   ------------------------------ --------- 14.2/18.7 MB 65.7 kB/s eta 0:01:10\n",
      "   ------------------------------ --------- 14.2/18.7 MB 65.7 kB/s eta 0:01:10\n",
      "   ------------------------------ --------- 14.2/18.7 MB 65.7 kB/s eta 0:01:10\n",
      "   ------------------------------ --------- 14.2/18.7 MB 65.7 kB/s eta 0:01:10\n",
      "   ------------------------------ --------- 14.2/18.7 MB 65.7 kB/s eta 0:01:10\n",
      "   ------------------------------ --------- 14.4/18.7 MB 68.6 kB/s eta 0:01:03\n",
      "   ------------------------------ --------- 14.4/18.7 MB 68.6 kB/s eta 0:01:03\n",
      "   ------------------------------ --------- 14.4/18.7 MB 68.6 kB/s eta 0:01:03\n",
      "   ------------------------------ --------- 14.4/18.7 MB 68.6 kB/s eta 0:01:03\n",
      "   ------------------------------ --------- 14.4/18.7 MB 68.6 kB/s eta 0:01:03\n",
      "   ------------------------------ --------- 14.4/18.7 MB 68.6 kB/s eta 0:01:03\n",
      "   ------------------------------ --------- 14.4/18.7 MB 68.6 kB/s eta 0:01:03\n",
      "   ------------------------------ --------- 14.4/18.7 MB 68.6 kB/s eta 0:01:03\n",
      "   ------------------------------ --------- 14.4/18.7 MB 68.6 kB/s eta 0:01:03\n",
      "   ------------------------------ --------- 14.4/18.7 MB 68.6 kB/s eta 0:01:03\n",
      "   ------------------------------ --------- 14.4/18.7 MB 68.6 kB/s eta 0:01:03\n",
      "   ------------------------------ --------- 14.4/18.7 MB 68.6 kB/s eta 0:01:03\n",
      "   ------------------------------ --------- 14.4/18.7 MB 68.6 kB/s eta 0:01:03\n",
      "   ------------------------------ --------- 14.4/18.7 MB 68.6 kB/s eta 0:01:03\n",
      "   ------------------------------ --------- 14.4/18.7 MB 68.6 kB/s eta 0:01:03\n",
      "   ------------------------------ --------- 14.4/18.7 MB 68.6 kB/s eta 0:01:03\n",
      "   ------------------------------ --------- 14.4/18.7 MB 68.6 kB/s eta 0:01:03\n",
      "   ------------------------------ --------- 14.4/18.7 MB 68.6 kB/s eta 0:01:03\n",
      "   ------------------------------ --------- 14.4/18.7 MB 68.6 kB/s eta 0:01:03\n",
      "   ------------------------------ --------- 14.4/18.7 MB 68.6 kB/s eta 0:01:03\n",
      "   ------------------------------ --------- 14.4/18.7 MB 68.6 kB/s eta 0:01:03\n",
      "   ------------------------------ --------- 14.4/18.7 MB 68.6 kB/s eta 0:01:03\n",
      "   ------------------------------ --------- 14.4/18.7 MB 68.6 kB/s eta 0:01:03\n",
      "   ------------------------------ --------- 14.4/18.7 MB 68.6 kB/s eta 0:01:03\n",
      "   ------------------------------ --------- 14.4/18.7 MB 68.6 kB/s eta 0:01:03\n",
      "   ------------------------------ --------- 14.4/18.7 MB 68.6 kB/s eta 0:01:03\n",
      "   ------------------------------- -------- 14.7/18.7 MB 68.7 kB/s eta 0:01:00\n",
      "   ------------------------------- -------- 14.7/18.7 MB 68.7 kB/s eta 0:01:00\n",
      "   ------------------------------- -------- 14.7/18.7 MB 68.7 kB/s eta 0:01:00\n",
      "   ------------------------------- -------- 14.7/18.7 MB 68.7 kB/s eta 0:01:00\n",
      "   ------------------------------- -------- 14.7/18.7 MB 68.7 kB/s eta 0:01:00\n",
      "   ------------------------------- -------- 14.7/18.7 MB 68.7 kB/s eta 0:01:00\n",
      "   ------------------------------- -------- 14.7/18.7 MB 68.7 kB/s eta 0:01:00\n",
      "   ------------------------------- -------- 14.7/18.7 MB 68.7 kB/s eta 0:01:00\n",
      "   ------------------------------- -------- 14.7/18.7 MB 68.7 kB/s eta 0:01:00\n",
      "   ------------------------------- -------- 14.7/18.7 MB 68.7 kB/s eta 0:01:00\n",
      "   ------------------------------- -------- 14.7/18.7 MB 68.7 kB/s eta 0:01:00\n",
      "   ------------------------------- -------- 14.7/18.7 MB 68.7 kB/s eta 0:01:00\n",
      "   ------------------------------- -------- 14.7/18.7 MB 68.7 kB/s eta 0:01:00\n",
      "   ------------------------------- -------- 14.7/18.7 MB 68.7 kB/s eta 0:01:00\n",
      "   ------------------------------- -------- 14.7/18.7 MB 68.7 kB/s eta 0:01:00\n",
      "   ------------------------------- -------- 14.7/18.7 MB 68.7 kB/s eta 0:01:00\n",
      "   ------------------------------- -------- 14.7/18.7 MB 68.7 kB/s eta 0:01:00\n",
      "   ------------------------------- -------- 14.7/18.7 MB 68.7 kB/s eta 0:01:00\n",
      "   ------------------------------- -------- 14.7/18.7 MB 68.7 kB/s eta 0:01:00\n",
      "   ------------------------------- -------- 14.9/18.7 MB 65.5 kB/s eta 0:00:58\n",
      "   ------------------------------- -------- 14.9/18.7 MB 65.5 kB/s eta 0:00:58\n",
      "   ------------------------------- -------- 14.9/18.7 MB 65.5 kB/s eta 0:00:58\n",
      "   ------------------------------- -------- 14.9/18.7 MB 65.5 kB/s eta 0:00:58\n",
      "   ------------------------------- -------- 14.9/18.7 MB 65.5 kB/s eta 0:00:58\n",
      "   ------------------------------- -------- 14.9/18.7 MB 65.5 kB/s eta 0:00:58\n",
      "   ------------------------------- -------- 14.9/18.7 MB 65.5 kB/s eta 0:00:58\n",
      "   ------------------------------- -------- 14.9/18.7 MB 65.5 kB/s eta 0:00:58\n",
      "   ------------------------------- -------- 14.9/18.7 MB 65.5 kB/s eta 0:00:58\n",
      "   ------------------------------- -------- 14.9/18.7 MB 65.5 kB/s eta 0:00:58\n",
      "   ------------------------------- -------- 14.9/18.7 MB 65.5 kB/s eta 0:00:58\n",
      "   ------------------------------- -------- 14.9/18.7 MB 65.5 kB/s eta 0:00:58\n",
      "   ------------------------------- -------- 14.9/18.7 MB 65.5 kB/s eta 0:00:58\n",
      "   -------------------------------- ------- 15.2/18.7 MB 70.4 kB/s eta 0:00:51\n",
      "   -------------------------------- ------- 15.2/18.7 MB 70.4 kB/s eta 0:00:51\n",
      "   -------------------------------- ------- 15.2/18.7 MB 70.4 kB/s eta 0:00:51\n",
      "   -------------------------------- ------- 15.2/18.7 MB 70.4 kB/s eta 0:00:51\n",
      "   -------------------------------- ------- 15.2/18.7 MB 70.4 kB/s eta 0:00:51\n",
      "   -------------------------------- ------- 15.2/18.7 MB 70.4 kB/s eta 0:00:51\n",
      "   -------------------------------- ------- 15.2/18.7 MB 70.4 kB/s eta 0:00:51\n",
      "   -------------------------------- ------- 15.2/18.7 MB 70.4 kB/s eta 0:00:51\n",
      "   -------------------------------- ------- 15.2/18.7 MB 70.4 kB/s eta 0:00:51\n",
      "   -------------------------------- ------- 15.2/18.7 MB 70.4 kB/s eta 0:00:51\n",
      "   -------------------------------- ------- 15.2/18.7 MB 70.4 kB/s eta 0:00:51\n",
      "   -------------------------------- ------- 15.2/18.7 MB 70.4 kB/s eta 0:00:51\n",
      "   -------------------------------- ------- 15.2/18.7 MB 70.4 kB/s eta 0:00:51\n",
      "   -------------------------------- ------- 15.2/18.7 MB 70.4 kB/s eta 0:00:51\n",
      "   -------------------------------- ------- 15.2/18.7 MB 70.4 kB/s eta 0:00:51\n",
      "   -------------------------------- ------- 15.2/18.7 MB 70.4 kB/s eta 0:00:51\n",
      "   -------------------------------- ------- 15.2/18.7 MB 70.4 kB/s eta 0:00:51\n",
      "   -------------------------------- ------- 15.2/18.7 MB 70.4 kB/s eta 0:00:51\n",
      "   -------------------------------- ------- 15.2/18.7 MB 70.4 kB/s eta 0:00:51\n",
      "   -------------------------------- ------- 15.2/18.7 MB 70.4 kB/s eta 0:00:51\n",
      "   -------------------------------- ------- 15.2/18.7 MB 70.4 kB/s eta 0:00:51\n",
      "   -------------------------------- ------- 15.2/18.7 MB 70.4 kB/s eta 0:00:51\n",
      "   -------------------------------- ------- 15.2/18.7 MB 70.4 kB/s eta 0:00:51\n",
      "   -------------------------------- ------- 15.2/18.7 MB 70.4 kB/s eta 0:00:51\n",
      "   -------------------------------- ------- 15.2/18.7 MB 70.4 kB/s eta 0:00:51\n",
      "   -------------------------------- ------- 15.2/18.7 MB 70.4 kB/s eta 0:00:51\n",
      "   -------------------------------- ------- 15.2/18.7 MB 70.4 kB/s eta 0:00:51\n",
      "   -------------------------------- ------- 15.2/18.7 MB 70.4 kB/s eta 0:00:51\n",
      "   -------------------------------- ------- 15.2/18.7 MB 70.4 kB/s eta 0:00:51\n",
      "   --------------------------------- ------ 15.5/18.7 MB 64.4 kB/s eta 0:00:51\n",
      "   --------------------------------- ------ 15.5/18.7 MB 64.4 kB/s eta 0:00:51\n",
      "   --------------------------------- ------ 15.5/18.7 MB 64.4 kB/s eta 0:00:51\n",
      "   --------------------------------- ------ 15.5/18.7 MB 64.4 kB/s eta 0:00:51\n",
      "   --------------------------------- ------ 15.5/18.7 MB 64.4 kB/s eta 0:00:51\n",
      "   --------------------------------- ------ 15.5/18.7 MB 64.4 kB/s eta 0:00:51\n",
      "   --------------------------------- ------ 15.5/18.7 MB 64.4 kB/s eta 0:00:51\n",
      "   --------------------------------- ------ 15.5/18.7 MB 64.4 kB/s eta 0:00:51\n",
      "   --------------------------------- ------ 15.5/18.7 MB 64.4 kB/s eta 0:00:51\n",
      "   --------------------------------- ------ 15.5/18.7 MB 64.4 kB/s eta 0:00:51\n",
      "   --------------------------------- ------ 15.5/18.7 MB 64.4 kB/s eta 0:00:51\n",
      "   --------------------------------- ------ 15.5/18.7 MB 64.4 kB/s eta 0:00:51\n",
      "   --------------------------------- ------ 15.5/18.7 MB 64.4 kB/s eta 0:00:51\n",
      "   --------------------------------- ------ 15.5/18.7 MB 64.4 kB/s eta 0:00:51\n",
      "   --------------------------------- ------ 15.5/18.7 MB 64.4 kB/s eta 0:00:51\n",
      "   --------------------------------- ------ 15.5/18.7 MB 64.4 kB/s eta 0:00:51\n",
      "   --------------------------------- ------ 15.5/18.7 MB 64.4 kB/s eta 0:00:51\n",
      "   --------------------------------- ------ 15.5/18.7 MB 64.4 kB/s eta 0:00:51\n",
      "   --------------------------------- ------ 15.5/18.7 MB 64.4 kB/s eta 0:00:51\n",
      "   --------------------------------- ------ 15.5/18.7 MB 64.4 kB/s eta 0:00:51\n",
      "   --------------------------------- ------ 15.5/18.7 MB 64.4 kB/s eta 0:00:51\n",
      "   --------------------------------- ------ 15.5/18.7 MB 64.4 kB/s eta 0:00:51\n",
      "   --------------------------------- ------ 15.5/18.7 MB 64.4 kB/s eta 0:00:51\n",
      "   --------------------------------- ------ 15.5/18.7 MB 64.4 kB/s eta 0:00:51\n",
      "   --------------------------------- ------ 15.5/18.7 MB 64.4 kB/s eta 0:00:51\n",
      "   --------------------------------- ------ 15.5/18.7 MB 64.4 kB/s eta 0:00:51\n",
      "   --------------------------------- ------ 15.5/18.7 MB 64.4 kB/s eta 0:00:51\n",
      "   --------------------------------- ------ 15.5/18.7 MB 64.4 kB/s eta 0:00:51\n",
      "   --------------------------------- ------ 15.5/18.7 MB 64.4 kB/s eta 0:00:51\n",
      "   --------------------------------- ------ 15.5/18.7 MB 64.4 kB/s eta 0:00:51\n",
      "   --------------------------------- ------ 15.7/18.7 MB 55.6 kB/s eta 0:00:55\n",
      "   --------------------------------- ------ 15.7/18.7 MB 55.6 kB/s eta 0:00:55\n",
      "   --------------------------------- ------ 15.7/18.7 MB 55.6 kB/s eta 0:00:55\n",
      "   --------------------------------- ------ 15.7/18.7 MB 55.6 kB/s eta 0:00:55\n",
      "   --------------------------------- ------ 15.7/18.7 MB 55.6 kB/s eta 0:00:55\n",
      "   --------------------------------- ------ 15.7/18.7 MB 55.6 kB/s eta 0:00:55\n",
      "   --------------------------------- ------ 15.7/18.7 MB 55.6 kB/s eta 0:00:55\n",
      "   --------------------------------- ------ 15.7/18.7 MB 55.6 kB/s eta 0:00:55\n",
      "   --------------------------------- ------ 15.7/18.7 MB 55.6 kB/s eta 0:00:55\n",
      "   --------------------------------- ------ 15.7/18.7 MB 55.6 kB/s eta 0:00:55\n",
      "   --------------------------------- ------ 15.7/18.7 MB 55.6 kB/s eta 0:00:55\n",
      "   --------------------------------- ------ 15.7/18.7 MB 55.6 kB/s eta 0:00:55\n",
      "   --------------------------------- ------ 15.7/18.7 MB 55.6 kB/s eta 0:00:55\n",
      "   --------------------------------- ------ 15.7/18.7 MB 55.6 kB/s eta 0:00:55\n",
      "   --------------------------------- ------ 15.7/18.7 MB 55.6 kB/s eta 0:00:55\n",
      "   --------------------------------- ------ 15.7/18.7 MB 55.6 kB/s eta 0:00:55\n",
      "   --------------------------------- ------ 15.7/18.7 MB 55.6 kB/s eta 0:00:55\n",
      "   ---------------------------------- ----- 16.0/18.7 MB 56.3 kB/s eta 0:00:49\n",
      "   ---------------------------------- ----- 16.0/18.7 MB 56.3 kB/s eta 0:00:49\n",
      "   ---------------------------------- ----- 16.0/18.7 MB 56.3 kB/s eta 0:00:49\n",
      "   ---------------------------------- ----- 16.0/18.7 MB 56.3 kB/s eta 0:00:49\n",
      "   ---------------------------------- ----- 16.0/18.7 MB 56.3 kB/s eta 0:00:49\n",
      "   ---------------------------------- ----- 16.0/18.7 MB 56.3 kB/s eta 0:00:49\n",
      "   ---------------------------------- ----- 16.0/18.7 MB 56.3 kB/s eta 0:00:49\n",
      "   ---------------------------------- ----- 16.0/18.7 MB 56.3 kB/s eta 0:00:49\n",
      "   ---------------------------------- ----- 16.0/18.7 MB 56.3 kB/s eta 0:00:49\n",
      "   ---------------------------------- ----- 16.0/18.7 MB 56.3 kB/s eta 0:00:49\n",
      "   ---------------------------------- ----- 16.0/18.7 MB 56.3 kB/s eta 0:00:49\n",
      "   ---------------------------------- ----- 16.0/18.7 MB 56.3 kB/s eta 0:00:49\n",
      "   ---------------------------------- ----- 16.0/18.7 MB 56.3 kB/s eta 0:00:49\n",
      "   ---------------------------------- ----- 16.0/18.7 MB 56.3 kB/s eta 0:00:49\n",
      "   ---------------------------------- ----- 16.0/18.7 MB 56.3 kB/s eta 0:00:49\n",
      "   ---------------------------------- ----- 16.0/18.7 MB 56.3 kB/s eta 0:00:49\n",
      "   ---------------------------------- ----- 16.0/18.7 MB 56.3 kB/s eta 0:00:49\n",
      "   ---------------------------------- ----- 16.3/18.7 MB 60.2 kB/s eta 0:00:42\n",
      "   ---------------------------------- ----- 16.3/18.7 MB 60.2 kB/s eta 0:00:42\n",
      "   ---------------------------------- ----- 16.3/18.7 MB 60.2 kB/s eta 0:00:42\n",
      "   ---------------------------------- ----- 16.3/18.7 MB 60.2 kB/s eta 0:00:42\n",
      "   ---------------------------------- ----- 16.3/18.7 MB 60.2 kB/s eta 0:00:42\n",
      "   ---------------------------------- ----- 16.3/18.7 MB 60.2 kB/s eta 0:00:42\n",
      "   ---------------------------------- ----- 16.3/18.7 MB 60.2 kB/s eta 0:00:42\n",
      "   ---------------------------------- ----- 16.3/18.7 MB 60.2 kB/s eta 0:00:42\n",
      "   ---------------------------------- ----- 16.3/18.7 MB 60.2 kB/s eta 0:00:42\n",
      "   ---------------------------------- ----- 16.3/18.7 MB 60.2 kB/s eta 0:00:42\n",
      "   ---------------------------------- ----- 16.3/18.7 MB 60.2 kB/s eta 0:00:42\n",
      "   ---------------------------------- ----- 16.3/18.7 MB 60.2 kB/s eta 0:00:42\n",
      "   ---------------------------------- ----- 16.3/18.7 MB 60.2 kB/s eta 0:00:42\n",
      "   ---------------------------------- ----- 16.3/18.7 MB 60.2 kB/s eta 0:00:42\n",
      "   ---------------------------------- ----- 16.3/18.7 MB 60.2 kB/s eta 0:00:42\n",
      "   ---------------------------------- ----- 16.3/18.7 MB 60.2 kB/s eta 0:00:42\n",
      "   ---------------------------------- ----- 16.3/18.7 MB 60.2 kB/s eta 0:00:42\n",
      "   ---------------------------------- ----- 16.3/18.7 MB 60.2 kB/s eta 0:00:42\n",
      "   ---------------------------------- ----- 16.3/18.7 MB 60.2 kB/s eta 0:00:42\n",
      "   ---------------------------------- ----- 16.3/18.7 MB 60.2 kB/s eta 0:00:42\n",
      "   ---------------------------------- ----- 16.3/18.7 MB 60.2 kB/s eta 0:00:42\n",
      "   ---------------------------------- ----- 16.3/18.7 MB 60.2 kB/s eta 0:00:42\n",
      "   ---------------------------------- ----- 16.3/18.7 MB 60.2 kB/s eta 0:00:42\n",
      "   ----------------------------------- ---- 16.5/18.7 MB 58.4 kB/s eta 0:00:38\n",
      "   ----------------------------------- ---- 16.5/18.7 MB 58.4 kB/s eta 0:00:38\n",
      "   ----------------------------------- ---- 16.5/18.7 MB 58.4 kB/s eta 0:00:38\n",
      "   ----------------------------------- ---- 16.5/18.7 MB 58.4 kB/s eta 0:00:38\n",
      "   ----------------------------------- ---- 16.5/18.7 MB 58.4 kB/s eta 0:00:38\n",
      "   ----------------------------------- ---- 16.5/18.7 MB 58.4 kB/s eta 0:00:38\n",
      "   ----------------------------------- ---- 16.5/18.7 MB 58.4 kB/s eta 0:00:38\n",
      "   ----------------------------------- ---- 16.5/18.7 MB 58.4 kB/s eta 0:00:38\n",
      "   ----------------------------------- ---- 16.5/18.7 MB 58.4 kB/s eta 0:00:38\n",
      "   ----------------------------------- ---- 16.5/18.7 MB 58.4 kB/s eta 0:00:38\n",
      "   ----------------------------------- ---- 16.5/18.7 MB 58.4 kB/s eta 0:00:38\n",
      "   ----------------------------------- ---- 16.5/18.7 MB 58.4 kB/s eta 0:00:38\n",
      "   ----------------------------------- ---- 16.5/18.7 MB 58.4 kB/s eta 0:00:38\n",
      "   ----------------------------------- ---- 16.5/18.7 MB 58.4 kB/s eta 0:00:38\n",
      "   ----------------------------------- ---- 16.5/18.7 MB 58.4 kB/s eta 0:00:38\n",
      "   ----------------------------------- ---- 16.5/18.7 MB 58.4 kB/s eta 0:00:38\n",
      "   ----------------------------------- ---- 16.5/18.7 MB 58.4 kB/s eta 0:00:38\n",
      "   ----------------------------------- ---- 16.5/18.7 MB 58.4 kB/s eta 0:00:38\n",
      "   ----------------------------------- ---- 16.5/18.7 MB 58.4 kB/s eta 0:00:38\n",
      "   ----------------------------------- ---- 16.5/18.7 MB 58.4 kB/s eta 0:00:38\n",
      "   ----------------------------------- ---- 16.5/18.7 MB 58.4 kB/s eta 0:00:38\n",
      "   ----------------------------------- ---- 16.5/18.7 MB 58.4 kB/s eta 0:00:38\n",
      "   ----------------------------------- ---- 16.5/18.7 MB 58.4 kB/s eta 0:00:38\n",
      "   ----------------------------------- ---- 16.5/18.7 MB 58.4 kB/s eta 0:00:38\n",
      "   ----------------------------------- ---- 16.5/18.7 MB 58.4 kB/s eta 0:00:38\n",
      "   ----------------------------------- ---- 16.5/18.7 MB 58.4 kB/s eta 0:00:38\n",
      "   ----------------------------------- ---- 16.5/18.7 MB 58.4 kB/s eta 0:00:38\n",
      "   ----------------------------------- ---- 16.5/18.7 MB 58.4 kB/s eta 0:00:38\n",
      "   ----------------------------------- ---- 16.5/18.7 MB 58.4 kB/s eta 0:00:38\n",
      "   ----------------------------------- ---- 16.8/18.7 MB 53.8 kB/s eta 0:00:37\n",
      "   ----------------------------------- ---- 16.8/18.7 MB 53.8 kB/s eta 0:00:37\n",
      "   ----------------------------------- ---- 16.8/18.7 MB 53.8 kB/s eta 0:00:37\n",
      "   ----------------------------------- ---- 16.8/18.7 MB 53.8 kB/s eta 0:00:37\n",
      "   ----------------------------------- ---- 16.8/18.7 MB 53.8 kB/s eta 0:00:37\n",
      "   ----------------------------------- ---- 16.8/18.7 MB 53.8 kB/s eta 0:00:37\n",
      "   ----------------------------------- ---- 16.8/18.7 MB 53.8 kB/s eta 0:00:37\n",
      "   ----------------------------------- ---- 16.8/18.7 MB 53.8 kB/s eta 0:00:37\n",
      "   ----------------------------------- ---- 16.8/18.7 MB 53.8 kB/s eta 0:00:37\n",
      "   ----------------------------------- ---- 16.8/18.7 MB 53.8 kB/s eta 0:00:37\n",
      "   ----------------------------------- ---- 16.8/18.7 MB 53.8 kB/s eta 0:00:37\n",
      "   ----------------------------------- ---- 16.8/18.7 MB 53.8 kB/s eta 0:00:37\n",
      "   ----------------------------------- ---- 16.8/18.7 MB 53.8 kB/s eta 0:00:37\n",
      "   ----------------------------------- ---- 16.8/18.7 MB 53.8 kB/s eta 0:00:37\n",
      "   ----------------------------------- ---- 16.8/18.7 MB 53.8 kB/s eta 0:00:37\n",
      "   ----------------------------------- ---- 16.8/18.7 MB 53.8 kB/s eta 0:00:37\n",
      "   ----------------------------------- ---- 16.8/18.7 MB 53.8 kB/s eta 0:00:37\n",
      "   ----------------------------------- ---- 16.8/18.7 MB 53.8 kB/s eta 0:00:37\n",
      "   ----------------------------------- ---- 16.8/18.7 MB 53.8 kB/s eta 0:00:37\n",
      "   ------------------------------------ --- 17.0/18.7 MB 55.5 kB/s eta 0:00:31\n",
      "   ------------------------------------ --- 17.0/18.7 MB 55.5 kB/s eta 0:00:31\n",
      "   ------------------------------------ --- 17.0/18.7 MB 55.5 kB/s eta 0:00:31\n",
      "   ------------------------------------ --- 17.0/18.7 MB 55.5 kB/s eta 0:00:31\n",
      "   ------------------------------------ --- 17.0/18.7 MB 55.5 kB/s eta 0:00:31\n",
      "   ------------------------------------ --- 17.0/18.7 MB 55.5 kB/s eta 0:00:31\n",
      "   ------------------------------------ --- 17.0/18.7 MB 55.5 kB/s eta 0:00:31\n",
      "   ------------------------------------ --- 17.0/18.7 MB 55.5 kB/s eta 0:00:31\n",
      "   ------------------------------------ --- 17.0/18.7 MB 55.5 kB/s eta 0:00:31\n",
      "   ------------------------------------ --- 17.0/18.7 MB 55.5 kB/s eta 0:00:31\n",
      "   ------------------------------------ --- 17.0/18.7 MB 55.5 kB/s eta 0:00:31\n",
      "   ------------------------------------ --- 17.0/18.7 MB 55.5 kB/s eta 0:00:31\n",
      "   ------------------------------------ --- 17.0/18.7 MB 55.5 kB/s eta 0:00:31\n",
      "   ------------------------------------ --- 17.0/18.7 MB 55.5 kB/s eta 0:00:31\n",
      "   ------------------------------------ --- 17.0/18.7 MB 55.5 kB/s eta 0:00:31\n",
      "   ------------------------------------ --- 17.0/18.7 MB 55.5 kB/s eta 0:00:31\n",
      "   ------------------------------------ --- 17.0/18.7 MB 55.5 kB/s eta 0:00:31\n",
      "   ------------------------------------ --- 17.0/18.7 MB 55.5 kB/s eta 0:00:31\n",
      "   ------------------------------------ --- 17.0/18.7 MB 55.5 kB/s eta 0:00:31\n",
      "   ------------------------------------ --- 17.0/18.7 MB 55.5 kB/s eta 0:00:31\n",
      "   ------------------------------------ --- 17.0/18.7 MB 55.5 kB/s eta 0:00:31\n",
      "   ------------------------------------ --- 17.0/18.7 MB 55.5 kB/s eta 0:00:31\n",
      "   ------------------------------------ --- 17.0/18.7 MB 55.5 kB/s eta 0:00:31\n",
      "   ------------------------------------ --- 17.0/18.7 MB 55.5 kB/s eta 0:00:31\n",
      "   ------------------------------------ --- 17.0/18.7 MB 55.5 kB/s eta 0:00:31\n",
      "   ------------------------------------ --- 17.0/18.7 MB 55.5 kB/s eta 0:00:31\n",
      "   ------------------------------------ --- 17.0/18.7 MB 55.5 kB/s eta 0:00:31\n",
      "   ------------------------------------ --- 17.0/18.7 MB 55.5 kB/s eta 0:00:31\n",
      "   ------------------------------------ --- 17.3/18.7 MB 56.3 kB/s eta 0:00:26\n",
      "   ------------------------------------ --- 17.3/18.7 MB 56.3 kB/s eta 0:00:26\n",
      "   ------------------------------------ --- 17.3/18.7 MB 56.3 kB/s eta 0:00:26\n",
      "   ------------------------------------ --- 17.3/18.7 MB 56.3 kB/s eta 0:00:26\n",
      "   ------------------------------------ --- 17.3/18.7 MB 56.3 kB/s eta 0:00:26\n",
      "   ------------------------------------ --- 17.3/18.7 MB 56.3 kB/s eta 0:00:26\n",
      "   ------------------------------------ --- 17.3/18.7 MB 56.3 kB/s eta 0:00:26\n",
      "   ------------------------------------ --- 17.3/18.7 MB 56.3 kB/s eta 0:00:26\n",
      "   ------------------------------------ --- 17.3/18.7 MB 56.3 kB/s eta 0:00:26\n",
      "   ------------------------------------ --- 17.3/18.7 MB 56.3 kB/s eta 0:00:26\n",
      "   ------------------------------------ --- 17.3/18.7 MB 56.3 kB/s eta 0:00:26\n",
      "   ------------------------------------ --- 17.3/18.7 MB 56.3 kB/s eta 0:00:26\n",
      "   ------------------------------------ --- 17.3/18.7 MB 56.3 kB/s eta 0:00:26\n",
      "   ------------------------------------ --- 17.3/18.7 MB 56.3 kB/s eta 0:00:26\n",
      "   ------------------------------------ --- 17.3/18.7 MB 56.3 kB/s eta 0:00:26\n",
      "   ------------------------------------ --- 17.3/18.7 MB 56.3 kB/s eta 0:00:26\n",
      "   ------------------------------------ --- 17.3/18.7 MB 56.3 kB/s eta 0:00:26\n",
      "   ------------------------------------ --- 17.3/18.7 MB 56.3 kB/s eta 0:00:26\n",
      "   ------------------------------------ --- 17.3/18.7 MB 56.3 kB/s eta 0:00:26\n",
      "   ------------------------------------ --- 17.3/18.7 MB 56.3 kB/s eta 0:00:26\n",
      "   ------------------------------------ --- 17.3/18.7 MB 56.3 kB/s eta 0:00:26\n",
      "   ------------------------------------ --- 17.3/18.7 MB 56.3 kB/s eta 0:00:26\n",
      "   ------------------------------------ --- 17.3/18.7 MB 56.3 kB/s eta 0:00:26\n",
      "   ------------------------------------ --- 17.3/18.7 MB 56.3 kB/s eta 0:00:26\n",
      "   ------------------------------------ --- 17.3/18.7 MB 56.3 kB/s eta 0:00:26\n",
      "   ------------------------------------- -- 17.6/18.7 MB 53.4 kB/s eta 0:00:22\n",
      "   ------------------------------------- -- 17.6/18.7 MB 53.4 kB/s eta 0:00:22\n",
      "   ------------------------------------- -- 17.6/18.7 MB 53.4 kB/s eta 0:00:22\n",
      "   ------------------------------------- -- 17.6/18.7 MB 53.4 kB/s eta 0:00:22\n",
      "   ------------------------------------- -- 17.6/18.7 MB 53.4 kB/s eta 0:00:22\n",
      "   ------------------------------------- -- 17.6/18.7 MB 53.4 kB/s eta 0:00:22\n",
      "   ------------------------------------- -- 17.6/18.7 MB 53.4 kB/s eta 0:00:22\n",
      "   ------------------------------------- -- 17.6/18.7 MB 53.4 kB/s eta 0:00:22\n",
      "   ------------------------------------- -- 17.6/18.7 MB 53.4 kB/s eta 0:00:22\n",
      "   ------------------------------------- -- 17.6/18.7 MB 53.4 kB/s eta 0:00:22\n",
      "   ------------------------------------- -- 17.6/18.7 MB 53.4 kB/s eta 0:00:22\n",
      "   ------------------------------------- -- 17.6/18.7 MB 53.4 kB/s eta 0:00:22\n",
      "   ------------------------------------- -- 17.6/18.7 MB 53.4 kB/s eta 0:00:22\n",
      "   ------------------------------------- -- 17.6/18.7 MB 53.4 kB/s eta 0:00:22\n",
      "   ------------------------------------- -- 17.6/18.7 MB 53.4 kB/s eta 0:00:22\n",
      "   ------------------------------------- -- 17.6/18.7 MB 53.4 kB/s eta 0:00:22\n",
      "   ------------------------------------- -- 17.6/18.7 MB 53.4 kB/s eta 0:00:22\n",
      "   -------------------------------------- - 17.8/18.7 MB 53.3 kB/s eta 0:00:18\n",
      "   -------------------------------------- - 17.8/18.7 MB 53.3 kB/s eta 0:00:18\n",
      "   -------------------------------------- - 17.8/18.7 MB 53.3 kB/s eta 0:00:18\n",
      "   -------------------------------------- - 17.8/18.7 MB 53.3 kB/s eta 0:00:18\n",
      "   -------------------------------------- - 17.8/18.7 MB 53.3 kB/s eta 0:00:18\n",
      "   -------------------------------------- - 17.8/18.7 MB 53.3 kB/s eta 0:00:18\n",
      "   -------------------------------------- - 17.8/18.7 MB 53.3 kB/s eta 0:00:18\n",
      "   -------------------------------------- - 17.8/18.7 MB 53.3 kB/s eta 0:00:18\n",
      "   -------------------------------------- - 17.8/18.7 MB 53.3 kB/s eta 0:00:18\n",
      "   -------------------------------------- - 17.8/18.7 MB 53.3 kB/s eta 0:00:18\n",
      "   -------------------------------------- - 17.8/18.7 MB 53.3 kB/s eta 0:00:18\n",
      "   -------------------------------------- - 17.8/18.7 MB 53.3 kB/s eta 0:00:18\n",
      "   -------------------------------------- - 17.8/18.7 MB 53.3 kB/s eta 0:00:18\n",
      "   -------------------------------------- - 17.8/18.7 MB 53.3 kB/s eta 0:00:18\n",
      "   -------------------------------------- - 18.1/18.7 MB 56.8 kB/s eta 0:00:12\n",
      "   -------------------------------------- - 18.1/18.7 MB 56.8 kB/s eta 0:00:12\n",
      "   -------------------------------------- - 18.1/18.7 MB 56.8 kB/s eta 0:00:12\n",
      "   -------------------------------------- - 18.1/18.7 MB 56.8 kB/s eta 0:00:12\n",
      "   -------------------------------------- - 18.1/18.7 MB 56.8 kB/s eta 0:00:12\n",
      "   -------------------------------------- - 18.1/18.7 MB 56.8 kB/s eta 0:00:12\n",
      "   -------------------------------------- - 18.1/18.7 MB 56.8 kB/s eta 0:00:12\n",
      "   -------------------------------------- - 18.1/18.7 MB 56.8 kB/s eta 0:00:12\n",
      "   -------------------------------------- - 18.1/18.7 MB 56.8 kB/s eta 0:00:12\n",
      "   -------------------------------------- - 18.1/18.7 MB 56.8 kB/s eta 0:00:12\n",
      "   -------------------------------------- - 18.1/18.7 MB 56.8 kB/s eta 0:00:12\n",
      "   -------------------------------------- - 18.1/18.7 MB 56.8 kB/s eta 0:00:12\n",
      "   -------------------------------------- - 18.1/18.7 MB 56.8 kB/s eta 0:00:12\n",
      "   -------------------------------------- - 18.1/18.7 MB 56.8 kB/s eta 0:00:12\n",
      "   -------------------------------------- - 18.1/18.7 MB 56.8 kB/s eta 0:00:12\n",
      "   -------------------------------------- - 18.1/18.7 MB 56.8 kB/s eta 0:00:12\n",
      "   -------------------------------------- - 18.1/18.7 MB 56.8 kB/s eta 0:00:12\n",
      "   -------------------------------------- - 18.1/18.7 MB 56.8 kB/s eta 0:00:12\n",
      "   -------------------------------------- - 18.1/18.7 MB 56.8 kB/s eta 0:00:12\n",
      "   -------------------------------------- - 18.1/18.7 MB 56.8 kB/s eta 0:00:12\n",
      "   -------------------------------------- - 18.1/18.7 MB 56.8 kB/s eta 0:00:12\n",
      "   ---------------------------------------  18.4/18.7 MB 60.5 kB/s eta 0:00:07\n",
      "   ---------------------------------------  18.4/18.7 MB 60.5 kB/s eta 0:00:07\n",
      "   ---------------------------------------  18.4/18.7 MB 60.5 kB/s eta 0:00:07\n",
      "   ---------------------------------------  18.4/18.7 MB 60.5 kB/s eta 0:00:07\n",
      "   ---------------------------------------  18.4/18.7 MB 60.5 kB/s eta 0:00:07\n",
      "   ---------------------------------------  18.4/18.7 MB 60.5 kB/s eta 0:00:07\n",
      "   ---------------------------------------  18.4/18.7 MB 60.5 kB/s eta 0:00:07\n",
      "   ---------------------------------------  18.4/18.7 MB 60.5 kB/s eta 0:00:07\n",
      "   ---------------------------------------  18.4/18.7 MB 60.5 kB/s eta 0:00:07\n",
      "   ---------------------------------------  18.4/18.7 MB 60.5 kB/s eta 0:00:07\n",
      "   ---------------------------------------  18.4/18.7 MB 60.5 kB/s eta 0:00:07\n",
      "   ---------------------------------------  18.4/18.7 MB 60.5 kB/s eta 0:00:07\n",
      "   ---------------------------------------  18.4/18.7 MB 60.5 kB/s eta 0:00:07\n",
      "   ---------------------------------------  18.4/18.7 MB 60.5 kB/s eta 0:00:07\n",
      "   ---------------------------------------  18.4/18.7 MB 60.5 kB/s eta 0:00:07\n",
      "   ---------------------------------------  18.4/18.7 MB 60.5 kB/s eta 0:00:07\n",
      "   ---------------------------------------  18.4/18.7 MB 60.5 kB/s eta 0:00:07\n",
      "   ---------------------------------------  18.4/18.7 MB 60.5 kB/s eta 0:00:07\n",
      "   ---------------------------------------  18.4/18.7 MB 60.5 kB/s eta 0:00:07\n",
      "   ---------------------------------------  18.4/18.7 MB 60.5 kB/s eta 0:00:07\n",
      "   ---------------------------------------  18.4/18.7 MB 60.5 kB/s eta 0:00:07\n",
      "   ---------------------------------------  18.4/18.7 MB 60.5 kB/s eta 0:00:07\n",
      "   ---------------------------------------  18.4/18.7 MB 60.5 kB/s eta 0:00:07\n",
      "   ---------------------------------------  18.4/18.7 MB 60.5 kB/s eta 0:00:07\n",
      "   ---------------------------------------  18.4/18.7 MB 60.5 kB/s eta 0:00:07\n",
      "   ---------------------------------------  18.4/18.7 MB 60.5 kB/s eta 0:00:07\n",
      "   ---------------------------------------  18.6/18.7 MB 57.4 kB/s eta 0:00:03\n",
      "   ---------------------------------------  18.6/18.7 MB 57.4 kB/s eta 0:00:03\n",
      "   ---------------------------------------  18.6/18.7 MB 57.4 kB/s eta 0:00:03\n",
      "   ---------------------------------------  18.6/18.7 MB 57.4 kB/s eta 0:00:03\n",
      "   ---------------------------------------  18.6/18.7 MB 57.4 kB/s eta 0:00:03\n",
      "   ---------------------------------------  18.6/18.7 MB 57.4 kB/s eta 0:00:03\n",
      "   ---------------------------------------  18.6/18.7 MB 57.4 kB/s eta 0:00:03\n",
      "   ---------------------------------------- 18.7/18.7 MB 58.7 kB/s eta 0:00:00\n",
      "Installing collected packages: PyMuPDF\n",
      "Successfully installed PyMuPDF-1.26.3\n",
      "Note: you may need to restart the kernel to use updated packages.\n"
     ]
    }
   ],
   "source": [
    "!pip install PyMuPDF\n"
   ]
  },
  {
   "cell_type": "code",
   "execution_count": 22,
   "id": "b3ccf71d-42c6-49fc-9a97-1bb156900402",
   "metadata": {},
   "outputs": [],
   "source": [
    "import torch\n",
    "from transformers import CLIPProcessor, CLIPModel\n",
    "from PIL import Image\n",
    "import io\n",
    "import numpy as np\n",
    "import fitz \n",
    "\n",
    "device = \"cuda\" if torch.cuda.is_available() else \"cpu\"\n",
    "\n",
    "# Initialize CLIP model and processor for image embeddings\n",
    "clip_processor = CLIPProcessor.from_pretrained(\"openai/clip-vit-base-patch32\")\n",
    "clip_model = CLIPModel.from_pretrained(\"openai/clip-vit-base-patch32\").to(device)\n",
    "\n",
    "# Text embedding model (sentence-transformers)\n",
    "# text_embedder = HuggingFaceEmbeddings(model_name=\"sentence-transformers/all-MiniLM-L6-v2\")\n",
    "text_embedder = HuggingFaceEmbeddings(model_name=\"sentence-transformers/clip-ViT-B-32\")\n",
    " # PyMuPDF\n",
    "\n",
    "def extract_images_from_pdf(pdf_path):\n",
    "    doc = fitz.open(pdf_path)\n",
    "    image_bytes_list = []\n",
    "\n",
    "    for page in doc:\n",
    "        for img in page.get_images(full=True):\n",
    "            xref = img[0]\n",
    "            base_image = doc.extract_image(xref)\n",
    "            image_bytes = base_image[\"image\"]\n",
    "            image_bytes_list.append(image_bytes)\n",
    "\n",
    "    return image_bytes_list\n",
    "\n",
    "\n",
    "\n",
    "def embed_image(image_bytes):\n",
    "    image = Image.open(io.BytesIO(image_bytes)).convert(\"RGB\")\n",
    "    inputs = clip_processor(images=image, return_tensors=\"pt\").to(device)\n",
    "    with torch.no_grad():\n",
    "        image_features = clip_model.get_image_features(**inputs)\n",
    "    # Normalize the embeddings (optional but recommended)\n",
    "    image_embedding = image_features / image_features.norm(p=2, dim=-1, keepdim=True)\n",
    "    return image_embedding.cpu().numpy()[0]\n",
    "\n",
    "def build_faiss_from_text_and_images(text, list_of_image_bytes):\n",
    "    # 1. Text processing\n",
    "    splitter = RecursiveCharacterTextSplitter(chunk_size=500, chunk_overlap=50)\n",
    "    chunks = splitter.split_text(text)\n",
    "    text_documents = [Document(page_content=chunk, metadata={\"type\": \"text\"}) for chunk in chunks]\n",
    "\n",
    "    # Embed text docs (using langchain's text_embedder)\n",
    "    vector_store = FAISS.from_documents(text_documents, text_embedder)\n",
    "\n",
    "    # 2. Process images: create Document objects with CLIP embeddings\n",
    "    image_docs = []\n",
    "    image_embeddings = []\n",
    "    for i, img_bytes in enumerate(list_of_image_bytes):\n",
    "        emb = embed_image(img_bytes)\n",
    "        image_embeddings.append(emb)\n",
    "        image_docs.append(Document(page_content=f\"<Image {i}>\", metadata={\"type\": \"image\", \"index\": i}))\n",
    "\n",
    "    if image_embeddings:\n",
    "        # Convert embeddings to numpy array\n",
    "        image_embs_np = np.array(image_embeddings).astype('float32')\n",
    "\n",
    "        # Add image embeddings to the FAISS index\n",
    "        vector_store.index.add(image_embs_np)\n",
    "        vector_store.add_documents(image_docs, embeddings=image_embs_np)# Add image docs metadata\n",
    "  \n",
    " \n",
    "\n",
    "    return vector_store\n",
    "\n",
    "\n"
   ]
  },
  {
   "cell_type": "code",
   "execution_count": 14,
   "id": "9db08965-2b27-4c6e-a767-e2c506e3bafb",
   "metadata": {},
   "outputs": [],
   "source": [
    "\n",
    "from langchain.embeddings import HuggingFaceEmbeddings\n",
    "\n",
    "\n",
    "\n",
    "\n",
    "def extract_text_from_pdf(file_path):\n",
    "    reader = PdfReader(file_path)\n",
    "    text = \"\"\n",
    "    for page in reader.pages:\n",
    "        content = page.extract_text()\n",
    "        if content:\n",
    "            text += content + \"\\n\"\n",
    "    return text\n",
    "\n",
    "\n",
    "# def build_faiss_from_text(text):\n",
    "#     splitter = RecursiveCharacterTextSplitter(chunk_size=500, chunk_overlap=50)\n",
    "#     chunks = splitter.split_text(text)\n",
    "#     documents = [Document(page_content=chunk) for chunk in chunks]\n",
    "#     embedding_model = HuggingFaceEmbeddings(model_name=\"sentence-transformers/all-MiniLM-L6-v2\")\n",
    "#     vector_store = FAISS.from_documents(documents, embedding_model)\n",
    "#     return vector_store\n",
    "\n",
    "\n",
    "# llm1=LLM(\n",
    "#     model=\"ollama/llama3.2:1b\",\n",
    "#     base_url=\"http://localhost:11434\"  \n",
    "# )\n",
    "llm1 = LLM(\n",
    "    model=\"groq/meta-llama/llama-4-scout-17b-16e-instruct\",\n",
    "    api_key=\"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\"\n",
    " )\n",
    "\n",
    "\n",
    "session_vector_store = None\n",
    "\n",
    "\n",
    "@tool\n",
    "def retrieve_from_pdf(query: str) -> str:\n",
    "    \"\"\"Retrieve relevant information from the uploaded PDF.\"\"\"\n",
    "    if session_vector_store is None:\n",
    "        return \"No PDF loaded.\"\n",
    "    docs = session_vector_store.similarity_search(query, k=5)\n",
    "    return \"\\n\".join([doc.page_content for doc in docs])\n",
    "\n",
    "\n",
    "\n",
    "retriever_agent = Agent(\n",
    "    role=\"Retriever\",\n",
    "    goal=\"Search the uploaded PDF and extract relevant context\",\n",
    "    backstory=\"You help extract useful info from user-uploaded documents.\",\n",
    "    tools=[retrieve_from_pdf,duckduckgo_search],\n",
    "    llm=llm1,\n",
    "    verbose=True\n",
    ")\n",
    "\n",
    "responder_agent = Agent(\n",
    "    role=\"Responder\",\n",
    "    goal=\"Answer the user question based on PDF content\",\n",
    "    backstory=\"You use the retrieved content to answer the user's query.\",\n",
    "    llm=llm1,\n",
    "    verbose=True\n",
    ")\n",
    "\n",
    "\n"
   ]
  },
  {
   "cell_type": "code",
   "execution_count": 23,
   "id": "464eecc7-2c38-4d28-ae53-4ede6be9a894",
   "metadata": {},
   "outputs": [
    {
     "name": "stdout",
     "output_type": "stream",
     "text": [
      "Enter path to your PDF file:  attention is all you need.pdf\n"
     ]
    },
    {
     "name": "stdout",
     "output_type": "stream",
     "text": [
      "Extracting text from PDF...\n",
      "Extracting image from PDF...\n",
      " Embedding PDF into FAISS...\n",
      " PDF ready for question answering.\n"
     ]
    },
    {
     "name": "stdout",
     "output_type": "stream",
     "text": [
      "\n",
      " Ask a question about the PDF (or type 'exit'):  explain me about transformer architecture with image\n"
     ]
    },
    {
     "data": {
      "text/html": [
       "<pre style=\"white-space:pre;overflow-x:auto;line-height:normal;font-family:Menlo,'DejaVu Sans Mono',consolas,'Courier New',monospace\"><span style=\"color: #008080; text-decoration-color: #008080\">╭──────────────────────────────────────────── Crew Execution Started ─────────────────────────────────────────────╮</span>\n",
       "<span style=\"color: #008080; text-decoration-color: #008080\">│</span>                                                                                                                 <span style=\"color: #008080; text-decoration-color: #008080\">│</span>\n",
       "<span style=\"color: #008080; text-decoration-color: #008080\">│</span>  <span style=\"color: #008080; text-decoration-color: #008080; font-weight: bold\">Crew Execution Started</span>                                                                                         <span style=\"color: #008080; text-decoration-color: #008080\">│</span>\n",
       "<span style=\"color: #008080; text-decoration-color: #008080\">│</span>  <span style=\"color: #c0c0c0; text-decoration-color: #c0c0c0\">Name: </span><span style=\"color: #008080; text-decoration-color: #008080\">crew</span>                                                                                                     <span style=\"color: #008080; text-decoration-color: #008080\">│</span>\n",
       "<span style=\"color: #008080; text-decoration-color: #008080\">│</span>  <span style=\"color: #c0c0c0; text-decoration-color: #c0c0c0\">ID: </span><span style=\"color: #008080; text-decoration-color: #008080\">aca4389c-8fa7-4c9e-82ca-051081a3bb6d</span>                                                                       <span style=\"color: #008080; text-decoration-color: #008080\">│</span>\n",
       "<span style=\"color: #008080; text-decoration-color: #008080\">│</span>  <span style=\"color: #c0c0c0; text-decoration-color: #c0c0c0\">Tool Args: </span>                                                                                                    <span style=\"color: #008080; text-decoration-color: #008080\">│</span>\n",
       "<span style=\"color: #008080; text-decoration-color: #008080\">│</span>                                                                                                                 <span style=\"color: #008080; text-decoration-color: #008080\">│</span>\n",
       "<span style=\"color: #008080; text-decoration-color: #008080\">│</span>                                                                                                                 <span style=\"color: #008080; text-decoration-color: #008080\">│</span>\n",
       "<span style=\"color: #008080; text-decoration-color: #008080\">╰─────────────────────────────────────────────────────────────────────────────────────────────────────────────────╯</span>\n",
       "</pre>\n"
      ],
      "text/plain": [
       "\u001b[36m╭─\u001b[0m\u001b[36m───────────────────────────────────────────\u001b[0m\u001b[36m Crew Execution Started \u001b[0m\u001b[36m────────────────────────────────────────────\u001b[0m\u001b[36m─╮\u001b[0m\n",
       "\u001b[36m│\u001b[0m                                                                                                                 \u001b[36m│\u001b[0m\n",
       "\u001b[36m│\u001b[0m  \u001b[1;36mCrew Execution Started\u001b[0m                                                                                         \u001b[36m│\u001b[0m\n",
       "\u001b[36m│\u001b[0m  \u001b[37mName: \u001b[0m\u001b[36mcrew\u001b[0m                                                                                                     \u001b[36m│\u001b[0m\n",
       "\u001b[36m│\u001b[0m  \u001b[37mID: \u001b[0m\u001b[36maca4389c-8fa7-4c9e-82ca-051081a3bb6d\u001b[0m                                                                       \u001b[36m│\u001b[0m\n",
       "\u001b[36m│\u001b[0m  \u001b[37mTool Args: \u001b[0m                                                                                                    \u001b[36m│\u001b[0m\n",
       "\u001b[36m│\u001b[0m                                                                                                                 \u001b[36m│\u001b[0m\n",
       "\u001b[36m│\u001b[0m                                                                                                                 \u001b[36m│\u001b[0m\n",
       "\u001b[36m╰─────────────────────────────────────────────────────────────────────────────────────────────────────────────────╯\u001b[0m\n"
      ]
     },
     "metadata": {},
     "output_type": "display_data"
    },
    {
     "data": {
      "text/html": [
       "<pre style=\"white-space:pre;overflow-x:auto;line-height:normal;font-family:Menlo,'DejaVu Sans Mono',consolas,'Courier New',monospace\">\n",
       "</pre>\n"
      ],
      "text/plain": [
       "\n"
      ]
     },
     "metadata": {},
     "output_type": "display_data"
    },
    {
     "data": {
      "text/html": [
       "<pre style=\"white-space:pre;overflow-x:auto;line-height:normal;font-family:Menlo,'DejaVu Sans Mono',consolas,'Courier New',monospace\"></pre>\n"
      ],
      "text/plain": []
     },
     "metadata": {},
     "output_type": "display_data"
    },
    {
     "data": {
      "text/html": [
       "<pre style=\"white-space:pre;overflow-x:auto;line-height:normal;font-family:Menlo,'DejaVu Sans Mono',consolas,'Courier New',monospace\"><span style=\"color: #800080; text-decoration-color: #800080\">╭─────────────────────────────────────────────── 🤖 Agent Started ────────────────────────────────────────────────╮</span>\n",
       "<span style=\"color: #800080; text-decoration-color: #800080\">│</span>                                                                                                                 <span style=\"color: #800080; text-decoration-color: #800080\">│</span>\n",
       "<span style=\"color: #800080; text-decoration-color: #800080\">│</span>  <span style=\"color: #c0c0c0; text-decoration-color: #c0c0c0\">Agent: </span><span style=\"color: #00ff00; text-decoration-color: #00ff00; font-weight: bold\">Retriever</span>                                                                                               <span style=\"color: #800080; text-decoration-color: #800080\">│</span>\n",
       "<span style=\"color: #800080; text-decoration-color: #800080\">│</span>                                                                                                                 <span style=\"color: #800080; text-decoration-color: #800080\">│</span>\n",
       "<span style=\"color: #800080; text-decoration-color: #800080\">│</span>  <span style=\"color: #c0c0c0; text-decoration-color: #c0c0c0\">Task: </span><span style=\"color: #00ff00; text-decoration-color: #00ff00\">Retrieve context from the uploaded PDF for: 'explain me about transformer architecture with image'</span>       <span style=\"color: #800080; text-decoration-color: #800080\">│</span>\n",
       "<span style=\"color: #800080; text-decoration-color: #800080\">│</span>                                                                                                                 <span style=\"color: #800080; text-decoration-color: #800080\">│</span>\n",
       "<span style=\"color: #800080; text-decoration-color: #800080\">╰─────────────────────────────────────────────────────────────────────────────────────────────────────────────────╯</span>\n",
       "</pre>\n"
      ],
      "text/plain": [
       "\u001b[35m╭─\u001b[0m\u001b[35m──────────────────────────────────────────────\u001b[0m\u001b[35m 🤖 Agent Started \u001b[0m\u001b[35m───────────────────────────────────────────────\u001b[0m\u001b[35m─╮\u001b[0m\n",
       "\u001b[35m│\u001b[0m                                                                                                                 \u001b[35m│\u001b[0m\n",
       "\u001b[35m│\u001b[0m  \u001b[37mAgent: \u001b[0m\u001b[1;92mRetriever\u001b[0m                                                                                               \u001b[35m│\u001b[0m\n",
       "\u001b[35m│\u001b[0m                                                                                                                 \u001b[35m│\u001b[0m\n",
       "\u001b[35m│\u001b[0m  \u001b[37mTask: \u001b[0m\u001b[92mRetrieve context from the uploaded PDF for: 'explain me about transformer architecture with image'\u001b[0m       \u001b[35m│\u001b[0m\n",
       "\u001b[35m│\u001b[0m                                                                                                                 \u001b[35m│\u001b[0m\n",
       "\u001b[35m╰─────────────────────────────────────────────────────────────────────────────────────────────────────────────────╯\u001b[0m\n"
      ]
     },
     "metadata": {},
     "output_type": "display_data"
    },
    {
     "data": {
      "text/html": [
       "<pre style=\"white-space:pre;overflow-x:auto;line-height:normal;font-family:Menlo,'DejaVu Sans Mono',consolas,'Courier New',monospace\">\n",
       "</pre>\n"
      ],
      "text/plain": [
       "\n"
      ]
     },
     "metadata": {},
     "output_type": "display_data"
    },
    {
     "data": {
      "application/vnd.jupyter.widget-view+json": {
       "model_id": "d01eb8ff67a8425e8c217f286959c62b",
       "version_major": 2,
       "version_minor": 0
      },
      "text/plain": [
       "Output()"
      ]
     },
     "metadata": {},
     "output_type": "display_data"
    },
    {
     "data": {
      "text/html": [
       "<pre style=\"white-space:pre;overflow-x:auto;line-height:normal;font-family:Menlo,'DejaVu Sans Mono',consolas,'Courier New',monospace\"></pre>\n"
      ],
      "text/plain": []
     },
     "metadata": {},
     "output_type": "display_data"
    },
    {
     "data": {
      "text/html": [
       "<pre style=\"white-space:pre;overflow-x:auto;line-height:normal;font-family:Menlo,'DejaVu Sans Mono',consolas,'Courier New',monospace\"><span style=\"color: #800080; text-decoration-color: #800080\">╭──────────────────────────────────────────── 🔧 Agent Tool Execution ────────────────────────────────────────────╮</span>\n",
       "<span style=\"color: #800080; text-decoration-color: #800080\">│</span>                                                                                                                 <span style=\"color: #800080; text-decoration-color: #800080\">│</span>\n",
       "<span style=\"color: #800080; text-decoration-color: #800080\">│</span>  <span style=\"color: #c0c0c0; text-decoration-color: #c0c0c0\">Agent: </span><span style=\"color: #00ff00; text-decoration-color: #00ff00; font-weight: bold\">Retriever</span>                                                                                               <span style=\"color: #800080; text-decoration-color: #800080\">│</span>\n",
       "<span style=\"color: #800080; text-decoration-color: #800080\">│</span>                                                                                                                 <span style=\"color: #800080; text-decoration-color: #800080\">│</span>\n",
       "<span style=\"color: #800080; text-decoration-color: #800080\">│</span>  <span style=\"color: #c0c0c0; text-decoration-color: #c0c0c0\">Thought: </span><span style=\"color: #00ff00; text-decoration-color: #00ff00\">Thought: I need to search the uploaded PDF for information about the Transformer architecture and </span>    <span style=\"color: #800080; text-decoration-color: #800080\">│</span>\n",
       "<span style=\"color: #800080; text-decoration-color: #800080\">│</span>  <span style=\"color: #00ff00; text-decoration-color: #00ff00\">find a relevant section that includes an image or a description that can be associated with an image.</span>          <span style=\"color: #800080; text-decoration-color: #800080\">│</span>\n",
       "<span style=\"color: #800080; text-decoration-color: #800080\">│</span>                                                                                                                 <span style=\"color: #800080; text-decoration-color: #800080\">│</span>\n",
       "<span style=\"color: #800080; text-decoration-color: #800080\">│</span>  <span style=\"color: #c0c0c0; text-decoration-color: #c0c0c0\">Using Tool: </span><span style=\"color: #00ff00; text-decoration-color: #00ff00; font-weight: bold\">retrieve_from_pdf</span>                                                                                  <span style=\"color: #800080; text-decoration-color: #800080\">│</span>\n",
       "<span style=\"color: #800080; text-decoration-color: #800080\">│</span>                                                                                                                 <span style=\"color: #800080; text-decoration-color: #800080\">│</span>\n",
       "<span style=\"color: #800080; text-decoration-color: #800080\">╰─────────────────────────────────────────────────────────────────────────────────────────────────────────────────╯</span>\n",
       "</pre>\n"
      ],
      "text/plain": [
       "\u001b[35m╭─\u001b[0m\u001b[35m───────────────────────────────────────────\u001b[0m\u001b[35m 🔧 Agent Tool Execution \u001b[0m\u001b[35m───────────────────────────────────────────\u001b[0m\u001b[35m─╮\u001b[0m\n",
       "\u001b[35m│\u001b[0m                                                                                                                 \u001b[35m│\u001b[0m\n",
       "\u001b[35m│\u001b[0m  \u001b[37mAgent: \u001b[0m\u001b[1;92mRetriever\u001b[0m                                                                                               \u001b[35m│\u001b[0m\n",
       "\u001b[35m│\u001b[0m                                                                                                                 \u001b[35m│\u001b[0m\n",
       "\u001b[35m│\u001b[0m  \u001b[37mThought: \u001b[0m\u001b[92mThought: I need to search the uploaded PDF for information about the Transformer architecture and \u001b[0m    \u001b[35m│\u001b[0m\n",
       "\u001b[35m│\u001b[0m  \u001b[92mfind a relevant section that includes an image or a description that can be associated with an image.\u001b[0m          \u001b[35m│\u001b[0m\n",
       "\u001b[35m│\u001b[0m                                                                                                                 \u001b[35m│\u001b[0m\n",
       "\u001b[35m│\u001b[0m  \u001b[37mUsing Tool: \u001b[0m\u001b[1;92mretrieve_from_pdf\u001b[0m                                                                                  \u001b[35m│\u001b[0m\n",
       "\u001b[35m│\u001b[0m                                                                                                                 \u001b[35m│\u001b[0m\n",
       "\u001b[35m╰─────────────────────────────────────────────────────────────────────────────────────────────────────────────────╯\u001b[0m\n"
      ]
     },
     "metadata": {},
     "output_type": "display_data"
    },
    {
     "data": {
      "text/html": [
       "<pre style=\"white-space:pre;overflow-x:auto;line-height:normal;font-family:Menlo,'DejaVu Sans Mono',consolas,'Courier New',monospace\"><span style=\"color: #000080; text-decoration-color: #000080\">╭────────────────────────────────────────────────── Tool Input ───────────────────────────────────────────────────╮</span>\n",
       "<span style=\"color: #000080; text-decoration-color: #000080\">│</span>                                                                                                                 <span style=\"color: #000080; text-decoration-color: #000080\">│</span>\n",
       "<span style=\"color: #000080; text-decoration-color: #000080\">│</span>  <span style=\"color: #e6db74; text-decoration-color: #e6db74; background-color: #ffffff\">\"{\\\"query\\\": \\\"transformer architecture with image\\\"}\"</span>                                                         <span style=\"color: #000080; text-decoration-color: #000080\">│</span>\n",
       "<span style=\"color: #000080; text-decoration-color: #000080\">│</span>                                                                                                                 <span style=\"color: #000080; text-decoration-color: #000080\">│</span>\n",
       "<span style=\"color: #000080; text-decoration-color: #000080\">╰─────────────────────────────────────────────────────────────────────────────────────────────────────────────────╯</span>\n",
       "</pre>\n"
      ],
      "text/plain": [
       "\u001b[34m╭─\u001b[0m\u001b[34m─────────────────────────────────────────────────\u001b[0m\u001b[34m Tool Input \u001b[0m\u001b[34m──────────────────────────────────────────────────\u001b[0m\u001b[34m─╮\u001b[0m\n",
       "\u001b[34m│\u001b[0m                                                                                                                 \u001b[34m│\u001b[0m\n",
       "\u001b[34m│\u001b[0m  \u001b[38;2;230;219;116;49m\"{\\\"query\\\": \\\"transformer architecture with image\\\"}\"\u001b[0m                                                         \u001b[34m│\u001b[0m\n",
       "\u001b[34m│\u001b[0m                                                                                                                 \u001b[34m│\u001b[0m\n",
       "\u001b[34m╰─────────────────────────────────────────────────────────────────────────────────────────────────────────────────╯\u001b[0m\n"
      ]
     },
     "metadata": {},
     "output_type": "display_data"
    },
    {
     "data": {
      "text/html": [
       "<pre style=\"white-space:pre;overflow-x:auto;line-height:normal;font-family:Menlo,'DejaVu Sans Mono',consolas,'Courier New',monospace\"><span style=\"color: #008000; text-decoration-color: #008000\">╭────────────────────────────────────────────────── Tool Output ──────────────────────────────────────────────────╮</span>\n",
       "<span style=\"color: #008000; text-decoration-color: #008000\">│</span>                                                                                                                 <span style=\"color: #008000; text-decoration-color: #008000\">│</span>\n",
       "<span style=\"color: #008000; text-decoration-color: #008000\">│</span>  <span style=\"color: #00ff00; text-decoration-color: #00ff00\">relying entirely on an attention mechanism to draw global dependencies between input and output.</span>               <span style=\"color: #008000; text-decoration-color: #008000\">│</span>\n",
       "<span style=\"color: #008000; text-decoration-color: #008000\">│</span>  <span style=\"color: #00ff00; text-decoration-color: #00ff00\">The Transformer allows for significantly more parallelization and can reach a new state of the art in</span>          <span style=\"color: #008000; text-decoration-color: #008000\">│</span>\n",
       "<span style=\"color: #008000; text-decoration-color: #008000\">│</span>  <span style=\"color: #00ff00; text-decoration-color: #00ff00\">translation quality after being trained for as little as twelve hours on eight P100 GPUs.</span>                      <span style=\"color: #008000; text-decoration-color: #008000\">│</span>\n",
       "<span style=\"color: #008000; text-decoration-color: #008000\">│</span>  <span style=\"color: #00ff00; text-decoration-color: #00ff00\">2 Background</span>                                                                                                   <span style=\"color: #008000; text-decoration-color: #008000\">│</span>\n",
       "<span style=\"color: #008000; text-decoration-color: #008000\">│</span>  <span style=\"color: #00ff00; text-decoration-color: #00ff00\">The goal of reducing sequential computation also forms the foundation of the Extended Neural GPU</span>               <span style=\"color: #008000; text-decoration-color: #008000\">│</span>\n",
       "<span style=\"color: #008000; text-decoration-color: #008000\">│</span>  <span style=\"color: #00ff00; text-decoration-color: #00ff00\">models have not been able to attain state-of-the-art results in small-data regimes [37].</span>                       <span style=\"color: #008000; text-decoration-color: #008000\">│</span>\n",
       "<span style=\"color: #008000; text-decoration-color: #008000\">│</span>  <span style=\"color: #00ff00; text-decoration-color: #00ff00\">We trained a 4-layer transformer with dmodel = 1024 on the Wall Street Journal (WSJ) portion of the</span>            <span style=\"color: #008000; text-decoration-color: #008000\">│</span>\n",
       "<span style=\"color: #008000; text-decoration-color: #008000\">│</span>  <span style=\"color: #00ff00; text-decoration-color: #00ff00\">Penn Treebank [ 25], about 40K training sentences. We also trained it in a semi-supervised setting,</span>            <span style=\"color: #008000; text-decoration-color: #008000\">│</span>\n",
       "<span style=\"color: #008000; text-decoration-color: #008000\">│</span>  <span style=\"color: #00ff00; text-decoration-color: #00ff00\">using the larger high-confidence and BerkleyParser corpora from with approximately 17M sentences</span>               <span style=\"color: #008000; text-decoration-color: #008000\">│</span>\n",
       "<span style=\"color: #008000; text-decoration-color: #008000\">│</span>  <span style=\"color: #00ff00; text-decoration-color: #00ff00\">[37]. We used a vocabulary of 16K tokens for the WSJ only setting and a vocabulary of 32K tokens</span>               <span style=\"color: #008000; text-decoration-color: #008000\">│</span>\n",
       "<span style=\"color: #008000; text-decoration-color: #008000\">│</span>  <span style=\"color: #00ff00; text-decoration-color: #00ff00\">Attention mechanisms have become an integral part of compelling sequence modeling and transduc-</span>                <span style=\"color: #008000; text-decoration-color: #008000\">│</span>\n",
       "<span style=\"color: #008000; text-decoration-color: #008000\">│</span>  <span style=\"color: #00ff00; text-decoration-color: #00ff00\">tion models in various tasks, allowing modeling of dependencies without regard to their distance in</span>            <span style=\"color: #008000; text-decoration-color: #008000\">│</span>\n",
       "<span style=\"color: #008000; text-decoration-color: #008000\">│</span>  <span style=\"color: #00ff00; text-decoration-color: #00ff00\">the input or output sequences [ 2,19]. In all but a few cases [ 27], however, such attention mechanisms</span>        <span style=\"color: #008000; text-decoration-color: #008000\">│</span>\n",
       "<span style=\"color: #008000; text-decoration-color: #008000\">│</span>  <span style=\"color: #00ff00; text-decoration-color: #00ff00\">are used in conjunction with a recurrent network.</span>                                                              <span style=\"color: #008000; text-decoration-color: #008000\">│</span>\n",
       "<span style=\"color: #008000; text-decoration-color: #008000\">│</span>  <span style=\"color: #00ff00; text-decoration-color: #00ff00\">In this work we propose the Transformer, a model architecture eschewing recurrence and instead</span>                 <span style=\"color: #008000; text-decoration-color: #008000\">│</span>\n",
       "<span style=\"color: #008000; text-decoration-color: #008000\">│</span>  <span style=\"color: #00ff00; text-decoration-color: #00ff00\">McClosky et al. (2006) [26] semi-supervised 92.1</span>                                                               <span style=\"color: #008000; text-decoration-color: #008000\">│</span>\n",
       "<span style=\"color: #008000; text-decoration-color: #008000\">│</span>  <span style=\"color: #00ff00; text-decoration-color: #00ff00\">Vinyals &amp; Kaiser el al. (2014) [37] semi-supervised 92.1</span>                                                       <span style=\"color: #008000; text-decoration-color: #008000\">│</span>\n",
       "<span style=\"color: #008000; text-decoration-color: #008000\">│</span>  <span style=\"color: #00ff00; text-decoration-color: #00ff00\">Transformer (4 layers) semi-supervised 92.7</span>                                                                    <span style=\"color: #008000; text-decoration-color: #008000\">│</span>\n",
       "<span style=\"color: #008000; text-decoration-color: #008000\">│</span>  <span style=\"color: #00ff00; text-decoration-color: #00ff00\">Luong et al. (2015) [23] multi-task 93.0</span>                                                                       <span style=\"color: #008000; text-decoration-color: #008000\">│</span>\n",
       "<span style=\"color: #008000; text-decoration-color: #008000\">│</span>  <span style=\"color: #00ff00; text-decoration-color: #00ff00\">Dyer et al. (2016) [8] generative 93.3</span>                                                                         <span style=\"color: #008000; text-decoration-color: #008000\">│</span>\n",
       "<span style=\"color: #008000; text-decoration-color: #008000\">│</span>  <span style=\"color: #00ff00; text-decoration-color: #00ff00\">increased the maximum output length to input length + 300. We used a beam size of 21andα= 0.3</span>                  <span style=\"color: #008000; text-decoration-color: #008000\">│</span>\n",
       "<span style=\"color: #008000; text-decoration-color: #008000\">│</span>  <span style=\"color: #00ff00; text-decoration-color: #00ff00\">for both WSJ only and the semi-supervised setting.</span>                                                             <span style=\"color: #008000; text-decoration-color: #008000\">│</span>\n",
       "<span style=\"color: #008000; text-decoration-color: #008000\">│</span>  <span style=\"color: #00ff00; text-decoration-color: #00ff00\">Our results in Table 4 show that despite the lack of task-specific tuning our model performs sur-</span>              <span style=\"color: #008000; text-decoration-color: #008000\">│</span>\n",
       "<span style=\"color: #008000; text-decoration-color: #008000\">│</span>  <span style=\"color: #00ff00; text-decoration-color: #00ff00\">language modeling tasks [34].</span>                                                                                  <span style=\"color: #008000; text-decoration-color: #008000\">│</span>\n",
       "<span style=\"color: #008000; text-decoration-color: #008000\">│</span>  <span style=\"color: #00ff00; text-decoration-color: #00ff00\">To the best of our knowledge, however, the Transformer is the first transduction model relying</span>                 <span style=\"color: #008000; text-decoration-color: #008000\">│</span>\n",
       "<span style=\"color: #008000; text-decoration-color: #008000\">│</span>  <span style=\"color: #00ff00; text-decoration-color: #00ff00\">entirely on self-attention to compute representations of its input and o...</span>                                    <span style=\"color: #008000; text-decoration-color: #008000\">│</span>\n",
       "<span style=\"color: #008000; text-decoration-color: #008000\">│</span>                                                                                                                 <span style=\"color: #008000; text-decoration-color: #008000\">│</span>\n",
       "<span style=\"color: #008000; text-decoration-color: #008000\">╰─────────────────────────────────────────────────────────────────────────────────────────────────────────────────╯</span>\n",
       "</pre>\n"
      ],
      "text/plain": [
       "\u001b[32m╭─\u001b[0m\u001b[32m─────────────────────────────────────────────────\u001b[0m\u001b[32m Tool Output \u001b[0m\u001b[32m─────────────────────────────────────────────────\u001b[0m\u001b[32m─╮\u001b[0m\n",
       "\u001b[32m│\u001b[0m                                                                                                                 \u001b[32m│\u001b[0m\n",
       "\u001b[32m│\u001b[0m  \u001b[92mrelying entirely on an attention mechanism to draw global dependencies between input and output.\u001b[0m               \u001b[32m│\u001b[0m\n",
       "\u001b[32m│\u001b[0m  \u001b[92mThe Transformer allows for significantly more parallelization and can reach a new state of the art in\u001b[0m          \u001b[32m│\u001b[0m\n",
       "\u001b[32m│\u001b[0m  \u001b[92mtranslation quality after being trained for as little as twelve hours on eight P100 GPUs.\u001b[0m                      \u001b[32m│\u001b[0m\n",
       "\u001b[32m│\u001b[0m  \u001b[92m2 Background\u001b[0m                                                                                                   \u001b[32m│\u001b[0m\n",
       "\u001b[32m│\u001b[0m  \u001b[92mThe goal of reducing sequential computation also forms the foundation of the Extended Neural GPU\u001b[0m               \u001b[32m│\u001b[0m\n",
       "\u001b[32m│\u001b[0m  \u001b[92mmodels have not been able to attain state-of-the-art results in small-data regimes [37].\u001b[0m                       \u001b[32m│\u001b[0m\n",
       "\u001b[32m│\u001b[0m  \u001b[92mWe trained a 4-layer transformer with dmodel = 1024 on the Wall Street Journal (WSJ) portion of the\u001b[0m            \u001b[32m│\u001b[0m\n",
       "\u001b[32m│\u001b[0m  \u001b[92mPenn Treebank [ 25], about 40K training sentences. We also trained it in a semi-supervised setting,\u001b[0m            \u001b[32m│\u001b[0m\n",
       "\u001b[32m│\u001b[0m  \u001b[92musing the larger high-confidence and BerkleyParser corpora from with approximately 17M sentences\u001b[0m               \u001b[32m│\u001b[0m\n",
       "\u001b[32m│\u001b[0m  \u001b[92m[37]. We used a vocabulary of 16K tokens for the WSJ only setting and a vocabulary of 32K tokens\u001b[0m               \u001b[32m│\u001b[0m\n",
       "\u001b[32m│\u001b[0m  \u001b[92mAttention mechanisms have become an integral part of compelling sequence modeling and transduc-\u001b[0m                \u001b[32m│\u001b[0m\n",
       "\u001b[32m│\u001b[0m  \u001b[92mtion models in various tasks, allowing modeling of dependencies without regard to their distance in\u001b[0m            \u001b[32m│\u001b[0m\n",
       "\u001b[32m│\u001b[0m  \u001b[92mthe input or output sequences [ 2,19]. In all but a few cases [ 27], however, such attention mechanisms\u001b[0m        \u001b[32m│\u001b[0m\n",
       "\u001b[32m│\u001b[0m  \u001b[92mare used in conjunction with a recurrent network.\u001b[0m                                                              \u001b[32m│\u001b[0m\n",
       "\u001b[32m│\u001b[0m  \u001b[92mIn this work we propose the Transformer, a model architecture eschewing recurrence and instead\u001b[0m                 \u001b[32m│\u001b[0m\n",
       "\u001b[32m│\u001b[0m  \u001b[92mMcClosky et al. (2006) [26] semi-supervised 92.1\u001b[0m                                                               \u001b[32m│\u001b[0m\n",
       "\u001b[32m│\u001b[0m  \u001b[92mVinyals & Kaiser el al. (2014) [37] semi-supervised 92.1\u001b[0m                                                       \u001b[32m│\u001b[0m\n",
       "\u001b[32m│\u001b[0m  \u001b[92mTransformer (4 layers) semi-supervised 92.7\u001b[0m                                                                    \u001b[32m│\u001b[0m\n",
       "\u001b[32m│\u001b[0m  \u001b[92mLuong et al. (2015) [23] multi-task 93.0\u001b[0m                                                                       \u001b[32m│\u001b[0m\n",
       "\u001b[32m│\u001b[0m  \u001b[92mDyer et al. (2016) [8] generative 93.3\u001b[0m                                                                         \u001b[32m│\u001b[0m\n",
       "\u001b[32m│\u001b[0m  \u001b[92mincreased the maximum output length to input length + 300. We used a beam size of 21andα= 0.3\u001b[0m                  \u001b[32m│\u001b[0m\n",
       "\u001b[32m│\u001b[0m  \u001b[92mfor both WSJ only and the semi-supervised setting.\u001b[0m                                                             \u001b[32m│\u001b[0m\n",
       "\u001b[32m│\u001b[0m  \u001b[92mOur results in Table 4 show that despite the lack of task-specific tuning our model performs sur-\u001b[0m              \u001b[32m│\u001b[0m\n",
       "\u001b[32m│\u001b[0m  \u001b[92mlanguage modeling tasks [34].\u001b[0m                                                                                  \u001b[32m│\u001b[0m\n",
       "\u001b[32m│\u001b[0m  \u001b[92mTo the best of our knowledge, however, the Transformer is the first transduction model relying\u001b[0m                 \u001b[32m│\u001b[0m\n",
       "\u001b[32m│\u001b[0m  \u001b[92mentirely on self-attention to compute representations of its input and o...\u001b[0m                                    \u001b[32m│\u001b[0m\n",
       "\u001b[32m│\u001b[0m                                                                                                                 \u001b[32m│\u001b[0m\n",
       "\u001b[32m╰─────────────────────────────────────────────────────────────────────────────────────────────────────────────────╯\u001b[0m\n"
      ]
     },
     "metadata": {},
     "output_type": "display_data"
    },
    {
     "data": {
      "text/html": [
       "<pre style=\"white-space:pre;overflow-x:auto;line-height:normal;font-family:Menlo,'DejaVu Sans Mono',consolas,'Courier New',monospace\">\n",
       "</pre>\n"
      ],
      "text/plain": [
       "\n"
      ]
     },
     "metadata": {},
     "output_type": "display_data"
    },
    {
     "data": {
      "application/vnd.jupyter.widget-view+json": {
       "model_id": "2cd3e3036cae4982b74595776eb9a919",
       "version_major": 2,
       "version_minor": 0
      },
      "text/plain": [
       "Output()"
      ]
     },
     "metadata": {},
     "output_type": "display_data"
    },
    {
     "data": {
      "text/html": [
       "<pre style=\"white-space:pre;overflow-x:auto;line-height:normal;font-family:Menlo,'DejaVu Sans Mono',consolas,'Courier New',monospace\"></pre>\n"
      ],
      "text/plain": []
     },
     "metadata": {},
     "output_type": "display_data"
    },
    {
     "data": {
      "text/html": [
       "<pre style=\"white-space:pre;overflow-x:auto;line-height:normal;font-family:Menlo,'DejaVu Sans Mono',consolas,'Courier New',monospace\"><span style=\"color: #800080; text-decoration-color: #800080\">╭──────────────────────────────────────────── 🔧 Agent Tool Execution ────────────────────────────────────────────╮</span>\n",
       "<span style=\"color: #800080; text-decoration-color: #800080\">│</span>                                                                                                                 <span style=\"color: #800080; text-decoration-color: #800080\">│</span>\n",
       "<span style=\"color: #800080; text-decoration-color: #800080\">│</span>  <span style=\"color: #c0c0c0; text-decoration-color: #c0c0c0\">Agent: </span><span style=\"color: #00ff00; text-decoration-color: #00ff00; font-weight: bold\">Retriever</span>                                                                                               <span style=\"color: #800080; text-decoration-color: #800080\">│</span>\n",
       "<span style=\"color: #800080; text-decoration-color: #800080\">│</span>                                                                                                                 <span style=\"color: #800080; text-decoration-color: #800080\">│</span>\n",
       "<span style=\"color: #800080; text-decoration-color: #800080\">│</span>  <span style=\"color: #c0c0c0; text-decoration-color: #c0c0c0\">Thought: </span><span style=\"color: #00ff00; text-decoration-color: #00ff00\">The Transformer model is based on an encoder-decoder structure. The encoder takes a sequence of</span>       <span style=\"color: #800080; text-decoration-color: #800080\">│</span>\n",
       "<span style=\"color: #800080; text-decoration-color: #800080\">│</span>  <span style=\"color: #00ff00; text-decoration-color: #00ff00\">tokens and outputs a sequence of vectors. The decoder then generates the output sequence, one token</span>            <span style=\"color: #800080; text-decoration-color: #800080\">│</span>\n",
       "<span style=\"color: #800080; text-decoration-color: #800080\">│</span>  <span style=\"color: #00ff00; text-decoration-color: #00ff00\">at a time, based on the encoder output.</span>                                                                        <span style=\"color: #800080; text-decoration-color: #800080\">│</span>\n",
       "<span style=\"color: #800080; text-decoration-color: #800080\">│</span>  <span style=\"color: #00ff00; text-decoration-color: #00ff00\">The Transformer architecture is illustrated in Figure1.The Transformer consists of an encoder and</span>              <span style=\"color: #800080; text-decoration-color: #800080\">│</span>\n",
       "<span style=\"color: #800080; text-decoration-color: #800080\">│</span>  <span style=\"color: #00ff00; text-decoration-color: #00ff00\">a decoder, each composed of a stack of identical layers. For the encoder, this consists of a stack of six</span>      <span style=\"color: #800080; text-decoration-color: #800080\">│</span>\n",
       "<span style=\"color: #800080; text-decoration-color: #800080\">│</span>  <span style=\"color: #00ff00; text-decoration-color: #00ff00\">identical layers. Each layer has two sub-layers. The first sub-layer is a multi-head self-attention</span>            <span style=\"color: #800080; text-decoration-color: #800080\">│</span>\n",
       "<span style=\"color: #800080; text-decoration-color: #800080\">│</span>  <span style=\"color: #00ff00; text-decoration-color: #00ff00\">mechanism, and the second sub-layer is a positionwise fully connected feed-forward network.</span>                    <span style=\"color: #800080; text-decoration-color: #800080\">│</span>\n",
       "<span style=\"color: #800080; text-decoration-color: #800080\">│</span>                                                                                                                 <span style=\"color: #800080; text-decoration-color: #800080\">│</span>\n",
       "<span style=\"color: #800080; text-decoration-color: #800080\">│</span>  <span style=\"color: #c0c0c0; text-decoration-color: #c0c0c0\">Using Tool: </span><span style=\"color: #00ff00; text-decoration-color: #00ff00; font-weight: bold\">retrieve_from_pdf</span>                                                                                  <span style=\"color: #800080; text-decoration-color: #800080\">│</span>\n",
       "<span style=\"color: #800080; text-decoration-color: #800080\">│</span>                                                                                                                 <span style=\"color: #800080; text-decoration-color: #800080\">│</span>\n",
       "<span style=\"color: #800080; text-decoration-color: #800080\">╰─────────────────────────────────────────────────────────────────────────────────────────────────────────────────╯</span>\n",
       "</pre>\n"
      ],
      "text/plain": [
       "\u001b[35m╭─\u001b[0m\u001b[35m───────────────────────────────────────────\u001b[0m\u001b[35m 🔧 Agent Tool Execution \u001b[0m\u001b[35m───────────────────────────────────────────\u001b[0m\u001b[35m─╮\u001b[0m\n",
       "\u001b[35m│\u001b[0m                                                                                                                 \u001b[35m│\u001b[0m\n",
       "\u001b[35m│\u001b[0m  \u001b[37mAgent: \u001b[0m\u001b[1;92mRetriever\u001b[0m                                                                                               \u001b[35m│\u001b[0m\n",
       "\u001b[35m│\u001b[0m                                                                                                                 \u001b[35m│\u001b[0m\n",
       "\u001b[35m│\u001b[0m  \u001b[37mThought: \u001b[0m\u001b[92mThe Transformer model is based on an encoder-decoder structure. The encoder takes a sequence of\u001b[0m       \u001b[35m│\u001b[0m\n",
       "\u001b[35m│\u001b[0m  \u001b[92mtokens and outputs a sequence of vectors. The decoder then generates the output sequence, one token\u001b[0m            \u001b[35m│\u001b[0m\n",
       "\u001b[35m│\u001b[0m  \u001b[92mat a time, based on the encoder output.\u001b[0m                                                                        \u001b[35m│\u001b[0m\n",
       "\u001b[35m│\u001b[0m  \u001b[92mThe Transformer architecture is illustrated in Figure1.The Transformer consists of an encoder and\u001b[0m              \u001b[35m│\u001b[0m\n",
       "\u001b[35m│\u001b[0m  \u001b[92ma decoder, each composed of a stack of identical layers. For the encoder, this consists of a stack of six\u001b[0m      \u001b[35m│\u001b[0m\n",
       "\u001b[35m│\u001b[0m  \u001b[92midentical layers. Each layer has two sub-layers. The first sub-layer is a multi-head self-attention\u001b[0m            \u001b[35m│\u001b[0m\n",
       "\u001b[35m│\u001b[0m  \u001b[92mmechanism, and the second sub-layer is a positionwise fully connected feed-forward network.\u001b[0m                    \u001b[35m│\u001b[0m\n",
       "\u001b[35m│\u001b[0m                                                                                                                 \u001b[35m│\u001b[0m\n",
       "\u001b[35m│\u001b[0m  \u001b[37mUsing Tool: \u001b[0m\u001b[1;92mretrieve_from_pdf\u001b[0m                                                                                  \u001b[35m│\u001b[0m\n",
       "\u001b[35m│\u001b[0m                                                                                                                 \u001b[35m│\u001b[0m\n",
       "\u001b[35m╰─────────────────────────────────────────────────────────────────────────────────────────────────────────────────╯\u001b[0m\n"
      ]
     },
     "metadata": {},
     "output_type": "display_data"
    },
    {
     "data": {
      "text/html": [
       "<pre style=\"white-space:pre;overflow-x:auto;line-height:normal;font-family:Menlo,'DejaVu Sans Mono',consolas,'Courier New',monospace\"><span style=\"color: #000080; text-decoration-color: #000080\">╭────────────────────────────────────────────────── Tool Input ───────────────────────────────────────────────────╮</span>\n",
       "<span style=\"color: #000080; text-decoration-color: #000080\">│</span>                                                                                                                 <span style=\"color: #000080; text-decoration-color: #000080\">│</span>\n",
       "<span style=\"color: #000080; text-decoration-color: #000080\">│</span>  <span style=\"color: #e6db74; text-decoration-color: #e6db74; background-color: #ffffff\">\"{\\\"query\\\": \\\"transformer architecture diagram\\\"}\"</span>                                                            <span style=\"color: #000080; text-decoration-color: #000080\">│</span>\n",
       "<span style=\"color: #000080; text-decoration-color: #000080\">│</span>                                                                                                                 <span style=\"color: #000080; text-decoration-color: #000080\">│</span>\n",
       "<span style=\"color: #000080; text-decoration-color: #000080\">╰─────────────────────────────────────────────────────────────────────────────────────────────────────────────────╯</span>\n",
       "</pre>\n"
      ],
      "text/plain": [
       "\u001b[34m╭─\u001b[0m\u001b[34m─────────────────────────────────────────────────\u001b[0m\u001b[34m Tool Input \u001b[0m\u001b[34m──────────────────────────────────────────────────\u001b[0m\u001b[34m─╮\u001b[0m\n",
       "\u001b[34m│\u001b[0m                                                                                                                 \u001b[34m│\u001b[0m\n",
       "\u001b[34m│\u001b[0m  \u001b[38;2;230;219;116;49m\"{\\\"query\\\": \\\"transformer architecture diagram\\\"}\"\u001b[0m                                                            \u001b[34m│\u001b[0m\n",
       "\u001b[34m│\u001b[0m                                                                                                                 \u001b[34m│\u001b[0m\n",
       "\u001b[34m╰─────────────────────────────────────────────────────────────────────────────────────────────────────────────────╯\u001b[0m\n"
      ]
     },
     "metadata": {},
     "output_type": "display_data"
    },
    {
     "data": {
      "text/html": [
       "<pre style=\"white-space:pre;overflow-x:auto;line-height:normal;font-family:Menlo,'DejaVu Sans Mono',consolas,'Courier New',monospace\"><span style=\"color: #008000; text-decoration-color: #008000\">╭────────────────────────────────────────────────── Tool Output ──────────────────────────────────────────────────╮</span>\n",
       "<span style=\"color: #008000; text-decoration-color: #008000\">│</span>                                                                                                                 <span style=\"color: #008000; text-decoration-color: #008000\">│</span>\n",
       "<span style=\"color: #008000; text-decoration-color: #008000\">│</span>  <span style=\"color: #00ff00; text-decoration-color: #00ff00\">[10], consuming the previously generated symbols as additional input when generating the next.</span>                 <span style=\"color: #008000; text-decoration-color: #008000\">│</span>\n",
       "<span style=\"color: #008000; text-decoration-color: #008000\">│</span>  <span style=\"color: #00ff00; text-decoration-color: #00ff00\">2</span>                                                                                                              <span style=\"color: #008000; text-decoration-color: #008000\">│</span>\n",
       "<span style=\"color: #008000; text-decoration-color: #008000\">│</span>  <span style=\"color: #00ff00; text-decoration-color: #00ff00\">Figure 1: The Transformer - model architecture.</span>                                                                <span style=\"color: #008000; text-decoration-color: #008000\">│</span>\n",
       "<span style=\"color: #008000; text-decoration-color: #008000\">│</span>  <span style=\"color: #00ff00; text-decoration-color: #00ff00\">The Transformer follows this overall architecture using stacked self-attention and point-wise, fully</span>           <span style=\"color: #008000; text-decoration-color: #008000\">│</span>\n",
       "<span style=\"color: #008000; text-decoration-color: #008000\">│</span>  <span style=\"color: #00ff00; text-decoration-color: #00ff00\">connected layers for both the encoder and decoder, shown in the left and right halves of Figure 1,</span>             <span style=\"color: #008000; text-decoration-color: #008000\">│</span>\n",
       "<span style=\"color: #008000; text-decoration-color: #008000\">│</span>  <span style=\"color: #00ff00; text-decoration-color: #00ff00\">respectively.</span>                                                                                                  <span style=\"color: #008000; text-decoration-color: #008000\">│</span>\n",
       "<span style=\"color: #008000; text-decoration-color: #008000\">│</span>  <span style=\"color: #00ff00; text-decoration-color: #00ff00\">3.1 Encoder and Decoder Stacks</span>                                                                                 <span style=\"color: #008000; text-decoration-color: #008000\">│</span>\n",
       "<span style=\"color: #008000; text-decoration-color: #008000\">│</span>  <span style=\"color: #00ff00; text-decoration-color: #00ff00\">Encoder: The encoder is composed of a stack of N= 6 identical layers. Each layer has two</span>                       <span style=\"color: #008000; text-decoration-color: #008000\">│</span>\n",
       "<span style=\"color: #008000; text-decoration-color: #008000\">│</span>  <span style=\"color: #00ff00; text-decoration-color: #00ff00\">relying entirely on an attention mechanism to draw global dependencies between input and output.</span>               <span style=\"color: #008000; text-decoration-color: #008000\">│</span>\n",
       "<span style=\"color: #008000; text-decoration-color: #008000\">│</span>  <span style=\"color: #00ff00; text-decoration-color: #00ff00\">The Transformer allows for significantly more parallelization and can reach a new state of the art in</span>          <span style=\"color: #008000; text-decoration-color: #008000\">│</span>\n",
       "<span style=\"color: #008000; text-decoration-color: #008000\">│</span>  <span style=\"color: #00ff00; text-decoration-color: #00ff00\">translation quality after being trained for as little as twelve hours on eight P100 GPUs.</span>                      <span style=\"color: #008000; text-decoration-color: #008000\">│</span>\n",
       "<span style=\"color: #008000; text-decoration-color: #008000\">│</span>  <span style=\"color: #00ff00; text-decoration-color: #00ff00\">2 Background</span>                                                                                                   <span style=\"color: #008000; text-decoration-color: #008000\">│</span>\n",
       "<span style=\"color: #008000; text-decoration-color: #008000\">│</span>  <span style=\"color: #00ff00; text-decoration-color: #00ff00\">The goal of reducing sequential computation also forms the foundation of the Extended Neural GPU</span>               <span style=\"color: #008000; text-decoration-color: #008000\">│</span>\n",
       "<span style=\"color: #008000; text-decoration-color: #008000\">│</span>  <span style=\"color: #00ff00; text-decoration-color: #00ff00\">Attention mechanisms have become an integral part of compelling sequence modeling and transduc-</span>                <span style=\"color: #008000; text-decoration-color: #008000\">│</span>\n",
       "<span style=\"color: #008000; text-decoration-color: #008000\">│</span>  <span style=\"color: #00ff00; text-decoration-color: #00ff00\">tion models in various tasks, allowing modeling of dependencies without regard to their distance in</span>            <span style=\"color: #008000; text-decoration-color: #008000\">│</span>\n",
       "<span style=\"color: #008000; text-decoration-color: #008000\">│</span>  <span style=\"color: #00ff00; text-decoration-color: #00ff00\">the input or output sequences [ 2,19]. In all but a few cases [ 27], however, such attention mechanisms</span>        <span style=\"color: #008000; text-decoration-color: #008000\">│</span>\n",
       "<span style=\"color: #008000; text-decoration-color: #008000\">│</span>  <span style=\"color: #00ff00; text-decoration-color: #00ff00\">are used in conjunction with a recurrent network.</span>                                                              <span style=\"color: #008000; text-decoration-color: #008000\">│</span>\n",
       "<span style=\"color: #008000; text-decoration-color: #008000\">│</span>  <span style=\"color: #00ff00; text-decoration-color: #00ff00\">In this work we propose the Transformer, a model architecture eschewing recurrence and instead</span>                 <span style=\"color: #008000; text-decoration-color: #008000\">│</span>\n",
       "<span style=\"color: #008000; text-decoration-color: #008000\">│</span>  <span style=\"color: #00ff00; text-decoration-color: #00ff00\">language modeling tasks [34].</span>                                                                                  <span style=\"color: #008000; text-decoration-color: #008000\">│</span>\n",
       "<span style=\"color: #008000; text-decoration-color: #008000\">│</span>  <span style=\"color: #00ff00; text-decoration-color: #00ff00\">To the best of our knowledge, however, the Transformer is the first transduction model relying</span>                 <span style=\"color: #008000; text-decoration-color: #008000\">│</span>\n",
       "<span style=\"color: #008000; text-decoration-color: #008000\">│</span>  <span style=\"color: #00ff00; text-decoration-color: #00ff00\">entirely on self-attention to compute representations of its input and output without using sequence-</span>          <span style=\"color: #008000; text-decoration-color: #008000\">│</span>\n",
       "<span style=\"color: #008000; text-decoration-color: #008000\">│</span>  <span style=\"color: #00ff00; text-decoration-color: #00ff00\">aligned RNNs or convolution. In the following sections, we will describe the Transformer, motivate</span>             <span style=\"color: #008000; text-decoration-color: #008000\">│</span>\n",
       "<span style=\"color: #008000; text-decoration-color: #008000\">│</span>  <span style=\"color: #00ff00; text-decoration-color: #00ff00\">self-attention and discuss its advantages over models such as [17, 18] and [9].</span>                                <span style=\"color: #008000; text-decoration-color: #008000\">│</span>\n",
       "<span style=\"color: #008000; text-decoration-color: #008000\">│</span>  <span style=\"color: #00ff00; text-decoration-color: #00ff00\">3 Model Architecture</span>                                                                                           <span style=\"color: #008000; text-decoration-color: #008000\">│</span>\n",
       "<span style=\"color: #008000; text-decoration-color: #008000\">│</span>  <span style=\"color: #00ff00; text-decoration-color: #00ff00\">sub-layers. The first is a multi-head self-attention mechanism, and the second is a simple, position-</span>          <span style=\"color: #008000; text-decoration-color: #008000\">│</span>\n",
       "<span style=\"color: #008000; text-decoration-color: #008000\">│</span>  <span style=\"color: #00ff00; text-decoration-color: #00ff00\">wise fully connected feed-forward network. We employ a residual connection [ 11] around each of</span>                <span style=\"color: #008000; text-decoration-color: #008000\">│</span>\n",
       "<span style=\"color: #008000; text-decoration-color: #008000\">│</span>  <span style=\"color: #00ff00; text-decoration-color: #00ff00\">the two sub-layers, followed by layer normalizati...</span>                                                           <span style=\"color: #008000; text-decoration-color: #008000\">│</span>\n",
       "<span style=\"color: #008000; text-decoration-color: #008000\">│</span>                                                                                                                 <span style=\"color: #008000; text-decoration-color: #008000\">│</span>\n",
       "<span style=\"color: #008000; text-decoration-color: #008000\">╰─────────────────────────────────────────────────────────────────────────────────────────────────────────────────╯</span>\n",
       "</pre>\n"
      ],
      "text/plain": [
       "\u001b[32m╭─\u001b[0m\u001b[32m─────────────────────────────────────────────────\u001b[0m\u001b[32m Tool Output \u001b[0m\u001b[32m─────────────────────────────────────────────────\u001b[0m\u001b[32m─╮\u001b[0m\n",
       "\u001b[32m│\u001b[0m                                                                                                                 \u001b[32m│\u001b[0m\n",
       "\u001b[32m│\u001b[0m  \u001b[92m[10], consuming the previously generated symbols as additional input when generating the next.\u001b[0m                 \u001b[32m│\u001b[0m\n",
       "\u001b[32m│\u001b[0m  \u001b[92m2\u001b[0m                                                                                                              \u001b[32m│\u001b[0m\n",
       "\u001b[32m│\u001b[0m  \u001b[92mFigure 1: The Transformer - model architecture.\u001b[0m                                                                \u001b[32m│\u001b[0m\n",
       "\u001b[32m│\u001b[0m  \u001b[92mThe Transformer follows this overall architecture using stacked self-attention and point-wise, fully\u001b[0m           \u001b[32m│\u001b[0m\n",
       "\u001b[32m│\u001b[0m  \u001b[92mconnected layers for both the encoder and decoder, shown in the left and right halves of Figure 1,\u001b[0m             \u001b[32m│\u001b[0m\n",
       "\u001b[32m│\u001b[0m  \u001b[92mrespectively.\u001b[0m                                                                                                  \u001b[32m│\u001b[0m\n",
       "\u001b[32m│\u001b[0m  \u001b[92m3.1 Encoder and Decoder Stacks\u001b[0m                                                                                 \u001b[32m│\u001b[0m\n",
       "\u001b[32m│\u001b[0m  \u001b[92mEncoder: The encoder is composed of a stack of N= 6 identical layers. Each layer has two\u001b[0m                       \u001b[32m│\u001b[0m\n",
       "\u001b[32m│\u001b[0m  \u001b[92mrelying entirely on an attention mechanism to draw global dependencies between input and output.\u001b[0m               \u001b[32m│\u001b[0m\n",
       "\u001b[32m│\u001b[0m  \u001b[92mThe Transformer allows for significantly more parallelization and can reach a new state of the art in\u001b[0m          \u001b[32m│\u001b[0m\n",
       "\u001b[32m│\u001b[0m  \u001b[92mtranslation quality after being trained for as little as twelve hours on eight P100 GPUs.\u001b[0m                      \u001b[32m│\u001b[0m\n",
       "\u001b[32m│\u001b[0m  \u001b[92m2 Background\u001b[0m                                                                                                   \u001b[32m│\u001b[0m\n",
       "\u001b[32m│\u001b[0m  \u001b[92mThe goal of reducing sequential computation also forms the foundation of the Extended Neural GPU\u001b[0m               \u001b[32m│\u001b[0m\n",
       "\u001b[32m│\u001b[0m  \u001b[92mAttention mechanisms have become an integral part of compelling sequence modeling and transduc-\u001b[0m                \u001b[32m│\u001b[0m\n",
       "\u001b[32m│\u001b[0m  \u001b[92mtion models in various tasks, allowing modeling of dependencies without regard to their distance in\u001b[0m            \u001b[32m│\u001b[0m\n",
       "\u001b[32m│\u001b[0m  \u001b[92mthe input or output sequences [ 2,19]. In all but a few cases [ 27], however, such attention mechanisms\u001b[0m        \u001b[32m│\u001b[0m\n",
       "\u001b[32m│\u001b[0m  \u001b[92mare used in conjunction with a recurrent network.\u001b[0m                                                              \u001b[32m│\u001b[0m\n",
       "\u001b[32m│\u001b[0m  \u001b[92mIn this work we propose the Transformer, a model architecture eschewing recurrence and instead\u001b[0m                 \u001b[32m│\u001b[0m\n",
       "\u001b[32m│\u001b[0m  \u001b[92mlanguage modeling tasks [34].\u001b[0m                                                                                  \u001b[32m│\u001b[0m\n",
       "\u001b[32m│\u001b[0m  \u001b[92mTo the best of our knowledge, however, the Transformer is the first transduction model relying\u001b[0m                 \u001b[32m│\u001b[0m\n",
       "\u001b[32m│\u001b[0m  \u001b[92mentirely on self-attention to compute representations of its input and output without using sequence-\u001b[0m          \u001b[32m│\u001b[0m\n",
       "\u001b[32m│\u001b[0m  \u001b[92maligned RNNs or convolution. In the following sections, we will describe the Transformer, motivate\u001b[0m             \u001b[32m│\u001b[0m\n",
       "\u001b[32m│\u001b[0m  \u001b[92mself-attention and discuss its advantages over models such as [17, 18] and [9].\u001b[0m                                \u001b[32m│\u001b[0m\n",
       "\u001b[32m│\u001b[0m  \u001b[92m3 Model Architecture\u001b[0m                                                                                           \u001b[32m│\u001b[0m\n",
       "\u001b[32m│\u001b[0m  \u001b[92msub-layers. The first is a multi-head self-attention mechanism, and the second is a simple, position-\u001b[0m          \u001b[32m│\u001b[0m\n",
       "\u001b[32m│\u001b[0m  \u001b[92mwise fully connected feed-forward network. We employ a residual connection [ 11] around each of\u001b[0m                \u001b[32m│\u001b[0m\n",
       "\u001b[32m│\u001b[0m  \u001b[92mthe two sub-layers, followed by layer normalizati...\u001b[0m                                                           \u001b[32m│\u001b[0m\n",
       "\u001b[32m│\u001b[0m                                                                                                                 \u001b[32m│\u001b[0m\n",
       "\u001b[32m╰─────────────────────────────────────────────────────────────────────────────────────────────────────────────────╯\u001b[0m\n"
      ]
     },
     "metadata": {},
     "output_type": "display_data"
    },
    {
     "data": {
      "text/html": [
       "<pre style=\"white-space:pre;overflow-x:auto;line-height:normal;font-family:Menlo,'DejaVu Sans Mono',consolas,'Courier New',monospace\">\n",
       "</pre>\n"
      ],
      "text/plain": [
       "\n"
      ]
     },
     "metadata": {},
     "output_type": "display_data"
    },
    {
     "data": {
      "application/vnd.jupyter.widget-view+json": {
       "model_id": "162fb10d82714ed19c7dfaa2d8e3f10d",
       "version_major": 2,
       "version_minor": 0
      },
      "text/plain": [
       "Output()"
      ]
     },
     "metadata": {},
     "output_type": "display_data"
    },
    {
     "data": {
      "text/html": [
       "<pre style=\"white-space:pre;overflow-x:auto;line-height:normal;font-family:Menlo,'DejaVu Sans Mono',consolas,'Courier New',monospace\"></pre>\n"
      ],
      "text/plain": []
     },
     "metadata": {},
     "output_type": "display_data"
    },
    {
     "data": {
      "text/html": [
       "<pre style=\"white-space:pre;overflow-x:auto;line-height:normal;font-family:Menlo,'DejaVu Sans Mono',consolas,'Courier New',monospace\"><span style=\"color: #008000; text-decoration-color: #008000\">╭───────────────────────────────────────────── ✅ Agent Final Answer ─────────────────────────────────────────────╮</span>\n",
       "<span style=\"color: #008000; text-decoration-color: #008000\">│</span>                                                                                                                 <span style=\"color: #008000; text-decoration-color: #008000\">│</span>\n",
       "<span style=\"color: #008000; text-decoration-color: #008000\">│</span>  <span style=\"color: #c0c0c0; text-decoration-color: #c0c0c0\">Agent: </span><span style=\"color: #00ff00; text-decoration-color: #00ff00; font-weight: bold\">Retriever</span>                                                                                               <span style=\"color: #008000; text-decoration-color: #008000\">│</span>\n",
       "<span style=\"color: #008000; text-decoration-color: #008000\">│</span>                                                                                                                 <span style=\"color: #008000; text-decoration-color: #008000\">│</span>\n",
       "<span style=\"color: #008000; text-decoration-color: #008000\">│</span>  <span style=\"color: #c0c0c0; text-decoration-color: #c0c0c0\">Final Answer:</span>                                                                                                  <span style=\"color: #008000; text-decoration-color: #008000\">│</span>\n",
       "<span style=\"color: #008000; text-decoration-color: #008000\">│</span>  <span style=\"color: #00ff00; text-decoration-color: #00ff00\">Figure1: The Transformer - model architecture.</span>                                                                 <span style=\"color: #008000; text-decoration-color: #008000\">│</span>\n",
       "<span style=\"color: #008000; text-decoration-color: #008000\">│</span>  <span style=\"color: #00ff00; text-decoration-color: #00ff00\">The Transformer follows this overall architecture using stacked self-attention and point-wise, fully</span>           <span style=\"color: #008000; text-decoration-color: #008000\">│</span>\n",
       "<span style=\"color: #008000; text-decoration-color: #008000\">│</span>  <span style=\"color: #00ff00; text-decoration-color: #00ff00\">connected layers for both the encoder and decoder, shown in the left and right halves of Figure1,</span>              <span style=\"color: #008000; text-decoration-color: #008000\">│</span>\n",
       "<span style=\"color: #008000; text-decoration-color: #008000\">│</span>  <span style=\"color: #00ff00; text-decoration-color: #00ff00\">respectively.</span>                                                                                                  <span style=\"color: #008000; text-decoration-color: #008000\">│</span>\n",
       "<span style=\"color: #008000; text-decoration-color: #008000\">│</span>  <span style=\"color: #00ff00; text-decoration-color: #00ff00\">3.1 Encoder and Decoder Stacks</span>                                                                                 <span style=\"color: #008000; text-decoration-color: #008000\">│</span>\n",
       "<span style=\"color: #008000; text-decoration-color: #008000\">│</span>  <span style=\"color: #00ff00; text-decoration-color: #00ff00\">Encoder: The encoder is composed of a stack of N=6 identical layers. Each layer has two</span>                        <span style=\"color: #008000; text-decoration-color: #008000\">│</span>\n",
       "<span style=\"color: #008000; text-decoration-color: #008000\">│</span>  <span style=\"color: #00ff00; text-decoration-color: #00ff00\">sub-layers. The first is a multi-head self-attention mechanism, and the second is a simple, position-</span>          <span style=\"color: #008000; text-decoration-color: #008000\">│</span>\n",
       "<span style=\"color: #008000; text-decoration-color: #008000\">│</span>  <span style=\"color: #00ff00; text-decoration-color: #00ff00\">wise fully connected feed-forward network. We employ a residual connection [11] around each of</span>                 <span style=\"color: #008000; text-decoration-color: #008000\">│</span>\n",
       "<span style=\"color: #008000; text-decoration-color: #008000\">│</span>  <span style=\"color: #00ff00; text-decoration-color: #00ff00\">the two sub-layers, followed by layer normalization [1]. That is, the output of each sub-layer is</span>              <span style=\"color: #008000; text-decoration-color: #008000\">│</span>\n",
       "<span style=\"color: #008000; text-decoration-color: #008000\">│</span>  <span style=\"color: #00ff00; text-decoration-color: #00ff00\">LayerNorm( x+ Sublayer( x)), where Sublayer( x)is the function implemented by the sub-layer</span>                    <span style=\"color: #008000; text-decoration-color: #008000\">│</span>\n",
       "<span style=\"color: #008000; text-decoration-color: #008000\">│</span>  <span style=\"color: #00ff00; text-decoration-color: #00ff00\">itself. To facilitate these residual connections, all sub-layers in the model, as well as the embedding</span>        <span style=\"color: #008000; text-decoration-color: #008000\">│</span>\n",
       "<span style=\"color: #008000; text-decoration-color: #008000\">│</span>  <span style=\"color: #00ff00; text-decoration-color: #00ff00\">layer, output a vector of dimensionality dmodel =512.</span>                                                          <span style=\"color: #008000; text-decoration-color: #008000\">│</span>\n",
       "<span style=\"color: #008000; text-decoration-color: #008000\">│</span>                                                                                                                 <span style=\"color: #008000; text-decoration-color: #008000\">│</span>\n",
       "<span style=\"color: #008000; text-decoration-color: #008000\">╰─────────────────────────────────────────────────────────────────────────────────────────────────────────────────╯</span>\n",
       "</pre>\n"
      ],
      "text/plain": [
       "\u001b[32m╭─\u001b[0m\u001b[32m────────────────────────────────────────────\u001b[0m\u001b[32m ✅ Agent Final Answer \u001b[0m\u001b[32m────────────────────────────────────────────\u001b[0m\u001b[32m─╮\u001b[0m\n",
       "\u001b[32m│\u001b[0m                                                                                                                 \u001b[32m│\u001b[0m\n",
       "\u001b[32m│\u001b[0m  \u001b[37mAgent: \u001b[0m\u001b[1;92mRetriever\u001b[0m                                                                                               \u001b[32m│\u001b[0m\n",
       "\u001b[32m│\u001b[0m                                                                                                                 \u001b[32m│\u001b[0m\n",
       "\u001b[32m│\u001b[0m  \u001b[37mFinal Answer:\u001b[0m                                                                                                  \u001b[32m│\u001b[0m\n",
       "\u001b[32m│\u001b[0m  \u001b[92mFigure1: The Transformer - model architecture.\u001b[0m                                                                 \u001b[32m│\u001b[0m\n",
       "\u001b[32m│\u001b[0m  \u001b[92mThe Transformer follows this overall architecture using stacked self-attention and point-wise, fully\u001b[0m           \u001b[32m│\u001b[0m\n",
       "\u001b[32m│\u001b[0m  \u001b[92mconnected layers for both the encoder and decoder, shown in the left and right halves of Figure1,\u001b[0m              \u001b[32m│\u001b[0m\n",
       "\u001b[32m│\u001b[0m  \u001b[92mrespectively.\u001b[0m                                                                                                  \u001b[32m│\u001b[0m\n",
       "\u001b[32m│\u001b[0m  \u001b[92m3.1 Encoder and Decoder Stacks\u001b[0m                                                                                 \u001b[32m│\u001b[0m\n",
       "\u001b[32m│\u001b[0m  \u001b[92mEncoder: The encoder is composed of a stack of N=6 identical layers. Each layer has two\u001b[0m                        \u001b[32m│\u001b[0m\n",
       "\u001b[32m│\u001b[0m  \u001b[92msub-layers. The first is a multi-head self-attention mechanism, and the second is a simple, position-\u001b[0m          \u001b[32m│\u001b[0m\n",
       "\u001b[32m│\u001b[0m  \u001b[92mwise fully connected feed-forward network. We employ a residual connection [11] around each of\u001b[0m                 \u001b[32m│\u001b[0m\n",
       "\u001b[32m│\u001b[0m  \u001b[92mthe two sub-layers, followed by layer normalization [1]. That is, the output of each sub-layer is\u001b[0m              \u001b[32m│\u001b[0m\n",
       "\u001b[32m│\u001b[0m  \u001b[92mLayerNorm( x+ Sublayer( x)), where Sublayer( x)is the function implemented by the sub-layer\u001b[0m                    \u001b[32m│\u001b[0m\n",
       "\u001b[32m│\u001b[0m  \u001b[92mitself. To facilitate these residual connections, all sub-layers in the model, as well as the embedding\u001b[0m        \u001b[32m│\u001b[0m\n",
       "\u001b[32m│\u001b[0m  \u001b[92mlayer, output a vector of dimensionality dmodel =512.\u001b[0m                                                          \u001b[32m│\u001b[0m\n",
       "\u001b[32m│\u001b[0m                                                                                                                 \u001b[32m│\u001b[0m\n",
       "\u001b[32m╰─────────────────────────────────────────────────────────────────────────────────────────────────────────────────╯\u001b[0m\n"
      ]
     },
     "metadata": {},
     "output_type": "display_data"
    },
    {
     "data": {
      "text/html": [
       "<pre style=\"white-space:pre;overflow-x:auto;line-height:normal;font-family:Menlo,'DejaVu Sans Mono',consolas,'Courier New',monospace\">\n",
       "</pre>\n"
      ],
      "text/plain": [
       "\n"
      ]
     },
     "metadata": {},
     "output_type": "display_data"
    },
    {
     "data": {
      "text/html": [
       "<pre style=\"white-space:pre;overflow-x:auto;line-height:normal;font-family:Menlo,'DejaVu Sans Mono',consolas,'Courier New',monospace\"></pre>\n"
      ],
      "text/plain": []
     },
     "metadata": {},
     "output_type": "display_data"
    },
    {
     "data": {
      "text/html": [
       "<pre style=\"white-space:pre;overflow-x:auto;line-height:normal;font-family:Menlo,'DejaVu Sans Mono',consolas,'Courier New',monospace\"><span style=\"color: #008000; text-decoration-color: #008000\">╭──────────────────────────────────────────────── Task Completion ────────────────────────────────────────────────╮</span>\n",
       "<span style=\"color: #008000; text-decoration-color: #008000\">│</span>                                                                                                                 <span style=\"color: #008000; text-decoration-color: #008000\">│</span>\n",
       "<span style=\"color: #008000; text-decoration-color: #008000\">│</span>  <span style=\"color: #008000; text-decoration-color: #008000; font-weight: bold\">Task Completed</span>                                                                                                 <span style=\"color: #008000; text-decoration-color: #008000\">│</span>\n",
       "<span style=\"color: #008000; text-decoration-color: #008000\">│</span>  <span style=\"color: #c0c0c0; text-decoration-color: #c0c0c0\">Name: </span><span style=\"color: #008000; text-decoration-color: #008000\">71b296ed-dc71-45aa-9f86-23d5b4f5b98d</span>                                                                     <span style=\"color: #008000; text-decoration-color: #008000\">│</span>\n",
       "<span style=\"color: #008000; text-decoration-color: #008000\">│</span>  <span style=\"color: #c0c0c0; text-decoration-color: #c0c0c0\">Agent: </span><span style=\"color: #008000; text-decoration-color: #008000\">Retriever</span>                                                                                               <span style=\"color: #008000; text-decoration-color: #008000\">│</span>\n",
       "<span style=\"color: #008000; text-decoration-color: #008000\">│</span>  <span style=\"color: #c0c0c0; text-decoration-color: #c0c0c0\">Tool Args: </span>                                                                                                    <span style=\"color: #008000; text-decoration-color: #008000\">│</span>\n",
       "<span style=\"color: #008000; text-decoration-color: #008000\">│</span>                                                                                                                 <span style=\"color: #008000; text-decoration-color: #008000\">│</span>\n",
       "<span style=\"color: #008000; text-decoration-color: #008000\">│</span>                                                                                                                 <span style=\"color: #008000; text-decoration-color: #008000\">│</span>\n",
       "<span style=\"color: #008000; text-decoration-color: #008000\">╰─────────────────────────────────────────────────────────────────────────────────────────────────────────────────╯</span>\n",
       "</pre>\n"
      ],
      "text/plain": [
       "\u001b[32m╭─\u001b[0m\u001b[32m───────────────────────────────────────────────\u001b[0m\u001b[32m Task Completion \u001b[0m\u001b[32m───────────────────────────────────────────────\u001b[0m\u001b[32m─╮\u001b[0m\n",
       "\u001b[32m│\u001b[0m                                                                                                                 \u001b[32m│\u001b[0m\n",
       "\u001b[32m│\u001b[0m  \u001b[1;32mTask Completed\u001b[0m                                                                                                 \u001b[32m│\u001b[0m\n",
       "\u001b[32m│\u001b[0m  \u001b[37mName: \u001b[0m\u001b[32m71b296ed-dc71-45aa-9f86-23d5b4f5b98d\u001b[0m                                                                     \u001b[32m│\u001b[0m\n",
       "\u001b[32m│\u001b[0m  \u001b[37mAgent: \u001b[0m\u001b[32mRetriever\u001b[0m                                                                                               \u001b[32m│\u001b[0m\n",
       "\u001b[32m│\u001b[0m  \u001b[37mTool Args: \u001b[0m                                                                                                    \u001b[32m│\u001b[0m\n",
       "\u001b[32m│\u001b[0m                                                                                                                 \u001b[32m│\u001b[0m\n",
       "\u001b[32m│\u001b[0m                                                                                                                 \u001b[32m│\u001b[0m\n",
       "\u001b[32m╰─────────────────────────────────────────────────────────────────────────────────────────────────────────────────╯\u001b[0m\n"
      ]
     },
     "metadata": {},
     "output_type": "display_data"
    },
    {
     "data": {
      "text/html": [
       "<pre style=\"white-space:pre;overflow-x:auto;line-height:normal;font-family:Menlo,'DejaVu Sans Mono',consolas,'Courier New',monospace\">\n",
       "</pre>\n"
      ],
      "text/plain": [
       "\n"
      ]
     },
     "metadata": {},
     "output_type": "display_data"
    },
    {
     "data": {
      "text/html": [
       "<pre style=\"white-space:pre;overflow-x:auto;line-height:normal;font-family:Menlo,'DejaVu Sans Mono',consolas,'Courier New',monospace\"></pre>\n"
      ],
      "text/plain": []
     },
     "metadata": {},
     "output_type": "display_data"
    },
    {
     "data": {
      "text/html": [
       "<pre style=\"white-space:pre;overflow-x:auto;line-height:normal;font-family:Menlo,'DejaVu Sans Mono',consolas,'Courier New',monospace\"><span style=\"color: #800080; text-decoration-color: #800080\">╭─────────────────────────────────────────────── 🤖 Agent Started ────────────────────────────────────────────────╮</span>\n",
       "<span style=\"color: #800080; text-decoration-color: #800080\">│</span>                                                                                                                 <span style=\"color: #800080; text-decoration-color: #800080\">│</span>\n",
       "<span style=\"color: #800080; text-decoration-color: #800080\">│</span>  <span style=\"color: #c0c0c0; text-decoration-color: #c0c0c0\">Agent: </span><span style=\"color: #00ff00; text-decoration-color: #00ff00; font-weight: bold\">Responder</span>                                                                                               <span style=\"color: #800080; text-decoration-color: #800080\">│</span>\n",
       "<span style=\"color: #800080; text-decoration-color: #800080\">│</span>                                                                                                                 <span style=\"color: #800080; text-decoration-color: #800080\">│</span>\n",
       "<span style=\"color: #800080; text-decoration-color: #800080\">│</span>  <span style=\"color: #c0c0c0; text-decoration-color: #c0c0c0\">Task: </span><span style=\"color: #00ff00; text-decoration-color: #00ff00\">Answer the user question: 'explain me about transformer architecture with image' using the retrieved </span>    <span style=\"color: #800080; text-decoration-color: #800080\">│</span>\n",
       "<span style=\"color: #800080; text-decoration-color: #800080\">│</span>  <span style=\"color: #00ff00; text-decoration-color: #00ff00\">context.</span>                                                                                                       <span style=\"color: #800080; text-decoration-color: #800080\">│</span>\n",
       "<span style=\"color: #800080; text-decoration-color: #800080\">│</span>                                                                                                                 <span style=\"color: #800080; text-decoration-color: #800080\">│</span>\n",
       "<span style=\"color: #800080; text-decoration-color: #800080\">╰─────────────────────────────────────────────────────────────────────────────────────────────────────────────────╯</span>\n",
       "</pre>\n"
      ],
      "text/plain": [
       "\u001b[35m╭─\u001b[0m\u001b[35m──────────────────────────────────────────────\u001b[0m\u001b[35m 🤖 Agent Started \u001b[0m\u001b[35m───────────────────────────────────────────────\u001b[0m\u001b[35m─╮\u001b[0m\n",
       "\u001b[35m│\u001b[0m                                                                                                                 \u001b[35m│\u001b[0m\n",
       "\u001b[35m│\u001b[0m  \u001b[37mAgent: \u001b[0m\u001b[1;92mResponder\u001b[0m                                                                                               \u001b[35m│\u001b[0m\n",
       "\u001b[35m│\u001b[0m                                                                                                                 \u001b[35m│\u001b[0m\n",
       "\u001b[35m│\u001b[0m  \u001b[37mTask: \u001b[0m\u001b[92mAnswer the user question: 'explain me about transformer architecture with image' using the retrieved \u001b[0m    \u001b[35m│\u001b[0m\n",
       "\u001b[35m│\u001b[0m  \u001b[92mcontext.\u001b[0m                                                                                                       \u001b[35m│\u001b[0m\n",
       "\u001b[35m│\u001b[0m                                                                                                                 \u001b[35m│\u001b[0m\n",
       "\u001b[35m╰─────────────────────────────────────────────────────────────────────────────────────────────────────────────────╯\u001b[0m\n"
      ]
     },
     "metadata": {},
     "output_type": "display_data"
    },
    {
     "data": {
      "text/html": [
       "<pre style=\"white-space:pre;overflow-x:auto;line-height:normal;font-family:Menlo,'DejaVu Sans Mono',consolas,'Courier New',monospace\">\n",
       "</pre>\n"
      ],
      "text/plain": [
       "\n"
      ]
     },
     "metadata": {},
     "output_type": "display_data"
    },
    {
     "data": {
      "application/vnd.jupyter.widget-view+json": {
       "model_id": "d74391aebdd448d488e890052588217a",
       "version_major": 2,
       "version_minor": 0
      },
      "text/plain": [
       "Output()"
      ]
     },
     "metadata": {},
     "output_type": "display_data"
    },
    {
     "data": {
      "text/html": [
       "<pre style=\"white-space:pre;overflow-x:auto;line-height:normal;font-family:Menlo,'DejaVu Sans Mono',consolas,'Courier New',monospace\"></pre>\n"
      ],
      "text/plain": []
     },
     "metadata": {},
     "output_type": "display_data"
    },
    {
     "data": {
      "text/html": [
       "<pre style=\"white-space:pre;overflow-x:auto;line-height:normal;font-family:Menlo,'DejaVu Sans Mono',consolas,'Courier New',monospace\"><span style=\"color: #008000; text-decoration-color: #008000\">╭───────────────────────────────────────────── ✅ Agent Final Answer ─────────────────────────────────────────────╮</span>\n",
       "<span style=\"color: #008000; text-decoration-color: #008000\">│</span>                                                                                                                 <span style=\"color: #008000; text-decoration-color: #008000\">│</span>\n",
       "<span style=\"color: #008000; text-decoration-color: #008000\">│</span>  <span style=\"color: #c0c0c0; text-decoration-color: #c0c0c0\">Agent: </span><span style=\"color: #00ff00; text-decoration-color: #00ff00; font-weight: bold\">Responder</span>                                                                                               <span style=\"color: #008000; text-decoration-color: #008000\">│</span>\n",
       "<span style=\"color: #008000; text-decoration-color: #008000\">│</span>                                                                                                                 <span style=\"color: #008000; text-decoration-color: #008000\">│</span>\n",
       "<span style=\"color: #008000; text-decoration-color: #008000\">│</span>  <span style=\"color: #c0c0c0; text-decoration-color: #c0c0c0\">Final Answer:</span>                                                                                                  <span style=\"color: #008000; text-decoration-color: #008000\">│</span>\n",
       "<span style=\"color: #008000; text-decoration-color: #008000\">│</span>  <span style=\"color: #00ff00; text-decoration-color: #00ff00\">The Transformer model architecture, as depicted in Figure1, consists of two main components: the Encoder and </span>  <span style=\"color: #008000; text-decoration-color: #008000\">│</span>\n",
       "<span style=\"color: #008000; text-decoration-color: #008000\">│</span>  <span style=\"color: #00ff00; text-decoration-color: #00ff00\">the Decoder. These components are stacked with multiple layers, leveraging self-attention mechanisms and </span>      <span style=\"color: #008000; text-decoration-color: #008000\">│</span>\n",
       "<span style=\"color: #008000; text-decoration-color: #008000\">│</span>  <span style=\"color: #00ff00; text-decoration-color: #00ff00\">fully connected layers.</span>                                                                                        <span style=\"color: #008000; text-decoration-color: #008000\">│</span>\n",
       "<span style=\"color: #008000; text-decoration-color: #008000\">│</span>                                                                                                                 <span style=\"color: #008000; text-decoration-color: #008000\">│</span>\n",
       "<span style=\"color: #008000; text-decoration-color: #008000\">│</span>  <span style=\"color: #00ff00; text-decoration-color: #00ff00\">### Encoder</span>                                                                                                    <span style=\"color: #008000; text-decoration-color: #008000\">│</span>\n",
       "<span style=\"color: #008000; text-decoration-color: #008000\">│</span>                                                                                                                 <span style=\"color: #008000; text-decoration-color: #008000\">│</span>\n",
       "<span style=\"color: #008000; text-decoration-color: #008000\">│</span>  <span style=\"color: #00ff00; text-decoration-color: #00ff00\">The Encoder is composed of a stack of **N=6 identical layers**. Each layer in the encoder has two sub-layers:</span>  <span style=\"color: #008000; text-decoration-color: #008000\">│</span>\n",
       "<span style=\"color: #008000; text-decoration-color: #008000\">│</span>  <span style=\"color: #00ff00; text-decoration-color: #00ff00\">1. **Multi-head self-attention mechanism**: This allows the model to attend to different parts of the input </span>   <span style=\"color: #008000; text-decoration-color: #008000\">│</span>\n",
       "<span style=\"color: #008000; text-decoration-color: #008000\">│</span>  <span style=\"color: #00ff00; text-decoration-color: #00ff00\">sequence simultaneously and weigh their importance.</span>                                                            <span style=\"color: #008000; text-decoration-color: #008000\">│</span>\n",
       "<span style=\"color: #008000; text-decoration-color: #008000\">│</span>  <span style=\"color: #00ff00; text-decoration-color: #00ff00\">2. **Position-wise fully connected feed-forward network**: This applies a fully connected feed-forward </span>        <span style=\"color: #008000; text-decoration-color: #008000\">│</span>\n",
       "<span style=\"color: #008000; text-decoration-color: #008000\">│</span>  <span style=\"color: #00ff00; text-decoration-color: #00ff00\">network to each position separately and identically.</span>                                                           <span style=\"color: #008000; text-decoration-color: #008000\">│</span>\n",
       "<span style=\"color: #008000; text-decoration-color: #008000\">│</span>                                                                                                                 <span style=\"color: #008000; text-decoration-color: #008000\">│</span>\n",
       "<span style=\"color: #008000; text-decoration-color: #008000\">│</span>  <span style=\"color: #00ff00; text-decoration-color: #00ff00\">The Transformer employs **residual connections** around each of the two sub-layers, followed by **layer </span>       <span style=\"color: #008000; text-decoration-color: #008000\">│</span>\n",
       "<span style=\"color: #008000; text-decoration-color: #008000\">│</span>  <span style=\"color: #00ff00; text-decoration-color: #00ff00\">normalization**. The output of each sub-layer is computed as `LayerNorm(x + Sublayer(x))`, where </span>              <span style=\"color: #008000; text-decoration-color: #008000\">│</span>\n",
       "<span style=\"color: #008000; text-decoration-color: #008000\">│</span>  <span style=\"color: #00ff00; text-decoration-color: #00ff00\">`Sublayer(x)` is the function implemented by the sub-layer itself. This design facilitates the training of </span>    <span style=\"color: #008000; text-decoration-color: #008000\">│</span>\n",
       "<span style=\"color: #008000; text-decoration-color: #008000\">│</span>  <span style=\"color: #00ff00; text-decoration-color: #00ff00\">deeper networks.</span>                                                                                               <span style=\"color: #008000; text-decoration-color: #008000\">│</span>\n",
       "<span style=\"color: #008000; text-decoration-color: #008000\">│</span>                                                                                                                 <span style=\"color: #008000; text-decoration-color: #008000\">│</span>\n",
       "<span style=\"color: #008000; text-decoration-color: #008000\">│</span>  <span style=\"color: #00ff00; text-decoration-color: #00ff00\">All sub-layers in the model, as well as the embedding layer, output a vector of dimensionality **d_model = </span>    <span style=\"color: #008000; text-decoration-color: #008000\">│</span>\n",
       "<span style=\"color: #008000; text-decoration-color: #008000\">│</span>  <span style=\"color: #00ff00; text-decoration-color: #00ff00\">512**. This uniformity in output dimensions simplifies the design and implementation of the model.</span>             <span style=\"color: #008000; text-decoration-color: #008000\">│</span>\n",
       "<span style=\"color: #008000; text-decoration-color: #008000\">│</span>                                                                                                                 <span style=\"color: #008000; text-decoration-color: #008000\">│</span>\n",
       "<span style=\"color: #008000; text-decoration-color: #008000\">│</span>  <span style=\"color: #00ff00; text-decoration-color: #00ff00\">### Decoder</span>                                                                                                    <span style=\"color: #008000; text-decoration-color: #008000\">│</span>\n",
       "<span style=\"color: #008000; text-decoration-color: #008000\">│</span>                                                                                                                 <span style=\"color: #008000; text-decoration-color: #008000\">│</span>\n",
       "<span style=\"color: #008000; text-decoration-color: #008000\">│</span>  <span style=\"color: #00ff00; text-decoration-color: #00ff00\">Although not detailed in the provided text, the Decoder, shown in the right half of Figure1, similarly </span>        <span style=\"color: #008000; text-decoration-color: #008000\">│</span>\n",
       "<span style=\"color: #008000; text-decoration-color: #008000\">│</span>  <span style=\"color: #00ff00; text-decoration-color: #00ff00\">utilizes stacked layers with self-attention mechanisms and point-wise, fully connected layers. The Decoder's </span>  <span style=\"color: #008000; text-decoration-color: #008000\">│</span>\n",
       "<span style=\"color: #008000; text-decoration-color: #008000\">│</span>  <span style=\"color: #00ff00; text-decoration-color: #00ff00\">architecture is designed to generate output sequences, taking into account the output from the Encoder.</span>        <span style=\"color: #008000; text-decoration-color: #008000\">│</span>\n",
       "<span style=\"color: #008000; text-decoration-color: #008000\">│</span>                                                                                                                 <span style=\"color: #008000; text-decoration-color: #008000\">│</span>\n",
       "<span style=\"color: #008000; text-decoration-color: #008000\">│</span>  <span style=\"color: #00ff00; text-decoration-color: #00ff00\">### Transformer Architecture Overview</span>                                                                          <span style=\"color: #008000; text-decoration-color: #008000\">│</span>\n",
       "<span style=\"color: #008000; text-decoration-color: #008000\">│</span>                                                                                                                 <span style=\"color: #008000; text-decoration-color: #008000\">│</span>\n",
       "<span style=\"color: #008000; text-decoration-color: #008000\">│</span>  <span style=\"color: #00ff00; text-decoration-color: #00ff00\">In summary, the Transformer architecture relies on stacked self-attention and point-wise, fully connected </span>     <span style=\"color: #008000; text-decoration-color: #008000\">│</span>\n",
       "<span style=\"color: #008000; text-decoration-color: #008000\">│</span>  <span style=\"color: #00ff00; text-decoration-color: #00ff00\">layers for both the Encoder and Decoder. This design allows the model to handle sequences in parallel, making</span>  <span style=\"color: #008000; text-decoration-color: #008000\">│</span>\n",
       "<span style=\"color: #008000; text-decoration-color: #008000\">│</span>  <span style=\"color: #00ff00; text-decoration-color: #00ff00\">it highly efficient for sequence-to-sequence tasks compared to traditional RNN-based models.</span>                   <span style=\"color: #008000; text-decoration-color: #008000\">│</span>\n",
       "<span style=\"color: #008000; text-decoration-color: #008000\">│</span>                                                                                                                 <span style=\"color: #008000; text-decoration-color: #008000\">│</span>\n",
       "<span style=\"color: #008000; text-decoration-color: #008000\">│</span>  <span style=\"color: #00ff00; text-decoration-color: #00ff00\">**Visual Representation (Figure1):**</span>                                                                           <span style=\"color: #008000; text-decoration-color: #008000\">│</span>\n",
       "<span style=\"color: #008000; text-decoration-color: #008000\">│</span>  <span style=\"color: #00ff00; text-decoration-color: #00ff00\">- The left half of Figure1 illustrates the Encoder, consisting of a stack of identical layers. Each layer </span>     <span style=\"color: #008000; text-decoration-color: #008000\">│</span>\n",
       "<span style=\"color: #008000; text-decoration-color: #008000\">│</span>  <span style=\"color: #00ff00; text-decoration-color: #00ff00\">includes a multi-head self-attention mechanism followed by a position-wise fully connected feed-forward </span>       <span style=\"color: #008000; text-decoration-color: #008000\">│</span>\n",
       "<span style=\"color: #008000; text-decoration-color: #008000\">│</span>  <span style=\"color: #00ff00; text-decoration-color: #00ff00\">network.</span>                                                                                                       <span style=\"color: #008000; text-decoration-color: #008000\">│</span>\n",
       "<span style=\"color: #008000; text-decoration-color: #008000\">│</span>  <span style=\"color: #00ff00; text-decoration-color: #00ff00\">- The right half of Figure1 shows the Decoder, which is also composed of a stack of layers, designed to </span>       <span style=\"color: #008000; text-decoration-color: #008000\">│</span>\n",
       "<span style=\"color: #008000; text-decoration-color: #008000\">│</span>  <span style=\"color: #00ff00; text-decoration-color: #00ff00\">generate output sequences based on the Encoder's output.</span>                                                       <span style=\"color: #008000; text-decoration-color: #008000\">│</span>\n",
       "<span style=\"color: #008000; text-decoration-color: #008000\">│</span>                                                                                                                 <span style=\"color: #008000; text-decoration-color: #008000\">│</span>\n",
       "<span style=\"color: #008000; text-decoration-color: #008000\">│</span>  <span style=\"color: #00ff00; text-decoration-color: #00ff00\">**Image Description:**</span>                                                                                         <span style=\"color: #008000; text-decoration-color: #008000\">│</span>\n",
       "<span style=\"color: #008000; text-decoration-color: #008000\">│</span>  <span style=\"color: #00ff00; text-decoration-color: #00ff00\">Imagine a diagram divided into two halves:</span>                                                                     <span style=\"color: #008000; text-decoration-color: #008000\">│</span>\n",
       "<span style=\"color: #008000; text-decoration-color: #008000\">│</span>  <span style=\"color: #00ff00; text-decoration-color: #00ff00\">- **Left Half (Encoder):** Shows 6 identical layers stacked. Each layer has two sub-layers: </span>                   <span style=\"color: #008000; text-decoration-color: #008000\">│</span>\n",
       "<span style=\"color: #008000; text-decoration-color: #008000\">│</span>  <span style=\"color: #00ff00; text-decoration-color: #00ff00\">  - The first sub-layer is labeled as \"Multi-head Self-Attention.\"</span>                                             <span style=\"color: #008000; text-decoration-color: #008000\">│</span>\n",
       "<span style=\"color: #008000; text-decoration-color: #008000\">│</span>  <span style=\"color: #00ff00; text-decoration-color: #00ff00\">  - The second sub-layer is labeled as \"Position-wise Fully Connected Feed-Forward Network.\"</span>                   <span style=\"color: #008000; text-decoration-color: #008000\">│</span>\n",
       "<span style=\"color: #008000; text-decoration-color: #008000\">│</span>  <span style=\"color: #00ff00; text-decoration-color: #00ff00\">  Arrows indicate residual connections around each sub-layer, with layer normalization applied.</span>                <span style=\"color: #008000; text-decoration-color: #008000\">│</span>\n",
       "<span style=\"color: #008000; text-decoration-color: #008000\">│</span>  <span style=\"color: #00ff00; text-decoration-color: #00ff00\">- **Right Half (Decoder):** Displays a similar stack of layers but with additional components to facilitate </span>   <span style=\"color: #008000; text-decoration-color: #008000\">│</span>\n",
       "<span style=\"color: #008000; text-decoration-color: #008000\">│</span>  <span style=\"color: #00ff00; text-decoration-color: #00ff00\">sequence generation.</span>                                                                                           <span style=\"color: #008000; text-decoration-color: #008000\">│</span>\n",
       "<span style=\"color: #008000; text-decoration-color: #008000\">│</span>                                                                                                                 <span style=\"color: #008000; text-decoration-color: #008000\">│</span>\n",
       "<span style=\"color: #008000; text-decoration-color: #008000\">│</span>  <span style=\"color: #00ff00; text-decoration-color: #00ff00\">This architecture enables the Transformer to efficiently handle sequence-to-sequence tasks, making it a </span>       <span style=\"color: #008000; text-decoration-color: #008000\">│</span>\n",
       "<span style=\"color: #008000; text-decoration-color: #008000\">│</span>  <span style=\"color: #00ff00; text-decoration-color: #00ff00\">foundational model in many modern NLP applications.</span>                                                            <span style=\"color: #008000; text-decoration-color: #008000\">│</span>\n",
       "<span style=\"color: #008000; text-decoration-color: #008000\">│</span>                                                                                                                 <span style=\"color: #008000; text-decoration-color: #008000\">│</span>\n",
       "<span style=\"color: #008000; text-decoration-color: #008000\">╰─────────────────────────────────────────────────────────────────────────────────────────────────────────────────╯</span>\n",
       "</pre>\n"
      ],
      "text/plain": [
       "\u001b[32m╭─\u001b[0m\u001b[32m────────────────────────────────────────────\u001b[0m\u001b[32m ✅ Agent Final Answer \u001b[0m\u001b[32m────────────────────────────────────────────\u001b[0m\u001b[32m─╮\u001b[0m\n",
       "\u001b[32m│\u001b[0m                                                                                                                 \u001b[32m│\u001b[0m\n",
       "\u001b[32m│\u001b[0m  \u001b[37mAgent: \u001b[0m\u001b[1;92mResponder\u001b[0m                                                                                               \u001b[32m│\u001b[0m\n",
       "\u001b[32m│\u001b[0m                                                                                                                 \u001b[32m│\u001b[0m\n",
       "\u001b[32m│\u001b[0m  \u001b[37mFinal Answer:\u001b[0m                                                                                                  \u001b[32m│\u001b[0m\n",
       "\u001b[32m│\u001b[0m  \u001b[92mThe Transformer model architecture, as depicted in Figure1, consists of two main components: the Encoder and \u001b[0m  \u001b[32m│\u001b[0m\n",
       "\u001b[32m│\u001b[0m  \u001b[92mthe Decoder. These components are stacked with multiple layers, leveraging self-attention mechanisms and \u001b[0m      \u001b[32m│\u001b[0m\n",
       "\u001b[32m│\u001b[0m  \u001b[92mfully connected layers.\u001b[0m                                                                                        \u001b[32m│\u001b[0m\n",
       "\u001b[32m│\u001b[0m                                                                                                                 \u001b[32m│\u001b[0m\n",
       "\u001b[32m│\u001b[0m  \u001b[92m### Encoder\u001b[0m                                                                                                    \u001b[32m│\u001b[0m\n",
       "\u001b[32m│\u001b[0m                                                                                                                 \u001b[32m│\u001b[0m\n",
       "\u001b[32m│\u001b[0m  \u001b[92mThe Encoder is composed of a stack of **N=6 identical layers**. Each layer in the encoder has two sub-layers:\u001b[0m  \u001b[32m│\u001b[0m\n",
       "\u001b[32m│\u001b[0m  \u001b[92m1. **Multi-head self-attention mechanism**: This allows the model to attend to different parts of the input \u001b[0m   \u001b[32m│\u001b[0m\n",
       "\u001b[32m│\u001b[0m  \u001b[92msequence simultaneously and weigh their importance.\u001b[0m                                                            \u001b[32m│\u001b[0m\n",
       "\u001b[32m│\u001b[0m  \u001b[92m2. **Position-wise fully connected feed-forward network**: This applies a fully connected feed-forward \u001b[0m        \u001b[32m│\u001b[0m\n",
       "\u001b[32m│\u001b[0m  \u001b[92mnetwork to each position separately and identically.\u001b[0m                                                           \u001b[32m│\u001b[0m\n",
       "\u001b[32m│\u001b[0m                                                                                                                 \u001b[32m│\u001b[0m\n",
       "\u001b[32m│\u001b[0m  \u001b[92mThe Transformer employs **residual connections** around each of the two sub-layers, followed by **layer \u001b[0m       \u001b[32m│\u001b[0m\n",
       "\u001b[32m│\u001b[0m  \u001b[92mnormalization**. The output of each sub-layer is computed as `LayerNorm(x + Sublayer(x))`, where \u001b[0m              \u001b[32m│\u001b[0m\n",
       "\u001b[32m│\u001b[0m  \u001b[92m`Sublayer(x)` is the function implemented by the sub-layer itself. This design facilitates the training of \u001b[0m    \u001b[32m│\u001b[0m\n",
       "\u001b[32m│\u001b[0m  \u001b[92mdeeper networks.\u001b[0m                                                                                               \u001b[32m│\u001b[0m\n",
       "\u001b[32m│\u001b[0m                                                                                                                 \u001b[32m│\u001b[0m\n",
       "\u001b[32m│\u001b[0m  \u001b[92mAll sub-layers in the model, as well as the embedding layer, output a vector of dimensionality **d_model = \u001b[0m    \u001b[32m│\u001b[0m\n",
       "\u001b[32m│\u001b[0m  \u001b[92m512**. This uniformity in output dimensions simplifies the design and implementation of the model.\u001b[0m             \u001b[32m│\u001b[0m\n",
       "\u001b[32m│\u001b[0m                                                                                                                 \u001b[32m│\u001b[0m\n",
       "\u001b[32m│\u001b[0m  \u001b[92m### Decoder\u001b[0m                                                                                                    \u001b[32m│\u001b[0m\n",
       "\u001b[32m│\u001b[0m                                                                                                                 \u001b[32m│\u001b[0m\n",
       "\u001b[32m│\u001b[0m  \u001b[92mAlthough not detailed in the provided text, the Decoder, shown in the right half of Figure1, similarly \u001b[0m        \u001b[32m│\u001b[0m\n",
       "\u001b[32m│\u001b[0m  \u001b[92mutilizes stacked layers with self-attention mechanisms and point-wise, fully connected layers. The Decoder's \u001b[0m  \u001b[32m│\u001b[0m\n",
       "\u001b[32m│\u001b[0m  \u001b[92marchitecture is designed to generate output sequences, taking into account the output from the Encoder.\u001b[0m        \u001b[32m│\u001b[0m\n",
       "\u001b[32m│\u001b[0m                                                                                                                 \u001b[32m│\u001b[0m\n",
       "\u001b[32m│\u001b[0m  \u001b[92m### Transformer Architecture Overview\u001b[0m                                                                          \u001b[32m│\u001b[0m\n",
       "\u001b[32m│\u001b[0m                                                                                                                 \u001b[32m│\u001b[0m\n",
       "\u001b[32m│\u001b[0m  \u001b[92mIn summary, the Transformer architecture relies on stacked self-attention and point-wise, fully connected \u001b[0m     \u001b[32m│\u001b[0m\n",
       "\u001b[32m│\u001b[0m  \u001b[92mlayers for both the Encoder and Decoder. This design allows the model to handle sequences in parallel, making\u001b[0m  \u001b[32m│\u001b[0m\n",
       "\u001b[32m│\u001b[0m  \u001b[92mit highly efficient for sequence-to-sequence tasks compared to traditional RNN-based models.\u001b[0m                   \u001b[32m│\u001b[0m\n",
       "\u001b[32m│\u001b[0m                                                                                                                 \u001b[32m│\u001b[0m\n",
       "\u001b[32m│\u001b[0m  \u001b[92m**Visual Representation (Figure1):**\u001b[0m                                                                           \u001b[32m│\u001b[0m\n",
       "\u001b[32m│\u001b[0m  \u001b[92m- The left half of Figure1 illustrates the Encoder, consisting of a stack of identical layers. Each layer \u001b[0m     \u001b[32m│\u001b[0m\n",
       "\u001b[32m│\u001b[0m  \u001b[92mincludes a multi-head self-attention mechanism followed by a position-wise fully connected feed-forward \u001b[0m       \u001b[32m│\u001b[0m\n",
       "\u001b[32m│\u001b[0m  \u001b[92mnetwork.\u001b[0m                                                                                                       \u001b[32m│\u001b[0m\n",
       "\u001b[32m│\u001b[0m  \u001b[92m- The right half of Figure1 shows the Decoder, which is also composed of a stack of layers, designed to \u001b[0m       \u001b[32m│\u001b[0m\n",
       "\u001b[32m│\u001b[0m  \u001b[92mgenerate output sequences based on the Encoder's output.\u001b[0m                                                       \u001b[32m│\u001b[0m\n",
       "\u001b[32m│\u001b[0m                                                                                                                 \u001b[32m│\u001b[0m\n",
       "\u001b[32m│\u001b[0m  \u001b[92m**Image Description:**\u001b[0m                                                                                         \u001b[32m│\u001b[0m\n",
       "\u001b[32m│\u001b[0m  \u001b[92mImagine a diagram divided into two halves:\u001b[0m                                                                     \u001b[32m│\u001b[0m\n",
       "\u001b[32m│\u001b[0m  \u001b[92m- **Left Half (Encoder):** Shows 6 identical layers stacked. Each layer has two sub-layers: \u001b[0m                   \u001b[32m│\u001b[0m\n",
       "\u001b[32m│\u001b[0m  \u001b[92m  - The first sub-layer is labeled as \"Multi-head Self-Attention.\"\u001b[0m                                             \u001b[32m│\u001b[0m\n",
       "\u001b[32m│\u001b[0m  \u001b[92m  - The second sub-layer is labeled as \"Position-wise Fully Connected Feed-Forward Network.\"\u001b[0m                   \u001b[32m│\u001b[0m\n",
       "\u001b[32m│\u001b[0m  \u001b[92m  Arrows indicate residual connections around each sub-layer, with layer normalization applied.\u001b[0m                \u001b[32m│\u001b[0m\n",
       "\u001b[32m│\u001b[0m  \u001b[92m- **Right Half (Decoder):** Displays a similar stack of layers but with additional components to facilitate \u001b[0m   \u001b[32m│\u001b[0m\n",
       "\u001b[32m│\u001b[0m  \u001b[92msequence generation.\u001b[0m                                                                                           \u001b[32m│\u001b[0m\n",
       "\u001b[32m│\u001b[0m                                                                                                                 \u001b[32m│\u001b[0m\n",
       "\u001b[32m│\u001b[0m  \u001b[92mThis architecture enables the Transformer to efficiently handle sequence-to-sequence tasks, making it a \u001b[0m       \u001b[32m│\u001b[0m\n",
       "\u001b[32m│\u001b[0m  \u001b[92mfoundational model in many modern NLP applications.\u001b[0m                                                            \u001b[32m│\u001b[0m\n",
       "\u001b[32m│\u001b[0m                                                                                                                 \u001b[32m│\u001b[0m\n",
       "\u001b[32m╰─────────────────────────────────────────────────────────────────────────────────────────────────────────────────╯\u001b[0m\n"
      ]
     },
     "metadata": {},
     "output_type": "display_data"
    },
    {
     "data": {
      "text/html": [
       "<pre style=\"white-space:pre;overflow-x:auto;line-height:normal;font-family:Menlo,'DejaVu Sans Mono',consolas,'Courier New',monospace\">\n",
       "</pre>\n"
      ],
      "text/plain": [
       "\n"
      ]
     },
     "metadata": {},
     "output_type": "display_data"
    },
    {
     "data": {
      "text/html": [
       "<pre style=\"white-space:pre;overflow-x:auto;line-height:normal;font-family:Menlo,'DejaVu Sans Mono',consolas,'Courier New',monospace\"></pre>\n"
      ],
      "text/plain": []
     },
     "metadata": {},
     "output_type": "display_data"
    },
    {
     "data": {
      "text/html": [
       "<pre style=\"white-space:pre;overflow-x:auto;line-height:normal;font-family:Menlo,'DejaVu Sans Mono',consolas,'Courier New',monospace\"><span style=\"color: #008000; text-decoration-color: #008000\">╭──────────────────────────────────────────────── Task Completion ────────────────────────────────────────────────╮</span>\n",
       "<span style=\"color: #008000; text-decoration-color: #008000\">│</span>                                                                                                                 <span style=\"color: #008000; text-decoration-color: #008000\">│</span>\n",
       "<span style=\"color: #008000; text-decoration-color: #008000\">│</span>  <span style=\"color: #008000; text-decoration-color: #008000; font-weight: bold\">Task Completed</span>                                                                                                 <span style=\"color: #008000; text-decoration-color: #008000\">│</span>\n",
       "<span style=\"color: #008000; text-decoration-color: #008000\">│</span>  <span style=\"color: #c0c0c0; text-decoration-color: #c0c0c0\">Name: </span><span style=\"color: #008000; text-decoration-color: #008000\">8ebfc658-ea3b-4d28-b540-6ec812a3faf7</span>                                                                     <span style=\"color: #008000; text-decoration-color: #008000\">│</span>\n",
       "<span style=\"color: #008000; text-decoration-color: #008000\">│</span>  <span style=\"color: #c0c0c0; text-decoration-color: #c0c0c0\">Agent: </span><span style=\"color: #008000; text-decoration-color: #008000\">Responder</span>                                                                                               <span style=\"color: #008000; text-decoration-color: #008000\">│</span>\n",
       "<span style=\"color: #008000; text-decoration-color: #008000\">│</span>  <span style=\"color: #c0c0c0; text-decoration-color: #c0c0c0\">Tool Args: </span>                                                                                                    <span style=\"color: #008000; text-decoration-color: #008000\">│</span>\n",
       "<span style=\"color: #008000; text-decoration-color: #008000\">│</span>                                                                                                                 <span style=\"color: #008000; text-decoration-color: #008000\">│</span>\n",
       "<span style=\"color: #008000; text-decoration-color: #008000\">│</span>                                                                                                                 <span style=\"color: #008000; text-decoration-color: #008000\">│</span>\n",
       "<span style=\"color: #008000; text-decoration-color: #008000\">╰─────────────────────────────────────────────────────────────────────────────────────────────────────────────────╯</span>\n",
       "</pre>\n"
      ],
      "text/plain": [
       "\u001b[32m╭─\u001b[0m\u001b[32m───────────────────────────────────────────────\u001b[0m\u001b[32m Task Completion \u001b[0m\u001b[32m───────────────────────────────────────────────\u001b[0m\u001b[32m─╮\u001b[0m\n",
       "\u001b[32m│\u001b[0m                                                                                                                 \u001b[32m│\u001b[0m\n",
       "\u001b[32m│\u001b[0m  \u001b[1;32mTask Completed\u001b[0m                                                                                                 \u001b[32m│\u001b[0m\n",
       "\u001b[32m│\u001b[0m  \u001b[37mName: \u001b[0m\u001b[32m8ebfc658-ea3b-4d28-b540-6ec812a3faf7\u001b[0m                                                                     \u001b[32m│\u001b[0m\n",
       "\u001b[32m│\u001b[0m  \u001b[37mAgent: \u001b[0m\u001b[32mResponder\u001b[0m                                                                                               \u001b[32m│\u001b[0m\n",
       "\u001b[32m│\u001b[0m  \u001b[37mTool Args: \u001b[0m                                                                                                    \u001b[32m│\u001b[0m\n",
       "\u001b[32m│\u001b[0m                                                                                                                 \u001b[32m│\u001b[0m\n",
       "\u001b[32m│\u001b[0m                                                                                                                 \u001b[32m│\u001b[0m\n",
       "\u001b[32m╰─────────────────────────────────────────────────────────────────────────────────────────────────────────────────╯\u001b[0m\n"
      ]
     },
     "metadata": {},
     "output_type": "display_data"
    },
    {
     "data": {
      "text/html": [
       "<pre style=\"white-space:pre;overflow-x:auto;line-height:normal;font-family:Menlo,'DejaVu Sans Mono',consolas,'Courier New',monospace\">\n",
       "</pre>\n"
      ],
      "text/plain": [
       "\n"
      ]
     },
     "metadata": {},
     "output_type": "display_data"
    },
    {
     "data": {
      "text/html": [
       "<pre style=\"white-space:pre;overflow-x:auto;line-height:normal;font-family:Menlo,'DejaVu Sans Mono',consolas,'Courier New',monospace\"><span style=\"color: #008000; text-decoration-color: #008000\">╭──────────────────────────────────────────────── Crew Completion ────────────────────────────────────────────────╮</span>\n",
       "<span style=\"color: #008000; text-decoration-color: #008000\">│</span>                                                                                                                 <span style=\"color: #008000; text-decoration-color: #008000\">│</span>\n",
       "<span style=\"color: #008000; text-decoration-color: #008000\">│</span>  <span style=\"color: #008000; text-decoration-color: #008000; font-weight: bold\">Crew Execution Completed</span>                                                                                       <span style=\"color: #008000; text-decoration-color: #008000\">│</span>\n",
       "<span style=\"color: #008000; text-decoration-color: #008000\">│</span>  <span style=\"color: #c0c0c0; text-decoration-color: #c0c0c0\">Name: </span><span style=\"color: #008000; text-decoration-color: #008000\">crew</span>                                                                                                     <span style=\"color: #008000; text-decoration-color: #008000\">│</span>\n",
       "<span style=\"color: #008000; text-decoration-color: #008000\">│</span>  <span style=\"color: #c0c0c0; text-decoration-color: #c0c0c0\">ID: </span><span style=\"color: #008000; text-decoration-color: #008000\">aca4389c-8fa7-4c9e-82ca-051081a3bb6d</span>                                                                       <span style=\"color: #008000; text-decoration-color: #008000\">│</span>\n",
       "<span style=\"color: #008000; text-decoration-color: #008000\">│</span>  <span style=\"color: #c0c0c0; text-decoration-color: #c0c0c0\">Tool Args: </span>                                                                                                    <span style=\"color: #008000; text-decoration-color: #008000\">│</span>\n",
       "<span style=\"color: #008000; text-decoration-color: #008000\">│</span>  <span style=\"color: #c0c0c0; text-decoration-color: #c0c0c0\">Final Output: The Transformer model architecture, as depicted in Figure1, consists of two main components: </span>    <span style=\"color: #008000; text-decoration-color: #008000\">│</span>\n",
       "<span style=\"color: #008000; text-decoration-color: #008000\">│</span>  <span style=\"color: #c0c0c0; text-decoration-color: #c0c0c0\">the Encoder and the Decoder. These components are stacked with multiple layers, leveraging self-attention </span>     <span style=\"color: #008000; text-decoration-color: #008000\">│</span>\n",
       "<span style=\"color: #008000; text-decoration-color: #008000\">│</span>  <span style=\"color: #c0c0c0; text-decoration-color: #c0c0c0\">mechanisms and fully connected layers.</span>                                                                         <span style=\"color: #008000; text-decoration-color: #008000\">│</span>\n",
       "<span style=\"color: #008000; text-decoration-color: #008000\">│</span>                                                                                                                 <span style=\"color: #008000; text-decoration-color: #008000\">│</span>\n",
       "<span style=\"color: #008000; text-decoration-color: #008000\">│</span>  <span style=\"color: #c0c0c0; text-decoration-color: #c0c0c0\">### Encoder</span>                                                                                                    <span style=\"color: #008000; text-decoration-color: #008000\">│</span>\n",
       "<span style=\"color: #008000; text-decoration-color: #008000\">│</span>                                                                                                                 <span style=\"color: #008000; text-decoration-color: #008000\">│</span>\n",
       "<span style=\"color: #008000; text-decoration-color: #008000\">│</span>  <span style=\"color: #c0c0c0; text-decoration-color: #c0c0c0\">The Encoder is composed of a stack of **N=6 identical layers**. Each layer in the encoder has two sub-layers:</span>  <span style=\"color: #008000; text-decoration-color: #008000\">│</span>\n",
       "<span style=\"color: #008000; text-decoration-color: #008000\">│</span>  <span style=\"color: #c0c0c0; text-decoration-color: #c0c0c0\">1. **Multi-head self-attention mechanism**: This allows the model to attend to different parts of the input </span>   <span style=\"color: #008000; text-decoration-color: #008000\">│</span>\n",
       "<span style=\"color: #008000; text-decoration-color: #008000\">│</span>  <span style=\"color: #c0c0c0; text-decoration-color: #c0c0c0\">sequence simultaneously and weigh their importance.</span>                                                            <span style=\"color: #008000; text-decoration-color: #008000\">│</span>\n",
       "<span style=\"color: #008000; text-decoration-color: #008000\">│</span>  <span style=\"color: #c0c0c0; text-decoration-color: #c0c0c0\">2. **Position-wise fully connected feed-forward network**: This applies a fully connected feed-forward </span>        <span style=\"color: #008000; text-decoration-color: #008000\">│</span>\n",
       "<span style=\"color: #008000; text-decoration-color: #008000\">│</span>  <span style=\"color: #c0c0c0; text-decoration-color: #c0c0c0\">network to each position separately and identically.</span>                                                           <span style=\"color: #008000; text-decoration-color: #008000\">│</span>\n",
       "<span style=\"color: #008000; text-decoration-color: #008000\">│</span>                                                                                                                 <span style=\"color: #008000; text-decoration-color: #008000\">│</span>\n",
       "<span style=\"color: #008000; text-decoration-color: #008000\">│</span>  <span style=\"color: #c0c0c0; text-decoration-color: #c0c0c0\">The Transformer employs **residual connections** around each of the two sub-layers, followed by **layer </span>       <span style=\"color: #008000; text-decoration-color: #008000\">│</span>\n",
       "<span style=\"color: #008000; text-decoration-color: #008000\">│</span>  <span style=\"color: #c0c0c0; text-decoration-color: #c0c0c0\">normalization**. The output of each sub-layer is computed as `LayerNorm(x + Sublayer(x))`, where </span>              <span style=\"color: #008000; text-decoration-color: #008000\">│</span>\n",
       "<span style=\"color: #008000; text-decoration-color: #008000\">│</span>  <span style=\"color: #c0c0c0; text-decoration-color: #c0c0c0\">`Sublayer(x)` is the function implemented by the sub-layer itself. This design facilitates the training of </span>    <span style=\"color: #008000; text-decoration-color: #008000\">│</span>\n",
       "<span style=\"color: #008000; text-decoration-color: #008000\">│</span>  <span style=\"color: #c0c0c0; text-decoration-color: #c0c0c0\">deeper networks.</span>                                                                                               <span style=\"color: #008000; text-decoration-color: #008000\">│</span>\n",
       "<span style=\"color: #008000; text-decoration-color: #008000\">│</span>                                                                                                                 <span style=\"color: #008000; text-decoration-color: #008000\">│</span>\n",
       "<span style=\"color: #008000; text-decoration-color: #008000\">│</span>  <span style=\"color: #c0c0c0; text-decoration-color: #c0c0c0\">All sub-layers in the model, as well as the embedding layer, output a vector of dimensionality **d_model = </span>    <span style=\"color: #008000; text-decoration-color: #008000\">│</span>\n",
       "<span style=\"color: #008000; text-decoration-color: #008000\">│</span>  <span style=\"color: #c0c0c0; text-decoration-color: #c0c0c0\">512**. This uniformity in output dimensions simplifies the design and implementation of the model.</span>             <span style=\"color: #008000; text-decoration-color: #008000\">│</span>\n",
       "<span style=\"color: #008000; text-decoration-color: #008000\">│</span>                                                                                                                 <span style=\"color: #008000; text-decoration-color: #008000\">│</span>\n",
       "<span style=\"color: #008000; text-decoration-color: #008000\">│</span>  <span style=\"color: #c0c0c0; text-decoration-color: #c0c0c0\">### Decoder</span>                                                                                                    <span style=\"color: #008000; text-decoration-color: #008000\">│</span>\n",
       "<span style=\"color: #008000; text-decoration-color: #008000\">│</span>                                                                                                                 <span style=\"color: #008000; text-decoration-color: #008000\">│</span>\n",
       "<span style=\"color: #008000; text-decoration-color: #008000\">│</span>  <span style=\"color: #c0c0c0; text-decoration-color: #c0c0c0\">Although not detailed in the provided text, the Decoder, shown in the right half of Figure1, similarly </span>        <span style=\"color: #008000; text-decoration-color: #008000\">│</span>\n",
       "<span style=\"color: #008000; text-decoration-color: #008000\">│</span>  <span style=\"color: #c0c0c0; text-decoration-color: #c0c0c0\">utilizes stacked layers with self-attention mechanisms and point-wise, fully connected layers. The Decoder's </span>  <span style=\"color: #008000; text-decoration-color: #008000\">│</span>\n",
       "<span style=\"color: #008000; text-decoration-color: #008000\">│</span>  <span style=\"color: #c0c0c0; text-decoration-color: #c0c0c0\">architecture is designed to generate output sequences, taking into account the output from the Encoder.</span>        <span style=\"color: #008000; text-decoration-color: #008000\">│</span>\n",
       "<span style=\"color: #008000; text-decoration-color: #008000\">│</span>                                                                                                                 <span style=\"color: #008000; text-decoration-color: #008000\">│</span>\n",
       "<span style=\"color: #008000; text-decoration-color: #008000\">│</span>  <span style=\"color: #c0c0c0; text-decoration-color: #c0c0c0\">### Transformer Architecture Overview</span>                                                                          <span style=\"color: #008000; text-decoration-color: #008000\">│</span>\n",
       "<span style=\"color: #008000; text-decoration-color: #008000\">│</span>                                                                                                                 <span style=\"color: #008000; text-decoration-color: #008000\">│</span>\n",
       "<span style=\"color: #008000; text-decoration-color: #008000\">│</span>  <span style=\"color: #c0c0c0; text-decoration-color: #c0c0c0\">In summary, the Transformer architecture relies on stacked self-attention and point-wise, fully connected </span>     <span style=\"color: #008000; text-decoration-color: #008000\">│</span>\n",
       "<span style=\"color: #008000; text-decoration-color: #008000\">│</span>  <span style=\"color: #c0c0c0; text-decoration-color: #c0c0c0\">layers for both the Encoder and Decoder. This design allows the model to handle sequences in parallel, making</span>  <span style=\"color: #008000; text-decoration-color: #008000\">│</span>\n",
       "<span style=\"color: #008000; text-decoration-color: #008000\">│</span>  <span style=\"color: #c0c0c0; text-decoration-color: #c0c0c0\">it highly efficient for sequence-to-sequence tasks compared to traditional RNN-based models.</span>                   <span style=\"color: #008000; text-decoration-color: #008000\">│</span>\n",
       "<span style=\"color: #008000; text-decoration-color: #008000\">│</span>                                                                                                                 <span style=\"color: #008000; text-decoration-color: #008000\">│</span>\n",
       "<span style=\"color: #008000; text-decoration-color: #008000\">│</span>  <span style=\"color: #c0c0c0; text-decoration-color: #c0c0c0\">**Visual Representation (Figure1):**</span>                                                                           <span style=\"color: #008000; text-decoration-color: #008000\">│</span>\n",
       "<span style=\"color: #008000; text-decoration-color: #008000\">│</span>  <span style=\"color: #c0c0c0; text-decoration-color: #c0c0c0\">- The left half of Figure1 illustrates the Encoder, consisting of a stack of identical layers. Each layer </span>     <span style=\"color: #008000; text-decoration-color: #008000\">│</span>\n",
       "<span style=\"color: #008000; text-decoration-color: #008000\">│</span>  <span style=\"color: #c0c0c0; text-decoration-color: #c0c0c0\">includes a multi-head self-attention mechanism followed by a position-wise fully connected feed-forward </span>       <span style=\"color: #008000; text-decoration-color: #008000\">│</span>\n",
       "<span style=\"color: #008000; text-decoration-color: #008000\">│</span>  <span style=\"color: #c0c0c0; text-decoration-color: #c0c0c0\">network.</span>                                                                                                       <span style=\"color: #008000; text-decoration-color: #008000\">│</span>\n",
       "<span style=\"color: #008000; text-decoration-color: #008000\">│</span>  <span style=\"color: #c0c0c0; text-decoration-color: #c0c0c0\">- The right half of Figure1 shows the Decoder, which is also composed of a stack of layers, designed to </span>       <span style=\"color: #008000; text-decoration-color: #008000\">│</span>\n",
       "<span style=\"color: #008000; text-decoration-color: #008000\">│</span>  <span style=\"color: #c0c0c0; text-decoration-color: #c0c0c0\">generate output sequences based on the Encoder's output.</span>                                                       <span style=\"color: #008000; text-decoration-color: #008000\">│</span>\n",
       "<span style=\"color: #008000; text-decoration-color: #008000\">│</span>                                                                                                                 <span style=\"color: #008000; text-decoration-color: #008000\">│</span>\n",
       "<span style=\"color: #008000; text-decoration-color: #008000\">│</span>  <span style=\"color: #c0c0c0; text-decoration-color: #c0c0c0\">**Image Description:**</span>                                                                                         <span style=\"color: #008000; text-decoration-color: #008000\">│</span>\n",
       "<span style=\"color: #008000; text-decoration-color: #008000\">│</span>  <span style=\"color: #c0c0c0; text-decoration-color: #c0c0c0\">Imagine a diagram divided into two halves:</span>                                                                     <span style=\"color: #008000; text-decoration-color: #008000\">│</span>\n",
       "<span style=\"color: #008000; text-decoration-color: #008000\">│</span>  <span style=\"color: #c0c0c0; text-decoration-color: #c0c0c0\">- **Left Half (Encoder):** Shows 6 identical layers stacked. Each layer has two sub-layers: </span>                   <span style=\"color: #008000; text-decoration-color: #008000\">│</span>\n",
       "<span style=\"color: #008000; text-decoration-color: #008000\">│</span>  <span style=\"color: #c0c0c0; text-decoration-color: #c0c0c0\">  - The first sub-layer is labeled as \"Multi-head Self-Attention.\"</span>                                             <span style=\"color: #008000; text-decoration-color: #008000\">│</span>\n",
       "<span style=\"color: #008000; text-decoration-color: #008000\">│</span>  <span style=\"color: #c0c0c0; text-decoration-color: #c0c0c0\">  - The second sub-layer is labeled as \"Position-wise Fully Connected Feed-Forward Network.\"</span>                   <span style=\"color: #008000; text-decoration-color: #008000\">│</span>\n",
       "<span style=\"color: #008000; text-decoration-color: #008000\">│</span>  <span style=\"color: #c0c0c0; text-decoration-color: #c0c0c0\">  Arrows indicate residual connections around each sub-layer, with layer normalization applied.</span>                <span style=\"color: #008000; text-decoration-color: #008000\">│</span>\n",
       "<span style=\"color: #008000; text-decoration-color: #008000\">│</span>  <span style=\"color: #c0c0c0; text-decoration-color: #c0c0c0\">- **Right Half (Decoder):** Displays a similar stack of layers but with additional components to facilitate </span>   <span style=\"color: #008000; text-decoration-color: #008000\">│</span>\n",
       "<span style=\"color: #008000; text-decoration-color: #008000\">│</span>  <span style=\"color: #c0c0c0; text-decoration-color: #c0c0c0\">sequence generation.</span>                                                                                           <span style=\"color: #008000; text-decoration-color: #008000\">│</span>\n",
       "<span style=\"color: #008000; text-decoration-color: #008000\">│</span>                                                                                                                 <span style=\"color: #008000; text-decoration-color: #008000\">│</span>\n",
       "<span style=\"color: #008000; text-decoration-color: #008000\">│</span>  <span style=\"color: #c0c0c0; text-decoration-color: #c0c0c0\">This architecture enables the Transformer to efficiently handle sequence-to-sequence tasks, making it a </span>       <span style=\"color: #008000; text-decoration-color: #008000\">│</span>\n",
       "<span style=\"color: #008000; text-decoration-color: #008000\">│</span>  <span style=\"color: #c0c0c0; text-decoration-color: #c0c0c0\">foundational model in many modern NLP applications.</span>                                                            <span style=\"color: #008000; text-decoration-color: #008000\">│</span>\n",
       "<span style=\"color: #008000; text-decoration-color: #008000\">│</span>                                                                                                                 <span style=\"color: #008000; text-decoration-color: #008000\">│</span>\n",
       "<span style=\"color: #008000; text-decoration-color: #008000\">│</span>                                                                                                                 <span style=\"color: #008000; text-decoration-color: #008000\">│</span>\n",
       "<span style=\"color: #008000; text-decoration-color: #008000\">╰─────────────────────────────────────────────────────────────────────────────────────────────────────────────────╯</span>\n",
       "</pre>\n"
      ],
      "text/plain": [
       "\u001b[32m╭─\u001b[0m\u001b[32m───────────────────────────────────────────────\u001b[0m\u001b[32m Crew Completion \u001b[0m\u001b[32m───────────────────────────────────────────────\u001b[0m\u001b[32m─╮\u001b[0m\n",
       "\u001b[32m│\u001b[0m                                                                                                                 \u001b[32m│\u001b[0m\n",
       "\u001b[32m│\u001b[0m  \u001b[1;32mCrew Execution Completed\u001b[0m                                                                                       \u001b[32m│\u001b[0m\n",
       "\u001b[32m│\u001b[0m  \u001b[37mName: \u001b[0m\u001b[32mcrew\u001b[0m                                                                                                     \u001b[32m│\u001b[0m\n",
       "\u001b[32m│\u001b[0m  \u001b[37mID: \u001b[0m\u001b[32maca4389c-8fa7-4c9e-82ca-051081a3bb6d\u001b[0m                                                                       \u001b[32m│\u001b[0m\n",
       "\u001b[32m│\u001b[0m  \u001b[37mTool Args: \u001b[0m                                                                                                    \u001b[32m│\u001b[0m\n",
       "\u001b[32m│\u001b[0m  \u001b[37mFinal Output: The Transformer model architecture, as depicted in Figure1, consists of two main components: \u001b[0m    \u001b[32m│\u001b[0m\n",
       "\u001b[32m│\u001b[0m  \u001b[37mthe Encoder and the Decoder. These components are stacked with multiple layers, leveraging self-attention \u001b[0m     \u001b[32m│\u001b[0m\n",
       "\u001b[32m│\u001b[0m  \u001b[37mmechanisms and fully connected layers.\u001b[0m                                                                         \u001b[32m│\u001b[0m\n",
       "\u001b[32m│\u001b[0m                                                                                                                 \u001b[32m│\u001b[0m\n",
       "\u001b[32m│\u001b[0m  \u001b[37m### Encoder\u001b[0m                                                                                                    \u001b[32m│\u001b[0m\n",
       "\u001b[32m│\u001b[0m                                                                                                                 \u001b[32m│\u001b[0m\n",
       "\u001b[32m│\u001b[0m  \u001b[37mThe Encoder is composed of a stack of **N=6 identical layers**. Each layer in the encoder has two sub-layers:\u001b[0m  \u001b[32m│\u001b[0m\n",
       "\u001b[32m│\u001b[0m  \u001b[37m1. **Multi-head self-attention mechanism**: This allows the model to attend to different parts of the input \u001b[0m   \u001b[32m│\u001b[0m\n",
       "\u001b[32m│\u001b[0m  \u001b[37msequence simultaneously and weigh their importance.\u001b[0m                                                            \u001b[32m│\u001b[0m\n",
       "\u001b[32m│\u001b[0m  \u001b[37m2. **Position-wise fully connected feed-forward network**: This applies a fully connected feed-forward \u001b[0m        \u001b[32m│\u001b[0m\n",
       "\u001b[32m│\u001b[0m  \u001b[37mnetwork to each position separately and identically.\u001b[0m                                                           \u001b[32m│\u001b[0m\n",
       "\u001b[32m│\u001b[0m                                                                                                                 \u001b[32m│\u001b[0m\n",
       "\u001b[32m│\u001b[0m  \u001b[37mThe Transformer employs **residual connections** around each of the two sub-layers, followed by **layer \u001b[0m       \u001b[32m│\u001b[0m\n",
       "\u001b[32m│\u001b[0m  \u001b[37mnormalization**. The output of each sub-layer is computed as `LayerNorm(x + Sublayer(x))`, where \u001b[0m              \u001b[32m│\u001b[0m\n",
       "\u001b[32m│\u001b[0m  \u001b[37m`Sublayer(x)` is the function implemented by the sub-layer itself. This design facilitates the training of \u001b[0m    \u001b[32m│\u001b[0m\n",
       "\u001b[32m│\u001b[0m  \u001b[37mdeeper networks.\u001b[0m                                                                                               \u001b[32m│\u001b[0m\n",
       "\u001b[32m│\u001b[0m                                                                                                                 \u001b[32m│\u001b[0m\n",
       "\u001b[32m│\u001b[0m  \u001b[37mAll sub-layers in the model, as well as the embedding layer, output a vector of dimensionality **d_model = \u001b[0m    \u001b[32m│\u001b[0m\n",
       "\u001b[32m│\u001b[0m  \u001b[37m512**. This uniformity in output dimensions simplifies the design and implementation of the model.\u001b[0m             \u001b[32m│\u001b[0m\n",
       "\u001b[32m│\u001b[0m                                                                                                                 \u001b[32m│\u001b[0m\n",
       "\u001b[32m│\u001b[0m  \u001b[37m### Decoder\u001b[0m                                                                                                    \u001b[32m│\u001b[0m\n",
       "\u001b[32m│\u001b[0m                                                                                                                 \u001b[32m│\u001b[0m\n",
       "\u001b[32m│\u001b[0m  \u001b[37mAlthough not detailed in the provided text, the Decoder, shown in the right half of Figure1, similarly \u001b[0m        \u001b[32m│\u001b[0m\n",
       "\u001b[32m│\u001b[0m  \u001b[37mutilizes stacked layers with self-attention mechanisms and point-wise, fully connected layers. The Decoder's \u001b[0m  \u001b[32m│\u001b[0m\n",
       "\u001b[32m│\u001b[0m  \u001b[37marchitecture is designed to generate output sequences, taking into account the output from the Encoder.\u001b[0m        \u001b[32m│\u001b[0m\n",
       "\u001b[32m│\u001b[0m                                                                                                                 \u001b[32m│\u001b[0m\n",
       "\u001b[32m│\u001b[0m  \u001b[37m### Transformer Architecture Overview\u001b[0m                                                                          \u001b[32m│\u001b[0m\n",
       "\u001b[32m│\u001b[0m                                                                                                                 \u001b[32m│\u001b[0m\n",
       "\u001b[32m│\u001b[0m  \u001b[37mIn summary, the Transformer architecture relies on stacked self-attention and point-wise, fully connected \u001b[0m     \u001b[32m│\u001b[0m\n",
       "\u001b[32m│\u001b[0m  \u001b[37mlayers for both the Encoder and Decoder. This design allows the model to handle sequences in parallel, making\u001b[0m  \u001b[32m│\u001b[0m\n",
       "\u001b[32m│\u001b[0m  \u001b[37mit highly efficient for sequence-to-sequence tasks compared to traditional RNN-based models.\u001b[0m                   \u001b[32m│\u001b[0m\n",
       "\u001b[32m│\u001b[0m                                                                                                                 \u001b[32m│\u001b[0m\n",
       "\u001b[32m│\u001b[0m  \u001b[37m**Visual Representation (Figure1):**\u001b[0m                                                                           \u001b[32m│\u001b[0m\n",
       "\u001b[32m│\u001b[0m  \u001b[37m- The left half of Figure1 illustrates the Encoder, consisting of a stack of identical layers. Each layer \u001b[0m     \u001b[32m│\u001b[0m\n",
       "\u001b[32m│\u001b[0m  \u001b[37mincludes a multi-head self-attention mechanism followed by a position-wise fully connected feed-forward \u001b[0m       \u001b[32m│\u001b[0m\n",
       "\u001b[32m│\u001b[0m  \u001b[37mnetwork.\u001b[0m                                                                                                       \u001b[32m│\u001b[0m\n",
       "\u001b[32m│\u001b[0m  \u001b[37m- The right half of Figure1 shows the Decoder, which is also composed of a stack of layers, designed to \u001b[0m       \u001b[32m│\u001b[0m\n",
       "\u001b[32m│\u001b[0m  \u001b[37mgenerate output sequences based on the Encoder's output.\u001b[0m                                                       \u001b[32m│\u001b[0m\n",
       "\u001b[32m│\u001b[0m                                                                                                                 \u001b[32m│\u001b[0m\n",
       "\u001b[32m│\u001b[0m  \u001b[37m**Image Description:**\u001b[0m                                                                                         \u001b[32m│\u001b[0m\n",
       "\u001b[32m│\u001b[0m  \u001b[37mImagine a diagram divided into two halves:\u001b[0m                                                                     \u001b[32m│\u001b[0m\n",
       "\u001b[32m│\u001b[0m  \u001b[37m- **Left Half (Encoder):** Shows 6 identical layers stacked. Each layer has two sub-layers: \u001b[0m                   \u001b[32m│\u001b[0m\n",
       "\u001b[32m│\u001b[0m  \u001b[37m  - The first sub-layer is labeled as \"Multi-head Self-Attention.\"\u001b[0m                                             \u001b[32m│\u001b[0m\n",
       "\u001b[32m│\u001b[0m  \u001b[37m  - The second sub-layer is labeled as \"Position-wise Fully Connected Feed-Forward Network.\"\u001b[0m                   \u001b[32m│\u001b[0m\n",
       "\u001b[32m│\u001b[0m  \u001b[37m  Arrows indicate residual connections around each sub-layer, with layer normalization applied.\u001b[0m                \u001b[32m│\u001b[0m\n",
       "\u001b[32m│\u001b[0m  \u001b[37m- **Right Half (Decoder):** Displays a similar stack of layers but with additional components to facilitate \u001b[0m   \u001b[32m│\u001b[0m\n",
       "\u001b[32m│\u001b[0m  \u001b[37msequence generation.\u001b[0m                                                                                           \u001b[32m│\u001b[0m\n",
       "\u001b[32m│\u001b[0m                                                                                                                 \u001b[32m│\u001b[0m\n",
       "\u001b[32m│\u001b[0m  \u001b[37mThis architecture enables the Transformer to efficiently handle sequence-to-sequence tasks, making it a \u001b[0m       \u001b[32m│\u001b[0m\n",
       "\u001b[32m│\u001b[0m  \u001b[37mfoundational model in many modern NLP applications.\u001b[0m                                                            \u001b[32m│\u001b[0m\n",
       "\u001b[32m│\u001b[0m                                                                                                                 \u001b[32m│\u001b[0m\n",
       "\u001b[32m│\u001b[0m                                                                                                                 \u001b[32m│\u001b[0m\n",
       "\u001b[32m╰─────────────────────────────────────────────────────────────────────────────────────────────────────────────────╯\u001b[0m\n"
      ]
     },
     "metadata": {},
     "output_type": "display_data"
    },
    {
     "data": {
      "text/html": [
       "<pre style=\"white-space:pre;overflow-x:auto;line-height:normal;font-family:Menlo,'DejaVu Sans Mono',consolas,'Courier New',monospace\">\n",
       "</pre>\n"
      ],
      "text/plain": [
       "\n"
      ]
     },
     "metadata": {},
     "output_type": "display_data"
    },
    {
     "name": "stdout",
     "output_type": "stream",
     "text": [
      "\n",
      " Answer:\n",
      " The Transformer model architecture, as depicted in Figure1, consists of two main components: the Encoder and the Decoder. These components are stacked with multiple layers, leveraging self-attention mechanisms and fully connected layers.\n",
      "\n",
      "### Encoder\n",
      "\n",
      "The Encoder is composed of a stack of **N=6 identical layers**. Each layer in the encoder has two sub-layers:\n",
      "1. **Multi-head self-attention mechanism**: This allows the model to attend to different parts of the input sequence simultaneously and weigh their importance.\n",
      "2. **Position-wise fully connected feed-forward network**: This applies a fully connected feed-forward network to each position separately and identically.\n",
      "\n",
      "The Transformer employs **residual connections** around each of the two sub-layers, followed by **layer normalization**. The output of each sub-layer is computed as `LayerNorm(x + Sublayer(x))`, where `Sublayer(x)` is the function implemented by the sub-layer itself. This design facilitates the training of deeper networks.\n",
      "\n",
      "All sub-layers in the model, as well as the embedding layer, output a vector of dimensionality **d_model = 512**. This uniformity in output dimensions simplifies the design and implementation of the model.\n",
      "\n",
      "### Decoder\n",
      "\n",
      "Although not detailed in the provided text, the Decoder, shown in the right half of Figure1, similarly utilizes stacked layers with self-attention mechanisms and point-wise, fully connected layers. The Decoder's architecture is designed to generate output sequences, taking into account the output from the Encoder.\n",
      "\n",
      "### Transformer Architecture Overview\n",
      "\n",
      "In summary, the Transformer architecture relies on stacked self-attention and point-wise, fully connected layers for both the Encoder and Decoder. This design allows the model to handle sequences in parallel, making it highly efficient for sequence-to-sequence tasks compared to traditional RNN-based models.\n",
      "\n",
      "**Visual Representation (Figure1):**\n",
      "- The left half of Figure1 illustrates the Encoder, consisting of a stack of identical layers. Each layer includes a multi-head self-attention mechanism followed by a position-wise fully connected feed-forward network.\n",
      "- The right half of Figure1 shows the Decoder, which is also composed of a stack of layers, designed to generate output sequences based on the Encoder's output.\n",
      "\n",
      "**Image Description:**\n",
      "Imagine a diagram divided into two halves:\n",
      "- **Left Half (Encoder):** Shows 6 identical layers stacked. Each layer has two sub-layers: \n",
      "  - The first sub-layer is labeled as \"Multi-head Self-Attention.\"\n",
      "  - The second sub-layer is labeled as \"Position-wise Fully Connected Feed-Forward Network.\"\n",
      "  Arrows indicate residual connections around each sub-layer, with layer normalization applied.\n",
      "- **Right Half (Decoder):** Displays a similar stack of layers but with additional components to facilitate sequence generation.\n",
      "\n",
      "This architecture enables the Transformer to efficiently handle sequence-to-sequence tasks, making it a foundational model in many modern NLP applications.\n"
     ]
    },
    {
     "name": "stdout",
     "output_type": "stream",
     "text": [
      "\n",
      " Ask a question about the PDF (or type 'exit'):  exit\n"
     ]
    }
   ],
   "source": [
    "def run_pdf_agent_rag(query, vector_store):\n",
    "    global session_vector_store\n",
    "    session_vector_store = vector_store\n",
    "\n",
    "    retrieval_task = Task(\n",
    "        description=f\"Retrieve context from the uploaded PDF for: '{query}'\",\n",
    "        agent=retriever_agent,\n",
    "        expected_output=\"A block of relevant information\"\n",
    "    )\n",
    "\n",
    "    response_task = Task(\n",
    "        description=f\"Answer the user question: '{query}' using the retrieved context.\",\n",
    "        agent=responder_agent,\n",
    "        expected_output=\"A well-structured answer to the user's query\"\n",
    "    )\n",
    "\n",
    "    crew = Crew(\n",
    "        agents=[retriever_agent, responder_agent],\n",
    "        tasks=[retrieval_task, response_task],\n",
    "        verbose=True\n",
    "    )\n",
    "\n",
    "    result = crew.kickoff(inputs={\"query\": query})\n",
    "    return result\n",
    "\n",
    "\n",
    "def main():\n",
    "    \n",
    "    pdf_path = input(\"Enter path to your PDF file: \").strip()\n",
    "\n",
    "    if not os.path.exists(pdf_path):\n",
    "        print(\"PDF file not found.\")\n",
    "        return\n",
    "\n",
    "    print(\"Extracting text from PDF...\")\n",
    "    text = extract_text_from_pdf(pdf_path)\n",
    "\n",
    "    if not text.strip():\n",
    "        print(\" No text extracted.\")\n",
    "        return\n",
    "\n",
    "    print(\"Extracting image from PDF...\")\n",
    "    images= extract_images_from_pdf(pdf_path)\n",
    "\n",
    "    if not text.strip():\n",
    "        print(\" No text extracted.\")\n",
    "        return\n",
    "\n",
    "    print(\" Embedding PDF into FAISS...\")\n",
    "    vector_store =build_faiss_from_text_and_images(text,images)\n",
    "    print(\" PDF ready for question answering.\")\n",
    "\n",
    "    while True:\n",
    "        query = input(\"\\n Ask a question about the PDF (or type 'exit'): \")\n",
    "        if query.lower() in [\"exit\", \"quit\"]:\n",
    "            break\n",
    "        result = run_pdf_agent_rag(query, vector_store)\n",
    "        print(\"\\n Answer:\\n\", result)\n",
    "\n",
    "if __name__ == \"__main__\":\n",
    "    main()"
   ]
  },
  {
   "cell_type": "code",
   "execution_count": null,
   "id": "f3a5e6c5-1a85-4b27-9ab2-6953a82ec754",
   "metadata": {},
   "outputs": [],
   "source": []
  }
 ],
 "metadata": {
  "kernelspec": {
   "display_name": "Python 3 (ipykernel)",
   "language": "python",
   "name": "python3"
  },
  "language_info": {
   "codemirror_mode": {
    "name": "ipython",
    "version": 3
   },
   "file_extension": ".py",
   "mimetype": "text/x-python",
   "name": "python",
   "nbconvert_exporter": "python",
   "pygments_lexer": "ipython3",
   "version": "3.12.7"
  }
 },
 "nbformat": 4,
 "nbformat_minor": 5
}
